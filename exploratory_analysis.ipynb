{
 "cells": [
  {
   "cell_type": "markdown",
   "metadata": {},
   "source": [
    "## Exploratory Data Analysis\n",
    "\n",
    "Use this notebook to get familiar with the datasets we have. There is 10 questions we need to answer during the EDA.\n",
    "\n",
    "\n",
    "We shouldn't limit our EDA to these 10 questions. Let's be creative :)."
   ]
  },
  {
   "cell_type": "code",
   "execution_count": 1,
   "metadata": {},
   "outputs": [],
   "source": [
    "import pandas as pd\n",
    "import numpy as np\n",
    "import matplotlib.pyplot as plt\n",
    "import plotly.graph_objs as go\n",
    "import seaborn as sns\n",
    "#from scipy import stats\n",
    "import scipy.stats as stats\n",
    "from scipy.stats import kstest\n",
    "from scipy.stats import f_oneway\n",
    "\n",
    "from sklearn.preprocessing import MinMaxScaler\n",
    "from sklearn.cluster import KMeans\n",
    "from sklearn.metrics import silhouette_score\n",
    "from sklearn.decomposition import PCA\n",
    "\n",
    "import warnings\n",
    "warnings.filterwarnings('ignore')\n",
    "\n",
    "import datetime\n",
    "\n"
   ]
  },
  {
   "cell_type": "code",
   "execution_count": 2,
   "metadata": {},
   "outputs": [],
   "source": [
    "# reading Data\n",
    "\n",
    "flights_train = pd.read_csv(r'data\\flights-2018-12-16 to 2019-01-15.csv',sep=',') \n",
    "passengers    = pd.read_csv(r'data\\passengers.csv',sep=',') \n",
    "fuel          = pd.read_csv(r'data\\fuel_comsumption.csv',sep=',') "
   ]
  },
  {
   "cell_type": "code",
   "execution_count": 19,
   "metadata": {},
   "outputs": [
    {
     "data": {
      "text/html": [
       "<div>\n",
       "<style scoped>\n",
       "    .dataframe tbody tr th:only-of-type {\n",
       "        vertical-align: middle;\n",
       "    }\n",
       "\n",
       "    .dataframe tbody tr th {\n",
       "        vertical-align: top;\n",
       "    }\n",
       "\n",
       "    .dataframe thead th {\n",
       "        text-align: right;\n",
       "    }\n",
       "</style>\n",
       "<table border=\"1\" class=\"dataframe\">\n",
       "  <thead>\n",
       "    <tr style=\"text-align: right;\">\n",
       "      <th></th>\n",
       "      <th>mkt_carrier_fl_num</th>\n",
       "      <th>op_carrier_fl_num</th>\n",
       "      <th>origin_airport_id</th>\n",
       "      <th>dest_airport_id</th>\n",
       "      <th>crs_dep_time</th>\n",
       "      <th>dep_time</th>\n",
       "      <th>dep_delay</th>\n",
       "      <th>taxi_out</th>\n",
       "      <th>wheels_off</th>\n",
       "      <th>wheels_on</th>\n",
       "      <th>...</th>\n",
       "      <th>distance</th>\n",
       "      <th>carrier_delay</th>\n",
       "      <th>weather_delay</th>\n",
       "      <th>nas_delay</th>\n",
       "      <th>security_delay</th>\n",
       "      <th>late_aircraft_delay</th>\n",
       "      <th>first_dep_time</th>\n",
       "      <th>total_add_gtime</th>\n",
       "      <th>longest_add_gtime</th>\n",
       "      <th>no_name</th>\n",
       "    </tr>\n",
       "  </thead>\n",
       "  <tbody>\n",
       "    <tr>\n",
       "      <th>count</th>\n",
       "      <td>651320.000000</td>\n",
       "      <td>651320.000000</td>\n",
       "      <td>651320.000000</td>\n",
       "      <td>651320.000000</td>\n",
       "      <td>651320.000000</td>\n",
       "      <td>644096.000000</td>\n",
       "      <td>644096.000000</td>\n",
       "      <td>643896.000000</td>\n",
       "      <td>643896.000000</td>\n",
       "      <td>643354.000000</td>\n",
       "      <td>...</td>\n",
       "      <td>651320.000000</td>\n",
       "      <td>122308.000000</td>\n",
       "      <td>122308.000000</td>\n",
       "      <td>122308.000000</td>\n",
       "      <td>122308.000000</td>\n",
       "      <td>122308.000000</td>\n",
       "      <td>3999.000000</td>\n",
       "      <td>3998.000000</td>\n",
       "      <td>3999.000000</td>\n",
       "      <td>0.0</td>\n",
       "    </tr>\n",
       "    <tr>\n",
       "      <th>mean</th>\n",
       "      <td>2828.827845</td>\n",
       "      <td>2828.908518</td>\n",
       "      <td>12698.272611</td>\n",
       "      <td>12698.134593</td>\n",
       "      <td>1329.079941</td>\n",
       "      <td>1334.536091</td>\n",
       "      <td>9.673237</td>\n",
       "      <td>17.885666</td>\n",
       "      <td>1359.530258</td>\n",
       "      <td>1467.508154</td>\n",
       "      <td>...</td>\n",
       "      <td>783.001293</td>\n",
       "      <td>19.622298</td>\n",
       "      <td>3.157937</td>\n",
       "      <td>14.099969</td>\n",
       "      <td>0.116084</td>\n",
       "      <td>25.576716</td>\n",
       "      <td>1277.210803</td>\n",
       "      <td>34.469735</td>\n",
       "      <td>34.004751</td>\n",
       "      <td>NaN</td>\n",
       "    </tr>\n",
       "    <tr>\n",
       "      <th>std</th>\n",
       "      <td>1898.611558</td>\n",
       "      <td>1898.924357</td>\n",
       "      <td>1520.554669</td>\n",
       "      <td>1520.524783</td>\n",
       "      <td>488.509293</td>\n",
       "      <td>499.879539</td>\n",
       "      <td>44.792566</td>\n",
       "      <td>10.025506</td>\n",
       "      <td>500.563985</td>\n",
       "      <td>527.263511</td>\n",
       "      <td>...</td>\n",
       "      <td>591.098106</td>\n",
       "      <td>59.841262</td>\n",
       "      <td>31.584947</td>\n",
       "      <td>30.816364</td>\n",
       "      <td>3.309086</td>\n",
       "      <td>50.395535</td>\n",
       "      <td>514.398565</td>\n",
       "      <td>28.459443</td>\n",
       "      <td>27.333254</td>\n",
       "      <td>NaN</td>\n",
       "    </tr>\n",
       "    <tr>\n",
       "      <th>min</th>\n",
       "      <td>1.000000</td>\n",
       "      <td>1.000000</td>\n",
       "      <td>10135.000000</td>\n",
       "      <td>10135.000000</td>\n",
       "      <td>1.000000</td>\n",
       "      <td>1.000000</td>\n",
       "      <td>-60.000000</td>\n",
       "      <td>0.000000</td>\n",
       "      <td>1.000000</td>\n",
       "      <td>1.000000</td>\n",
       "      <td>...</td>\n",
       "      <td>31.000000</td>\n",
       "      <td>0.000000</td>\n",
       "      <td>0.000000</td>\n",
       "      <td>0.000000</td>\n",
       "      <td>0.000000</td>\n",
       "      <td>0.000000</td>\n",
       "      <td>4.000000</td>\n",
       "      <td>1.000000</td>\n",
       "      <td>1.000000</td>\n",
       "      <td>NaN</td>\n",
       "    </tr>\n",
       "    <tr>\n",
       "      <th>25%</th>\n",
       "      <td>1171.000000</td>\n",
       "      <td>1171.000000</td>\n",
       "      <td>11292.000000</td>\n",
       "      <td>11292.000000</td>\n",
       "      <td>920.000000</td>\n",
       "      <td>922.000000</td>\n",
       "      <td>-6.000000</td>\n",
       "      <td>12.000000</td>\n",
       "      <td>938.000000</td>\n",
       "      <td>1051.000000</td>\n",
       "      <td>...</td>\n",
       "      <td>347.000000</td>\n",
       "      <td>0.000000</td>\n",
       "      <td>0.000000</td>\n",
       "      <td>0.000000</td>\n",
       "      <td>0.000000</td>\n",
       "      <td>0.000000</td>\n",
       "      <td>820.000000</td>\n",
       "      <td>16.000000</td>\n",
       "      <td>16.000000</td>\n",
       "      <td>NaN</td>\n",
       "    </tr>\n",
       "    <tr>\n",
       "      <th>50%</th>\n",
       "      <td>2411.000000</td>\n",
       "      <td>2411.000000</td>\n",
       "      <td>12889.000000</td>\n",
       "      <td>12889.000000</td>\n",
       "      <td>1322.000000</td>\n",
       "      <td>1329.000000</td>\n",
       "      <td>-2.000000</td>\n",
       "      <td>15.000000</td>\n",
       "      <td>1343.000000</td>\n",
       "      <td>1506.000000</td>\n",
       "      <td>...</td>\n",
       "      <td>621.000000</td>\n",
       "      <td>1.000000</td>\n",
       "      <td>0.000000</td>\n",
       "      <td>3.000000</td>\n",
       "      <td>0.000000</td>\n",
       "      <td>4.000000</td>\n",
       "      <td>1233.000000</td>\n",
       "      <td>27.000000</td>\n",
       "      <td>27.000000</td>\n",
       "      <td>NaN</td>\n",
       "    </tr>\n",
       "    <tr>\n",
       "      <th>75%</th>\n",
       "      <td>4471.000000</td>\n",
       "      <td>4472.000000</td>\n",
       "      <td>14057.000000</td>\n",
       "      <td>14057.000000</td>\n",
       "      <td>1734.000000</td>\n",
       "      <td>1741.000000</td>\n",
       "      <td>7.000000</td>\n",
       "      <td>21.000000</td>\n",
       "      <td>1756.000000</td>\n",
       "      <td>1910.000000</td>\n",
       "      <td>...</td>\n",
       "      <td>1021.000000</td>\n",
       "      <td>17.000000</td>\n",
       "      <td>0.000000</td>\n",
       "      <td>18.000000</td>\n",
       "      <td>0.000000</td>\n",
       "      <td>31.000000</td>\n",
       "      <td>1721.500000</td>\n",
       "      <td>43.000000</td>\n",
       "      <td>43.000000</td>\n",
       "      <td>NaN</td>\n",
       "    </tr>\n",
       "    <tr>\n",
       "      <th>max</th>\n",
       "      <td>9401.000000</td>\n",
       "      <td>9401.000000</td>\n",
       "      <td>16218.000000</td>\n",
       "      <td>16218.000000</td>\n",
       "      <td>2359.000000</td>\n",
       "      <td>2400.000000</td>\n",
       "      <td>1789.000000</td>\n",
       "      <td>181.000000</td>\n",
       "      <td>2400.000000</td>\n",
       "      <td>2400.000000</td>\n",
       "      <td>...</td>\n",
       "      <td>4983.000000</td>\n",
       "      <td>1767.000000</td>\n",
       "      <td>1390.000000</td>\n",
       "      <td>1447.000000</td>\n",
       "      <td>816.000000</td>\n",
       "      <td>1437.000000</td>\n",
       "      <td>2358.000000</td>\n",
       "      <td>297.000000</td>\n",
       "      <td>190.000000</td>\n",
       "      <td>NaN</td>\n",
       "    </tr>\n",
       "  </tbody>\n",
       "</table>\n",
       "<p>8 rows × 30 columns</p>\n",
       "</div>"
      ],
      "text/plain": [
       "       mkt_carrier_fl_num  op_carrier_fl_num  origin_airport_id  \\\n",
       "count       651320.000000      651320.000000      651320.000000   \n",
       "mean          2828.827845        2828.908518       12698.272611   \n",
       "std           1898.611558        1898.924357        1520.554669   \n",
       "min              1.000000           1.000000       10135.000000   \n",
       "25%           1171.000000        1171.000000       11292.000000   \n",
       "50%           2411.000000        2411.000000       12889.000000   \n",
       "75%           4471.000000        4472.000000       14057.000000   \n",
       "max           9401.000000        9401.000000       16218.000000   \n",
       "\n",
       "       dest_airport_id   crs_dep_time       dep_time      dep_delay  \\\n",
       "count    651320.000000  651320.000000  644096.000000  644096.000000   \n",
       "mean      12698.134593    1329.079941    1334.536091       9.673237   \n",
       "std        1520.524783     488.509293     499.879539      44.792566   \n",
       "min       10135.000000       1.000000       1.000000     -60.000000   \n",
       "25%       11292.000000     920.000000     922.000000      -6.000000   \n",
       "50%       12889.000000    1322.000000    1329.000000      -2.000000   \n",
       "75%       14057.000000    1734.000000    1741.000000       7.000000   \n",
       "max       16218.000000    2359.000000    2400.000000    1789.000000   \n",
       "\n",
       "            taxi_out     wheels_off      wheels_on  ...       distance  \\\n",
       "count  643896.000000  643896.000000  643354.000000  ...  651320.000000   \n",
       "mean       17.885666    1359.530258    1467.508154  ...     783.001293   \n",
       "std        10.025506     500.563985     527.263511  ...     591.098106   \n",
       "min         0.000000       1.000000       1.000000  ...      31.000000   \n",
       "25%        12.000000     938.000000    1051.000000  ...     347.000000   \n",
       "50%        15.000000    1343.000000    1506.000000  ...     621.000000   \n",
       "75%        21.000000    1756.000000    1910.000000  ...    1021.000000   \n",
       "max       181.000000    2400.000000    2400.000000  ...    4983.000000   \n",
       "\n",
       "       carrier_delay  weather_delay      nas_delay  security_delay  \\\n",
       "count  122308.000000  122308.000000  122308.000000   122308.000000   \n",
       "mean       19.622298       3.157937      14.099969        0.116084   \n",
       "std        59.841262      31.584947      30.816364        3.309086   \n",
       "min         0.000000       0.000000       0.000000        0.000000   \n",
       "25%         0.000000       0.000000       0.000000        0.000000   \n",
       "50%         1.000000       0.000000       3.000000        0.000000   \n",
       "75%        17.000000       0.000000      18.000000        0.000000   \n",
       "max      1767.000000    1390.000000    1447.000000      816.000000   \n",
       "\n",
       "       late_aircraft_delay  first_dep_time  total_add_gtime  \\\n",
       "count        122308.000000     3999.000000      3998.000000   \n",
       "mean             25.576716     1277.210803        34.469735   \n",
       "std              50.395535      514.398565        28.459443   \n",
       "min               0.000000        4.000000         1.000000   \n",
       "25%               0.000000      820.000000        16.000000   \n",
       "50%               4.000000     1233.000000        27.000000   \n",
       "75%              31.000000     1721.500000        43.000000   \n",
       "max            1437.000000     2358.000000       297.000000   \n",
       "\n",
       "       longest_add_gtime  no_name  \n",
       "count        3999.000000      0.0  \n",
       "mean           34.004751      NaN  \n",
       "std            27.333254      NaN  \n",
       "min             1.000000      NaN  \n",
       "25%            16.000000      NaN  \n",
       "50%            27.000000      NaN  \n",
       "75%            43.000000      NaN  \n",
       "max           190.000000      NaN  \n",
       "\n",
       "[8 rows x 30 columns]"
      ]
     },
     "execution_count": 19,
     "metadata": {},
     "output_type": "execute_result"
    }
   ],
   "source": [
    "flights_train.describe()"
   ]
  },
  {
   "cell_type": "code",
   "execution_count": 20,
   "metadata": {},
   "outputs": [
    {
     "name": "stdout",
     "output_type": "stream",
     "text": [
      "['no_name', 'total_add_gtime', 'first_dep_time', 'longest_add_gtime', 'cancellation_code', 'late_aircraft_delay', 'security_delay', 'nas_delay', 'weather_delay', 'carrier_delay']\n"
     ]
    },
    {
     "data": {
      "text/html": [
       "<div>\n",
       "<style scoped>\n",
       "    .dataframe tbody tr th:only-of-type {\n",
       "        vertical-align: middle;\n",
       "    }\n",
       "\n",
       "    .dataframe tbody tr th {\n",
       "        vertical-align: top;\n",
       "    }\n",
       "\n",
       "    .dataframe thead th {\n",
       "        text-align: right;\n",
       "    }\n",
       "</style>\n",
       "<table border=\"1\" class=\"dataframe\">\n",
       "  <thead>\n",
       "    <tr style=\"text-align: right;\">\n",
       "      <th></th>\n",
       "      <th>missing_number</th>\n",
       "      <th>missing_percent</th>\n",
       "    </tr>\n",
       "  </thead>\n",
       "  <tbody>\n",
       "    <tr>\n",
       "      <th>no_name</th>\n",
       "      <td>651320</td>\n",
       "      <td>100.000000</td>\n",
       "    </tr>\n",
       "    <tr>\n",
       "      <th>total_add_gtime</th>\n",
       "      <td>647322</td>\n",
       "      <td>99.386170</td>\n",
       "    </tr>\n",
       "    <tr>\n",
       "      <th>first_dep_time</th>\n",
       "      <td>647321</td>\n",
       "      <td>99.386016</td>\n",
       "    </tr>\n",
       "    <tr>\n",
       "      <th>longest_add_gtime</th>\n",
       "      <td>647321</td>\n",
       "      <td>99.386016</td>\n",
       "    </tr>\n",
       "    <tr>\n",
       "      <th>cancellation_code</th>\n",
       "      <td>643764</td>\n",
       "      <td>98.839894</td>\n",
       "    </tr>\n",
       "    <tr>\n",
       "      <th>late_aircraft_delay</th>\n",
       "      <td>529012</td>\n",
       "      <td>81.221519</td>\n",
       "    </tr>\n",
       "    <tr>\n",
       "      <th>security_delay</th>\n",
       "      <td>529012</td>\n",
       "      <td>81.221519</td>\n",
       "    </tr>\n",
       "    <tr>\n",
       "      <th>nas_delay</th>\n",
       "      <td>529012</td>\n",
       "      <td>81.221519</td>\n",
       "    </tr>\n",
       "    <tr>\n",
       "      <th>weather_delay</th>\n",
       "      <td>529012</td>\n",
       "      <td>81.221519</td>\n",
       "    </tr>\n",
       "    <tr>\n",
       "      <th>carrier_delay</th>\n",
       "      <td>529012</td>\n",
       "      <td>81.221519</td>\n",
       "    </tr>\n",
       "    <tr>\n",
       "      <th>actual_elapsed_time</th>\n",
       "      <td>9168</td>\n",
       "      <td>1.407603</td>\n",
       "    </tr>\n",
       "    <tr>\n",
       "      <th>arr_delay</th>\n",
       "      <td>9168</td>\n",
       "      <td>1.407603</td>\n",
       "    </tr>\n",
       "    <tr>\n",
       "      <th>air_time</th>\n",
       "      <td>9168</td>\n",
       "      <td>1.407603</td>\n",
       "    </tr>\n",
       "    <tr>\n",
       "      <th>wheels_on</th>\n",
       "      <td>7966</td>\n",
       "      <td>1.223055</td>\n",
       "    </tr>\n",
       "    <tr>\n",
       "      <th>taxi_in</th>\n",
       "      <td>7966</td>\n",
       "      <td>1.223055</td>\n",
       "    </tr>\n",
       "    <tr>\n",
       "      <th>arr_time</th>\n",
       "      <td>7966</td>\n",
       "      <td>1.223055</td>\n",
       "    </tr>\n",
       "    <tr>\n",
       "      <th>taxi_out</th>\n",
       "      <td>7424</td>\n",
       "      <td>1.139839</td>\n",
       "    </tr>\n",
       "    <tr>\n",
       "      <th>wheels_off</th>\n",
       "      <td>7424</td>\n",
       "      <td>1.139839</td>\n",
       "    </tr>\n",
       "    <tr>\n",
       "      <th>dep_delay</th>\n",
       "      <td>7224</td>\n",
       "      <td>1.109132</td>\n",
       "    </tr>\n",
       "    <tr>\n",
       "      <th>dep_time</th>\n",
       "      <td>7224</td>\n",
       "      <td>1.109132</td>\n",
       "    </tr>\n",
       "    <tr>\n",
       "      <th>tail_num</th>\n",
       "      <td>862</td>\n",
       "      <td>0.132347</td>\n",
       "    </tr>\n",
       "    <tr>\n",
       "      <th>diverted</th>\n",
       "      <td>0</td>\n",
       "      <td>0.000000</td>\n",
       "    </tr>\n",
       "    <tr>\n",
       "      <th>flights</th>\n",
       "      <td>0</td>\n",
       "      <td>0.000000</td>\n",
       "    </tr>\n",
       "    <tr>\n",
       "      <th>crs_elapsed_time</th>\n",
       "      <td>0</td>\n",
       "      <td>0.000000</td>\n",
       "    </tr>\n",
       "    <tr>\n",
       "      <th>distance</th>\n",
       "      <td>0</td>\n",
       "      <td>0.000000</td>\n",
       "    </tr>\n",
       "    <tr>\n",
       "      <th>dup</th>\n",
       "      <td>0</td>\n",
       "      <td>0.000000</td>\n",
       "    </tr>\n",
       "    <tr>\n",
       "      <th>fl_date</th>\n",
       "      <td>0</td>\n",
       "      <td>0.000000</td>\n",
       "    </tr>\n",
       "    <tr>\n",
       "      <th>cancelled</th>\n",
       "      <td>0</td>\n",
       "      <td>0.000000</td>\n",
       "    </tr>\n",
       "    <tr>\n",
       "      <th>mkt_unique_carrier</th>\n",
       "      <td>0</td>\n",
       "      <td>0.000000</td>\n",
       "    </tr>\n",
       "    <tr>\n",
       "      <th>crs_dep_time</th>\n",
       "      <td>0</td>\n",
       "      <td>0.000000</td>\n",
       "    </tr>\n",
       "    <tr>\n",
       "      <th>dest_city_name</th>\n",
       "      <td>0</td>\n",
       "      <td>0.000000</td>\n",
       "    </tr>\n",
       "    <tr>\n",
       "      <th>dest</th>\n",
       "      <td>0</td>\n",
       "      <td>0.000000</td>\n",
       "    </tr>\n",
       "    <tr>\n",
       "      <th>dest_airport_id</th>\n",
       "      <td>0</td>\n",
       "      <td>0.000000</td>\n",
       "    </tr>\n",
       "    <tr>\n",
       "      <th>origin_city_name</th>\n",
       "      <td>0</td>\n",
       "      <td>0.000000</td>\n",
       "    </tr>\n",
       "    <tr>\n",
       "      <th>origin</th>\n",
       "      <td>0</td>\n",
       "      <td>0.000000</td>\n",
       "    </tr>\n",
       "    <tr>\n",
       "      <th>origin_airport_id</th>\n",
       "      <td>0</td>\n",
       "      <td>0.000000</td>\n",
       "    </tr>\n",
       "    <tr>\n",
       "      <th>op_carrier_fl_num</th>\n",
       "      <td>0</td>\n",
       "      <td>0.000000</td>\n",
       "    </tr>\n",
       "    <tr>\n",
       "      <th>op_unique_carrier</th>\n",
       "      <td>0</td>\n",
       "      <td>0.000000</td>\n",
       "    </tr>\n",
       "    <tr>\n",
       "      <th>mkt_carrier_fl_num</th>\n",
       "      <td>0</td>\n",
       "      <td>0.000000</td>\n",
       "    </tr>\n",
       "    <tr>\n",
       "      <th>mkt_carrier</th>\n",
       "      <td>0</td>\n",
       "      <td>0.000000</td>\n",
       "    </tr>\n",
       "    <tr>\n",
       "      <th>branded_code_share</th>\n",
       "      <td>0</td>\n",
       "      <td>0.000000</td>\n",
       "    </tr>\n",
       "    <tr>\n",
       "      <th>crs_arr_time</th>\n",
       "      <td>0</td>\n",
       "      <td>0.000000</td>\n",
       "    </tr>\n",
       "  </tbody>\n",
       "</table>\n",
       "</div>"
      ],
      "text/plain": [
       "                     missing_number  missing_percent\n",
       "no_name                      651320       100.000000\n",
       "total_add_gtime              647322        99.386170\n",
       "first_dep_time               647321        99.386016\n",
       "longest_add_gtime            647321        99.386016\n",
       "cancellation_code            643764        98.839894\n",
       "late_aircraft_delay          529012        81.221519\n",
       "security_delay               529012        81.221519\n",
       "nas_delay                    529012        81.221519\n",
       "weather_delay                529012        81.221519\n",
       "carrier_delay                529012        81.221519\n",
       "actual_elapsed_time            9168         1.407603\n",
       "arr_delay                      9168         1.407603\n",
       "air_time                       9168         1.407603\n",
       "wheels_on                      7966         1.223055\n",
       "taxi_in                        7966         1.223055\n",
       "arr_time                       7966         1.223055\n",
       "taxi_out                       7424         1.139839\n",
       "wheels_off                     7424         1.139839\n",
       "dep_delay                      7224         1.109132\n",
       "dep_time                       7224         1.109132\n",
       "tail_num                        862         0.132347\n",
       "diverted                          0         0.000000\n",
       "flights                           0         0.000000\n",
       "crs_elapsed_time                  0         0.000000\n",
       "distance                          0         0.000000\n",
       "dup                               0         0.000000\n",
       "fl_date                           0         0.000000\n",
       "cancelled                         0         0.000000\n",
       "mkt_unique_carrier                0         0.000000\n",
       "crs_dep_time                      0         0.000000\n",
       "dest_city_name                    0         0.000000\n",
       "dest                              0         0.000000\n",
       "dest_airport_id                   0         0.000000\n",
       "origin_city_name                  0         0.000000\n",
       "origin                            0         0.000000\n",
       "origin_airport_id                 0         0.000000\n",
       "op_carrier_fl_num                 0         0.000000\n",
       "op_unique_carrier                 0         0.000000\n",
       "mkt_carrier_fl_num                0         0.000000\n",
       "mkt_carrier                       0         0.000000\n",
       "branded_code_share                0         0.000000\n",
       "crs_arr_time                      0         0.000000"
      ]
     },
     "execution_count": 20,
     "metadata": {},
     "output_type": "execute_result"
    }
   ],
   "source": [
    "def missing_value_count(df,drop_over):\n",
    "    drop_list=[]\n",
    "    \n",
    "    missing_number = df.isnull().sum().sort_values(ascending=False)\n",
    "    missing_percent = 100*(df.isnull().sum()/df.isnull().count()).sort_values(ascending=False)\n",
    "    missing_value = pd.concat([missing_number, missing_percent],axis=1 , keys = ['missing_number','missing_percent'])\n",
    "\n",
    "    drop_list=(missing_value[ missing_value.missing_percent > drop_over] ).index.values.tolist()\n",
    "    #drop_list=drop_list\n",
    "    \n",
    "    return missing_value , drop_list\n",
    "\n",
    "missing_value_table , column_drop_list = missing_value_count(flights_train,80)\n",
    "\n",
    "print(column_drop_list)\n",
    "missing_value_table.head(1000)\n"
   ]
  },
  {
   "cell_type": "code",
   "execution_count": 21,
   "metadata": {
    "scrolled": true
   },
   "outputs": [],
   "source": [
    "# We keep all columns. \n",
    "# Some columns (late_aircraft_delay, security_delay, nas_delay, weather_delay, carrier_delay) \n",
    "# are required for future calculations.\n",
    "\n",
    "#for i in column_drop_list:\n",
    " #   flights_train = flights_train.drop( i , axis=1 )\n",
    "#\n",
    "#flights_train.head()"
   ]
  },
  {
   "cell_type": "markdown",
   "metadata": {},
   "source": [
    "#### **Task 1**: Test the hypothesis that the delay is from Normal distribution and that **mean** of the delay is 0. Be careful about the outliers."
   ]
  },
  {
   "cell_type": "code",
   "execution_count": 22,
   "metadata": {},
   "outputs": [
    {
     "data": {
      "text/plain": [
       "(-100.0, 500.0)"
      ]
     },
     "execution_count": 22,
     "metadata": {},
     "output_type": "execute_result"
    },
    {
     "data": {
      "image/png": "[encoded data removed]",
      "text/plain": [
       "<Figure size 640x480 with 1 Axes>"
      ]
     },
     "metadata": {},
     "output_type": "display_data"
    }
   ],
   "source": [
    "# Distribution for arrival delays before handling outliers\n",
    "ax = sns.histplot(x=flights_train.arr_delay)\n",
    "ax.set_xlabel(\"Arrival delay\")\n",
    "ax.set_xlim(-100,500)"
   ]
  },
  {
   "cell_type": "code",
   "execution_count": 23,
   "metadata": {},
   "outputs": [
    {
     "data": {
      "text/plain": [
       "(-100.0, 500.0)"
      ]
     },
     "execution_count": 23,
     "metadata": {},
     "output_type": "execute_result"
    },
    {
     "data": {
      "image/png": "[encoded data removed]",
      "text/plain": [
       "<Figure size 640x480 with 1 Axes>"
      ]
     },
     "metadata": {},
     "output_type": "display_data"
    }
   ],
   "source": [
    "# Distribution for arrival delays after handling outliers\n",
    "\n",
    "def clip_outliers(df ,List, std_coeff=3 ):\n",
    "    for c in List:\n",
    "        if ( ( df[c].dtypes == 'int64' )  |  ( df[c].dtypes == 'float' ) ):\n",
    "            L=df[c].mean()-std_coeff*df[c].std()\n",
    "            U=df[c].mean()+std_coeff*df[c].std()\n",
    "            df[c]=df[c].clip(L, U) #, inplace= True, axis= 1)\n",
    "    return df\n",
    "\n",
    "def remove_outliers(df ,List, std_coeff=3 ):\n",
    "    for c in List:\n",
    "        if ( ( df[c].dtypes == 'int64' )  |  ( df[c].dtypes == 'float' ) ):\n",
    "            L=df[c].mean()-std_coeff*df[c].std()\n",
    "            U=df[c].mean()+std_coeff*df[c].std()\n",
    "            #df[c]=df[ (df[c] > L) & (df[c] < U) ] #, inplace= True, axis= 1)\n",
    "            idx=df[ (df[c] >= U) | (df[c] <= L) ].index\n",
    "            df=df.drop(idx,axis=0)\n",
    "    return df\n",
    "\n",
    "flights_train_1=pd.DataFrame(flights_train['arr_delay'],columns = ['arr_delay'])\n",
    "\n",
    "flights_train_1=remove_outliers(flights_train_1,['arr_delay'], std_coeff=3 )\n",
    "flights_train_1.describe()\n",
    "\n",
    "\n",
    "ax = sns.histplot(x=flights_train_1.arr_delay)\n",
    "ax.set_xlabel(\"Arrival delay\")\n",
    "ax.set_xlim(-100,500)\n"
   ]
  },
  {
   "cell_type": "code",
   "execution_count": 31,
   "metadata": {},
   "outputs": [
    {
     "data": {
      "text/plain": [
       "ShapiroResult(statistic=nan, pvalue=1.0)"
      ]
     },
     "execution_count": 31,
     "metadata": {},
     "output_type": "execute_result"
    }
   ],
   "source": [
    "arr_delay = flights_train_1['arr_delay']\n",
    "arr_delay_sample = arr_delay.sample( n= 5000 )\n",
    "stats.shapiro(arr_delay_sample)"
   ]
  },
  {
   "attachments": {},
   "cell_type": "markdown",
   "metadata": {},
   "source": [
    "#### Null hypothesis failed to reject, so the data is normally dist"
   ]
  },
  {
   "cell_type": "markdown",
   "metadata": {},
   "source": [
    "#### **Task 2**: Is average/median monthly delay different during the year? If yes, which are months with the biggest delays and what could be the reason?"
   ]
  },
  {
   "cell_type": "code",
   "execution_count": null,
   "metadata": {},
   "outputs": [
    {
     "name": "stdout",
     "output_type": "stream",
     "text": [
      "Database opened successfully \n"
     ]
    }
   ],
   "source": [
    "### In this task, online database is used for all flights data\n",
    "\n",
    "import psycopg2\n",
    "\n",
    "### Database information\n",
    "conn = psycopg2.connect(database= \"mid_term_project\", \n",
    "                        user    = \"lhl_student\", \n",
    "                        password= \"lhl_student\", \n",
    "                        host    = \"lhl-data-bootcamp.crzjul5qln0e.ca-central-1.rds.amazonaws.com\", \n",
    "                        port    = \"5432\")\n",
    "print(\"Database opened successfully \")"
   ]
  },
  {
   "cell_type": "code",
   "execution_count": null,
   "metadata": {},
   "outputs": [
    {
     "data": {
      "text/html": [
       "<div>\n",
       "<style scoped>\n",
       "    .dataframe tbody tr th:only-of-type {\n",
       "        vertical-align: middle;\n",
       "    }\n",
       "\n",
       "    .dataframe tbody tr th {\n",
       "        vertical-align: top;\n",
       "    }\n",
       "\n",
       "    .dataframe thead th {\n",
       "        text-align: right;\n",
       "    }\n",
       "</style>\n",
       "<table border=\"1\" class=\"dataframe\">\n",
       "  <thead>\n",
       "    <tr style=\"text-align: right;\">\n",
       "      <th></th>\n",
       "      <th>month</th>\n",
       "      <th>number_of_flights</th>\n",
       "    </tr>\n",
       "  </thead>\n",
       "  <tbody>\n",
       "    <tr>\n",
       "      <th>0</th>\n",
       "      <td>01</td>\n",
       "      <td>608822</td>\n",
       "    </tr>\n",
       "    <tr>\n",
       "      <th>1</th>\n",
       "      <td>02</td>\n",
       "      <td>558550</td>\n",
       "    </tr>\n",
       "    <tr>\n",
       "      <th>2</th>\n",
       "      <td>03</td>\n",
       "      <td>659708</td>\n",
       "    </tr>\n",
       "    <tr>\n",
       "      <th>3</th>\n",
       "      <td>04</td>\n",
       "      <td>645522</td>\n",
       "    </tr>\n",
       "    <tr>\n",
       "      <th>4</th>\n",
       "      <td>05</td>\n",
       "      <td>669458</td>\n",
       "    </tr>\n",
       "    <tr>\n",
       "      <th>5</th>\n",
       "      <td>06</td>\n",
       "      <td>672086</td>\n",
       "    </tr>\n",
       "    <tr>\n",
       "      <th>6</th>\n",
       "      <td>07</td>\n",
       "      <td>693444</td>\n",
       "    </tr>\n",
       "    <tr>\n",
       "      <th>7</th>\n",
       "      <td>08</td>\n",
       "      <td>693542</td>\n",
       "    </tr>\n",
       "    <tr>\n",
       "      <th>8</th>\n",
       "      <td>09</td>\n",
       "      <td>637458</td>\n",
       "    </tr>\n",
       "    <tr>\n",
       "      <th>9</th>\n",
       "      <td>10</td>\n",
       "      <td>674482</td>\n",
       "    </tr>\n",
       "    <tr>\n",
       "      <th>10</th>\n",
       "      <td>11</td>\n",
       "      <td>639188</td>\n",
       "    </tr>\n",
       "    <tr>\n",
       "      <th>11</th>\n",
       "      <td>12</td>\n",
       "      <td>655605</td>\n",
       "    </tr>\n",
       "  </tbody>\n",
       "</table>\n",
       "</div>"
      ],
      "text/plain": [
       "   month  number_of_flights\n",
       "0     01             608822\n",
       "1     02             558550\n",
       "2     03             659708\n",
       "3     04             645522\n",
       "4     05             669458\n",
       "5     06             672086\n",
       "6     07             693444\n",
       "7     08             693542\n",
       "8     09             637458\n",
       "9     10             674482\n",
       "10    11             639188\n",
       "11    12             655605"
      ]
     },
     "execution_count": 4,
     "metadata": {},
     "output_type": "execute_result"
    }
   ],
   "source": [
    "# Count number of flights in each month for 2018 and 2019\n",
    "# Average number of flights and arr_delay calculated for each month on 2018 and 2019\n",
    "sql_query=\"\"\"\n",
    "select \n",
    "       substr(fl_date,6, 2) as month,\n",
    "       count(arr_delay)/2 as number_of_flights      \n",
    "from flights\n",
    "where arr_delay is not Null \n",
    "group by month\n",
    "order by month\n",
    "\"\"\"\n",
    "\n",
    "df_flno = pd.DataFrame(pd.read_sql_query(sql_query,conn) )\n",
    "\n",
    "df_flno"
   ]
  },
  {
   "cell_type": "code",
   "execution_count": null,
   "metadata": {},
   "outputs": [
    {
     "data": {
      "text/html": [
       "<div>\n",
       "<style scoped>\n",
       "    .dataframe tbody tr th:only-of-type {\n",
       "        vertical-align: middle;\n",
       "    }\n",
       "\n",
       "    .dataframe tbody tr th {\n",
       "        vertical-align: top;\n",
       "    }\n",
       "\n",
       "    .dataframe thead th {\n",
       "        text-align: right;\n",
       "    }\n",
       "</style>\n",
       "<table border=\"1\" class=\"dataframe\">\n",
       "  <thead>\n",
       "    <tr style=\"text-align: right;\">\n",
       "      <th></th>\n",
       "      <th>month</th>\n",
       "      <th>sum_arr_delay</th>\n",
       "    </tr>\n",
       "  </thead>\n",
       "  <tbody>\n",
       "    <tr>\n",
       "      <th>0</th>\n",
       "      <td>01</td>\n",
       "      <td>8262493.5</td>\n",
       "    </tr>\n",
       "    <tr>\n",
       "      <th>1</th>\n",
       "      <td>02</td>\n",
       "      <td>8672232.5</td>\n",
       "    </tr>\n",
       "    <tr>\n",
       "      <th>2</th>\n",
       "      <td>03</td>\n",
       "      <td>7669814.5</td>\n",
       "    </tr>\n",
       "    <tr>\n",
       "      <th>3</th>\n",
       "      <td>04</td>\n",
       "      <td>8330071.0</td>\n",
       "    </tr>\n",
       "    <tr>\n",
       "      <th>4</th>\n",
       "      <td>05</td>\n",
       "      <td>9852621.5</td>\n",
       "    </tr>\n",
       "    <tr>\n",
       "      <th>5</th>\n",
       "      <td>06</td>\n",
       "      <td>11971276.0</td>\n",
       "    </tr>\n",
       "    <tr>\n",
       "      <th>6</th>\n",
       "      <td>07</td>\n",
       "      <td>11726648.0</td>\n",
       "    </tr>\n",
       "    <tr>\n",
       "      <th>7</th>\n",
       "      <td>08</td>\n",
       "      <td>11631876.0</td>\n",
       "    </tr>\n",
       "    <tr>\n",
       "      <th>8</th>\n",
       "      <td>09</td>\n",
       "      <td>7059366.5</td>\n",
       "    </tr>\n",
       "    <tr>\n",
       "      <th>9</th>\n",
       "      <td>10</td>\n",
       "      <td>7725924.5</td>\n",
       "    </tr>\n",
       "    <tr>\n",
       "      <th>10</th>\n",
       "      <td>11</td>\n",
       "      <td>7615782.5</td>\n",
       "    </tr>\n",
       "    <tr>\n",
       "      <th>11</th>\n",
       "      <td>12</td>\n",
       "      <td>9157034.0</td>\n",
       "    </tr>\n",
       "  </tbody>\n",
       "</table>\n",
       "</div>"
      ],
      "text/plain": [
       "   month  sum_arr_delay\n",
       "0     01      8262493.5\n",
       "1     02      8672232.5\n",
       "2     03      7669814.5\n",
       "3     04      8330071.0\n",
       "4     05      9852621.5\n",
       "5     06     11971276.0\n",
       "6     07     11726648.0\n",
       "7     08     11631876.0\n",
       "8     09      7059366.5\n",
       "9     10      7725924.5\n",
       "10    11      7615782.5\n",
       "11    12      9157034.0"
      ]
     },
     "execution_count": 5,
     "metadata": {},
     "output_type": "execute_result"
    }
   ],
   "source": [
    "# Average Sum of arr_delay if arr_delay>0 in each month for 2018 and 2019\n",
    "\n",
    "sql_query=\"\"\"\n",
    "select \n",
    "       substr(fl_date,6, 2) as month,\n",
    "       sum(arr_delay)/2 as sum_arr_delay\n",
    "from flights\n",
    "where arr_delay>0 \n",
    "group by month\n",
    "order by month\n",
    "\"\"\"\n",
    "df_arr_delay = pd.DataFrame(pd.read_sql_query(sql_query,conn) )\n",
    "\n",
    "sql_query=\"\"\"\n",
    "select \n",
    "       substr(fl_date,6, 2) as month,\n",
    "       sum(dep_delay)/2 as sum_dep_delay\n",
    "from flights\n",
    "where dep_delay>0 \n",
    "group by month\n",
    "order by month\n",
    "\"\"\"\n",
    "df_dep_delay = pd.DataFrame(pd.read_sql_query(sql_query,conn) )\n",
    "\n",
    "df_arr_delay"
   ]
  },
  {
   "cell_type": "code",
   "execution_count": null,
   "metadata": {},
   "outputs": [
    {
     "data": {
      "text/html": [
       "<div>\n",
       "<style scoped>\n",
       "    .dataframe tbody tr th:only-of-type {\n",
       "        vertical-align: middle;\n",
       "    }\n",
       "\n",
       "    .dataframe tbody tr th {\n",
       "        vertical-align: top;\n",
       "    }\n",
       "\n",
       "    .dataframe thead th {\n",
       "        text-align: right;\n",
       "    }\n",
       "</style>\n",
       "<table border=\"1\" class=\"dataframe\">\n",
       "  <thead>\n",
       "    <tr style=\"text-align: right;\">\n",
       "      <th></th>\n",
       "      <th>month</th>\n",
       "      <th>sum_arr_delay</th>\n",
       "      <th>sum_dep_delay</th>\n",
       "      <th>number_of_flights</th>\n",
       "      <th>average_arr_delay</th>\n",
       "      <th>average_dep_delay</th>\n",
       "    </tr>\n",
       "  </thead>\n",
       "  <tbody>\n",
       "    <tr>\n",
       "      <th>5</th>\n",
       "      <td>06</td>\n",
       "      <td>11971276.0</td>\n",
       "      <td>11806606.0</td>\n",
       "      <td>672086</td>\n",
       "      <td>17.812119</td>\n",
       "      <td>17.567106</td>\n",
       "    </tr>\n",
       "    <tr>\n",
       "      <th>6</th>\n",
       "      <td>07</td>\n",
       "      <td>11726648.0</td>\n",
       "      <td>11735703.5</td>\n",
       "      <td>693444</td>\n",
       "      <td>16.910735</td>\n",
       "      <td>16.923794</td>\n",
       "    </tr>\n",
       "    <tr>\n",
       "      <th>7</th>\n",
       "      <td>08</td>\n",
       "      <td>11631876.0</td>\n",
       "      <td>11433629.0</td>\n",
       "      <td>693542</td>\n",
       "      <td>16.771697</td>\n",
       "      <td>16.485849</td>\n",
       "    </tr>\n",
       "    <tr>\n",
       "      <th>1</th>\n",
       "      <td>02</td>\n",
       "      <td>8672232.5</td>\n",
       "      <td>8420504.0</td>\n",
       "      <td>558550</td>\n",
       "      <td>15.526332</td>\n",
       "      <td>15.075649</td>\n",
       "    </tr>\n",
       "    <tr>\n",
       "      <th>4</th>\n",
       "      <td>05</td>\n",
       "      <td>9852621.5</td>\n",
       "      <td>9789039.0</td>\n",
       "      <td>669458</td>\n",
       "      <td>14.717311</td>\n",
       "      <td>14.622335</td>\n",
       "    </tr>\n",
       "    <tr>\n",
       "      <th>11</th>\n",
       "      <td>12</td>\n",
       "      <td>9157034.0</td>\n",
       "      <td>9174036.5</td>\n",
       "      <td>655605</td>\n",
       "      <td>13.967303</td>\n",
       "      <td>13.993238</td>\n",
       "    </tr>\n",
       "    <tr>\n",
       "      <th>0</th>\n",
       "      <td>01</td>\n",
       "      <td>8262493.5</td>\n",
       "      <td>8178380.5</td>\n",
       "      <td>608822</td>\n",
       "      <td>13.571279</td>\n",
       "      <td>13.433122</td>\n",
       "    </tr>\n",
       "    <tr>\n",
       "      <th>3</th>\n",
       "      <td>04</td>\n",
       "      <td>8330071.0</td>\n",
       "      <td>8297456.0</td>\n",
       "      <td>645522</td>\n",
       "      <td>12.904395</td>\n",
       "      <td>12.853870</td>\n",
       "    </tr>\n",
       "    <tr>\n",
       "      <th>10</th>\n",
       "      <td>11</td>\n",
       "      <td>7615782.5</td>\n",
       "      <td>7471305.0</td>\n",
       "      <td>639188</td>\n",
       "      <td>11.914777</td>\n",
       "      <td>11.688744</td>\n",
       "    </tr>\n",
       "    <tr>\n",
       "      <th>2</th>\n",
       "      <td>03</td>\n",
       "      <td>7669814.5</td>\n",
       "      <td>7777220.5</td>\n",
       "      <td>659708</td>\n",
       "      <td>11.626075</td>\n",
       "      <td>11.788883</td>\n",
       "    </tr>\n",
       "    <tr>\n",
       "      <th>9</th>\n",
       "      <td>10</td>\n",
       "      <td>7725924.5</td>\n",
       "      <td>7504175.0</td>\n",
       "      <td>674482</td>\n",
       "      <td>11.454604</td>\n",
       "      <td>11.125834</td>\n",
       "    </tr>\n",
       "    <tr>\n",
       "      <th>8</th>\n",
       "      <td>09</td>\n",
       "      <td>7059366.5</td>\n",
       "      <td>6905907.5</td>\n",
       "      <td>637458</td>\n",
       "      <td>11.074246</td>\n",
       "      <td>10.833510</td>\n",
       "    </tr>\n",
       "  </tbody>\n",
       "</table>\n",
       "</div>"
      ],
      "text/plain": [
       "   month  sum_arr_delay  sum_dep_delay  number_of_flights  average_arr_delay  \\\n",
       "5     06     11971276.0     11806606.0             672086          17.812119   \n",
       "6     07     11726648.0     11735703.5             693444          16.910735   \n",
       "7     08     11631876.0     11433629.0             693542          16.771697   \n",
       "1     02      8672232.5      8420504.0             558550          15.526332   \n",
       "4     05      9852621.5      9789039.0             669458          14.717311   \n",
       "11    12      9157034.0      9174036.5             655605          13.967303   \n",
       "0     01      8262493.5      8178380.5             608822          13.571279   \n",
       "3     04      8330071.0      8297456.0             645522          12.904395   \n",
       "10    11      7615782.5      7471305.0             639188          11.914777   \n",
       "2     03      7669814.5      7777220.5             659708          11.626075   \n",
       "9     10      7725924.5      7504175.0             674482          11.454604   \n",
       "8     09      7059366.5      6905907.5             637458          11.074246   \n",
       "\n",
       "    average_dep_delay  \n",
       "5           17.567106  \n",
       "6           16.923794  \n",
       "7           16.485849  \n",
       "1           15.075649  \n",
       "4           14.622335  \n",
       "11          13.993238  \n",
       "0           13.433122  \n",
       "3           12.853870  \n",
       "10          11.688744  \n",
       "2           11.788883  \n",
       "9           11.125834  \n",
       "8           10.833510  "
      ]
     },
     "execution_count": 6,
     "metadata": {},
     "output_type": "execute_result"
    }
   ],
   "source": [
    "df_delay=pd.merge(df_arr_delay,df_dep_delay,how='left',on='month')\n",
    "df_delay=pd.merge(df_delay,df_flno,how='left',on='month')\n",
    "\n",
    "df_delay['average_arr_delay']=df_delay['sum_arr_delay'] / df_delay['number_of_flights']\n",
    "df_delay['average_dep_delay']=df_delay['sum_dep_delay'] / df_delay['number_of_flights']\n",
    "\n",
    "df_delay.sort_values(by='average_arr_delay' , ascending=False , inplace=True)\n",
    "df_delay"
   ]
  },
  {
   "cell_type": "markdown",
   "metadata": {},
   "source": [
    "#### **Task 3**: Does the weather affect the delay? \n",
    "Use the API to pull the weather information for flights. There is no need to get weather for ALL flights. We can choose the right representative sample. Let's focus on four weather types:\n",
    "- sunny\n",
    "- cloudy\n",
    "- rainy\n",
    "- snow.\n",
    "Test the hypothesis that these 4 delays are from the same distribution. If they are not, which ones are significantly different?"
   ]
  },
  {
   "cell_type": "code",
   "execution_count": 2,
   "metadata": {},
   "outputs": [
    {
     "data": {
      "text/html": [
       "<div>\n",
       "<style scoped>\n",
       "    .dataframe tbody tr th:only-of-type {\n",
       "        vertical-align: middle;\n",
       "    }\n",
       "\n",
       "    .dataframe tbody tr th {\n",
       "        vertical-align: top;\n",
       "    }\n",
       "\n",
       "    .dataframe thead th {\n",
       "        text-align: right;\n",
       "    }\n",
       "</style>\n",
       "<table border=\"1\" class=\"dataframe\">\n",
       "  <thead>\n",
       "    <tr style=\"text-align: right;\">\n",
       "      <th></th>\n",
       "      <th>fl_date</th>\n",
       "      <th>mkt_unique_carrier</th>\n",
       "      <th>branded_code_share</th>\n",
       "      <th>mkt_carrier</th>\n",
       "      <th>mkt_carrier_fl_num</th>\n",
       "      <th>op_unique_carrier</th>\n",
       "      <th>tail_num</th>\n",
       "      <th>op_carrier_fl_num</th>\n",
       "      <th>origin_airport_id</th>\n",
       "      <th>origin</th>\n",
       "      <th>...</th>\n",
       "      <th>distance</th>\n",
       "      <th>carrier_delay</th>\n",
       "      <th>weather_delay</th>\n",
       "      <th>nas_delay</th>\n",
       "      <th>security_delay</th>\n",
       "      <th>late_aircraft_delay</th>\n",
       "      <th>first_dep_time</th>\n",
       "      <th>total_add_gtime</th>\n",
       "      <th>longest_add_gtime</th>\n",
       "      <th>no_name</th>\n",
       "    </tr>\n",
       "  </thead>\n",
       "  <tbody>\n",
       "    <tr>\n",
       "      <th>0</th>\n",
       "      <td>2019-01-03</td>\n",
       "      <td>AA</td>\n",
       "      <td>AA_CODESHARE</td>\n",
       "      <td>AA</td>\n",
       "      <td>3680</td>\n",
       "      <td>MQ</td>\n",
       "      <td>N248NN</td>\n",
       "      <td>3680</td>\n",
       "      <td>14027</td>\n",
       "      <td>PBI</td>\n",
       "      <td>...</td>\n",
       "      <td>857.0</td>\n",
       "      <td>NaN</td>\n",
       "      <td>NaN</td>\n",
       "      <td>NaN</td>\n",
       "      <td>NaN</td>\n",
       "      <td>NaN</td>\n",
       "      <td>NaN</td>\n",
       "      <td>NaN</td>\n",
       "      <td>NaN</td>\n",
       "      <td>NaN</td>\n",
       "    </tr>\n",
       "    <tr>\n",
       "      <th>1</th>\n",
       "      <td>2019-01-03</td>\n",
       "      <td>AA</td>\n",
       "      <td>AA_CODESHARE</td>\n",
       "      <td>AA</td>\n",
       "      <td>3607</td>\n",
       "      <td>MQ</td>\n",
       "      <td>N820AE</td>\n",
       "      <td>3607</td>\n",
       "      <td>15074</td>\n",
       "      <td>SWO</td>\n",
       "      <td>...</td>\n",
       "      <td>225.0</td>\n",
       "      <td>NaN</td>\n",
       "      <td>NaN</td>\n",
       "      <td>NaN</td>\n",
       "      <td>NaN</td>\n",
       "      <td>NaN</td>\n",
       "      <td>NaN</td>\n",
       "      <td>NaN</td>\n",
       "      <td>NaN</td>\n",
       "      <td>NaN</td>\n",
       "    </tr>\n",
       "    <tr>\n",
       "      <th>2</th>\n",
       "      <td>2019-01-01</td>\n",
       "      <td>AA</td>\n",
       "      <td>AA_CODESHARE</td>\n",
       "      <td>AA</td>\n",
       "      <td>5606</td>\n",
       "      <td>OH</td>\n",
       "      <td>N575NN</td>\n",
       "      <td>5606</td>\n",
       "      <td>13577</td>\n",
       "      <td>MYR</td>\n",
       "      <td>...</td>\n",
       "      <td>157.0</td>\n",
       "      <td>NaN</td>\n",
       "      <td>NaN</td>\n",
       "      <td>NaN</td>\n",
       "      <td>NaN</td>\n",
       "      <td>NaN</td>\n",
       "      <td>NaN</td>\n",
       "      <td>NaN</td>\n",
       "      <td>NaN</td>\n",
       "      <td>NaN</td>\n",
       "    </tr>\n",
       "    <tr>\n",
       "      <th>3</th>\n",
       "      <td>2019-01-01</td>\n",
       "      <td>AA</td>\n",
       "      <td>AA_CODESHARE</td>\n",
       "      <td>AA</td>\n",
       "      <td>5621</td>\n",
       "      <td>OH</td>\n",
       "      <td>N720PS</td>\n",
       "      <td>5621</td>\n",
       "      <td>11057</td>\n",
       "      <td>CLT</td>\n",
       "      <td>...</td>\n",
       "      <td>490.0</td>\n",
       "      <td>NaN</td>\n",
       "      <td>NaN</td>\n",
       "      <td>NaN</td>\n",
       "      <td>NaN</td>\n",
       "      <td>NaN</td>\n",
       "      <td>NaN</td>\n",
       "      <td>NaN</td>\n",
       "      <td>NaN</td>\n",
       "      <td>NaN</td>\n",
       "    </tr>\n",
       "    <tr>\n",
       "      <th>4</th>\n",
       "      <td>2019-01-01</td>\n",
       "      <td>AA</td>\n",
       "      <td>AA_CODESHARE</td>\n",
       "      <td>AA</td>\n",
       "      <td>5621</td>\n",
       "      <td>OH</td>\n",
       "      <td>N720PS</td>\n",
       "      <td>5621</td>\n",
       "      <td>13360</td>\n",
       "      <td>MLB</td>\n",
       "      <td>...</td>\n",
       "      <td>490.0</td>\n",
       "      <td>NaN</td>\n",
       "      <td>NaN</td>\n",
       "      <td>NaN</td>\n",
       "      <td>NaN</td>\n",
       "      <td>NaN</td>\n",
       "      <td>NaN</td>\n",
       "      <td>NaN</td>\n",
       "      <td>NaN</td>\n",
       "      <td>NaN</td>\n",
       "    </tr>\n",
       "    <tr>\n",
       "      <th>...</th>\n",
       "      <td>...</td>\n",
       "      <td>...</td>\n",
       "      <td>...</td>\n",
       "      <td>...</td>\n",
       "      <td>...</td>\n",
       "      <td>...</td>\n",
       "      <td>...</td>\n",
       "      <td>...</td>\n",
       "      <td>...</td>\n",
       "      <td>...</td>\n",
       "      <td>...</td>\n",
       "      <td>...</td>\n",
       "      <td>...</td>\n",
       "      <td>...</td>\n",
       "      <td>...</td>\n",
       "      <td>...</td>\n",
       "      <td>...</td>\n",
       "      <td>...</td>\n",
       "      <td>...</td>\n",
       "      <td>...</td>\n",
       "      <td>...</td>\n",
       "    </tr>\n",
       "    <tr>\n",
       "      <th>311079</th>\n",
       "      <td>2019-01-15</td>\n",
       "      <td>WN</td>\n",
       "      <td>WN</td>\n",
       "      <td>WN</td>\n",
       "      <td>1946</td>\n",
       "      <td>WN</td>\n",
       "      <td>N8580Z</td>\n",
       "      <td>1946</td>\n",
       "      <td>14100</td>\n",
       "      <td>PHL</td>\n",
       "      <td>...</td>\n",
       "      <td>668.0</td>\n",
       "      <td>NaN</td>\n",
       "      <td>NaN</td>\n",
       "      <td>NaN</td>\n",
       "      <td>NaN</td>\n",
       "      <td>NaN</td>\n",
       "      <td>NaN</td>\n",
       "      <td>NaN</td>\n",
       "      <td>NaN</td>\n",
       "      <td>NaN</td>\n",
       "    </tr>\n",
       "    <tr>\n",
       "      <th>311080</th>\n",
       "      <td>2019-01-15</td>\n",
       "      <td>WN</td>\n",
       "      <td>WN</td>\n",
       "      <td>WN</td>\n",
       "      <td>2308</td>\n",
       "      <td>WN</td>\n",
       "      <td>N906WN</td>\n",
       "      <td>2308</td>\n",
       "      <td>14100</td>\n",
       "      <td>PHL</td>\n",
       "      <td>...</td>\n",
       "      <td>668.0</td>\n",
       "      <td>NaN</td>\n",
       "      <td>NaN</td>\n",
       "      <td>NaN</td>\n",
       "      <td>NaN</td>\n",
       "      <td>NaN</td>\n",
       "      <td>NaN</td>\n",
       "      <td>NaN</td>\n",
       "      <td>NaN</td>\n",
       "      <td>NaN</td>\n",
       "    </tr>\n",
       "    <tr>\n",
       "      <th>311081</th>\n",
       "      <td>2019-01-15</td>\n",
       "      <td>WN</td>\n",
       "      <td>WN</td>\n",
       "      <td>WN</td>\n",
       "      <td>2223</td>\n",
       "      <td>WN</td>\n",
       "      <td>N8545V</td>\n",
       "      <td>2223</td>\n",
       "      <td>14100</td>\n",
       "      <td>PHL</td>\n",
       "      <td>...</td>\n",
       "      <td>2075.0</td>\n",
       "      <td>NaN</td>\n",
       "      <td>NaN</td>\n",
       "      <td>NaN</td>\n",
       "      <td>NaN</td>\n",
       "      <td>NaN</td>\n",
       "      <td>NaN</td>\n",
       "      <td>NaN</td>\n",
       "      <td>NaN</td>\n",
       "      <td>NaN</td>\n",
       "    </tr>\n",
       "    <tr>\n",
       "      <th>311082</th>\n",
       "      <td>2019-01-15</td>\n",
       "      <td>WN</td>\n",
       "      <td>WN</td>\n",
       "      <td>WN</td>\n",
       "      <td>1019</td>\n",
       "      <td>WN</td>\n",
       "      <td>N7844A</td>\n",
       "      <td>1019</td>\n",
       "      <td>14100</td>\n",
       "      <td>PHL</td>\n",
       "      <td>...</td>\n",
       "      <td>814.0</td>\n",
       "      <td>NaN</td>\n",
       "      <td>NaN</td>\n",
       "      <td>NaN</td>\n",
       "      <td>NaN</td>\n",
       "      <td>NaN</td>\n",
       "      <td>NaN</td>\n",
       "      <td>NaN</td>\n",
       "      <td>NaN</td>\n",
       "      <td>NaN</td>\n",
       "    </tr>\n",
       "    <tr>\n",
       "      <th>311083</th>\n",
       "      <td>2019-01-15</td>\n",
       "      <td>WN</td>\n",
       "      <td>WN</td>\n",
       "      <td>WN</td>\n",
       "      <td>1321</td>\n",
       "      <td>WN</td>\n",
       "      <td>N950WN</td>\n",
       "      <td>1321</td>\n",
       "      <td>14100</td>\n",
       "      <td>PHL</td>\n",
       "      <td>...</td>\n",
       "      <td>814.0</td>\n",
       "      <td>NaN</td>\n",
       "      <td>NaN</td>\n",
       "      <td>NaN</td>\n",
       "      <td>NaN</td>\n",
       "      <td>NaN</td>\n",
       "      <td>NaN</td>\n",
       "      <td>NaN</td>\n",
       "      <td>NaN</td>\n",
       "      <td>NaN</td>\n",
       "    </tr>\n",
       "  </tbody>\n",
       "</table>\n",
       "<p>311084 rows × 42 columns</p>\n",
       "</div>"
      ],
      "text/plain": [
       "           fl_date mkt_unique_carrier branded_code_share mkt_carrier  \\\n",
       "0       2019-01-03                 AA       AA_CODESHARE          AA   \n",
       "1       2019-01-03                 AA       AA_CODESHARE          AA   \n",
       "2       2019-01-01                 AA       AA_CODESHARE          AA   \n",
       "3       2019-01-01                 AA       AA_CODESHARE          AA   \n",
       "4       2019-01-01                 AA       AA_CODESHARE          AA   \n",
       "...            ...                ...                ...         ...   \n",
       "311079  2019-01-15                 WN                 WN          WN   \n",
       "311080  2019-01-15                 WN                 WN          WN   \n",
       "311081  2019-01-15                 WN                 WN          WN   \n",
       "311082  2019-01-15                 WN                 WN          WN   \n",
       "311083  2019-01-15                 WN                 WN          WN   \n",
       "\n",
       "        mkt_carrier_fl_num op_unique_carrier tail_num  op_carrier_fl_num  \\\n",
       "0                     3680                MQ   N248NN               3680   \n",
       "1                     3607                MQ   N820AE               3607   \n",
       "2                     5606                OH   N575NN               5606   \n",
       "3                     5621                OH   N720PS               5621   \n",
       "4                     5621                OH   N720PS               5621   \n",
       "...                    ...               ...      ...                ...   \n",
       "311079                1946                WN   N8580Z               1946   \n",
       "311080                2308                WN   N906WN               2308   \n",
       "311081                2223                WN   N8545V               2223   \n",
       "311082                1019                WN   N7844A               1019   \n",
       "311083                1321                WN   N950WN               1321   \n",
       "\n",
       "        origin_airport_id origin  ... distance  carrier_delay weather_delay  \\\n",
       "0                   14027    PBI  ...    857.0            NaN           NaN   \n",
       "1                   15074    SWO  ...    225.0            NaN           NaN   \n",
       "2                   13577    MYR  ...    157.0            NaN           NaN   \n",
       "3                   11057    CLT  ...    490.0            NaN           NaN   \n",
       "4                   13360    MLB  ...    490.0            NaN           NaN   \n",
       "...                   ...    ...  ...      ...            ...           ...   \n",
       "311079              14100    PHL  ...    668.0            NaN           NaN   \n",
       "311080              14100    PHL  ...    668.0            NaN           NaN   \n",
       "311081              14100    PHL  ...   2075.0            NaN           NaN   \n",
       "311082              14100    PHL  ...    814.0            NaN           NaN   \n",
       "311083              14100    PHL  ...    814.0            NaN           NaN   \n",
       "\n",
       "       nas_delay  security_delay  late_aircraft_delay  first_dep_time  \\\n",
       "0            NaN             NaN                  NaN             NaN   \n",
       "1            NaN             NaN                  NaN             NaN   \n",
       "2            NaN             NaN                  NaN             NaN   \n",
       "3            NaN             NaN                  NaN             NaN   \n",
       "4            NaN             NaN                  NaN             NaN   \n",
       "...          ...             ...                  ...             ...   \n",
       "311079       NaN             NaN                  NaN             NaN   \n",
       "311080       NaN             NaN                  NaN             NaN   \n",
       "311081       NaN             NaN                  NaN             NaN   \n",
       "311082       NaN             NaN                  NaN             NaN   \n",
       "311083       NaN             NaN                  NaN             NaN   \n",
       "\n",
       "        total_add_gtime  longest_add_gtime  no_name  \n",
       "0                   NaN                NaN      NaN  \n",
       "1                   NaN                NaN      NaN  \n",
       "2                   NaN                NaN      NaN  \n",
       "3                   NaN                NaN      NaN  \n",
       "4                   NaN                NaN      NaN  \n",
       "...                 ...                ...      ...  \n",
       "311079              NaN                NaN      NaN  \n",
       "311080              NaN                NaN      NaN  \n",
       "311081              NaN                NaN      NaN  \n",
       "311082              NaN                NaN      NaN  \n",
       "311083              NaN                NaN      NaN  \n",
       "\n",
       "[311084 rows x 42 columns]"
      ]
     },
     "execution_count": 2,
     "metadata": {},
     "output_type": "execute_result"
    }
   ],
   "source": [
    "df = pd.read_csv('flights-2019-01-01 to 2019-01-15.csv')\n",
    "df"
   ]
  },
  {
   "cell_type": "code",
   "execution_count": 3,
   "metadata": {},
   "outputs": [
    {
     "data": {
      "text/plain": [
       "origin\n",
       "ORD    3496\n",
       "SFO    2332\n",
       "DFW    2198\n",
       "DEN    1935\n",
       "LAX    1810\n",
       "EWR    1512\n",
       "LGA    1452\n",
       "ATL    1390\n",
       "CLT    1360\n",
       "LAS    1266\n",
       "Name: weather_delay, dtype: int64"
      ]
     },
     "execution_count": 3,
     "metadata": {},
     "output_type": "execute_result"
    }
   ],
   "source": [
    "df.groupby('origin')['weather_delay'].count().sort_values(ascending=False).head(10)"
   ]
  },
  {
   "cell_type": "code",
   "execution_count": 4,
   "metadata": {},
   "outputs": [],
   "source": [
    "import time\n",
    "import datetime \n",
    "df['fl_date'] = pd.to_datetime(df['fl_date']).dt.strftime('%Y-%m-%d')"
   ]
  },
  {
   "cell_type": "code",
   "execution_count": 5,
   "metadata": {},
   "outputs": [
    {
     "data": {
      "text/html": [
       "<div>\n",
       "<style scoped>\n",
       "    .dataframe tbody tr th:only-of-type {\n",
       "        vertical-align: middle;\n",
       "    }\n",
       "\n",
       "    .dataframe tbody tr th {\n",
       "        vertical-align: top;\n",
       "    }\n",
       "\n",
       "    .dataframe thead th {\n",
       "        text-align: right;\n",
       "    }\n",
       "</style>\n",
       "<table border=\"1\" class=\"dataframe\">\n",
       "  <thead>\n",
       "    <tr style=\"text-align: right;\">\n",
       "      <th></th>\n",
       "      <th>fl_date</th>\n",
       "      <th>mkt_unique_carrier</th>\n",
       "      <th>branded_code_share</th>\n",
       "      <th>mkt_carrier</th>\n",
       "      <th>mkt_carrier_fl_num</th>\n",
       "      <th>op_unique_carrier</th>\n",
       "      <th>tail_num</th>\n",
       "      <th>op_carrier_fl_num</th>\n",
       "      <th>origin_airport_id</th>\n",
       "      <th>origin</th>\n",
       "      <th>...</th>\n",
       "      <th>distance</th>\n",
       "      <th>carrier_delay</th>\n",
       "      <th>weather_delay</th>\n",
       "      <th>nas_delay</th>\n",
       "      <th>security_delay</th>\n",
       "      <th>late_aircraft_delay</th>\n",
       "      <th>first_dep_time</th>\n",
       "      <th>total_add_gtime</th>\n",
       "      <th>longest_add_gtime</th>\n",
       "      <th>no_name</th>\n",
       "    </tr>\n",
       "  </thead>\n",
       "  <tbody>\n",
       "    <tr>\n",
       "      <th>310807</th>\n",
       "      <td>2019-01-14</td>\n",
       "      <td>AA</td>\n",
       "      <td>AA_CODESHARE</td>\n",
       "      <td>AA</td>\n",
       "      <td>4219</td>\n",
       "      <td>MQ</td>\n",
       "      <td>N661JA</td>\n",
       "      <td>4219</td>\n",
       "      <td>13930</td>\n",
       "      <td>ORD</td>\n",
       "      <td>...</td>\n",
       "      <td>130.0</td>\n",
       "      <td>0.0</td>\n",
       "      <td>656.0</td>\n",
       "      <td>0.0</td>\n",
       "      <td>0.0</td>\n",
       "      <td>0.0</td>\n",
       "      <td>2020.0</td>\n",
       "      <td>90.0</td>\n",
       "      <td>67.0</td>\n",
       "      <td>NaN</td>\n",
       "    </tr>\n",
       "    <tr>\n",
       "      <th>239902</th>\n",
       "      <td>2019-01-12</td>\n",
       "      <td>UA</td>\n",
       "      <td>UA_CODESHARE</td>\n",
       "      <td>UA</td>\n",
       "      <td>5049</td>\n",
       "      <td>OO</td>\n",
       "      <td>N417SW</td>\n",
       "      <td>5049</td>\n",
       "      <td>13930</td>\n",
       "      <td>ORD</td>\n",
       "      <td>...</td>\n",
       "      <td>157.0</td>\n",
       "      <td>0.0</td>\n",
       "      <td>577.0</td>\n",
       "      <td>13.0</td>\n",
       "      <td>0.0</td>\n",
       "      <td>0.0</td>\n",
       "      <td>NaN</td>\n",
       "      <td>NaN</td>\n",
       "      <td>NaN</td>\n",
       "      <td>NaN</td>\n",
       "    </tr>\n",
       "    <tr>\n",
       "      <th>236276</th>\n",
       "      <td>2019-01-12</td>\n",
       "      <td>AA</td>\n",
       "      <td>AA_CODESHARE</td>\n",
       "      <td>AA</td>\n",
       "      <td>4194</td>\n",
       "      <td>MQ</td>\n",
       "      <td>N612AE</td>\n",
       "      <td>4194</td>\n",
       "      <td>13930</td>\n",
       "      <td>ORD</td>\n",
       "      <td>...</td>\n",
       "      <td>268.0</td>\n",
       "      <td>0.0</td>\n",
       "      <td>329.0</td>\n",
       "      <td>44.0</td>\n",
       "      <td>0.0</td>\n",
       "      <td>0.0</td>\n",
       "      <td>1320.0</td>\n",
       "      <td>77.0</td>\n",
       "      <td>77.0</td>\n",
       "      <td>NaN</td>\n",
       "    </tr>\n",
       "    <tr>\n",
       "      <th>248128</th>\n",
       "      <td>2019-01-12</td>\n",
       "      <td>UA</td>\n",
       "      <td>UA_CODESHARE</td>\n",
       "      <td>UA</td>\n",
       "      <td>4148</td>\n",
       "      <td>EV</td>\n",
       "      <td>N877AS</td>\n",
       "      <td>4148</td>\n",
       "      <td>13930</td>\n",
       "      <td>ORD</td>\n",
       "      <td>...</td>\n",
       "      <td>475.0</td>\n",
       "      <td>23.0</td>\n",
       "      <td>182.0</td>\n",
       "      <td>23.0</td>\n",
       "      <td>0.0</td>\n",
       "      <td>141.0</td>\n",
       "      <td>NaN</td>\n",
       "      <td>NaN</td>\n",
       "      <td>NaN</td>\n",
       "      <td>NaN</td>\n",
       "    </tr>\n",
       "    <tr>\n",
       "      <th>247140</th>\n",
       "      <td>2019-01-12</td>\n",
       "      <td>AA</td>\n",
       "      <td>AA_CODESHARE</td>\n",
       "      <td>AA</td>\n",
       "      <td>2970</td>\n",
       "      <td>OO</td>\n",
       "      <td>N724SK</td>\n",
       "      <td>2970</td>\n",
       "      <td>13930</td>\n",
       "      <td>ORD</td>\n",
       "      <td>...</td>\n",
       "      <td>174.0</td>\n",
       "      <td>0.0</td>\n",
       "      <td>154.0</td>\n",
       "      <td>23.0</td>\n",
       "      <td>0.0</td>\n",
       "      <td>0.0</td>\n",
       "      <td>1312.0</td>\n",
       "      <td>114.0</td>\n",
       "      <td>114.0</td>\n",
       "      <td>NaN</td>\n",
       "    </tr>\n",
       "    <tr>\n",
       "      <th>...</th>\n",
       "      <td>...</td>\n",
       "      <td>...</td>\n",
       "      <td>...</td>\n",
       "      <td>...</td>\n",
       "      <td>...</td>\n",
       "      <td>...</td>\n",
       "      <td>...</td>\n",
       "      <td>...</td>\n",
       "      <td>...</td>\n",
       "      <td>...</td>\n",
       "      <td>...</td>\n",
       "      <td>...</td>\n",
       "      <td>...</td>\n",
       "      <td>...</td>\n",
       "      <td>...</td>\n",
       "      <td>...</td>\n",
       "      <td>...</td>\n",
       "      <td>...</td>\n",
       "      <td>...</td>\n",
       "      <td>...</td>\n",
       "      <td>...</td>\n",
       "    </tr>\n",
       "    <tr>\n",
       "      <th>310910</th>\n",
       "      <td>2019-01-14</td>\n",
       "      <td>UA</td>\n",
       "      <td>UA_CODESHARE</td>\n",
       "      <td>UA</td>\n",
       "      <td>4331</td>\n",
       "      <td>EV</td>\n",
       "      <td>N10575</td>\n",
       "      <td>4331</td>\n",
       "      <td>13930</td>\n",
       "      <td>ORD</td>\n",
       "      <td>...</td>\n",
       "      <td>723.0</td>\n",
       "      <td>NaN</td>\n",
       "      <td>NaN</td>\n",
       "      <td>NaN</td>\n",
       "      <td>NaN</td>\n",
       "      <td>NaN</td>\n",
       "      <td>NaN</td>\n",
       "      <td>NaN</td>\n",
       "      <td>NaN</td>\n",
       "      <td>NaN</td>\n",
       "    </tr>\n",
       "    <tr>\n",
       "      <th>310927</th>\n",
       "      <td>2019-01-14</td>\n",
       "      <td>UA</td>\n",
       "      <td>UA_CODESHARE</td>\n",
       "      <td>UA</td>\n",
       "      <td>4346</td>\n",
       "      <td>EV</td>\n",
       "      <td>N14977</td>\n",
       "      <td>4346</td>\n",
       "      <td>13930</td>\n",
       "      <td>ORD</td>\n",
       "      <td>...</td>\n",
       "      <td>296.0</td>\n",
       "      <td>NaN</td>\n",
       "      <td>NaN</td>\n",
       "      <td>NaN</td>\n",
       "      <td>NaN</td>\n",
       "      <td>NaN</td>\n",
       "      <td>NaN</td>\n",
       "      <td>NaN</td>\n",
       "      <td>NaN</td>\n",
       "      <td>NaN</td>\n",
       "    </tr>\n",
       "    <tr>\n",
       "      <th>310944</th>\n",
       "      <td>2019-01-14</td>\n",
       "      <td>UA</td>\n",
       "      <td>UA_CODESHARE</td>\n",
       "      <td>UA</td>\n",
       "      <td>4370</td>\n",
       "      <td>EV</td>\n",
       "      <td>N29917</td>\n",
       "      <td>4370</td>\n",
       "      <td>13930</td>\n",
       "      <td>ORD</td>\n",
       "      <td>...</td>\n",
       "      <td>849.0</td>\n",
       "      <td>NaN</td>\n",
       "      <td>NaN</td>\n",
       "      <td>NaN</td>\n",
       "      <td>NaN</td>\n",
       "      <td>NaN</td>\n",
       "      <td>NaN</td>\n",
       "      <td>NaN</td>\n",
       "      <td>NaN</td>\n",
       "      <td>NaN</td>\n",
       "    </tr>\n",
       "    <tr>\n",
       "      <th>310978</th>\n",
       "      <td>2019-01-14</td>\n",
       "      <td>UA</td>\n",
       "      <td>UA_CODESHARE</td>\n",
       "      <td>UA</td>\n",
       "      <td>4409</td>\n",
       "      <td>EV</td>\n",
       "      <td>N908EV</td>\n",
       "      <td>4409</td>\n",
       "      <td>13930</td>\n",
       "      <td>ORD</td>\n",
       "      <td>...</td>\n",
       "      <td>463.0</td>\n",
       "      <td>NaN</td>\n",
       "      <td>NaN</td>\n",
       "      <td>NaN</td>\n",
       "      <td>NaN</td>\n",
       "      <td>NaN</td>\n",
       "      <td>NaN</td>\n",
       "      <td>NaN</td>\n",
       "      <td>NaN</td>\n",
       "      <td>NaN</td>\n",
       "    </tr>\n",
       "    <tr>\n",
       "      <th>310979</th>\n",
       "      <td>2019-01-14</td>\n",
       "      <td>UA</td>\n",
       "      <td>UA_CODESHARE</td>\n",
       "      <td>UA</td>\n",
       "      <td>4410</td>\n",
       "      <td>EV</td>\n",
       "      <td>N15910</td>\n",
       "      <td>4410</td>\n",
       "      <td>13930</td>\n",
       "      <td>ORD</td>\n",
       "      <td>...</td>\n",
       "      <td>315.0</td>\n",
       "      <td>NaN</td>\n",
       "      <td>NaN</td>\n",
       "      <td>NaN</td>\n",
       "      <td>NaN</td>\n",
       "      <td>NaN</td>\n",
       "      <td>NaN</td>\n",
       "      <td>NaN</td>\n",
       "      <td>NaN</td>\n",
       "      <td>NaN</td>\n",
       "    </tr>\n",
       "  </tbody>\n",
       "</table>\n",
       "<p>15203 rows × 42 columns</p>\n",
       "</div>"
      ],
      "text/plain": [
       "           fl_date mkt_unique_carrier branded_code_share mkt_carrier  \\\n",
       "310807  2019-01-14                 AA       AA_CODESHARE          AA   \n",
       "239902  2019-01-12                 UA       UA_CODESHARE          UA   \n",
       "236276  2019-01-12                 AA       AA_CODESHARE          AA   \n",
       "248128  2019-01-12                 UA       UA_CODESHARE          UA   \n",
       "247140  2019-01-12                 AA       AA_CODESHARE          AA   \n",
       "...            ...                ...                ...         ...   \n",
       "310910  2019-01-14                 UA       UA_CODESHARE          UA   \n",
       "310927  2019-01-14                 UA       UA_CODESHARE          UA   \n",
       "310944  2019-01-14                 UA       UA_CODESHARE          UA   \n",
       "310978  2019-01-14                 UA       UA_CODESHARE          UA   \n",
       "310979  2019-01-14                 UA       UA_CODESHARE          UA   \n",
       "\n",
       "        mkt_carrier_fl_num op_unique_carrier tail_num  op_carrier_fl_num  \\\n",
       "310807                4219                MQ   N661JA               4219   \n",
       "239902                5049                OO   N417SW               5049   \n",
       "236276                4194                MQ   N612AE               4194   \n",
       "248128                4148                EV   N877AS               4148   \n",
       "247140                2970                OO   N724SK               2970   \n",
       "...                    ...               ...      ...                ...   \n",
       "310910                4331                EV   N10575               4331   \n",
       "310927                4346                EV   N14977               4346   \n",
       "310944                4370                EV   N29917               4370   \n",
       "310978                4409                EV   N908EV               4409   \n",
       "310979                4410                EV   N15910               4410   \n",
       "\n",
       "        origin_airport_id origin  ... distance  carrier_delay weather_delay  \\\n",
       "310807              13930    ORD  ...    130.0            0.0         656.0   \n",
       "239902              13930    ORD  ...    157.0            0.0         577.0   \n",
       "236276              13930    ORD  ...    268.0            0.0         329.0   \n",
       "248128              13930    ORD  ...    475.0           23.0         182.0   \n",
       "247140              13930    ORD  ...    174.0            0.0         154.0   \n",
       "...                   ...    ...  ...      ...            ...           ...   \n",
       "310910              13930    ORD  ...    723.0            NaN           NaN   \n",
       "310927              13930    ORD  ...    296.0            NaN           NaN   \n",
       "310944              13930    ORD  ...    849.0            NaN           NaN   \n",
       "310978              13930    ORD  ...    463.0            NaN           NaN   \n",
       "310979              13930    ORD  ...    315.0            NaN           NaN   \n",
       "\n",
       "       nas_delay  security_delay  late_aircraft_delay  first_dep_time  \\\n",
       "310807       0.0             0.0                  0.0          2020.0   \n",
       "239902      13.0             0.0                  0.0             NaN   \n",
       "236276      44.0             0.0                  0.0          1320.0   \n",
       "248128      23.0             0.0                141.0             NaN   \n",
       "247140      23.0             0.0                  0.0          1312.0   \n",
       "...          ...             ...                  ...             ...   \n",
       "310910       NaN             NaN                  NaN             NaN   \n",
       "310927       NaN             NaN                  NaN             NaN   \n",
       "310944       NaN             NaN                  NaN             NaN   \n",
       "310978       NaN             NaN                  NaN             NaN   \n",
       "310979       NaN             NaN                  NaN             NaN   \n",
       "\n",
       "        total_add_gtime  longest_add_gtime  no_name  \n",
       "310807             90.0               67.0      NaN  \n",
       "239902              NaN                NaN      NaN  \n",
       "236276             77.0               77.0      NaN  \n",
       "248128              NaN                NaN      NaN  \n",
       "247140            114.0              114.0      NaN  \n",
       "...                 ...                ...      ...  \n",
       "310910              NaN                NaN      NaN  \n",
       "310927              NaN                NaN      NaN  \n",
       "310944              NaN                NaN      NaN  \n",
       "310978              NaN                NaN      NaN  \n",
       "310979              NaN                NaN      NaN  \n",
       "\n",
       "[15203 rows x 42 columns]"
      ]
     },
     "execution_count": 5,
     "metadata": {},
     "output_type": "execute_result"
    }
   ],
   "source": [
    "df_ORD = df.query('origin == \"ORD\"').sort_values(by = 'weather_delay',ascending=False)\n",
    "df_ORD"
   ]
  },
  {
   "cell_type": "code",
   "execution_count": 6,
   "metadata": {},
   "outputs": [
    {
     "data": {
      "text/html": [
       "<div>\n",
       "<style scoped>\n",
       "    .dataframe tbody tr th:only-of-type {\n",
       "        vertical-align: middle;\n",
       "    }\n",
       "\n",
       "    .dataframe tbody tr th {\n",
       "        vertical-align: top;\n",
       "    }\n",
       "\n",
       "    .dataframe thead th {\n",
       "        text-align: right;\n",
       "    }\n",
       "</style>\n",
       "<table border=\"1\" class=\"dataframe\">\n",
       "  <thead>\n",
       "    <tr style=\"text-align: right;\">\n",
       "      <th></th>\n",
       "      <th>fl_date</th>\n",
       "      <th>weather_delay</th>\n",
       "      <th>origin</th>\n",
       "    </tr>\n",
       "  </thead>\n",
       "  <tbody>\n",
       "    <tr>\n",
       "      <th>310807</th>\n",
       "      <td>2019-01-14</td>\n",
       "      <td>656.0</td>\n",
       "      <td>ORD</td>\n",
       "    </tr>\n",
       "    <tr>\n",
       "      <th>239902</th>\n",
       "      <td>2019-01-12</td>\n",
       "      <td>577.0</td>\n",
       "      <td>ORD</td>\n",
       "    </tr>\n",
       "    <tr>\n",
       "      <th>236276</th>\n",
       "      <td>2019-01-12</td>\n",
       "      <td>329.0</td>\n",
       "      <td>ORD</td>\n",
       "    </tr>\n",
       "    <tr>\n",
       "      <th>248128</th>\n",
       "      <td>2019-01-12</td>\n",
       "      <td>182.0</td>\n",
       "      <td>ORD</td>\n",
       "    </tr>\n",
       "    <tr>\n",
       "      <th>247140</th>\n",
       "      <td>2019-01-12</td>\n",
       "      <td>154.0</td>\n",
       "      <td>ORD</td>\n",
       "    </tr>\n",
       "    <tr>\n",
       "      <th>...</th>\n",
       "      <td>...</td>\n",
       "      <td>...</td>\n",
       "      <td>...</td>\n",
       "    </tr>\n",
       "    <tr>\n",
       "      <th>310910</th>\n",
       "      <td>2019-01-14</td>\n",
       "      <td>NaN</td>\n",
       "      <td>ORD</td>\n",
       "    </tr>\n",
       "    <tr>\n",
       "      <th>310927</th>\n",
       "      <td>2019-01-14</td>\n",
       "      <td>NaN</td>\n",
       "      <td>ORD</td>\n",
       "    </tr>\n",
       "    <tr>\n",
       "      <th>310944</th>\n",
       "      <td>2019-01-14</td>\n",
       "      <td>NaN</td>\n",
       "      <td>ORD</td>\n",
       "    </tr>\n",
       "    <tr>\n",
       "      <th>310978</th>\n",
       "      <td>2019-01-14</td>\n",
       "      <td>NaN</td>\n",
       "      <td>ORD</td>\n",
       "    </tr>\n",
       "    <tr>\n",
       "      <th>310979</th>\n",
       "      <td>2019-01-14</td>\n",
       "      <td>NaN</td>\n",
       "      <td>ORD</td>\n",
       "    </tr>\n",
       "  </tbody>\n",
       "</table>\n",
       "<p>15203 rows × 3 columns</p>\n",
       "</div>"
      ],
      "text/plain": [
       "           fl_date  weather_delay origin\n",
       "310807  2019-01-14          656.0    ORD\n",
       "239902  2019-01-12          577.0    ORD\n",
       "236276  2019-01-12          329.0    ORD\n",
       "248128  2019-01-12          182.0    ORD\n",
       "247140  2019-01-12          154.0    ORD\n",
       "...            ...            ...    ...\n",
       "310910  2019-01-14            NaN    ORD\n",
       "310927  2019-01-14            NaN    ORD\n",
       "310944  2019-01-14            NaN    ORD\n",
       "310978  2019-01-14            NaN    ORD\n",
       "310979  2019-01-14            NaN    ORD\n",
       "\n",
       "[15203 rows x 3 columns]"
      ]
     },
     "execution_count": 6,
     "metadata": {},
     "output_type": "execute_result"
    }
   ],
   "source": [
    "df_ORD = df_ORD[['fl_date','weather_delay','origin']]\n",
    "df_ORD"
   ]
  },
  {
   "cell_type": "code",
   "execution_count": 7,
   "metadata": {},
   "outputs": [],
   "source": [
    "import requests\n",
    "import json\n",
    "import pandas as pd\n",
    "\n",
    "api_key = \"9d74d51400654e10801202626231802\"  \n",
    "url = \"http://api.worldweatheronline.com/premium/v1/past-weather.ashx\"\n",
    "\n",
    "\n",
    "params = {\n",
    "    \"key\": api_key,\n",
    "    \"q\": \"Chicago City\",\n",
    "    \"format\": \"json\",\n",
    "    \"date\": \"2019-01-01\",\n",
    "    \"enddate\": \"2019-1-15\",\n",
    "}\n",
    "\n",
    "\n",
    "response = requests.get(url, params=params)\n",
    "data = json.loads(response.text)"
   ]
  },
  {
   "cell_type": "code",
   "execution_count": 8,
   "metadata": {},
   "outputs": [
    {
     "data": {
      "text/plain": [
       "{'data': {'request': [{'type': 'City', 'query': 'Chicago, Mexico'}],\n",
       "  'weather': [{'date': '2019-01-01',\n",
       "    'astronomy': [{'sunrise': '06:44 AM',\n",
       "      'sunset': '05:51 PM',\n",
       "      'moonrise': '02:51 AM',\n",
       "      'moonset': '02:39 PM',\n",
       "      'moon_phase': 'Waning Crescent',\n",
       "      'moon_illumination': '26'}],\n",
       "    'maxtempC': '29',\n",
       "    'maxtempF': '83',\n",
       "    'mintempC': '20',\n",
       "    'mintempF': '67',\n",
       "    'avgtempC': '24',\n",
       "    'avgtempF': '75',\n",
       "    'totalSnow_cm': '0.0',\n",
       "    'sunHour': '8.7',\n",
       "    'uvIndex': '6',\n",
       "    'hourly': [{'time': '0',\n",
       "      'tempC': '23',\n",
       "      'tempF': '73',\n",
       "      'windspeedMiles': '4',\n",
       "      'windspeedKmph': '6',\n",
       "      'winddirDegree': '138',\n",
       "      'winddir16Point': 'SE',\n",
       "      'weatherCode': '113',\n",
       "      'weatherIconUrl': [{'value': 'https://cdn.worldweatheronline.com/images/wsymbols01_png_64/wsymbol_0008_clear_sky_night.png'}],\n",
       "      'weatherDesc': [{'value': 'Clear'}],\n",
       "      'precipMM': '0.0',\n",
       "      'precipInches': '0.0',\n",
       "      'humidity': '94',\n",
       "      'visibility': '2',\n",
       "      'visibilityMiles': '1',\n",
       "      'pressure': '1013',\n",
       "      'pressureInches': '30',\n",
       "      'cloudcover': '11',\n",
       "      'HeatIndexC': '25',\n",
       "      'HeatIndexF': '77',\n",
       "      'DewPointC': '22',\n",
       "      'DewPointF': '71',\n",
       "      'WindChillC': '23',\n",
       "      'WindChillF': '73',\n",
       "      'WindGustMiles': '6',\n",
       "      'WindGustKmph': '10',\n",
       "      'FeelsLikeC': '25',\n",
       "      'FeelsLikeF': '77',\n",
       "      'uvIndex': '1'},\n",
       "     {'time': '300',\n",
       "      'tempC': '21',\n",
       "      'tempF': '70',\n",
       "      'windspeedMiles': '3',\n",
       "      'windspeedKmph': '5',\n",
       "      'winddirDegree': '61',\n",
       "      'winddir16Point': 'ENE',\n",
       "      'weatherCode': '113',\n",
       "      'weatherIconUrl': [{'value': 'https://cdn.worldweatheronline.com/images/wsymbols01_png_64/wsymbol_0008_clear_sky_night.png'}],\n",
       "      'weatherDesc': [{'value': 'Clear'}],\n",
       "      'precipMM': '0.0',\n",
       "      'precipInches': '0.0',\n",
       "      'humidity': '95',\n",
       "      'visibility': '2',\n",
       "      'visibilityMiles': '1',\n",
       "      'pressure': '1012',\n",
       "      'pressureInches': '30',\n",
       "      'cloudcover': '14',\n",
       "      'HeatIndexC': '21',\n",
       "      'HeatIndexF': '70',\n",
       "      'DewPointC': '20',\n",
       "      'DewPointF': '68',\n",
       "      'WindChillC': '21',\n",
       "      'WindChillF': '70',\n",
       "      'WindGustMiles': '9',\n",
       "      'WindGustKmph': '14',\n",
       "      'FeelsLikeC': '21',\n",
       "      'FeelsLikeF': '70',\n",
       "      'uvIndex': '1'},\n",
       "     {'time': '600',\n",
       "      'tempC': '20',\n",
       "      'tempF': '67',\n",
       "      'windspeedMiles': '1',\n",
       "      'windspeedKmph': '2',\n",
       "      'winddirDegree': '75',\n",
       "      'winddir16Point': 'ENE',\n",
       "      'weatherCode': '116',\n",
       "      'weatherIconUrl': [{'value': 'https://cdn.worldweatheronline.com/images/wsymbols01_png_64/wsymbol_0002_sunny_intervals.png'}],\n",
       "      'weatherDesc': [{'value': 'Partly cloudy'}],\n",
       "      'precipMM': '0.0',\n",
       "      'precipInches': '0.0',\n",
       "      'humidity': '96',\n",
       "      'visibility': '2',\n",
       "      'visibilityMiles': '1',\n",
       "      'pressure': '1013',\n",
       "      'pressureInches': '30',\n",
       "      'cloudcover': '29',\n",
       "      'HeatIndexC': '20',\n",
       "      'HeatIndexF': '67',\n",
       "      'DewPointC': '19',\n",
       "      'DewPointF': '66',\n",
       "      'WindChillC': '20',\n",
       "      'WindChillF': '67',\n",
       "      'WindGustMiles': '7',\n",
       "      'WindGustKmph': '11',\n",
       "      'FeelsLikeC': '20',\n",
       "      'FeelsLikeF': '67',\n",
       "      'uvIndex': '5'},\n",
       "     {'time': '900',\n",
       "      'tempC': '23',\n",
       "      'tempF': '73',\n",
       "      'windspeedMiles': '4',\n",
       "      'windspeedKmph': '7',\n",
       "      'winddirDegree': '89',\n",
       "      'winddir16Point': 'E',\n",
       "      'weatherCode': '113',\n",
       "      'weatherIconUrl': [{'value': 'https://cdn.worldweatheronline.com/images/wsymbols01_png_64/wsymbol_0001_sunny.png'}],\n",
       "      'weatherDesc': [{'value': 'Sunny'}],\n",
       "      'precipMM': '0.0',\n",
       "      'precipInches': '0.0',\n",
       "      'humidity': '88',\n",
       "      'visibility': '10',\n",
       "      'visibilityMiles': '6',\n",
       "      'pressure': '1013',\n",
       "      'pressureInches': '30',\n",
       "      'cloudcover': '24',\n",
       "      'HeatIndexC': '25',\n",
       "      'HeatIndexF': '77',\n",
       "      'DewPointC': '21',\n",
       "      'DewPointF': '69',\n",
       "      'WindChillC': '23',\n",
       "      'WindChillF': '73',\n",
       "      'WindGustMiles': '9',\n",
       "      'WindGustKmph': '14',\n",
       "      'FeelsLikeC': '25',\n",
       "      'FeelsLikeF': '77',\n",
       "      'uvIndex': '6'},\n",
       "     {'time': '1200',\n",
       "      'tempC': '27',\n",
       "      'tempF': '80',\n",
       "      'windspeedMiles': '6',\n",
       "      'windspeedKmph': '9',\n",
       "      'winddirDegree': '108',\n",
       "      'winddir16Point': 'ESE',\n",
       "      'weatherCode': '116',\n",
       "      'weatherIconUrl': [{'value': 'https://cdn.worldweatheronline.com/images/wsymbols01_png_64/wsymbol_0002_sunny_intervals.png'}],\n",
       "      'weatherDesc': [{'value': 'Partly cloudy'}],\n",
       "      'precipMM': '0.0',\n",
       "      'precipInches': '0.0',\n",
       "      'humidity': '78',\n",
       "      'visibility': '10',\n",
       "      'visibilityMiles': '6',\n",
       "      'pressure': '1012',\n",
       "      'pressureInches': '30',\n",
       "      'cloudcover': '33',\n",
       "      'HeatIndexC': '29',\n",
       "      'HeatIndexF': '84',\n",
       "      'DewPointC': '21',\n",
       "      'DewPointF': '70',\n",
       "      'WindChillC': '27',\n",
       "      'WindChillF': '80',\n",
       "      'WindGustMiles': '12',\n",
       "      'WindGustKmph': '19',\n",
       "      'FeelsLikeC': '29',\n",
       "      'FeelsLikeF': '84',\n",
       "      'uvIndex': '7'},\n",
       "     {'time': '1500',\n",
       "      'tempC': '29',\n",
       "      'tempF': '83',\n",
       "      'windspeedMiles': '7',\n",
       "      'windspeedKmph': '11',\n",
       "      'winddirDegree': '127',\n",
       "      'winddir16Point': 'SE',\n",
       "      'weatherCode': '116',\n",
       "      'weatherIconUrl': [{'value': 'https://cdn.worldweatheronline.com/images/wsymbols01_png_64/wsymbol_0002_sunny_intervals.png'}],\n",
       "      'weatherDesc': [{'value': 'Partly cloudy'}],\n",
       "      'precipMM': '0.0',\n",
       "      'precipInches': '0.0',\n",
       "      'humidity': '69',\n",
       "      'visibility': '10',\n",
       "      'visibilityMiles': '6',\n",
       "      'pressure': '1011',\n",
       "      'pressureInches': '30',\n",
       "      'cloudcover': '43',\n",
       "      'HeatIndexC': '32',\n",
       "      'HeatIndexF': '89',\n",
       "      'DewPointC': '22',\n",
       "      'DewPointF': '72',\n",
       "      'WindChillC': '29',\n",
       "      'WindChillF': '83',\n",
       "      'WindGustMiles': '11',\n",
       "      'WindGustKmph': '17',\n",
       "      'FeelsLikeC': '32',\n",
       "      'FeelsLikeF': '89',\n",
       "      'uvIndex': '7'},\n",
       "     {'time': '1800',\n",
       "      'tempC': '25',\n",
       "      'tempF': '78',\n",
       "      'windspeedMiles': '6',\n",
       "      'windspeedKmph': '9',\n",
       "      'winddirDegree': '204',\n",
       "      'winddir16Point': 'SSW',\n",
       "      'weatherCode': '113',\n",
       "      'weatherIconUrl': [{'value': 'https://cdn.worldweatheronline.com/images/wsymbols01_png_64/wsymbol_0008_clear_sky_night.png'}],\n",
       "      'weatherDesc': [{'value': 'Clear'}],\n",
       "      'precipMM': '0.0',\n",
       "      'precipInches': '0.0',\n",
       "      'humidity': '85',\n",
       "      'visibility': '9',\n",
       "      'visibilityMiles': '5',\n",
       "      'pressure': '1012',\n",
       "      'pressureInches': '30',\n",
       "      'cloudcover': '23',\n",
       "      'HeatIndexC': '28',\n",
       "      'HeatIndexF': '82',\n",
       "      'DewPointC': '23',\n",
       "      'DewPointF': '73',\n",
       "      'WindChillC': '25',\n",
       "      'WindChillF': '78',\n",
       "      'WindGustMiles': '7',\n",
       "      'WindGustKmph': '11',\n",
       "      'FeelsLikeC': '28',\n",
       "      'FeelsLikeF': '82',\n",
       "      'uvIndex': '1'},\n",
       "     {'time': '2100',\n",
       "      'tempC': '23',\n",
       "      'tempF': '74',\n",
       "      'windspeedMiles': '4',\n",
       "      'windspeedKmph': '7',\n",
       "      'winddirDegree': '104',\n",
       "      'winddir16Point': 'ESE',\n",
       "      'weatherCode': '116',\n",
       "      'weatherIconUrl': [{'value': 'https://cdn.worldweatheronline.com/images/wsymbols01_png_64/wsymbol_0004_black_low_cloud.png'}],\n",
       "      'weatherDesc': [{'value': 'Partly cloudy'}],\n",
       "      'precipMM': '0.0',\n",
       "      'precipInches': '0.0',\n",
       "      'humidity': '90',\n",
       "      'visibility': '9',\n",
       "      'visibilityMiles': '5',\n",
       "      'pressure': '1013',\n",
       "      'pressureInches': '30',\n",
       "      'cloudcover': '36',\n",
       "      'HeatIndexC': '25',\n",
       "      'HeatIndexF': '78',\n",
       "      'DewPointC': '22',\n",
       "      'DewPointF': '71',\n",
       "      'WindChillC': '23',\n",
       "      'WindChillF': '74',\n",
       "      'WindGustMiles': '8',\n",
       "      'WindGustKmph': '13',\n",
       "      'FeelsLikeC': '25',\n",
       "      'FeelsLikeF': '78',\n",
       "      'uvIndex': '1'}]},\n",
       "   {'date': '2019-01-02',\n",
       "    'astronomy': [{'sunrise': '06:44 AM',\n",
       "      'sunset': '05:52 PM',\n",
       "      'moonrise': '03:45 AM',\n",
       "      'moonset': '03:24 PM',\n",
       "      'moon_phase': 'Waning Crescent',\n",
       "      'moon_illumination': '19'}],\n",
       "    'maxtempC': '28',\n",
       "    'maxtempF': '83',\n",
       "    'mintempC': '22',\n",
       "    'mintempF': '72',\n",
       "    'avgtempC': '25',\n",
       "    'avgtempF': '76',\n",
       "    'totalSnow_cm': '0.0',\n",
       "    'sunHour': '7.2',\n",
       "    'uvIndex': '6',\n",
       "    'hourly': [{'time': '0',\n",
       "      'tempC': '22',\n",
       "      'tempF': '72',\n",
       "      'windspeedMiles': '7',\n",
       "      'windspeedKmph': '11',\n",
       "      'winddirDegree': '68',\n",
       "      'winddir16Point': 'ENE',\n",
       "      'weatherCode': '113',\n",
       "      'weatherIconUrl': [{'value': 'https://cdn.worldweatheronline.com/images/wsymbols01_png_64/wsymbol_0008_clear_sky_night.png'}],\n",
       "      'weatherDesc': [{'value': 'Clear'}],\n",
       "      'precipMM': '0.0',\n",
       "      'precipInches': '0.0',\n",
       "      'humidity': '93',\n",
       "      'visibility': '9',\n",
       "      'visibilityMiles': '5',\n",
       "      'pressure': '1013',\n",
       "      'pressureInches': '30',\n",
       "      'cloudcover': '13',\n",
       "      'HeatIndexC': '25',\n",
       "      'HeatIndexF': '76',\n",
       "      'DewPointC': '21',\n",
       "      'DewPointF': '70',\n",
       "      'WindChillC': '22',\n",
       "      'WindChillF': '72',\n",
       "      'WindGustMiles': '11',\n",
       "      'WindGustKmph': '18',\n",
       "      'FeelsLikeC': '25',\n",
       "      'FeelsLikeF': '76',\n",
       "      'uvIndex': '1'},\n",
       "     {'time': '300',\n",
       "      'tempC': '24',\n",
       "      'tempF': '74',\n",
       "      'windspeedMiles': '9',\n",
       "      'windspeedKmph': '14',\n",
       "      'winddirDegree': '90',\n",
       "      'winddir16Point': 'E',\n",
       "      'weatherCode': '116',\n",
       "      'weatherIconUrl': [{'value': 'https://cdn.worldweatheronline.com/images/wsymbols01_png_64/wsymbol_0004_black_low_cloud.png'}],\n",
       "      'weatherDesc': [{'value': 'Partly cloudy'}],\n",
       "      'precipMM': '0.0',\n",
       "      'precipInches': '0.0',\n",
       "      'humidity': '81',\n",
       "      'visibility': '4',\n",
       "      'visibilityMiles': '2',\n",
       "      'pressure': '1012',\n",
       "      'pressureInches': '30',\n",
       "      'cloudcover': '41',\n",
       "      'HeatIndexC': '25',\n",
       "      'HeatIndexF': '78',\n",
       "      'DewPointC': '20',\n",
       "      'DewPointF': '69',\n",
       "      'WindChillC': '24',\n",
       "      'WindChillF': '74',\n",
       "      'WindGustMiles': '13',\n",
       "      'WindGustKmph': '21',\n",
       "      'FeelsLikeC': '25',\n",
       "      'FeelsLikeF': '78',\n",
       "      'uvIndex': '1'},\n",
       "     {'time': '600',\n",
       "      'tempC': '23',\n",
       "      'tempF': '73',\n",
       "      'windspeedMiles': '10',\n",
       "      'windspeedKmph': '15',\n",
       "      'winddirDegree': '94',\n",
       "      'winddir16Point': 'E',\n",
       "      'weatherCode': '116',\n",
       "      'weatherIconUrl': [{'value': 'https://cdn.worldweatheronline.com/images/wsymbols01_png_64/wsymbol_0002_sunny_intervals.png'}],\n",
       "      'weatherDesc': [{'value': 'Partly cloudy'}],\n",
       "      'precipMM': '0.0',\n",
       "      'precipInches': '0.0',\n",
       "      'humidity': '85',\n",
       "      'visibility': '2',\n",
       "      'visibilityMiles': '1',\n",
       "      'pressure': '1013',\n",
       "      'pressureInches': '30',\n",
       "      'cloudcover': '33',\n",
       "      'HeatIndexC': '25',\n",
       "      'HeatIndexF': '77',\n",
       "      'DewPointC': '20',\n",
       "      'DewPointF': '68',\n",
       "      'WindChillC': '23',\n",
       "      'WindChillF': '73',\n",
       "      'WindGustMiles': '16',\n",
       "      'WindGustKmph': '25',\n",
       "      'FeelsLikeC': '25',\n",
       "      'FeelsLikeF': '77',\n",
       "      'uvIndex': '6'},\n",
       "     {'time': '900',\n",
       "      'tempC': '24',\n",
       "      'tempF': '74',\n",
       "      'windspeedMiles': '12',\n",
       "      'windspeedKmph': '19',\n",
       "      'winddirDegree': '103',\n",
       "      'winddir16Point': 'ESE',\n",
       "      'weatherCode': '119',\n",
       "      'weatherIconUrl': [{'value': 'https://cdn.worldweatheronline.com/images/wsymbols01_png_64/wsymbol_0003_white_cloud.png'}],\n",
       "      'weatherDesc': [{'value': 'Cloudy'}],\n",
       "      'precipMM': '0.0',\n",
       "      'precipInches': '0.0',\n",
       "      'humidity': '88',\n",
       "      'visibility': '10',\n",
       "      'visibilityMiles': '6',\n",
       "      'pressure': '1015',\n",
       "      'pressureInches': '30',\n",
       "      'cloudcover': '78',\n",
       "      'HeatIndexC': '26',\n",
       "      'HeatIndexF': '78',\n",
       "      'DewPointC': '22',\n",
       "      'DewPointF': '71',\n",
       "      'WindChillC': '24',\n",
       "      'WindChillF': '74',\n",
       "      'WindGustMiles': '16',\n",
       "      'WindGustKmph': '26',\n",
       "      'FeelsLikeC': '26',\n",
       "      'FeelsLikeF': '78',\n",
       "      'uvIndex': '5'},\n",
       "     {'time': '1200',\n",
       "      'tempC': '27',\n",
       "      'tempF': '80',\n",
       "      'windspeedMiles': '10',\n",
       "      'windspeedKmph': '15',\n",
       "      'winddirDegree': '116',\n",
       "      'winddir16Point': 'ESE',\n",
       "      'weatherCode': '116',\n",
       "      'weatherIconUrl': [{'value': 'https://cdn.worldweatheronline.com/images/wsymbols01_png_64/wsymbol_0002_sunny_intervals.png'}],\n",
       "      'weatherDesc': [{'value': 'Partly cloudy'}],\n",
       "      'precipMM': '0.0',\n",
       "      'precipInches': '0.0',\n",
       "      'humidity': '81',\n",
       "      'visibility': '10',\n",
       "      'visibilityMiles': '5',\n",
       "      'pressure': '1013',\n",
       "      'pressureInches': '30',\n",
       "      'cloudcover': '54',\n",
       "      'HeatIndexC': '29',\n",
       "      'HeatIndexF': '85',\n",
       "      'DewPointC': '22',\n",
       "      'DewPointF': '71',\n",
       "      'WindChillC': '27',\n",
       "      'WindChillF': '80',\n",
       "      'WindGustMiles': '18',\n",
       "      'WindGustKmph': '29',\n",
       "      'FeelsLikeC': '29',\n",
       "      'FeelsLikeF': '85',\n",
       "      'uvIndex': '7'},\n",
       "     {'time': '1500',\n",
       "      'tempC': '28',\n",
       "      'tempF': '83',\n",
       "      'windspeedMiles': '7',\n",
       "      'windspeedKmph': '12',\n",
       "      'winddirDegree': '128',\n",
       "      'winddir16Point': 'SE',\n",
       "      'weatherCode': '116',\n",
       "      'weatherIconUrl': [{'value': 'https://cdn.worldweatheronline.com/images/wsymbols01_png_64/wsymbol_0002_sunny_intervals.png'}],\n",
       "      'weatherDesc': [{'value': 'Partly cloudy'}],\n",
       "      'precipMM': '0.0',\n",
       "      'precipInches': '0.0',\n",
       "      'humidity': '75',\n",
       "      'visibility': '9',\n",
       "      'visibilityMiles': '5',\n",
       "      'pressure': '1011',\n",
       "      'pressureInches': '30',\n",
       "      'cloudcover': '31',\n",
       "      'HeatIndexC': '32',\n",
       "      'HeatIndexF': '89',\n",
       "      'DewPointC': '23',\n",
       "      'DewPointF': '74',\n",
       "      'WindChillC': '28',\n",
       "      'WindChillF': '83',\n",
       "      'WindGustMiles': '13',\n",
       "      'WindGustKmph': '21',\n",
       "      'FeelsLikeC': '32',\n",
       "      'FeelsLikeF': '89',\n",
       "      'uvIndex': '7'},\n",
       "     {'time': '1800',\n",
       "      'tempC': '26',\n",
       "      'tempF': '79',\n",
       "      'windspeedMiles': '5',\n",
       "      'windspeedKmph': '8',\n",
       "      'winddirDegree': '164',\n",
       "      'winddir16Point': 'SSE',\n",
       "      'weatherCode': '113',\n",
       "      'weatherIconUrl': [{'value': 'https://cdn.worldweatheronline.com/images/wsymbols01_png_64/wsymbol_0008_clear_sky_night.png'}],\n",
       "      'weatherDesc': [{'value': 'Clear'}],\n",
       "      'precipMM': '0.0',\n",
       "      'precipInches': '0.0',\n",
       "      'humidity': '86',\n",
       "      'visibility': '7',\n",
       "      'visibilityMiles': '4',\n",
       "      'pressure': '1011',\n",
       "      'pressureInches': '30',\n",
       "      'cloudcover': '16',\n",
       "      'HeatIndexC': '29',\n",
       "      'HeatIndexF': '84',\n",
       "      'DewPointC': '22',\n",
       "      'DewPointF': '72',\n",
       "      'WindChillC': '26',\n",
       "      'WindChillF': '79',\n",
       "      'WindGustMiles': '7',\n",
       "      'WindGustKmph': '11',\n",
       "      'FeelsLikeC': '29',\n",
       "      'FeelsLikeF': '84',\n",
       "      'uvIndex': '1'},\n",
       "     {'time': '2100',\n",
       "      'tempC': '24',\n",
       "      'tempF': '75',\n",
       "      'windspeedMiles': '5',\n",
       "      'windspeedKmph': '8',\n",
       "      'winddirDegree': '128',\n",
       "      'winddir16Point': 'SE',\n",
       "      'weatherCode': '113',\n",
       "      'weatherIconUrl': [{'value': 'https://cdn.worldweatheronline.com/images/wsymbols01_png_64/wsymbol_0008_clear_sky_night.png'}],\n",
       "      'weatherDesc': [{'value': 'Clear'}],\n",
       "      'precipMM': '0.0',\n",
       "      'precipInches': '0.0',\n",
       "      'humidity': '91',\n",
       "      'visibility': '10',\n",
       "      'visibilityMiles': '6',\n",
       "      'pressure': '1012',\n",
       "      'pressureInches': '30',\n",
       "      'cloudcover': '8',\n",
       "      'HeatIndexC': '26',\n",
       "      'HeatIndexF': '79',\n",
       "      'DewPointC': '22',\n",
       "      'DewPointF': '72',\n",
       "      'WindChillC': '24',\n",
       "      'WindChillF': '75',\n",
       "      'WindGustMiles': '6',\n",
       "      'WindGustKmph': '10',\n",
       "      'FeelsLikeC': '26',\n",
       "      'FeelsLikeF': '79',\n",
       "      'uvIndex': '1'}]},\n",
       "   {'date': '2019-01-03',\n",
       "    'astronomy': [{'sunrise': '06:45 AM',\n",
       "      'sunset': '05:52 PM',\n",
       "      'moonrise': '04:38 AM',\n",
       "      'moonset': '04:09 PM',\n",
       "      'moon_phase': 'Waning Crescent',\n",
       "      'moon_illumination': '11'}],\n",
       "    'maxtempC': '27',\n",
       "    'maxtempF': '81',\n",
       "    'mintempC': '21',\n",
       "    'mintempF': '69',\n",
       "    'avgtempC': '24',\n",
       "    'avgtempF': '75',\n",
       "    'totalSnow_cm': '0.0',\n",
       "    'sunHour': '4.2',\n",
       "    'uvIndex': '6',\n",
       "    'hourly': [{'time': '0',\n",
       "      'tempC': '23',\n",
       "      'tempF': '73',\n",
       "      'windspeedMiles': '5',\n",
       "      'windspeedKmph': '9',\n",
       "      'winddirDegree': '87',\n",
       "      'winddir16Point': 'E',\n",
       "      'weatherCode': '113',\n",
       "      'weatherIconUrl': [{'value': 'https://cdn.worldweatheronline.com/images/wsymbols01_png_64/wsymbol_0008_clear_sky_night.png'}],\n",
       "      'weatherDesc': [{'value': 'Clear'}],\n",
       "      'precipMM': '0.0',\n",
       "      'precipInches': '0.0',\n",
       "      'humidity': '93',\n",
       "      'visibility': '10',\n",
       "      'visibilityMiles': '6',\n",
       "      'pressure': '1012',\n",
       "      'pressureInches': '30',\n",
       "      'cloudcover': '10',\n",
       "      'HeatIndexC': '25',\n",
       "      'HeatIndexF': '78',\n",
       "      'DewPointC': '22',\n",
       "      'DewPointF': '71',\n",
       "      'WindChillC': '23',\n",
       "      'WindChillF': '73',\n",
       "      'WindGustMiles': '6',\n",
       "      'WindGustKmph': '10',\n",
       "      'FeelsLikeC': '25',\n",
       "      'FeelsLikeF': '78',\n",
       "      'uvIndex': '1'},\n",
       "     {'time': '300',\n",
       "      'tempC': '22',\n",
       "      'tempF': '71',\n",
       "      'windspeedMiles': '2',\n",
       "      'windspeedKmph': '3',\n",
       "      'winddirDegree': '261',\n",
       "      'winddir16Point': 'W',\n",
       "      'weatherCode': '113',\n",
       "      'weatherIconUrl': [{'value': 'https://cdn.worldweatheronline.com/images/wsymbols01_png_64/wsymbol_0008_clear_sky_night.png'}],\n",
       "      'weatherDesc': [{'value': 'Clear'}],\n",
       "      'precipMM': '0.0',\n",
       "      'precipInches': '0.0',\n",
       "      'humidity': '94',\n",
       "      'visibility': '2',\n",
       "      'visibilityMiles': '1',\n",
       "      'pressure': '1012',\n",
       "      'pressureInches': '30',\n",
       "      'cloudcover': '17',\n",
       "      'HeatIndexC': '24',\n",
       "      'HeatIndexF': '76',\n",
       "      'DewPointC': '21',\n",
       "      'DewPointF': '70',\n",
       "      'WindChillC': '22',\n",
       "      'WindChillF': '71',\n",
       "      'WindGustMiles': '3',\n",
       "      'WindGustKmph': '5',\n",
       "      'FeelsLikeC': '22',\n",
       "      'FeelsLikeF': '71',\n",
       "      'uvIndex': '1'},\n",
       "     {'time': '600',\n",
       "      'tempC': '21',\n",
       "      'tempF': '69',\n",
       "      'windspeedMiles': '2',\n",
       "      'windspeedKmph': '4',\n",
       "      'winddirDegree': '206',\n",
       "      'winddir16Point': 'SSW',\n",
       "      'weatherCode': '116',\n",
       "      'weatherIconUrl': [{'value': 'https://cdn.worldweatheronline.com/images/wsymbols01_png_64/wsymbol_0002_sunny_intervals.png'}],\n",
       "      'weatherDesc': [{'value': 'Partly cloudy'}],\n",
       "      'precipMM': '0.0',\n",
       "      'precipInches': '0.0',\n",
       "      'humidity': '96',\n",
       "      'visibility': '2',\n",
       "      'visibilityMiles': '1',\n",
       "      'pressure': '1013',\n",
       "      'pressureInches': '30',\n",
       "      'cloudcover': '41',\n",
       "      'HeatIndexC': '21',\n",
       "      'HeatIndexF': '69',\n",
       "      'DewPointC': '20',\n",
       "      'DewPointF': '68',\n",
       "      'WindChillC': '21',\n",
       "      'WindChillF': '69',\n",
       "      'WindGustMiles': '3',\n",
       "      'WindGustKmph': '5',\n",
       "      'FeelsLikeC': '21',\n",
       "      'FeelsLikeF': '69',\n",
       "      'uvIndex': '6'},\n",
       "     {'time': '900',\n",
       "      'tempC': '24',\n",
       "      'tempF': '74',\n",
       "      'windspeedMiles': '4',\n",
       "      'windspeedKmph': '6',\n",
       "      'winddirDegree': '169',\n",
       "      'winddir16Point': 'S',\n",
       "      'weatherCode': '119',\n",
       "      'weatherIconUrl': [{'value': 'https://cdn.worldweatheronline.com/images/wsymbols01_png_64/wsymbol_0003_white_cloud.png'}],\n",
       "      'weatherDesc': [{'value': 'Cloudy'}],\n",
       "      'precipMM': '0.0',\n",
       "      'precipInches': '0.0',\n",
       "      'humidity': '91',\n",
       "      'visibility': '10',\n",
       "      'visibilityMiles': '6',\n",
       "      'pressure': '1014',\n",
       "      'pressureInches': '30',\n",
       "      'cloudcover': '76',\n",
       "      'HeatIndexC': '26',\n",
       "      'HeatIndexF': '79',\n",
       "      'DewPointC': '22',\n",
       "      'DewPointF': '71',\n",
       "      'WindChillC': '24',\n",
       "      'WindChillF': '74',\n",
       "      'WindGustMiles': '7',\n",
       "      'WindGustKmph': '11',\n",
       "      'FeelsLikeC': '26',\n",
       "      'FeelsLikeF': '79',\n",
       "      'uvIndex': '5'},\n",
       "     {'time': '1200',\n",
       "      'tempC': '26',\n",
       "      'tempF': '80',\n",
       "      'windspeedMiles': '4',\n",
       "      'windspeedKmph': '6',\n",
       "      'winddirDegree': '221',\n",
       "      'winddir16Point': 'SW',\n",
       "      'weatherCode': '119',\n",
       "      'weatherIconUrl': [{'value': 'https://cdn.worldweatheronline.com/images/wsymbols01_png_64/wsymbol_0003_white_cloud.png'}],\n",
       "      'weatherDesc': [{'value': 'Cloudy'}],\n",
       "      'precipMM': '0.0',\n",
       "      'precipInches': '0.0',\n",
       "      'humidity': '85',\n",
       "      'visibility': '10',\n",
       "      'visibilityMiles': '6',\n",
       "      'pressure': '1012',\n",
       "      'pressureInches': '30',\n",
       "      'cloudcover': '81',\n",
       "      'HeatIndexC': '29',\n",
       "      'HeatIndexF': '84',\n",
       "      'DewPointC': '22',\n",
       "      'DewPointF': '71',\n",
       "      'WindChillC': '26',\n",
       "      'WindChillF': '80',\n",
       "      'WindGustMiles': '8',\n",
       "      'WindGustKmph': '13',\n",
       "      'FeelsLikeC': '29',\n",
       "      'FeelsLikeF': '84',\n",
       "      'uvIndex': '6'},\n",
       "     {'time': '1500',\n",
       "      'tempC': '27',\n",
       "      'tempF': '81',\n",
       "      'windspeedMiles': '4',\n",
       "      'windspeedKmph': '6',\n",
       "      'winddirDegree': '273',\n",
       "      'winddir16Point': 'W',\n",
       "      'weatherCode': '122',\n",
       "      'weatherIconUrl': [{'value': 'https://cdn.worldweatheronline.com/images/wsymbols01_png_64/wsymbol_0004_black_low_cloud.png'}],\n",
       "      'weatherDesc': [{'value': 'Overcast'}],\n",
       "      'precipMM': '0.0',\n",
       "      'precipInches': '0.0',\n",
       "      'humidity': '80',\n",
       "      'visibility': '10',\n",
       "      'visibilityMiles': '6',\n",
       "      'pressure': '1011',\n",
       "      'pressureInches': '30',\n",
       "      'cloudcover': '86',\n",
       "      'HeatIndexC': '30',\n",
       "      'HeatIndexF': '87',\n",
       "      'DewPointC': '23',\n",
       "      'DewPointF': '74',\n",
       "      'WindChillC': '27',\n",
       "      'WindChillF': '81',\n",
       "      'WindGustMiles': '6',\n",
       "      'WindGustKmph': '10',\n",
       "      'FeelsLikeC': '30',\n",
       "      'FeelsLikeF': '87',\n",
       "      'uvIndex': '6'},\n",
       "     {'time': '1800',\n",
       "      'tempC': '25',\n",
       "      'tempF': '78',\n",
       "      'windspeedMiles': '6',\n",
       "      'windspeedKmph': '10',\n",
       "      'winddirDegree': '316',\n",
       "      'winddir16Point': 'NW',\n",
       "      'weatherCode': '119',\n",
       "      'weatherIconUrl': [{'value': 'https://cdn.worldweatheronline.com/images/wsymbols01_png_64/wsymbol_0003_white_cloud.png'}],\n",
       "      'weatherDesc': [{'value': 'Cloudy'}],\n",
       "      'precipMM': '0.0',\n",
       "      'precipInches': '0.0',\n",
       "      'humidity': '84',\n",
       "      'visibility': '10',\n",
       "      'visibilityMiles': '6',\n",
       "      'pressure': '1012',\n",
       "      'pressureInches': '30',\n",
       "      'cloudcover': '76',\n",
       "      'HeatIndexC': '28',\n",
       "      'HeatIndexF': '82',\n",
       "      'DewPointC': '22',\n",
       "      'DewPointF': '72',\n",
       "      'WindChillC': '25',\n",
       "      'WindChillF': '78',\n",
       "      'WindGustMiles': '6',\n",
       "      'WindGustKmph': '10',\n",
       "      'FeelsLikeC': '28',\n",
       "      'FeelsLikeF': '82',\n",
       "      'uvIndex': '1'},\n",
       "     {'time': '2100',\n",
       "      'tempC': '23',\n",
       "      'tempF': '73',\n",
       "      'windspeedMiles': '9',\n",
       "      'windspeedKmph': '14',\n",
       "      'winddirDegree': '332',\n",
       "      'winddir16Point': 'NNW',\n",
       "      'weatherCode': '116',\n",
       "      'weatherIconUrl': [{'value': 'https://cdn.worldweatheronline.com/images/wsymbols01_png_64/wsymbol_0004_black_low_cloud.png'}],\n",
       "      'weatherDesc': [{'value': 'Partly cloudy'}],\n",
       "      'precipMM': '0.0',\n",
       "      'precipInches': '0.0',\n",
       "      'humidity': '92',\n",
       "      'visibility': '10',\n",
       "      'visibilityMiles': '6',\n",
       "      'pressure': '1014',\n",
       "      'pressureInches': '30',\n",
       "      'cloudcover': '36',\n",
       "      'HeatIndexC': '25',\n",
       "      'HeatIndexF': '78',\n",
       "      'DewPointC': '22',\n",
       "      'DewPointF': '71',\n",
       "      'WindChillC': '23',\n",
       "      'WindChillF': '73',\n",
       "      'WindGustMiles': '10',\n",
       "      'WindGustKmph': '15',\n",
       "      'FeelsLikeC': '25',\n",
       "      'FeelsLikeF': '78',\n",
       "      'uvIndex': '1'}]},\n",
       "   {'date': '2019-01-04',\n",
       "    'astronomy': [{'sunrise': '06:45 AM',\n",
       "      'sunset': '05:53 PM',\n",
       "      'moonrise': '05:31 AM',\n",
       "      'moonset': '04:57 PM',\n",
       "      'moon_phase': 'Waning Crescent',\n",
       "      'moon_illumination': '4'}],\n",
       "    'maxtempC': '26',\n",
       "    'maxtempF': '79',\n",
       "    'mintempC': '22',\n",
       "    'mintempF': '71',\n",
       "    'avgtempC': '23',\n",
       "    'avgtempF': '74',\n",
       "    'totalSnow_cm': '0.0',\n",
       "    'sunHour': '7.2',\n",
       "    'uvIndex': '6',\n",
       "    'hourly': [{'time': '0',\n",
       "      'tempC': '22',\n",
       "      'tempF': '72',\n",
       "      'windspeedMiles': '8',\n",
       "      'windspeedKmph': '13',\n",
       "      'winddirDegree': '311',\n",
       "      'winddir16Point': 'NW',\n",
       "      'weatherCode': '116',\n",
       "      'weatherIconUrl': [{'value': 'https://cdn.worldweatheronline.com/images/wsymbols01_png_64/wsymbol_0004_black_low_cloud.png'}],\n",
       "      'weatherDesc': [{'value': 'Partly cloudy'}],\n",
       "      'precipMM': '0.0',\n",
       "      'precipInches': '0.0',\n",
       "      'humidity': '96',\n",
       "      'visibility': '2',\n",
       "      'visibilityMiles': '1',\n",
       "      'pressure': '1014',\n",
       "      'pressureInches': '30',\n",
       "      'cloudcover': '28',\n",
       "      'HeatIndexC': '25',\n",
       "      'HeatIndexF': '76',\n",
       "      'DewPointC': '21',\n",
       "      'DewPointF': '70',\n",
       "      'WindChillC': '22',\n",
       "      'WindChillF': '72',\n",
       "      'WindGustMiles': '10',\n",
       "      'WindGustKmph': '16',\n",
       "      'FeelsLikeC': '25',\n",
       "      'FeelsLikeF': '76',\n",
       "      'uvIndex': '1'},\n",
       "     {'time': '300',\n",
       "      'tempC': '22',\n",
       "      'tempF': '71',\n",
       "      'windspeedMiles': '3',\n",
       "      'windspeedKmph': '5',\n",
       "      'winddirDegree': '281',\n",
       "      'winddir16Point': 'W',\n",
       "      'weatherCode': '116',\n",
       "      'weatherIconUrl': [{'value': 'https://cdn.worldweatheronline.com/images/wsymbols01_png_64/wsymbol_0004_black_low_cloud.png'}],\n",
       "      'weatherDesc': [{'value': 'Partly cloudy'}],\n",
       "      'precipMM': '0.0',\n",
       "      'precipInches': '0.0',\n",
       "      'humidity': '96',\n",
       "      'visibility': '2',\n",
       "      'visibilityMiles': '1',\n",
       "      'pressure': '1014',\n",
       "      'pressureInches': '30',\n",
       "      'cloudcover': '54',\n",
       "      'HeatIndexC': '24',\n",
       "      'HeatIndexF': '76',\n",
       "      'DewPointC': '21',\n",
       "      'DewPointF': '70',\n",
       "      'WindChillC': '22',\n",
       "      'WindChillF': '71',\n",
       "      'WindGustMiles': '8',\n",
       "      'WindGustKmph': '13',\n",
       "      'FeelsLikeC': '22',\n",
       "      'FeelsLikeF': '71',\n",
       "      'uvIndex': '1'},\n",
       "     {'time': '600',\n",
       "      'tempC': '22',\n",
       "      'tempF': '71',\n",
       "      'windspeedMiles': '4',\n",
       "      'windspeedKmph': '7',\n",
       "      'winddirDegree': '276',\n",
       "      'winddir16Point': 'W',\n",
       "      'weatherCode': '116',\n",
       "      'weatherIconUrl': [{'value': 'https://cdn.worldweatheronline.com/images/wsymbols01_png_64/wsymbol_0002_sunny_intervals.png'}],\n",
       "      'weatherDesc': [{'value': 'Partly cloudy'}],\n",
       "      'precipMM': '0.0',\n",
       "      'precipInches': '0.0',\n",
       "      'humidity': '97',\n",
       "      'visibility': '2',\n",
       "      'visibilityMiles': '1',\n",
       "      'pressure': '1015',\n",
       "      'pressureInches': '30',\n",
       "      'cloudcover': '56',\n",
       "      'HeatIndexC': '24',\n",
       "      'HeatIndexF': '76',\n",
       "      'DewPointC': '21',\n",
       "      'DewPointF': '70',\n",
       "      'WindChillC': '22',\n",
       "      'WindChillF': '71',\n",
       "      'WindGustMiles': '9',\n",
       "      'WindGustKmph': '14',\n",
       "      'FeelsLikeC': '22',\n",
       "      'FeelsLikeF': '71',\n",
       "      'uvIndex': '6'},\n",
       "     {'time': '900',\n",
       "      'tempC': '24',\n",
       "      'tempF': '76',\n",
       "      'windspeedMiles': '8',\n",
       "      'windspeedKmph': '13',\n",
       "      'winddirDegree': '289',\n",
       "      'winddir16Point': 'WNW',\n",
       "      'weatherCode': '176',\n",
       "      'weatherIconUrl': [{'value': 'https://cdn.worldweatheronline.com/images/wsymbols01_png_64/wsymbol_0009_light_rain_showers.png'}],\n",
       "      'weatherDesc': [{'value': 'Patchy rain possible'}],\n",
       "      'precipMM': '0.1',\n",
       "      'precipInches': '0.0',\n",
       "      'humidity': '90',\n",
       "      'visibility': '10',\n",
       "      'visibilityMiles': '6',\n",
       "      'pressure': '1016',\n",
       "      'pressureInches': '30',\n",
       "      'cloudcover': '61',\n",
       "      'HeatIndexC': '27',\n",
       "      'HeatIndexF': '80',\n",
       "      'DewPointC': '23',\n",
       "      'DewPointF': '73',\n",
       "      'WindChillC': '24',\n",
       "      'WindChillF': '76',\n",
       "      'WindGustMiles': '9',\n",
       "      'WindGustKmph': '14',\n",
       "      'FeelsLikeC': '27',\n",
       "      'FeelsLikeF': '80',\n",
       "      'uvIndex': '5'},\n",
       "     {'time': '1200',\n",
       "      'tempC': '25',\n",
       "      'tempF': '77',\n",
       "      'windspeedMiles': '10',\n",
       "      'windspeedKmph': '16',\n",
       "      'winddirDegree': '313',\n",
       "      'winddir16Point': 'NW',\n",
       "      'weatherCode': '176',\n",
       "      'weatherIconUrl': [{'value': 'https://cdn.worldweatheronline.com/images/wsymbols01_png_64/wsymbol_0009_light_rain_showers.png'}],\n",
       "      'weatherDesc': [{'value': 'Patchy rain possible'}],\n",
       "      'precipMM': '0.3',\n",
       "      'precipInches': '0.0',\n",
       "      'humidity': '86',\n",
       "      'visibility': '9',\n",
       "      'visibilityMiles': '5',\n",
       "      'pressure': '1016',\n",
       "      'pressureInches': '30',\n",
       "      'cloudcover': '56',\n",
       "      'HeatIndexC': '28',\n",
       "      'HeatIndexF': '82',\n",
       "      'DewPointC': '23',\n",
       "      'DewPointF': '73',\n",
       "      'WindChillC': '25',\n",
       "      'WindChillF': '77',\n",
       "      'WindGustMiles': '10',\n",
       "      'WindGustKmph': '17',\n",
       "      'FeelsLikeC': '28',\n",
       "      'FeelsLikeF': '82',\n",
       "      'uvIndex': '6'},\n",
       "     {'time': '1500',\n",
       "      'tempC': '26',\n",
       "      'tempF': '79',\n",
       "      'windspeedMiles': '12',\n",
       "      'windspeedKmph': '19',\n",
       "      'winddirDegree': '338',\n",
       "      'winddir16Point': 'NNW',\n",
       "      'weatherCode': '116',\n",
       "      'weatherIconUrl': [{'value': 'https://cdn.worldweatheronline.com/images/wsymbols01_png_64/wsymbol_0002_sunny_intervals.png'}],\n",
       "      'weatherDesc': [{'value': 'Partly cloudy'}],\n",
       "      'precipMM': '0.0',\n",
       "      'precipInches': '0.0',\n",
       "      'humidity': '82',\n",
       "      'visibility': '7',\n",
       "      'visibilityMiles': '4',\n",
       "      'pressure': '1015',\n",
       "      'pressureInches': '30',\n",
       "      'cloudcover': '51',\n",
       "      'HeatIndexC': '29',\n",
       "      'HeatIndexF': '85',\n",
       "      'DewPointC': '23',\n",
       "      'DewPointF': '73',\n",
       "      'WindChillC': '26',\n",
       "      'WindChillF': '79',\n",
       "      'WindGustMiles': '14',\n",
       "      'WindGustKmph': '23',\n",
       "      'FeelsLikeC': '29',\n",
       "      'FeelsLikeF': '85',\n",
       "      'uvIndex': '7'},\n",
       "     {'time': '1800',\n",
       "      'tempC': '23',\n",
       "      'tempF': '74',\n",
       "      'windspeedMiles': '9',\n",
       "      'windspeedKmph': '15',\n",
       "      'winddirDegree': '353',\n",
       "      'winddir16Point': 'N',\n",
       "      'weatherCode': '305',\n",
       "      'weatherIconUrl': [{'value': 'https://cdn.worldweatheronline.com/images/wsymbols01_png_64/wsymbol_0026_heavy_rain_showers_night.png'}],\n",
       "      'weatherDesc': [{'value': 'Heavy rain at times'}],\n",
       "      'precipMM': '1.2',\n",
       "      'precipInches': '0.0',\n",
       "      'humidity': '93',\n",
       "      'visibility': '7',\n",
       "      'visibilityMiles': '4',\n",
       "      'pressure': '1016',\n",
       "      'pressureInches': '30',\n",
       "      'cloudcover': '89',\n",
       "      'HeatIndexC': '26',\n",
       "      'HeatIndexF': '78',\n",
       "      'DewPointC': '22',\n",
       "      'DewPointF': '72',\n",
       "      'WindChillC': '23',\n",
       "      'WindChillF': '74',\n",
       "      'WindGustMiles': '12',\n",
       "      'WindGustKmph': '19',\n",
       "      'FeelsLikeC': '26',\n",
       "      'FeelsLikeF': '78',\n",
       "      'uvIndex': '1'},\n",
       "     {'time': '2100',\n",
       "      'tempC': '23',\n",
       "      'tempF': '73',\n",
       "      'windspeedMiles': '4',\n",
       "      'windspeedKmph': '7',\n",
       "      'winddirDegree': '136',\n",
       "      'winddir16Point': 'SE',\n",
       "      'weatherCode': '176',\n",
       "      'weatherIconUrl': [{'value': 'https://cdn.worldweatheronline.com/images/wsymbols01_png_64/wsymbol_0025_light_rain_showers_night.png'}],\n",
       "      'weatherDesc': [{'value': 'Patchy rain possible'}],\n",
       "      'precipMM': '0.1',\n",
       "      'precipInches': '0.0',\n",
       "      'humidity': '96',\n",
       "      'visibility': '10',\n",
       "      'visibilityMiles': '6',\n",
       "      'pressure': '1018',\n",
       "      'pressureInches': '30',\n",
       "      'cloudcover': '77',\n",
       "      'HeatIndexC': '25',\n",
       "      'HeatIndexF': '77',\n",
       "      'DewPointC': '22',\n",
       "      'DewPointF': '71',\n",
       "      'WindChillC': '23',\n",
       "      'WindChillF': '73',\n",
       "      'WindGustMiles': '10',\n",
       "      'WindGustKmph': '15',\n",
       "      'FeelsLikeC': '25',\n",
       "      'FeelsLikeF': '77',\n",
       "      'uvIndex': '1'}]},\n",
       "   {'date': '2019-01-05',\n",
       "    'astronomy': [{'sunrise': '06:45 AM',\n",
       "      'sunset': '05:53 PM',\n",
       "      'moonrise': '06:21 AM',\n",
       "      'moonset': '05:47 PM',\n",
       "      'moon_phase': 'New Moon',\n",
       "      'moon_illumination': '0'}],\n",
       "    'maxtempC': '25',\n",
       "    'maxtempF': '76',\n",
       "    'mintempC': '21',\n",
       "    'mintempF': '70',\n",
       "    'avgtempC': '23',\n",
       "    'avgtempF': '73',\n",
       "    'totalSnow_cm': '0.0',\n",
       "    'sunHour': '4.2',\n",
       "    'uvIndex': '5',\n",
       "    'hourly': [{'time': '0',\n",
       "      'tempC': '22',\n",
       "      'tempF': '72',\n",
       "      'windspeedMiles': '3',\n",
       "      'windspeedKmph': '5',\n",
       "      'winddirDegree': '29',\n",
       "      'winddir16Point': 'NNE',\n",
       "      'weatherCode': '176',\n",
       "      'weatherIconUrl': [{'value': 'https://cdn.worldweatheronline.com/images/wsymbols01_png_64/wsymbol_0025_light_rain_showers_night.png'}],\n",
       "      'weatherDesc': [{'value': 'Patchy rain possible'}],\n",
       "      'precipMM': '0.2',\n",
       "      'precipInches': '0.0',\n",
       "      'humidity': '96',\n",
       "      'visibility': '7',\n",
       "      'visibilityMiles': '4',\n",
       "      'pressure': '1017',\n",
       "      'pressureInches': '30',\n",
       "      'cloudcover': '61',\n",
       "      'HeatIndexC': '25',\n",
       "      'HeatIndexF': '77',\n",
       "      'DewPointC': '22',\n",
       "      'DewPointF': '71',\n",
       "      'WindChillC': '22',\n",
       "      'WindChillF': '72',\n",
       "      'WindGustMiles': '9',\n",
       "      'WindGustKmph': '14',\n",
       "      'FeelsLikeC': '25',\n",
       "      'FeelsLikeF': '77',\n",
       "      'uvIndex': '1'},\n",
       "     {'time': '300',\n",
       "      'tempC': '22',\n",
       "      'tempF': '72',\n",
       "      'windspeedMiles': '2',\n",
       "      'windspeedKmph': '4',\n",
       "      'winddirDegree': '32',\n",
       "      'winddir16Point': 'NNE',\n",
       "      'weatherCode': '122',\n",
       "      'weatherIconUrl': [{'value': 'https://cdn.worldweatheronline.com/images/wsymbols01_png_64/wsymbol_0004_black_low_cloud.png'}],\n",
       "      'weatherDesc': [{'value': 'Overcast'}],\n",
       "      'precipMM': '0.0',\n",
       "      'precipInches': '0.0',\n",
       "      'humidity': '95',\n",
       "      'visibility': '7',\n",
       "      'visibilityMiles': '4',\n",
       "      'pressure': '1017',\n",
       "      'pressureInches': '30',\n",
       "      'cloudcover': '93',\n",
       "      'HeatIndexC': '25',\n",
       "      'HeatIndexF': '77',\n",
       "      'DewPointC': '22',\n",
       "      'DewPointF': '71',\n",
       "      'WindChillC': '22',\n",
       "      'WindChillF': '72',\n",
       "      'WindGustMiles': '8',\n",
       "      'WindGustKmph': '13',\n",
       "      'FeelsLikeC': '25',\n",
       "      'FeelsLikeF': '77',\n",
       "      'uvIndex': '1'},\n",
       "     {'time': '600',\n",
       "      'tempC': '22',\n",
       "      'tempF': '72',\n",
       "      'windspeedMiles': '1',\n",
       "      'windspeedKmph': '2',\n",
       "      'winddirDegree': '47',\n",
       "      'winddir16Point': 'NE',\n",
       "      'weatherCode': '305',\n",
       "      'weatherIconUrl': [{'value': 'https://cdn.worldweatheronline.com/images/wsymbols01_png_64/wsymbol_0010_heavy_rain_showers.png'}],\n",
       "      'weatherDesc': [{'value': 'Heavy rain at times'}],\n",
       "      'precipMM': '1.2',\n",
       "      'precipInches': '0.0',\n",
       "      'humidity': '94',\n",
       "      'visibility': '7',\n",
       "      'visibilityMiles': '4',\n",
       "      'pressure': '1017',\n",
       "      'pressureInches': '30',\n",
       "      'cloudcover': '100',\n",
       "      'HeatIndexC': '25',\n",
       "      'HeatIndexF': '77',\n",
       "      'DewPointC': '21',\n",
       "      'DewPointF': '71',\n",
       "      'WindChillC': '22',\n",
       "      'WindChillF': '72',\n",
       "      'WindGustMiles': '9',\n",
       "      'WindGustKmph': '14',\n",
       "      'FeelsLikeC': '25',\n",
       "      'FeelsLikeF': '77',\n",
       "      'uvIndex': '5'},\n",
       "     {'time': '900',\n",
       "      'tempC': '23',\n",
       "      'tempF': '73',\n",
       "      'windspeedMiles': '4',\n",
       "      'windspeedKmph': '6',\n",
       "      'winddirDegree': '48',\n",
       "      'winddir16Point': 'NE',\n",
       "      'weatherCode': '122',\n",
       "      'weatherIconUrl': [{'value': 'https://cdn.worldweatheronline.com/images/wsymbols01_png_64/wsymbol_0004_black_low_cloud.png'}],\n",
       "      'weatherDesc': [{'value': 'Overcast'}],\n",
       "      'precipMM': '0.0',\n",
       "      'precipInches': '0.0',\n",
       "      'humidity': '94',\n",
       "      'visibility': '10',\n",
       "      'visibilityMiles': '6',\n",
       "      'pressure': '1019',\n",
       "      'pressureInches': '30',\n",
       "      'cloudcover': '89',\n",
       "      'HeatIndexC': '25',\n",
       "      'HeatIndexF': '77',\n",
       "      'DewPointC': '22',\n",
       "      'DewPointF': '71',\n",
       "      'WindChillC': '23',\n",
       "      'WindChillF': '73',\n",
       "      'WindGustMiles': '10',\n",
       "      'WindGustKmph': '15',\n",
       "      'FeelsLikeC': '25',\n",
       "      'FeelsLikeF': '77',\n",
       "      'uvIndex': '5'},\n",
       "     {'time': '1200',\n",
       "      'tempC': '24',\n",
       "      'tempF': '76',\n",
       "      'windspeedMiles': '7',\n",
       "      'windspeedKmph': '12',\n",
       "      'winddirDegree': '31',\n",
       "      'winddir16Point': 'NNE',\n",
       "      'weatherCode': '176',\n",
       "      'weatherIconUrl': [{'value': 'https://cdn.worldweatheronline.com/images/wsymbols01_png_64/wsymbol_0009_light_rain_showers.png'}],\n",
       "      'weatherDesc': [{'value': 'Patchy rain possible'}],\n",
       "      'precipMM': '0.2',\n",
       "      'precipInches': '0.0',\n",
       "      'humidity': '93',\n",
       "      'visibility': '10',\n",
       "      'visibilityMiles': '6',\n",
       "      'pressure': '1018',\n",
       "      'pressureInches': '30',\n",
       "      'cloudcover': '64',\n",
       "      'HeatIndexC': '27',\n",
       "      'HeatIndexF': '80',\n",
       "      'DewPointC': '22',\n",
       "      'DewPointF': '71',\n",
       "      'WindChillC': '24',\n",
       "      'WindChillF': '76',\n",
       "      'WindGustMiles': '11',\n",
       "      'WindGustKmph': '18',\n",
       "      'FeelsLikeC': '27',\n",
       "      'FeelsLikeF': '80',\n",
       "      'uvIndex': '5'},\n",
       "     {'time': '1500',\n",
       "      'tempC': '23',\n",
       "      'tempF': '74',\n",
       "      'windspeedMiles': '11',\n",
       "      'windspeedKmph': '18',\n",
       "      'winddirDegree': '14',\n",
       "      'winddir16Point': 'NNE',\n",
       "      'weatherCode': '176',\n",
       "      'weatherIconUrl': [{'value': 'https://cdn.worldweatheronline.com/images/wsymbols01_png_64/wsymbol_0009_light_rain_showers.png'}],\n",
       "      'weatherDesc': [{'value': 'Patchy rain possible'}],\n",
       "      'precipMM': '0.3',\n",
       "      'precipInches': '0.0',\n",
       "      'humidity': '92',\n",
       "      'visibility': '10',\n",
       "      'visibilityMiles': '6',\n",
       "      'pressure': '1017',\n",
       "      'pressureInches': '30',\n",
       "      'cloudcover': '80',\n",
       "      'HeatIndexC': '26',\n",
       "      'HeatIndexF': '78',\n",
       "      'DewPointC': '22',\n",
       "      'DewPointF': '72',\n",
       "      'WindChillC': '23',\n",
       "      'WindChillF': '74',\n",
       "      'WindGustMiles': '17',\n",
       "      'WindGustKmph': '27',\n",
       "      'FeelsLikeC': '26',\n",
       "      'FeelsLikeF': '78',\n",
       "      'uvIndex': '5'},\n",
       "     {'time': '1800',\n",
       "      'tempC': '22',\n",
       "      'tempF': '72',\n",
       "      'windspeedMiles': '7',\n",
       "      'windspeedKmph': '12',\n",
       "      'winddirDegree': '13',\n",
       "      'winddir16Point': 'NNE',\n",
       "      'weatherCode': '176',\n",
       "      'weatherIconUrl': [{'value': 'https://cdn.worldweatheronline.com/images/wsymbols01_png_64/wsymbol_0025_light_rain_showers_night.png'}],\n",
       "      'weatherDesc': [{'value': 'Patchy rain possible'}],\n",
       "      'precipMM': '0.2',\n",
       "      'precipInches': '0.0',\n",
       "      'humidity': '93',\n",
       "      'visibility': '10',\n",
       "      'visibilityMiles': '6',\n",
       "      'pressure': '1018',\n",
       "      'pressureInches': '30',\n",
       "      'cloudcover': '57',\n",
       "      'HeatIndexC': '25',\n",
       "      'HeatIndexF': '77',\n",
       "      'DewPointC': '21',\n",
       "      'DewPointF': '70',\n",
       "      'WindChillC': '22',\n",
       "      'WindChillF': '72',\n",
       "      'WindGustMiles': '15',\n",
       "      'WindGustKmph': '24',\n",
       "      'FeelsLikeC': '25',\n",
       "      'FeelsLikeF': '77',\n",
       "      'uvIndex': '1'},\n",
       "     {'time': '2100',\n",
       "      'tempC': '21',\n",
       "      'tempF': '71',\n",
       "      'windspeedMiles': '5',\n",
       "      'windspeedKmph': '8',\n",
       "      'winddirDegree': '21',\n",
       "      'winddir16Point': 'NNE',\n",
       "      'weatherCode': '176',\n",
       "      'weatherIconUrl': [{'value': 'https://cdn.worldweatheronline.com/images/wsymbols01_png_64/wsymbol_0025_light_rain_showers_night.png'}],\n",
       "      'weatherDesc': [{'value': 'Patchy rain possible'}],\n",
       "      'precipMM': '0.2',\n",
       "      'precipInches': '0.0',\n",
       "      'humidity': '95',\n",
       "      'visibility': '2',\n",
       "      'visibilityMiles': '1',\n",
       "      'pressure': '1019',\n",
       "      'pressureInches': '30',\n",
       "      'cloudcover': '76',\n",
       "      'HeatIndexC': '24',\n",
       "      'HeatIndexF': '76',\n",
       "      'DewPointC': '21',\n",
       "      'DewPointF': '69',\n",
       "      'WindChillC': '21',\n",
       "      'WindChillF': '71',\n",
       "      'WindGustMiles': '11',\n",
       "      'WindGustKmph': '18',\n",
       "      'FeelsLikeC': '21',\n",
       "      'FeelsLikeF': '71',\n",
       "      'uvIndex': '1'}]},\n",
       "   {'date': '2019-01-06',\n",
       "    'astronomy': [{'sunrise': '06:46 AM',\n",
       "      'sunset': '05:54 PM',\n",
       "      'moonrise': '07:11 AM',\n",
       "      'moonset': '06:36 PM',\n",
       "      'moon_phase': 'New Moon',\n",
       "      'moon_illumination': '0'}],\n",
       "    'maxtempC': '26',\n",
       "    'maxtempF': '79',\n",
       "    'mintempC': '20',\n",
       "    'mintempF': '68',\n",
       "    'avgtempC': '22',\n",
       "    'avgtempF': '72',\n",
       "    'totalSnow_cm': '0.0',\n",
       "    'sunHour': '8.7',\n",
       "    'uvIndex': '5',\n",
       "    'hourly': [{'time': '0',\n",
       "      'tempC': '21',\n",
       "      'tempF': '70',\n",
       "      'windspeedMiles': '4',\n",
       "      'windspeedKmph': '7',\n",
       "      'winddirDegree': '23',\n",
       "      'winddir16Point': 'NNE',\n",
       "      'weatherCode': '176',\n",
       "      'weatherIconUrl': [{'value': 'https://cdn.worldweatheronline.com/images/wsymbols01_png_64/wsymbol_0025_light_rain_showers_night.png'}],\n",
       "      'weatherDesc': [{'value': 'Patchy rain possible'}],\n",
       "      'precipMM': '0.1',\n",
       "      'precipInches': '0.0',\n",
       "      'humidity': '95',\n",
       "      'visibility': '2',\n",
       "      'visibilityMiles': '1',\n",
       "      'pressure': '1019',\n",
       "      'pressureInches': '30',\n",
       "      'cloudcover': '52',\n",
       "      'HeatIndexC': '21',\n",
       "      'HeatIndexF': '70',\n",
       "      'DewPointC': '20',\n",
       "      'DewPointF': '68',\n",
       "      'WindChillC': '21',\n",
       "      'WindChillF': '70',\n",
       "      'WindGustMiles': '8',\n",
       "      'WindGustKmph': '13',\n",
       "      'FeelsLikeC': '21',\n",
       "      'FeelsLikeF': '70',\n",
       "      'uvIndex': '1'},\n",
       "     {'time': '300',\n",
       "      'tempC': '21',\n",
       "      'tempF': '70',\n",
       "      'windspeedMiles': '3',\n",
       "      'windspeedKmph': '4',\n",
       "      'winddirDegree': '26',\n",
       "      'winddir16Point': 'NNE',\n",
       "      'weatherCode': '176',\n",
       "      'weatherIconUrl': [{'value': 'https://cdn.worldweatheronline.com/images/wsymbols01_png_64/wsymbol_0025_light_rain_showers_night.png'}],\n",
       "      'weatherDesc': [{'value': 'Patchy rain possible'}],\n",
       "      'precipMM': '0.2',\n",
       "      'precipInches': '0.0',\n",
       "      'humidity': '95',\n",
       "      'visibility': '2',\n",
       "      'visibilityMiles': '1',\n",
       "      'pressure': '1018',\n",
       "      'pressureInches': '30',\n",
       "      'cloudcover': '62',\n",
       "      'HeatIndexC': '24',\n",
       "      'HeatIndexF': '75',\n",
       "      'DewPointC': '21',\n",
       "      'DewPointF': '69',\n",
       "      'WindChillC': '21',\n",
       "      'WindChillF': '70',\n",
       "      'WindGustMiles': '6',\n",
       "      'WindGustKmph': '10',\n",
       "      'FeelsLikeC': '21',\n",
       "      'FeelsLikeF': '70',\n",
       "      'uvIndex': '1'},\n",
       "     {'time': '600',\n",
       "      'tempC': '20',\n",
       "      'tempF': '68',\n",
       "      'windspeedMiles': '1',\n",
       "      'windspeedKmph': '2',\n",
       "      'winddirDegree': '23',\n",
       "      'winddir16Point': 'NNE',\n",
       "      'weatherCode': '176',\n",
       "      'weatherIconUrl': [{'value': 'https://cdn.worldweatheronline.com/images/wsymbols01_png_64/wsymbol_0009_light_rain_showers.png'}],\n",
       "      'weatherDesc': [{'value': 'Patchy rain possible'}],\n",
       "      'precipMM': '0.2',\n",
       "      'precipInches': '0.0',\n",
       "      'humidity': '96',\n",
       "      'visibility': '2',\n",
       "      'visibilityMiles': '1',\n",
       "      'pressure': '1019',\n",
       "      'pressureInches': '30',\n",
       "      'cloudcover': '67',\n",
       "      'HeatIndexC': '20',\n",
       "      'HeatIndexF': '68',\n",
       "      'DewPointC': '19',\n",
       "      'DewPointF': '66',\n",
       "      'WindChillC': '20',\n",
       "      'WindChillF': '68',\n",
       "      'WindGustMiles': '6',\n",
       "      'WindGustKmph': '10',\n",
       "      'FeelsLikeC': '20',\n",
       "      'FeelsLikeF': '68',\n",
       "      'uvIndex': '5'},\n",
       "     {'time': '900',\n",
       "      'tempC': '24',\n",
       "      'tempF': '74',\n",
       "      'windspeedMiles': '4',\n",
       "      'windspeedKmph': '6',\n",
       "      'winddirDegree': '40',\n",
       "      'winddir16Point': 'NE',\n",
       "      'weatherCode': '116',\n",
       "      'weatherIconUrl': [{'value': 'https://cdn.worldweatheronline.com/images/wsymbols01_png_64/wsymbol_0002_sunny_intervals.png'}],\n",
       "      'weatherDesc': [{'value': 'Partly cloudy'}],\n",
       "      'precipMM': '0.0',\n",
       "      'precipInches': '0.0',\n",
       "      'humidity': '88',\n",
       "      'visibility': '10',\n",
       "      'visibilityMiles': '6',\n",
       "      'pressure': '1020',\n",
       "      'pressureInches': '30',\n",
       "      'cloudcover': '59',\n",
       "      'HeatIndexC': '26',\n",
       "      'HeatIndexF': '78',\n",
       "      'DewPointC': '21',\n",
       "      'DewPointF': '70',\n",
       "      'WindChillC': '24',\n",
       "      'WindChillF': '74',\n",
       "      'WindGustMiles': '8',\n",
       "      'WindGustKmph': '12',\n",
       "      'FeelsLikeC': '26',\n",
       "      'FeelsLikeF': '78',\n",
       "      'uvIndex': '6'},\n",
       "     {'time': '1200',\n",
       "      'tempC': '25',\n",
       "      'tempF': '77',\n",
       "      'windspeedMiles': '5',\n",
       "      'windspeedKmph': '9',\n",
       "      'winddirDegree': '37',\n",
       "      'winddir16Point': 'NE',\n",
       "      'weatherCode': '116',\n",
       "      'weatherIconUrl': [{'value': 'https://cdn.worldweatheronline.com/images/wsymbols01_png_64/wsymbol_0002_sunny_intervals.png'}],\n",
       "      'weatherDesc': [{'value': 'Partly cloudy'}],\n",
       "      'precipMM': '0.0',\n",
       "      'precipInches': '0.0',\n",
       "      'humidity': '83',\n",
       "      'visibility': '10',\n",
       "      'visibilityMiles': '6',\n",
       "      'pressure': '1018',\n",
       "      'pressureInches': '30',\n",
       "      'cloudcover': '57',\n",
       "      'HeatIndexC': '27',\n",
       "      'HeatIndexF': '80',\n",
       "      'DewPointC': '22',\n",
       "      'DewPointF': '71',\n",
       "      'WindChillC': '25',\n",
       "      'WindChillF': '77',\n",
       "      'WindGustMiles': '12',\n",
       "      'WindGustKmph': '20',\n",
       "      'FeelsLikeC': '27',\n",
       "      'FeelsLikeF': '80',\n",
       "      'uvIndex': '6'},\n",
       "     {'time': '1500',\n",
       "      'tempC': '26',\n",
       "      'tempF': '79',\n",
       "      'windspeedMiles': '7',\n",
       "      'windspeedKmph': '11',\n",
       "      'winddirDegree': '35',\n",
       "      'winddir16Point': 'NE',\n",
       "      'weatherCode': '176',\n",
       "      'weatherIconUrl': [{'value': 'https://cdn.worldweatheronline.com/images/wsymbols01_png_64/wsymbol_0009_light_rain_showers.png'}],\n",
       "      'weatherDesc': [{'value': 'Patchy rain possible'}],\n",
       "      'precipMM': '0.1',\n",
       "      'precipInches': '0.0',\n",
       "      'humidity': '79',\n",
       "      'visibility': '10',\n",
       "      'visibilityMiles': '6',\n",
       "      'pressure': '1017',\n",
       "      'pressureInches': '30',\n",
       "      'cloudcover': '56',\n",
       "      'HeatIndexC': '28',\n",
       "      'HeatIndexF': '83',\n",
       "      'DewPointC': '22',\n",
       "      'DewPointF': '72',\n",
       "      'WindChillC': '26',\n",
       "      'WindChillF': '79',\n",
       "      'WindGustMiles': '12',\n",
       "      'WindGustKmph': '20',\n",
       "      'FeelsLikeC': '28',\n",
       "      'FeelsLikeF': '83',\n",
       "      'uvIndex': '6'},\n",
       "     {'time': '1800',\n",
       "      'tempC': '22',\n",
       "      'tempF': '72',\n",
       "      'windspeedMiles': '6',\n",
       "      'windspeedKmph': '9',\n",
       "      'winddirDegree': '21',\n",
       "      'winddir16Point': 'NNE',\n",
       "      'weatherCode': '116',\n",
       "      'weatherIconUrl': [{'value': 'https://cdn.worldweatheronline.com/images/wsymbols01_png_64/wsymbol_0004_black_low_cloud.png'}],\n",
       "      'weatherDesc': [{'value': 'Partly cloudy'}],\n",
       "      'precipMM': '0.0',\n",
       "      'precipInches': '0.0',\n",
       "      'humidity': '91',\n",
       "      'visibility': '9',\n",
       "      'visibilityMiles': '5',\n",
       "      'pressure': '1017',\n",
       "      'pressureInches': '30',\n",
       "      'cloudcover': '37',\n",
       "      'HeatIndexC': '25',\n",
       "      'HeatIndexF': '77',\n",
       "      'DewPointC': '21',\n",
       "      'DewPointF': '70',\n",
       "      'WindChillC': '22',\n",
       "      'WindChillF': '72',\n",
       "      'WindGustMiles': '12',\n",
       "      'WindGustKmph': '19',\n",
       "      'FeelsLikeC': '25',\n",
       "      'FeelsLikeF': '77',\n",
       "      'uvIndex': '1'},\n",
       "     {'time': '2100',\n",
       "      'tempC': '21',\n",
       "      'tempF': '69',\n",
       "      'windspeedMiles': '4',\n",
       "      'windspeedKmph': '7',\n",
       "      'winddirDegree': '33',\n",
       "      'winddir16Point': 'NNE',\n",
       "      'weatherCode': '116',\n",
       "      'weatherIconUrl': [{'value': 'https://cdn.worldweatheronline.com/images/wsymbols01_png_64/wsymbol_0004_black_low_cloud.png'}],\n",
       "      'weatherDesc': [{'value': 'Partly cloudy'}],\n",
       "      'precipMM': '0.0',\n",
       "      'precipInches': '0.0',\n",
       "      'humidity': '95',\n",
       "      'visibility': '2',\n",
       "      'visibilityMiles': '1',\n",
       "      'pressure': '1018',\n",
       "      'pressureInches': '30',\n",
       "      'cloudcover': '41',\n",
       "      'HeatIndexC': '21',\n",
       "      'HeatIndexF': '69',\n",
       "      'DewPointC': '20',\n",
       "      'DewPointF': '68',\n",
       "      'WindChillC': '21',\n",
       "      'WindChillF': '69',\n",
       "      'WindGustMiles': '13',\n",
       "      'WindGustKmph': '21',\n",
       "      'FeelsLikeC': '21',\n",
       "      'FeelsLikeF': '69',\n",
       "      'uvIndex': '1'}]},\n",
       "   {'date': '2019-01-07',\n",
       "    'astronomy': [{'sunrise': '06:46 AM',\n",
       "      'sunset': '05:55 PM',\n",
       "      'moonrise': '07:57 AM',\n",
       "      'moonset': '07:27 PM',\n",
       "      'moon_phase': 'Waxing Crescent',\n",
       "      'moon_illumination': '3'}],\n",
       "    'maxtempC': '27',\n",
       "    'maxtempF': '81',\n",
       "    'mintempC': '19',\n",
       "    'mintempF': '67',\n",
       "    'avgtempC': '22',\n",
       "    'avgtempF': '72',\n",
       "    'totalSnow_cm': '0.0',\n",
       "    'sunHour': '8.7',\n",
       "    'uvIndex': '6',\n",
       "    'hourly': [{'time': '0',\n",
       "      'tempC': '20',\n",
       "      'tempF': '68',\n",
       "      'windspeedMiles': '5',\n",
       "      'windspeedKmph': '8',\n",
       "      'winddirDegree': '53',\n",
       "      'winddir16Point': 'NE',\n",
       "      'weatherCode': '116',\n",
       "      'weatherIconUrl': [{'value': 'https://cdn.worldweatheronline.com/images/wsymbols01_png_64/wsymbol_0004_black_low_cloud.png'}],\n",
       "      'weatherDesc': [{'value': 'Partly cloudy'}],\n",
       "      'precipMM': '0.0',\n",
       "      'precipInches': '0.0',\n",
       "      'humidity': '96',\n",
       "      'visibility': '2',\n",
       "      'visibilityMiles': '1',\n",
       "      'pressure': '1018',\n",
       "      'pressureInches': '30',\n",
       "      'cloudcover': '36',\n",
       "      'HeatIndexC': '20',\n",
       "      'HeatIndexF': '68',\n",
       "      'DewPointC': '20',\n",
       "      'DewPointF': '67',\n",
       "      'WindChillC': '20',\n",
       "      'WindChillF': '68',\n",
       "      'WindGustMiles': '11',\n",
       "      'WindGustKmph': '18',\n",
       "      'FeelsLikeC': '20',\n",
       "      'FeelsLikeF': '68',\n",
       "      'uvIndex': '1'},\n",
       "     {'time': '300',\n",
       "      'tempC': '19',\n",
       "      'tempF': '67',\n",
       "      'windspeedMiles': '2',\n",
       "      'windspeedKmph': '4',\n",
       "      'winddirDegree': '74',\n",
       "      'winddir16Point': 'ENE',\n",
       "      'weatherCode': '116',\n",
       "      'weatherIconUrl': [{'value': 'https://cdn.worldweatheronline.com/images/wsymbols01_png_64/wsymbol_0004_black_low_cloud.png'}],\n",
       "      'weatherDesc': [{'value': 'Partly cloudy'}],\n",
       "      'precipMM': '0.0',\n",
       "      'precipInches': '0.0',\n",
       "      'humidity': '96',\n",
       "      'visibility': '2',\n",
       "      'visibilityMiles': '1',\n",
       "      'pressure': '1017',\n",
       "      'pressureInches': '30',\n",
       "      'cloudcover': '54',\n",
       "      'HeatIndexC': '19',\n",
       "      'HeatIndexF': '67',\n",
       "      'DewPointC': '19',\n",
       "      'DewPointF': '66',\n",
       "      'WindChillC': '19',\n",
       "      'WindChillF': '67',\n",
       "      'WindGustMiles': '9',\n",
       "      'WindGustKmph': '14',\n",
       "      'FeelsLikeC': '19',\n",
       "      'FeelsLikeF': '67',\n",
       "      'uvIndex': '1'},\n",
       "     {'time': '600',\n",
       "      'tempC': '19',\n",
       "      'tempF': '67',\n",
       "      'windspeedMiles': '3',\n",
       "      'windspeedKmph': '5',\n",
       "      'winddirDegree': '85',\n",
       "      'winddir16Point': 'E',\n",
       "      'weatherCode': '119',\n",
       "      'weatherIconUrl': [{'value': 'https://cdn.worldweatheronline.com/images/wsymbols01_png_64/wsymbol_0003_white_cloud.png'}],\n",
       "      'weatherDesc': [{'value': 'Cloudy'}],\n",
       "      'precipMM': '0.0',\n",
       "      'precipInches': '0.0',\n",
       "      'humidity': '97',\n",
       "      'visibility': '2',\n",
       "      'visibilityMiles': '1',\n",
       "      'pressure': '1018',\n",
       "      'pressureInches': '30',\n",
       "      'cloudcover': '62',\n",
       "      'HeatIndexC': '19',\n",
       "      'HeatIndexF': '67',\n",
       "      'DewPointC': '19',\n",
       "      'DewPointF': '66',\n",
       "      'WindChillC': '19',\n",
       "      'WindChillF': '67',\n",
       "      'WindGustMiles': '7',\n",
       "      'WindGustKmph': '11',\n",
       "      'FeelsLikeC': '19',\n",
       "      'FeelsLikeF': '67',\n",
       "      'uvIndex': '4'},\n",
       "     {'time': '900',\n",
       "      'tempC': '22',\n",
       "      'tempF': '72',\n",
       "      'windspeedMiles': '5',\n",
       "      'windspeedKmph': '9',\n",
       "      'winddirDegree': '92',\n",
       "      'winddir16Point': 'E',\n",
       "      'weatherCode': '116',\n",
       "      'weatherIconUrl': [{'value': 'https://cdn.worldweatheronline.com/images/wsymbols01_png_64/wsymbol_0002_sunny_intervals.png'}],\n",
       "      'weatherDesc': [{'value': 'Partly cloudy'}],\n",
       "      'precipMM': '0.0',\n",
       "      'precipInches': '0.0',\n",
       "      'humidity': '90',\n",
       "      'visibility': '10',\n",
       "      'visibilityMiles': '6',\n",
       "      'pressure': '1018',\n",
       "      'pressureInches': '30',\n",
       "      'cloudcover': '43',\n",
       "      'HeatIndexC': '25',\n",
       "      'HeatIndexF': '76',\n",
       "      'DewPointC': '21',\n",
       "      'DewPointF': '69',\n",
       "      'WindChillC': '22',\n",
       "      'WindChillF': '72',\n",
       "      'WindGustMiles': '8',\n",
       "      'WindGustKmph': '14',\n",
       "      'FeelsLikeC': '25',\n",
       "      'FeelsLikeF': '76',\n",
       "      'uvIndex': '6'},\n",
       "     {'time': '1200',\n",
       "      'tempC': '26',\n",
       "      'tempF': '79',\n",
       "      'windspeedMiles': '7',\n",
       "      'windspeedKmph': '11',\n",
       "      'winddirDegree': '85',\n",
       "      'winddir16Point': 'E',\n",
       "      'weatherCode': '116',\n",
       "      'weatherIconUrl': [{'value': 'https://cdn.worldweatheronline.com/images/wsymbols01_png_64/wsymbol_0002_sunny_intervals.png'}],\n",
       "      'weatherDesc': [{'value': 'Partly cloudy'}],\n",
       "      'precipMM': '0.0',\n",
       "      'precipInches': '0.0',\n",
       "      'humidity': '81',\n",
       "      'visibility': '10',\n",
       "      'visibilityMiles': '5',\n",
       "      'pressure': '1017',\n",
       "      'pressureInches': '30',\n",
       "      'cloudcover': '38',\n",
       "      'HeatIndexC': '28',\n",
       "      'HeatIndexF': '82',\n",
       "      'DewPointC': '21',\n",
       "      'DewPointF': '69',\n",
       "      'WindChillC': '26',\n",
       "      'WindChillF': '79',\n",
       "      'WindGustMiles': '11',\n",
       "      'WindGustKmph': '18',\n",
       "      'FeelsLikeC': '28',\n",
       "      'FeelsLikeF': '82',\n",
       "      'uvIndex': '7'},\n",
       "     {'time': '1500',\n",
       "      'tempC': '27',\n",
       "      'tempF': '81',\n",
       "      'windspeedMiles': '8',\n",
       "      'windspeedKmph': '13',\n",
       "      'winddirDegree': '79',\n",
       "      'winddir16Point': 'E',\n",
       "      'weatherCode': '116',\n",
       "      'weatherIconUrl': [{'value': 'https://cdn.worldweatheronline.com/images/wsymbols01_png_64/wsymbol_0002_sunny_intervals.png'}],\n",
       "      'weatherDesc': [{'value': 'Partly cloudy'}],\n",
       "      'precipMM': '0.0',\n",
       "      'precipInches': '0.0',\n",
       "      'humidity': '73',\n",
       "      'visibility': '9',\n",
       "      'visibilityMiles': '5',\n",
       "      'pressure': '1016',\n",
       "      'pressureInches': '30',\n",
       "      'cloudcover': '32',\n",
       "      'HeatIndexC': '30',\n",
       "      'HeatIndexF': '86',\n",
       "      'DewPointC': '22',\n",
       "      'DewPointF': '71',\n",
       "      'WindChillC': '27',\n",
       "      'WindChillF': '81',\n",
       "      'WindGustMiles': '13',\n",
       "      'WindGustKmph': '20',\n",
       "      'FeelsLikeC': '30',\n",
       "      'FeelsLikeF': '86',\n",
       "      'uvIndex': '7'},\n",
       "     {'time': '1800',\n",
       "      'tempC': '25',\n",
       "      'tempF': '76',\n",
       "      'windspeedMiles': '6',\n",
       "      'windspeedKmph': '10',\n",
       "      'winddirDegree': '35',\n",
       "      'winddir16Point': 'NE',\n",
       "      'weatherCode': '113',\n",
       "      'weatherIconUrl': [{'value': 'https://cdn.worldweatheronline.com/images/wsymbols01_png_64/wsymbol_0008_clear_sky_night.png'}],\n",
       "      'weatherDesc': [{'value': 'Clear'}],\n",
       "      'precipMM': '0.0',\n",
       "      'precipInches': '0.0',\n",
       "      'humidity': '87',\n",
       "      'visibility': '9',\n",
       "      'visibilityMiles': '5',\n",
       "      'pressure': '1016',\n",
       "      'pressureInches': '30',\n",
       "      'cloudcover': '19',\n",
       "      'HeatIndexC': '27',\n",
       "      'HeatIndexF': '80',\n",
       "      'DewPointC': '20',\n",
       "      'DewPointF': '69',\n",
       "      'WindChillC': '25',\n",
       "      'WindChillF': '76',\n",
       "      'WindGustMiles': '10',\n",
       "      'WindGustKmph': '16',\n",
       "      'FeelsLikeC': '27',\n",
       "      'FeelsLikeF': '80',\n",
       "      'uvIndex': '1'},\n",
       "     {'time': '2100',\n",
       "      'tempC': '22',\n",
       "      'tempF': '71',\n",
       "      'windspeedMiles': '6',\n",
       "      'windspeedKmph': '10',\n",
       "      'winddirDegree': '39',\n",
       "      'winddir16Point': 'NE',\n",
       "      'weatherCode': '113',\n",
       "      'weatherIconUrl': [{'value': 'https://cdn.worldweatheronline.com/images/wsymbols01_png_64/wsymbol_0008_clear_sky_night.png'}],\n",
       "      'weatherDesc': [{'value': 'Clear'}],\n",
       "      'precipMM': '0.0',\n",
       "      'precipInches': '0.0',\n",
       "      'humidity': '92',\n",
       "      'visibility': '9',\n",
       "      'visibilityMiles': '5',\n",
       "      'pressure': '1017',\n",
       "      'pressureInches': '30',\n",
       "      'cloudcover': '17',\n",
       "      'HeatIndexC': '24',\n",
       "      'HeatIndexF': '76',\n",
       "      'DewPointC': '20',\n",
       "      'DewPointF': '68',\n",
       "      'WindChillC': '22',\n",
       "      'WindChillF': '71',\n",
       "      'WindGustMiles': '12',\n",
       "      'WindGustKmph': '19',\n",
       "      'FeelsLikeC': '22',\n",
       "      'FeelsLikeF': '71',\n",
       "      'uvIndex': '1'}]},\n",
       "   {'date': '2019-01-08',\n",
       "    'astronomy': [{'sunrise': '06:46 AM',\n",
       "      'sunset': '05:55 PM',\n",
       "      'moonrise': '08:41 AM',\n",
       "      'moonset': '08:17 PM',\n",
       "      'moon_phase': 'Waxing Crescent',\n",
       "      'moon_illumination': '10'}],\n",
       "    'maxtempC': '27',\n",
       "    'maxtempF': '81',\n",
       "    'mintempC': '19',\n",
       "    'mintempF': '67',\n",
       "    'avgtempC': '22',\n",
       "    'avgtempF': '72',\n",
       "    'totalSnow_cm': '0.0',\n",
       "    'sunHour': '5.7',\n",
       "    'uvIndex': '6',\n",
       "    'hourly': [{'time': '0',\n",
       "      'tempC': '21',\n",
       "      'tempF': '69',\n",
       "      'windspeedMiles': '6',\n",
       "      'windspeedKmph': '10',\n",
       "      'winddirDegree': '53',\n",
       "      'winddir16Point': 'NE',\n",
       "      'weatherCode': '113',\n",
       "      'weatherIconUrl': [{'value': 'https://cdn.worldweatheronline.com/images/wsymbols01_png_64/wsymbol_0008_clear_sky_night.png'}],\n",
       "      'weatherDesc': [{'value': 'Clear'}],\n",
       "      'precipMM': '0.0',\n",
       "      'precipInches': '0.0',\n",
       "      'humidity': '94',\n",
       "      'visibility': '2',\n",
       "      'visibilityMiles': '1',\n",
       "      'pressure': '1018',\n",
       "      'pressureInches': '30',\n",
       "      'cloudcover': '10',\n",
       "      'HeatIndexC': '21',\n",
       "      'HeatIndexF': '69',\n",
       "      'DewPointC': '20',\n",
       "      'DewPointF': '67',\n",
       "      'WindChillC': '21',\n",
       "      'WindChillF': '69',\n",
       "      'WindGustMiles': '12',\n",
       "      'WindGustKmph': '20',\n",
       "      'FeelsLikeC': '21',\n",
       "      'FeelsLikeF': '69',\n",
       "      'uvIndex': '1'},\n",
       "     {'time': '300',\n",
       "      'tempC': '20',\n",
       "      'tempF': '68',\n",
       "      'windspeedMiles': '2',\n",
       "      'windspeedKmph': '3',\n",
       "      'winddirDegree': '62',\n",
       "      'winddir16Point': 'ENE',\n",
       "      'weatherCode': '116',\n",
       "      'weatherIconUrl': [{'value': 'https://cdn.worldweatheronline.com/images/wsymbols01_png_64/wsymbol_0004_black_low_cloud.png'}],\n",
       "      'weatherDesc': [{'value': 'Partly cloudy'}],\n",
       "      'precipMM': '0.0',\n",
       "      'precipInches': '0.0',\n",
       "      'humidity': '96',\n",
       "      'visibility': '2',\n",
       "      'visibilityMiles': '1',\n",
       "      'pressure': '1018',\n",
       "      'pressureInches': '30',\n",
       "      'cloudcover': '28',\n",
       "      'HeatIndexC': '20',\n",
       "      'HeatIndexF': '68',\n",
       "      'DewPointC': '19',\n",
       "      'DewPointF': '67',\n",
       "      'WindChillC': '20',\n",
       "      'WindChillF': '68',\n",
       "      'WindGustMiles': '11',\n",
       "      'WindGustKmph': '17',\n",
       "      'FeelsLikeC': '20',\n",
       "      'FeelsLikeF': '68',\n",
       "      'uvIndex': '1'},\n",
       "     {'time': '600',\n",
       "      'tempC': '19',\n",
       "      'tempF': '67',\n",
       "      'windspeedMiles': '0',\n",
       "      'windspeedKmph': '0',\n",
       "      'winddirDegree': '87',\n",
       "      'winddir16Point': 'E',\n",
       "      'weatherCode': '116',\n",
       "      'weatherIconUrl': [{'value': 'https://cdn.worldweatheronline.com/images/wsymbols01_png_64/wsymbol_0002_sunny_intervals.png'}],\n",
       "      'weatherDesc': [{'value': 'Partly cloudy'}],\n",
       "      'precipMM': '0.0',\n",
       "      'precipInches': '0.0',\n",
       "      'humidity': '96',\n",
       "      'visibility': '2',\n",
       "      'visibilityMiles': '1',\n",
       "      'pressure': '1018',\n",
       "      'pressureInches': '30',\n",
       "      'cloudcover': '34',\n",
       "      'HeatIndexC': '19',\n",
       "      'HeatIndexF': '67',\n",
       "      'DewPointC': '19',\n",
       "      'DewPointF': '66',\n",
       "      'WindChillC': '19',\n",
       "      'WindChillF': '67',\n",
       "      'WindGustMiles': '8',\n",
       "      'WindGustKmph': '13',\n",
       "      'FeelsLikeC': '19',\n",
       "      'FeelsLikeF': '67',\n",
       "      'uvIndex': '5'},\n",
       "     {'time': '900',\n",
       "      'tempC': '23',\n",
       "      'tempF': '73',\n",
       "      'windspeedMiles': '3',\n",
       "      'windspeedKmph': '4',\n",
       "      'winddirDegree': '90',\n",
       "      'winddir16Point': 'E',\n",
       "      'weatherCode': '113',\n",
       "      'weatherIconUrl': [{'value': 'https://cdn.worldweatheronline.com/images/wsymbols01_png_64/wsymbol_0001_sunny.png'}],\n",
       "      'weatherDesc': [{'value': 'Sunny'}],\n",
       "      'precipMM': '0.0',\n",
       "      'precipInches': '0.0',\n",
       "      'humidity': '87',\n",
       "      'visibility': '10',\n",
       "      'visibilityMiles': '6',\n",
       "      'pressure': '1019',\n",
       "      'pressureInches': '30',\n",
       "      'cloudcover': '14',\n",
       "      'HeatIndexC': '25',\n",
       "      'HeatIndexF': '77',\n",
       "      'DewPointC': '20',\n",
       "      'DewPointF': '68',\n",
       "      'WindChillC': '23',\n",
       "      'WindChillF': '73',\n",
       "      'WindGustMiles': '6',\n",
       "      'WindGustKmph': '9',\n",
       "      'FeelsLikeC': '25',\n",
       "      'FeelsLikeF': '77',\n",
       "      'uvIndex': '6'},\n",
       "     {'time': '1200',\n",
       "      'tempC': '26',\n",
       "      'tempF': '79',\n",
       "      'windspeedMiles': '6',\n",
       "      'windspeedKmph': '10',\n",
       "      'winddirDegree': '69',\n",
       "      'winddir16Point': 'ENE',\n",
       "      'weatherCode': '176',\n",
       "      'weatherIconUrl': [{'value': 'https://cdn.worldweatheronline.com/images/wsymbols01_png_64/wsymbol_0009_light_rain_showers.png'}],\n",
       "      'weatherDesc': [{'value': 'Patchy rain possible'}],\n",
       "      'precipMM': '0.1',\n",
       "      'precipInches': '0.0',\n",
       "      'humidity': '76',\n",
       "      'visibility': '10',\n",
       "      'visibilityMiles': '6',\n",
       "      'pressure': '1018',\n",
       "      'pressureInches': '30',\n",
       "      'cloudcover': '86',\n",
       "      'HeatIndexC': '28',\n",
       "      'HeatIndexF': '82',\n",
       "      'DewPointC': '20',\n",
       "      'DewPointF': '68',\n",
       "      'WindChillC': '26',\n",
       "      'WindChillF': '79',\n",
       "      'WindGustMiles': '11',\n",
       "      'WindGustKmph': '18',\n",
       "      'FeelsLikeC': '28',\n",
       "      'FeelsLikeF': '82',\n",
       "      'uvIndex': '6'},\n",
       "     {'time': '1500',\n",
       "      'tempC': '27',\n",
       "      'tempF': '81',\n",
       "      'windspeedMiles': '9',\n",
       "      'windspeedKmph': '15',\n",
       "      'winddirDegree': '48',\n",
       "      'winddir16Point': 'NE',\n",
       "      'weatherCode': '176',\n",
       "      'weatherIconUrl': [{'value': 'https://cdn.worldweatheronline.com/images/wsymbols01_png_64/wsymbol_0009_light_rain_showers.png'}],\n",
       "      'weatherDesc': [{'value': 'Patchy rain possible'}],\n",
       "      'precipMM': '0.1',\n",
       "      'precipInches': '0.0',\n",
       "      'humidity': '66',\n",
       "      'visibility': '10',\n",
       "      'visibilityMiles': '6',\n",
       "      'pressure': '1018',\n",
       "      'pressureInches': '30',\n",
       "      'cloudcover': '85',\n",
       "      'HeatIndexC': '29',\n",
       "      'HeatIndexF': '84',\n",
       "      'DewPointC': '20',\n",
       "      'DewPointF': '69',\n",
       "      'WindChillC': '27',\n",
       "      'WindChillF': '81',\n",
       "      'WindGustMiles': '14',\n",
       "      'WindGustKmph': '23',\n",
       "      'FeelsLikeC': '29',\n",
       "      'FeelsLikeF': '84',\n",
       "      'uvIndex': '6'},\n",
       "     {'time': '1800',\n",
       "      'tempC': '24',\n",
       "      'tempF': '75',\n",
       "      'windspeedMiles': '9',\n",
       "      'windspeedKmph': '15',\n",
       "      'winddirDegree': '17',\n",
       "      'winddir16Point': 'NNE',\n",
       "      'weatherCode': '113',\n",
       "      'weatherIconUrl': [{'value': 'https://cdn.worldweatheronline.com/images/wsymbols01_png_64/wsymbol_0008_clear_sky_night.png'}],\n",
       "      'weatherDesc': [{'value': 'Clear'}],\n",
       "      'precipMM': '0.0',\n",
       "      'precipInches': '0.0',\n",
       "      'humidity': '84',\n",
       "      'visibility': '10',\n",
       "      'visibilityMiles': '6',\n",
       "      'pressure': '1018',\n",
       "      'pressureInches': '30',\n",
       "      'cloudcover': '14',\n",
       "      'HeatIndexC': '26',\n",
       "      'HeatIndexF': '78',\n",
       "      'DewPointC': '20',\n",
       "      'DewPointF': '68',\n",
       "      'WindChillC': '24',\n",
       "      'WindChillF': '75',\n",
       "      'WindGustMiles': '15',\n",
       "      'WindGustKmph': '24',\n",
       "      'FeelsLikeC': '26',\n",
       "      'FeelsLikeF': '78',\n",
       "      'uvIndex': '1'},\n",
       "     {'time': '2100',\n",
       "      'tempC': '22',\n",
       "      'tempF': '72',\n",
       "      'windspeedMiles': '5',\n",
       "      'windspeedKmph': '9',\n",
       "      'winddirDegree': '29',\n",
       "      'winddir16Point': 'NNE',\n",
       "      'weatherCode': '113',\n",
       "      'weatherIconUrl': [{'value': 'https://cdn.worldweatheronline.com/images/wsymbols01_png_64/wsymbol_0008_clear_sky_night.png'}],\n",
       "      'weatherDesc': [{'value': 'Clear'}],\n",
       "      'precipMM': '0.0',\n",
       "      'precipInches': '0.0',\n",
       "      'humidity': '88',\n",
       "      'visibility': '10',\n",
       "      'visibilityMiles': '6',\n",
       "      'pressure': '1020',\n",
       "      'pressureInches': '30',\n",
       "      'cloudcover': '20',\n",
       "      'HeatIndexC': '24',\n",
       "      'HeatIndexF': '76',\n",
       "      'DewPointC': '20',\n",
       "      'DewPointF': '68',\n",
       "      'WindChillC': '22',\n",
       "      'WindChillF': '72',\n",
       "      'WindGustMiles': '14',\n",
       "      'WindGustKmph': '22',\n",
       "      'FeelsLikeC': '22',\n",
       "      'FeelsLikeF': '72',\n",
       "      'uvIndex': '1'}]},\n",
       "   {'date': '2019-01-09',\n",
       "    'astronomy': [{'sunrise': '06:46 AM',\n",
       "      'sunset': '05:56 PM',\n",
       "      'moonrise': '09:22 AM',\n",
       "      'moonset': '09:06 PM',\n",
       "      'moon_phase': 'Waxing Crescent',\n",
       "      'moon_illumination': '18'}],\n",
       "    'maxtempC': '22',\n",
       "    'maxtempF': '72',\n",
       "    'mintempC': '20',\n",
       "    'mintempF': '69',\n",
       "    'avgtempC': '21',\n",
       "    'avgtempF': '70',\n",
       "    'totalSnow_cm': '0.0',\n",
       "    'sunHour': '4.2',\n",
       "    'uvIndex': '5',\n",
       "    'hourly': [{'time': '0',\n",
       "      'tempC': '21',\n",
       "      'tempF': '71',\n",
       "      'windspeedMiles': '4',\n",
       "      'windspeedKmph': '6',\n",
       "      'winddirDegree': '56',\n",
       "      'winddir16Point': 'ENE',\n",
       "      'weatherCode': '299',\n",
       "      'weatherIconUrl': [{'value': 'https://cdn.worldweatheronline.com/images/wsymbols01_png_64/wsymbol_0026_heavy_rain_showers_night.png'}],\n",
       "      'weatherDesc': [{'value': 'Moderate rain at times'}],\n",
       "      'precipMM': '0.7',\n",
       "      'precipInches': '0.0',\n",
       "      'humidity': '92',\n",
       "      'visibility': '10',\n",
       "      'visibilityMiles': '6',\n",
       "      'pressure': '1021',\n",
       "      'pressureInches': '30',\n",
       "      'cloudcover': '85',\n",
       "      'HeatIndexC': '24',\n",
       "      'HeatIndexF': '76',\n",
       "      'DewPointC': '20',\n",
       "      'DewPointF': '67',\n",
       "      'WindChillC': '21',\n",
       "      'WindChillF': '71',\n",
       "      'WindGustMiles': '9',\n",
       "      'WindGustKmph': '15',\n",
       "      'FeelsLikeC': '21',\n",
       "      'FeelsLikeF': '71',\n",
       "      'uvIndex': '1'},\n",
       "     {'time': '300',\n",
       "      'tempC': '21',\n",
       "      'tempF': '69',\n",
       "      'windspeedMiles': '4',\n",
       "      'windspeedKmph': '6',\n",
       "      'winddirDegree': '66',\n",
       "      'winddir16Point': 'ENE',\n",
       "      'weatherCode': '299',\n",
       "      'weatherIconUrl': [{'value': 'https://cdn.worldweatheronline.com/images/wsymbols01_png_64/wsymbol_0026_heavy_rain_showers_night.png'}],\n",
       "      'weatherDesc': [{'value': 'Moderate rain at times'}],\n",
       "      'precipMM': '0.7',\n",
       "      'precipInches': '0.0',\n",
       "      'humidity': '93',\n",
       "      'visibility': '10',\n",
       "      'visibilityMiles': '6',\n",
       "      'pressure': '1020',\n",
       "      'pressureInches': '30',\n",
       "      'cloudcover': '62',\n",
       "      'HeatIndexC': '21',\n",
       "      'HeatIndexF': '69',\n",
       "      'DewPointC': '19',\n",
       "      'DewPointF': '67',\n",
       "      'WindChillC': '21',\n",
       "      'WindChillF': '69',\n",
       "      'WindGustMiles': '7',\n",
       "      'WindGustKmph': '11',\n",
       "      'FeelsLikeC': '21',\n",
       "      'FeelsLikeF': '69',\n",
       "      'uvIndex': '1'},\n",
       "     {'time': '600',\n",
       "      'tempC': '21',\n",
       "      'tempF': '70',\n",
       "      'windspeedMiles': '3',\n",
       "      'windspeedKmph': '5',\n",
       "      'winddirDegree': '202',\n",
       "      'winddir16Point': 'SSW',\n",
       "      'weatherCode': '305',\n",
       "      'weatherIconUrl': [{'value': 'https://cdn.worldweatheronline.com/images/wsymbols01_png_64/wsymbol_0010_heavy_rain_showers.png'}],\n",
       "      'weatherDesc': [{'value': 'Heavy rain at times'}],\n",
       "      'precipMM': '1.4',\n",
       "      'precipInches': '0.1',\n",
       "      'humidity': '93',\n",
       "      'visibility': '10',\n",
       "      'visibilityMiles': '6',\n",
       "      'pressure': '1021',\n",
       "      'pressureInches': '30',\n",
       "      'cloudcover': '100',\n",
       "      'HeatIndexC': '21',\n",
       "      'HeatIndexF': '70',\n",
       "      'DewPointC': '20',\n",
       "      'DewPointF': '67',\n",
       "      'WindChillC': '21',\n",
       "      'WindChillF': '70',\n",
       "      'WindGustMiles': '7',\n",
       "      'WindGustKmph': '11',\n",
       "      'FeelsLikeC': '21',\n",
       "      'FeelsLikeF': '70',\n",
       "      'uvIndex': '5'},\n",
       "     {'time': '900',\n",
       "      'tempC': '21',\n",
       "      'tempF': '69',\n",
       "      'windspeedMiles': '6',\n",
       "      'windspeedKmph': '9',\n",
       "      'winddirDegree': '305',\n",
       "      'winddir16Point': 'NW',\n",
       "      'weatherCode': '299',\n",
       "      'weatherIconUrl': [{'value': 'https://cdn.worldweatheronline.com/images/wsymbols01_png_64/wsymbol_0010_heavy_rain_showers.png'}],\n",
       "      'weatherDesc': [{'value': 'Moderate rain at times'}],\n",
       "      'precipMM': '0.9',\n",
       "      'precipInches': '0.0',\n",
       "      'humidity': '95',\n",
       "      'visibility': '9',\n",
       "      'visibilityMiles': '5',\n",
       "      'pressure': '1022',\n",
       "      'pressureInches': '30',\n",
       "      'cloudcover': '68',\n",
       "      'HeatIndexC': '21',\n",
       "      'HeatIndexF': '69',\n",
       "      'DewPointC': '20',\n",
       "      'DewPointF': '67',\n",
       "      'WindChillC': '21',\n",
       "      'WindChillF': '69',\n",
       "      'WindGustMiles': '10',\n",
       "      'WindGustKmph': '16',\n",
       "      'FeelsLikeC': '21',\n",
       "      'FeelsLikeF': '69',\n",
       "      'uvIndex': '5'},\n",
       "     {'time': '1200',\n",
       "      'tempC': '22',\n",
       "      'tempF': '72',\n",
       "      'windspeedMiles': '10',\n",
       "      'windspeedKmph': '15',\n",
       "      'winddirDegree': '211',\n",
       "      'winddir16Point': 'SSW',\n",
       "      'weatherCode': '356',\n",
       "      'weatherIconUrl': [{'value': 'https://cdn.worldweatheronline.com/images/wsymbols01_png_64/wsymbol_0010_heavy_rain_showers.png'}],\n",
       "      'weatherDesc': [{'value': 'Moderate or heavy rain shower'}],\n",
       "      'precipMM': '3.8',\n",
       "      'precipInches': '0.1',\n",
       "      'humidity': '95',\n",
       "      'visibility': '9',\n",
       "      'visibilityMiles': '5',\n",
       "      'pressure': '1021',\n",
       "      'pressureInches': '30',\n",
       "      'cloudcover': '67',\n",
       "      'HeatIndexC': '25',\n",
       "      'HeatIndexF': '76',\n",
       "      'DewPointC': '21',\n",
       "      'DewPointF': '69',\n",
       "      'WindChillC': '22',\n",
       "      'WindChillF': '72',\n",
       "      'WindGustMiles': '16',\n",
       "      'WindGustKmph': '26',\n",
       "      'FeelsLikeC': '25',\n",
       "      'FeelsLikeF': '76',\n",
       "      'uvIndex': '5'},\n",
       "     {'time': '1500',\n",
       "      'tempC': '21',\n",
       "      'tempF': '70',\n",
       "      'windspeedMiles': '14',\n",
       "      'windspeedKmph': '22',\n",
       "      'winddirDegree': '117',\n",
       "      'winddir16Point': 'ESE',\n",
       "      'weatherCode': '356',\n",
       "      'weatherIconUrl': [{'value': 'https://cdn.worldweatheronline.com/images/wsymbols01_png_64/wsymbol_0010_heavy_rain_showers.png'}],\n",
       "      'weatherDesc': [{'value': 'Moderate or heavy rain shower'}],\n",
       "      'precipMM': '1.5',\n",
       "      'precipInches': '0.1',\n",
       "      'humidity': '95',\n",
       "      'visibility': '9',\n",
       "      'visibilityMiles': '5',\n",
       "      'pressure': '1020',\n",
       "      'pressureInches': '30',\n",
       "      'cloudcover': '67',\n",
       "      'HeatIndexC': '24',\n",
       "      'HeatIndexF': '75',\n",
       "      'DewPointC': '20',\n",
       "      'DewPointF': '68',\n",
       "      'WindChillC': '21',\n",
       "      'WindChillF': '70',\n",
       "      'WindGustMiles': '18',\n",
       "      'WindGustKmph': '29',\n",
       "      'FeelsLikeC': '21',\n",
       "      'FeelsLikeF': '70',\n",
       "      'uvIndex': '5'},\n",
       "     {'time': '1800',\n",
       "      'tempC': '21',\n",
       "      'tempF': '70',\n",
       "      'windspeedMiles': '11',\n",
       "      'windspeedKmph': '18',\n",
       "      'winddirDegree': '3',\n",
       "      'winddir16Point': 'N',\n",
       "      'weatherCode': '299',\n",
       "      'weatherIconUrl': [{'value': 'https://cdn.worldweatheronline.com/images/wsymbols01_png_64/wsymbol_0026_heavy_rain_showers_night.png'}],\n",
       "      'weatherDesc': [{'value': 'Moderate rain at times'}],\n",
       "      'precipMM': '0.5',\n",
       "      'precipInches': '0.0',\n",
       "      'humidity': '94',\n",
       "      'visibility': '8',\n",
       "      'visibilityMiles': '4',\n",
       "      'pressure': '1021',\n",
       "      'pressureInches': '30',\n",
       "      'cloudcover': '63',\n",
       "      'HeatIndexC': '24',\n",
       "      'HeatIndexF': '76',\n",
       "      'DewPointC': '20',\n",
       "      'DewPointF': '68',\n",
       "      'WindChillC': '21',\n",
       "      'WindChillF': '70',\n",
       "      'WindGustMiles': '18',\n",
       "      'WindGustKmph': '29',\n",
       "      'FeelsLikeC': '21',\n",
       "      'FeelsLikeF': '70',\n",
       "      'uvIndex': '1'},\n",
       "     {'time': '2100',\n",
       "      'tempC': '21',\n",
       "      'tempF': '70',\n",
       "      'windspeedMiles': '6',\n",
       "      'windspeedKmph': '10',\n",
       "      'winddirDegree': '7',\n",
       "      'winddir16Point': 'N',\n",
       "      'weatherCode': '116',\n",
       "      'weatherIconUrl': [{'value': 'https://cdn.worldweatheronline.com/images/wsymbols01_png_64/wsymbol_0004_black_low_cloud.png'}],\n",
       "      'weatherDesc': [{'value': 'Partly cloudy'}],\n",
       "      'precipMM': '0.0',\n",
       "      'precipInches': '0.0',\n",
       "      'humidity': '93',\n",
       "      'visibility': '10',\n",
       "      'visibilityMiles': '6',\n",
       "      'pressure': '1022',\n",
       "      'pressureInches': '30',\n",
       "      'cloudcover': '50',\n",
       "      'HeatIndexC': '24',\n",
       "      'HeatIndexF': '75',\n",
       "      'DewPointC': '20',\n",
       "      'DewPointF': '68',\n",
       "      'WindChillC': '21',\n",
       "      'WindChillF': '70',\n",
       "      'WindGustMiles': '14',\n",
       "      'WindGustKmph': '23',\n",
       "      'FeelsLikeC': '21',\n",
       "      'FeelsLikeF': '70',\n",
       "      'uvIndex': '1'}]},\n",
       "   {'date': '2019-01-10',\n",
       "    'astronomy': [{'sunrise': '06:46 AM',\n",
       "      'sunset': '05:56 PM',\n",
       "      'moonrise': '10:01 AM',\n",
       "      'moonset': '09:54 PM',\n",
       "      'moon_phase': 'Waxing Crescent',\n",
       "      'moon_illumination': '25'}],\n",
       "    'maxtempC': '24',\n",
       "    'maxtempF': '76',\n",
       "    'mintempC': '19',\n",
       "    'mintempF': '67',\n",
       "    'avgtempC': '21',\n",
       "    'avgtempF': '71',\n",
       "    'totalSnow_cm': '0.0',\n",
       "    'sunHour': '4.2',\n",
       "    'uvIndex': '5',\n",
       "    'hourly': [{'time': '0',\n",
       "      'tempC': '20',\n",
       "      'tempF': '69',\n",
       "      'windspeedMiles': '6',\n",
       "      'windspeedKmph': '9',\n",
       "      'winddirDegree': '6',\n",
       "      'winddir16Point': 'N',\n",
       "      'weatherCode': '119',\n",
       "      'weatherIconUrl': [{'value': 'https://cdn.worldweatheronline.com/images/wsymbols01_png_64/wsymbol_0003_white_cloud.png'}],\n",
       "      'weatherDesc': [{'value': 'Cloudy'}],\n",
       "      'precipMM': '0.0',\n",
       "      'precipInches': '0.0',\n",
       "      'humidity': '95',\n",
       "      'visibility': '10',\n",
       "      'visibilityMiles': '6',\n",
       "      'pressure': '1022',\n",
       "      'pressureInches': '30',\n",
       "      'cloudcover': '62',\n",
       "      'HeatIndexC': '20',\n",
       "      'HeatIndexF': '69',\n",
       "      'DewPointC': '20',\n",
       "      'DewPointF': '67',\n",
       "      'WindChillC': '20',\n",
       "      'WindChillF': '69',\n",
       "      'WindGustMiles': '12',\n",
       "      'WindGustKmph': '19',\n",
       "      'FeelsLikeC': '20',\n",
       "      'FeelsLikeF': '69',\n",
       "      'uvIndex': '1'},\n",
       "     {'time': '300',\n",
       "      'tempC': '20',\n",
       "      'tempF': '68',\n",
       "      'windspeedMiles': '3',\n",
       "      'windspeedKmph': '5',\n",
       "      'winddirDegree': '242',\n",
       "      'winddir16Point': 'WSW',\n",
       "      'weatherCode': '116',\n",
       "      'weatherIconUrl': [{'value': 'https://cdn.worldweatheronline.com/images/wsymbols01_png_64/wsymbol_0004_black_low_cloud.png'}],\n",
       "      'weatherDesc': [{'value': 'Partly cloudy'}],\n",
       "      'precipMM': '0.0',\n",
       "      'precipInches': '0.0',\n",
       "      'humidity': '95',\n",
       "      'visibility': '10',\n",
       "      'visibilityMiles': '6',\n",
       "      'pressure': '1021',\n",
       "      'pressureInches': '30',\n",
       "      'cloudcover': '56',\n",
       "      'HeatIndexC': '20',\n",
       "      'HeatIndexF': '68',\n",
       "      'DewPointC': '19',\n",
       "      'DewPointF': '66',\n",
       "      'WindChillC': '20',\n",
       "      'WindChillF': '68',\n",
       "      'WindGustMiles': '11',\n",
       "      'WindGustKmph': '18',\n",
       "      'FeelsLikeC': '20',\n",
       "      'FeelsLikeF': '68',\n",
       "      'uvIndex': '1'},\n",
       "     {'time': '600',\n",
       "      'tempC': '20',\n",
       "      'tempF': '68',\n",
       "      'windspeedMiles': '4',\n",
       "      'windspeedKmph': '6',\n",
       "      'winddirDegree': '122',\n",
       "      'winddir16Point': 'ESE',\n",
       "      'weatherCode': '116',\n",
       "      'weatherIconUrl': [{'value': 'https://cdn.worldweatheronline.com/images/wsymbols01_png_64/wsymbol_0002_sunny_intervals.png'}],\n",
       "      'weatherDesc': [{'value': 'Partly cloudy'}],\n",
       "      'precipMM': '0.0',\n",
       "      'precipInches': '0.0',\n",
       "      'humidity': '94',\n",
       "      'visibility': '10',\n",
       "      'visibilityMiles': '6',\n",
       "      'pressure': '1022',\n",
       "      'pressureInches': '30',\n",
       "      'cloudcover': '56',\n",
       "      'HeatIndexC': '20',\n",
       "      'HeatIndexF': '68',\n",
       "      'DewPointC': '19',\n",
       "      'DewPointF': '66',\n",
       "      'WindChillC': '20',\n",
       "      'WindChillF': '68',\n",
       "      'WindGustMiles': '11',\n",
       "      'WindGustKmph': '17',\n",
       "      'FeelsLikeC': '20',\n",
       "      'FeelsLikeF': '68',\n",
       "      'uvIndex': '5'},\n",
       "     {'time': '900',\n",
       "      'tempC': '23',\n",
       "      'tempF': '73',\n",
       "      'windspeedMiles': '5',\n",
       "      'windspeedKmph': '8',\n",
       "      'winddirDegree': '6',\n",
       "      'winddir16Point': 'N',\n",
       "      'weatherCode': '176',\n",
       "      'weatherIconUrl': [{'value': 'https://cdn.worldweatheronline.com/images/wsymbols01_png_64/wsymbol_0009_light_rain_showers.png'}],\n",
       "      'weatherDesc': [{'value': 'Patchy rain possible'}],\n",
       "      'precipMM': '0.1',\n",
       "      'precipInches': '0.0',\n",
       "      'humidity': '86',\n",
       "      'visibility': '9',\n",
       "      'visibilityMiles': '5',\n",
       "      'pressure': '1022',\n",
       "      'pressureInches': '30',\n",
       "      'cloudcover': '79',\n",
       "      'HeatIndexC': '25',\n",
       "      'HeatIndexF': '77',\n",
       "      'DewPointC': '20',\n",
       "      'DewPointF': '68',\n",
       "      'WindChillC': '23',\n",
       "      'WindChillF': '73',\n",
       "      'WindGustMiles': '11',\n",
       "      'WindGustKmph': '17',\n",
       "      'FeelsLikeC': '25',\n",
       "      'FeelsLikeF': '77',\n",
       "      'uvIndex': '5'},\n",
       "     {'time': '1200',\n",
       "      'tempC': '24',\n",
       "      'tempF': '74',\n",
       "      'windspeedMiles': '7',\n",
       "      'windspeedKmph': '12',\n",
       "      'winddirDegree': '6',\n",
       "      'winddir16Point': 'N',\n",
       "      'weatherCode': '176',\n",
       "      'weatherIconUrl': [{'value': 'https://cdn.worldweatheronline.com/images/wsymbols01_png_64/wsymbol_0009_light_rain_showers.png'}],\n",
       "      'weatherDesc': [{'value': 'Patchy rain possible'}],\n",
       "      'precipMM': '0.1',\n",
       "      'precipInches': '0.0',\n",
       "      'humidity': '81',\n",
       "      'visibility': '10',\n",
       "      'visibilityMiles': '5',\n",
       "      'pressure': '1021',\n",
       "      'pressureInches': '30',\n",
       "      'cloudcover': '70',\n",
       "      'HeatIndexC': '26',\n",
       "      'HeatIndexF': '78',\n",
       "      'DewPointC': '20',\n",
       "      'DewPointF': '68',\n",
       "      'WindChillC': '24',\n",
       "      'WindChillF': '74',\n",
       "      'WindGustMiles': '11',\n",
       "      'WindGustKmph': '18',\n",
       "      'FeelsLikeC': '26',\n",
       "      'FeelsLikeF': '78',\n",
       "      'uvIndex': '5'},\n",
       "     {'time': '1500',\n",
       "      'tempC': '24',\n",
       "      'tempF': '76',\n",
       "      'windspeedMiles': '10',\n",
       "      'windspeedKmph': '15',\n",
       "      'winddirDegree': '6',\n",
       "      'winddir16Point': 'N',\n",
       "      'weatherCode': '299',\n",
       "      'weatherIconUrl': [{'value': 'https://cdn.worldweatheronline.com/images/wsymbols01_png_64/wsymbol_0010_heavy_rain_showers.png'}],\n",
       "      'weatherDesc': [{'value': 'Moderate rain at times'}],\n",
       "      'precipMM': '0.6',\n",
       "      'precipInches': '0.0',\n",
       "      'humidity': '77',\n",
       "      'visibility': '10',\n",
       "      'visibilityMiles': '6',\n",
       "      'pressure': '1020',\n",
       "      'pressureInches': '30',\n",
       "      'cloudcover': '86',\n",
       "      'HeatIndexC': '26',\n",
       "      'HeatIndexF': '79',\n",
       "      'DewPointC': '20',\n",
       "      'DewPointF': '68',\n",
       "      'WindChillC': '24',\n",
       "      'WindChillF': '76',\n",
       "      'WindGustMiles': '12',\n",
       "      'WindGustKmph': '19',\n",
       "      'FeelsLikeC': '26',\n",
       "      'FeelsLikeF': '79',\n",
       "      'uvIndex': '5'},\n",
       "     {'time': '1800',\n",
       "      'tempC': '22',\n",
       "      'tempF': '71',\n",
       "      'windspeedMiles': '8',\n",
       "      'windspeedKmph': '12',\n",
       "      'winddirDegree': '4',\n",
       "      'winddir16Point': 'N',\n",
       "      'weatherCode': '113',\n",
       "      'weatherIconUrl': [{'value': 'https://cdn.worldweatheronline.com/images/wsymbols01_png_64/wsymbol_0008_clear_sky_night.png'}],\n",
       "      'weatherDesc': [{'value': 'Clear'}],\n",
       "      'precipMM': '0.0',\n",
       "      'precipInches': '0.0',\n",
       "      'humidity': '87',\n",
       "      'visibility': '9',\n",
       "      'visibilityMiles': '5',\n",
       "      'pressure': '1019',\n",
       "      'pressureInches': '30',\n",
       "      'cloudcover': '21',\n",
       "      'HeatIndexC': '24',\n",
       "      'HeatIndexF': '76',\n",
       "      'DewPointC': '19',\n",
       "      'DewPointF': '67',\n",
       "      'WindChillC': '22',\n",
       "      'WindChillF': '71',\n",
       "      'WindGustMiles': '13',\n",
       "      'WindGustKmph': '21',\n",
       "      'FeelsLikeC': '22',\n",
       "      'FeelsLikeF': '71',\n",
       "      'uvIndex': '1'},\n",
       "     {'time': '2100',\n",
       "      'tempC': '20',\n",
       "      'tempF': '68',\n",
       "      'windspeedMiles': '6',\n",
       "      'windspeedKmph': '9',\n",
       "      'winddirDegree': '41',\n",
       "      'winddir16Point': 'NE',\n",
       "      'weatherCode': '113',\n",
       "      'weatherIconUrl': [{'value': 'https://cdn.worldweatheronline.com/images/wsymbols01_png_64/wsymbol_0008_clear_sky_night.png'}],\n",
       "      'weatherDesc': [{'value': 'Clear'}],\n",
       "      'precipMM': '0.0',\n",
       "      'precipInches': '0.0',\n",
       "      'humidity': '90',\n",
       "      'visibility': '10',\n",
       "      'visibilityMiles': '6',\n",
       "      'pressure': '1020',\n",
       "      'pressureInches': '30',\n",
       "      'cloudcover': '7',\n",
       "      'HeatIndexC': '20',\n",
       "      'HeatIndexF': '68',\n",
       "      'DewPointC': '18',\n",
       "      'DewPointF': '65',\n",
       "      'WindChillC': '20',\n",
       "      'WindChillF': '68',\n",
       "      'WindGustMiles': '9',\n",
       "      'WindGustKmph': '15',\n",
       "      'FeelsLikeC': '20',\n",
       "      'FeelsLikeF': '68',\n",
       "      'uvIndex': '1'}]},\n",
       "   {'date': '2019-01-11',\n",
       "    'astronomy': [{'sunrise': '06:47 AM',\n",
       "      'sunset': '05:57 PM',\n",
       "      'moonrise': '10:38 AM',\n",
       "      'moonset': '10:42 PM',\n",
       "      'moon_phase': 'Waxing Crescent',\n",
       "      'moon_illumination': '32'}],\n",
       "    'maxtempC': '25',\n",
       "    'maxtempF': '77',\n",
       "    'mintempC': '17',\n",
       "    'mintempF': '63',\n",
       "    'avgtempC': '21',\n",
       "    'avgtempF': '69',\n",
       "    'totalSnow_cm': '0.0',\n",
       "    'sunHour': '7.2',\n",
       "    'uvIndex': '6',\n",
       "    'hourly': [{'time': '0',\n",
       "      'tempC': '19',\n",
       "      'tempF': '66',\n",
       "      'windspeedMiles': '4',\n",
       "      'windspeedKmph': '6',\n",
       "      'winddirDegree': '91',\n",
       "      'winddir16Point': 'E',\n",
       "      'weatherCode': '113',\n",
       "      'weatherIconUrl': [{'value': 'https://cdn.worldweatheronline.com/images/wsymbols01_png_64/wsymbol_0008_clear_sky_night.png'}],\n",
       "      'weatherDesc': [{'value': 'Clear'}],\n",
       "      'precipMM': '0.0',\n",
       "      'precipInches': '0.0',\n",
       "      'humidity': '92',\n",
       "      'visibility': '10',\n",
       "      'visibilityMiles': '6',\n",
       "      'pressure': '1020',\n",
       "      'pressureInches': '30',\n",
       "      'cloudcover': '9',\n",
       "      'HeatIndexC': '19',\n",
       "      'HeatIndexF': '66',\n",
       "      'DewPointC': '18',\n",
       "      'DewPointF': '64',\n",
       "      'WindChillC': '19',\n",
       "      'WindChillF': '66',\n",
       "      'WindGustMiles': '6',\n",
       "      'WindGustKmph': '10',\n",
       "      'FeelsLikeC': '19',\n",
       "      'FeelsLikeF': '66',\n",
       "      'uvIndex': '1'},\n",
       "     {'time': '300',\n",
       "      'tempC': '18',\n",
       "      'tempF': '65',\n",
       "      'windspeedMiles': '2',\n",
       "      'windspeedKmph': '4',\n",
       "      'winddirDegree': '135',\n",
       "      'winddir16Point': 'SE',\n",
       "      'weatherCode': '113',\n",
       "      'weatherIconUrl': [{'value': 'https://cdn.worldweatheronline.com/images/wsymbols01_png_64/wsymbol_0008_clear_sky_night.png'}],\n",
       "      'weatherDesc': [{'value': 'Clear'}],\n",
       "      'precipMM': '0.0',\n",
       "      'precipInches': '0.0',\n",
       "      'humidity': '94',\n",
       "      'visibility': '10',\n",
       "      'visibilityMiles': '6',\n",
       "      'pressure': '1019',\n",
       "      'pressureInches': '30',\n",
       "      'cloudcover': '7',\n",
       "      'HeatIndexC': '18',\n",
       "      'HeatIndexF': '65',\n",
       "      'DewPointC': '17',\n",
       "      'DewPointF': '63',\n",
       "      'WindChillC': '18',\n",
       "      'WindChillF': '65',\n",
       "      'WindGustMiles': '4',\n",
       "      'WindGustKmph': '7',\n",
       "      'FeelsLikeC': '18',\n",
       "      'FeelsLikeF': '65',\n",
       "      'uvIndex': '1'},\n",
       "     {'time': '600',\n",
       "      'tempC': '17',\n",
       "      'tempF': '63',\n",
       "      'windspeedMiles': '2',\n",
       "      'windspeedKmph': '4',\n",
       "      'winddirDegree': '173',\n",
       "      'winddir16Point': 'S',\n",
       "      'weatherCode': '113',\n",
       "      'weatherIconUrl': [{'value': 'https://cdn.worldweatheronline.com/images/wsymbols01_png_64/wsymbol_0001_sunny.png'}],\n",
       "      'weatherDesc': [{'value': 'Sunny'}],\n",
       "      'precipMM': '0.0',\n",
       "      'precipInches': '0.0',\n",
       "      'humidity': '95',\n",
       "      'visibility': '2',\n",
       "      'visibilityMiles': '1',\n",
       "      'pressure': '1019',\n",
       "      'pressureInches': '30',\n",
       "      'cloudcover': '14',\n",
       "      'HeatIndexC': '17',\n",
       "      'HeatIndexF': '63',\n",
       "      'DewPointC': '16',\n",
       "      'DewPointF': '62',\n",
       "      'WindChillC': '17',\n",
       "      'WindChillF': '63',\n",
       "      'WindGustMiles': '5',\n",
       "      'WindGustKmph': '8',\n",
       "      'FeelsLikeC': '17',\n",
       "      'FeelsLikeF': '63',\n",
       "      'uvIndex': '5'},\n",
       "     {'time': '900',\n",
       "      'tempC': '20',\n",
       "      'tempF': '69',\n",
       "      'windspeedMiles': '4',\n",
       "      'windspeedKmph': '6',\n",
       "      'winddirDegree': '195',\n",
       "      'winddir16Point': 'SSW',\n",
       "      'weatherCode': '113',\n",
       "      'weatherIconUrl': [{'value': 'https://cdn.worldweatheronline.com/images/wsymbols01_png_64/wsymbol_0001_sunny.png'}],\n",
       "      'weatherDesc': [{'value': 'Sunny'}],\n",
       "      'precipMM': '0.0',\n",
       "      'precipInches': '0.0',\n",
       "      'humidity': '87',\n",
       "      'visibility': '10',\n",
       "      'visibilityMiles': '6',\n",
       "      'pressure': '1019',\n",
       "      'pressureInches': '30',\n",
       "      'cloudcover': '16',\n",
       "      'HeatIndexC': '20',\n",
       "      'HeatIndexF': '69',\n",
       "      'DewPointC': '18',\n",
       "      'DewPointF': '65',\n",
       "      'WindChillC': '20',\n",
       "      'WindChillF': '69',\n",
       "      'WindGustMiles': '5',\n",
       "      'WindGustKmph': '8',\n",
       "      'FeelsLikeC': '20',\n",
       "      'FeelsLikeF': '69',\n",
       "      'uvIndex': '6'},\n",
       "     {'time': '1200',\n",
       "      'tempC': '23',\n",
       "      'tempF': '73',\n",
       "      'windspeedMiles': '5',\n",
       "      'windspeedKmph': '8',\n",
       "      'winddirDegree': '139',\n",
       "      'winddir16Point': 'SE',\n",
       "      'weatherCode': '116',\n",
       "      'weatherIconUrl': [{'value': 'https://cdn.worldweatheronline.com/images/wsymbols01_png_64/wsymbol_0002_sunny_intervals.png'}],\n",
       "      'weatherDesc': [{'value': 'Partly cloudy'}],\n",
       "      'precipMM': '0.0',\n",
       "      'precipInches': '0.0',\n",
       "      'humidity': '80',\n",
       "      'visibility': '10',\n",
       "      'visibilityMiles': '6',\n",
       "      'pressure': '1017',\n",
       "      'pressureInches': '30',\n",
       "      'cloudcover': '45',\n",
       "      'HeatIndexC': '25',\n",
       "      'HeatIndexF': '77',\n",
       "      'DewPointC': '19',\n",
       "      'DewPointF': '66',\n",
       "      'WindChillC': '23',\n",
       "      'WindChillF': '73',\n",
       "      'WindGustMiles': '10',\n",
       "      'WindGustKmph': '17',\n",
       "      'FeelsLikeC': '25',\n",
       "      'FeelsLikeF': '77',\n",
       "      'uvIndex': '6'},\n",
       "     {'time': '1500',\n",
       "      'tempC': '25',\n",
       "      'tempF': '77',\n",
       "      'windspeedMiles': '7',\n",
       "      'windspeedKmph': '11',\n",
       "      'winddirDegree': '82',\n",
       "      'winddir16Point': 'E',\n",
       "      'weatherCode': '119',\n",
       "      'weatherIconUrl': [{'value': 'https://cdn.worldweatheronline.com/images/wsymbols01_png_64/wsymbol_0003_white_cloud.png'}],\n",
       "      'weatherDesc': [{'value': 'Cloudy'}],\n",
       "      'precipMM': '0.0',\n",
       "      'precipInches': '0.0',\n",
       "      'humidity': '72',\n",
       "      'visibility': '10',\n",
       "      'visibilityMiles': '6',\n",
       "      'pressure': '1015',\n",
       "      'pressureInches': '30',\n",
       "      'cloudcover': '74',\n",
       "      'HeatIndexC': '27',\n",
       "      'HeatIndexF': '80',\n",
       "      'DewPointC': '20',\n",
       "      'DewPointF': '67',\n",
       "      'WindChillC': '25',\n",
       "      'WindChillF': '77',\n",
       "      'WindGustMiles': '11',\n",
       "      'WindGustKmph': '17',\n",
       "      'FeelsLikeC': '27',\n",
       "      'FeelsLikeF': '80',\n",
       "      'uvIndex': '6'},\n",
       "     {'time': '1800',\n",
       "      'tempC': '23',\n",
       "      'tempF': '73',\n",
       "      'windspeedMiles': '6',\n",
       "      'windspeedKmph': '9',\n",
       "      'winddirDegree': '69',\n",
       "      'winddir16Point': 'ENE',\n",
       "      'weatherCode': '116',\n",
       "      'weatherIconUrl': [{'value': 'https://cdn.worldweatheronline.com/images/wsymbols01_png_64/wsymbol_0004_black_low_cloud.png'}],\n",
       "      'weatherDesc': [{'value': 'Partly cloudy'}],\n",
       "      'precipMM': '0.0',\n",
       "      'precipInches': '0.0',\n",
       "      'humidity': '82',\n",
       "      'visibility': '10',\n",
       "      'visibilityMiles': '6',\n",
       "      'pressure': '1015',\n",
       "      'pressureInches': '30',\n",
       "      'cloudcover': '34',\n",
       "      'HeatIndexC': '25',\n",
       "      'HeatIndexF': '77',\n",
       "      'DewPointC': '19',\n",
       "      'DewPointF': '67',\n",
       "      'WindChillC': '23',\n",
       "      'WindChillF': '73',\n",
       "      'WindGustMiles': '9',\n",
       "      'WindGustKmph': '15',\n",
       "      'FeelsLikeC': '25',\n",
       "      'FeelsLikeF': '77',\n",
       "      'uvIndex': '1'},\n",
       "     {'time': '2100',\n",
       "      'tempC': '20',\n",
       "      'tempF': '68',\n",
       "      'windspeedMiles': '5',\n",
       "      'windspeedKmph': '8',\n",
       "      'winddirDegree': '74',\n",
       "      'winddir16Point': 'ENE',\n",
       "      'weatherCode': '113',\n",
       "      'weatherIconUrl': [{'value': 'https://cdn.worldweatheronline.com/images/wsymbols01_png_64/wsymbol_0008_clear_sky_night.png'}],\n",
       "      'weatherDesc': [{'value': 'Clear'}],\n",
       "      'precipMM': '0.0',\n",
       "      'precipInches': '0.0',\n",
       "      'humidity': '90',\n",
       "      'visibility': '10',\n",
       "      'visibilityMiles': '6',\n",
       "      'pressure': '1016',\n",
       "      'pressureInches': '30',\n",
       "      'cloudcover': '10',\n",
       "      'HeatIndexC': '20',\n",
       "      'HeatIndexF': '68',\n",
       "      'DewPointC': '18',\n",
       "      'DewPointF': '65',\n",
       "      'WindChillC': '20',\n",
       "      'WindChillF': '68',\n",
       "      'WindGustMiles': '11',\n",
       "      'WindGustKmph': '17',\n",
       "      'FeelsLikeC': '20',\n",
       "      'FeelsLikeF': '68',\n",
       "      'uvIndex': '1'}]},\n",
       "   {'date': '2019-01-12',\n",
       "    'astronomy': [{'sunrise': '06:47 AM',\n",
       "      'sunset': '05:58 PM',\n",
       "      'moonrise': '11:15 AM',\n",
       "      'moonset': '11:31 PM',\n",
       "      'moon_phase': 'First Quarter',\n",
       "      'moon_illumination': '39'}],\n",
       "    'maxtempC': '27',\n",
       "    'maxtempF': '81',\n",
       "    'mintempC': '17',\n",
       "    'mintempF': '63',\n",
       "    'avgtempC': '21',\n",
       "    'avgtempF': '70',\n",
       "    'totalSnow_cm': '0.0',\n",
       "    'sunHour': '8.7',\n",
       "    'uvIndex': '6',\n",
       "    'hourly': [{'time': '0',\n",
       "      'tempC': '19',\n",
       "      'tempF': '66',\n",
       "      'windspeedMiles': '5',\n",
       "      'windspeedKmph': '8',\n",
       "      'winddirDegree': '78',\n",
       "      'winddir16Point': 'ENE',\n",
       "      'weatherCode': '113',\n",
       "      'weatherIconUrl': [{'value': 'https://cdn.worldweatheronline.com/images/wsymbols01_png_64/wsymbol_0008_clear_sky_night.png'}],\n",
       "      'weatherDesc': [{'value': 'Clear'}],\n",
       "      'precipMM': '0.0',\n",
       "      'precipInches': '0.0',\n",
       "      'humidity': '95',\n",
       "      'visibility': '2',\n",
       "      'visibilityMiles': '1',\n",
       "      'pressure': '1016',\n",
       "      'pressureInches': '30',\n",
       "      'cloudcover': '15',\n",
       "      'HeatIndexC': '19',\n",
       "      'HeatIndexF': '66',\n",
       "      'DewPointC': '18',\n",
       "      'DewPointF': '65',\n",
       "      'WindChillC': '19',\n",
       "      'WindChillF': '66',\n",
       "      'WindGustMiles': '10',\n",
       "      'WindGustKmph': '15',\n",
       "      'FeelsLikeC': '19',\n",
       "      'FeelsLikeF': '66',\n",
       "      'uvIndex': '1'},\n",
       "     {'time': '300',\n",
       "      'tempC': '18',\n",
       "      'tempF': '64',\n",
       "      'windspeedMiles': '4',\n",
       "      'windspeedKmph': '6',\n",
       "      'winddirDegree': '90',\n",
       "      'winddir16Point': 'E',\n",
       "      'weatherCode': '122',\n",
       "      'weatherIconUrl': [{'value': 'https://cdn.worldweatheronline.com/images/wsymbols01_png_64/wsymbol_0004_black_low_cloud.png'}],\n",
       "      'weatherDesc': [{'value': 'Overcast'}],\n",
       "      'precipMM': '0.0',\n",
       "      'precipInches': '0.0',\n",
       "      'humidity': '97',\n",
       "      'visibility': '0',\n",
       "      'visibilityMiles': '0',\n",
       "      'pressure': '1015',\n",
       "      'pressureInches': '30',\n",
       "      'cloudcover': '100',\n",
       "      'HeatIndexC': '18',\n",
       "      'HeatIndexF': '64',\n",
       "      'DewPointC': '17',\n",
       "      'DewPointF': '63',\n",
       "      'WindChillC': '18',\n",
       "      'WindChillF': '64',\n",
       "      'WindGustMiles': '7',\n",
       "      'WindGustKmph': '12',\n",
       "      'FeelsLikeC': '18',\n",
       "      'FeelsLikeF': '64',\n",
       "      'uvIndex': '1'},\n",
       "     {'time': '600',\n",
       "      'tempC': '17',\n",
       "      'tempF': '63',\n",
       "      'windspeedMiles': '4',\n",
       "      'windspeedKmph': '6',\n",
       "      'winddirDegree': '92',\n",
       "      'winddir16Point': 'E',\n",
       "      'weatherCode': '122',\n",
       "      'weatherIconUrl': [{'value': 'https://cdn.worldweatheronline.com/images/wsymbols01_png_64/wsymbol_0004_black_low_cloud.png'}],\n",
       "      'weatherDesc': [{'value': 'Overcast'}],\n",
       "      'precipMM': '0.0',\n",
       "      'precipInches': '0.0',\n",
       "      'humidity': '98',\n",
       "      'visibility': '0',\n",
       "      'visibilityMiles': '0',\n",
       "      'pressure': '1015',\n",
       "      'pressureInches': '30',\n",
       "      'cloudcover': '100',\n",
       "      'HeatIndexC': '17',\n",
       "      'HeatIndexF': '63',\n",
       "      'DewPointC': '17',\n",
       "      'DewPointF': '63',\n",
       "      'WindChillC': '17',\n",
       "      'WindChillF': '63',\n",
       "      'WindGustMiles': '5',\n",
       "      'WindGustKmph': '8',\n",
       "      'FeelsLikeC': '17',\n",
       "      'FeelsLikeF': '63',\n",
       "      'uvIndex': '4'},\n",
       "     {'time': '900',\n",
       "      'tempC': '21',\n",
       "      'tempF': '69',\n",
       "      'windspeedMiles': '3',\n",
       "      'windspeedKmph': '4',\n",
       "      'winddirDegree': '121',\n",
       "      'winddir16Point': 'ESE',\n",
       "      'weatherCode': '116',\n",
       "      'weatherIconUrl': [{'value': 'https://cdn.worldweatheronline.com/images/wsymbols01_png_64/wsymbol_0002_sunny_intervals.png'}],\n",
       "      'weatherDesc': [{'value': 'Partly cloudy'}],\n",
       "      'precipMM': '0.0',\n",
       "      'precipInches': '0.0',\n",
       "      'humidity': '91',\n",
       "      'visibility': '10',\n",
       "      'visibilityMiles': '6',\n",
       "      'pressure': '1017',\n",
       "      'pressureInches': '30',\n",
       "      'cloudcover': '50',\n",
       "      'HeatIndexC': '21',\n",
       "      'HeatIndexF': '69',\n",
       "      'DewPointC': '19',\n",
       "      'DewPointF': '67',\n",
       "      'WindChillC': '21',\n",
       "      'WindChillF': '69',\n",
       "      'WindGustMiles': '6',\n",
       "      'WindGustKmph': '10',\n",
       "      'FeelsLikeC': '21',\n",
       "      'FeelsLikeF': '69',\n",
       "      'uvIndex': '6'},\n",
       "     {'time': '1200',\n",
       "      'tempC': '24',\n",
       "      'tempF': '75',\n",
       "      'windspeedMiles': '4',\n",
       "      'windspeedKmph': '7',\n",
       "      'winddirDegree': '222',\n",
       "      'winddir16Point': 'SW',\n",
       "      'weatherCode': '116',\n",
       "      'weatherIconUrl': [{'value': 'https://cdn.worldweatheronline.com/images/wsymbols01_png_64/wsymbol_0002_sunny_intervals.png'}],\n",
       "      'weatherDesc': [{'value': 'Partly cloudy'}],\n",
       "      'precipMM': '0.0',\n",
       "      'precipInches': '0.0',\n",
       "      'humidity': '82',\n",
       "      'visibility': '10',\n",
       "      'visibilityMiles': '6',\n",
       "      'pressure': '1016',\n",
       "      'pressureInches': '30',\n",
       "      'cloudcover': '33',\n",
       "      'HeatIndexC': '26',\n",
       "      'HeatIndexF': '79',\n",
       "      'DewPointC': '20',\n",
       "      'DewPointF': '69',\n",
       "      'WindChillC': '24',\n",
       "      'WindChillF': '75',\n",
       "      'WindGustMiles': '6',\n",
       "      'WindGustKmph': '9',\n",
       "      'FeelsLikeC': '26',\n",
       "      'FeelsLikeF': '79',\n",
       "      'uvIndex': '6'},\n",
       "     {'time': '1500',\n",
       "      'tempC': '27',\n",
       "      'tempF': '81',\n",
       "      'windspeedMiles': '6',\n",
       "      'windspeedKmph': '9',\n",
       "      'winddirDegree': '323',\n",
       "      'winddir16Point': 'NW',\n",
       "      'weatherCode': '113',\n",
       "      'weatherIconUrl': [{'value': 'https://cdn.worldweatheronline.com/images/wsymbols01_png_64/wsymbol_0001_sunny.png'}],\n",
       "      'weatherDesc': [{'value': 'Sunny'}],\n",
       "      'precipMM': '0.0',\n",
       "      'precipInches': '0.0',\n",
       "      'humidity': '72',\n",
       "      'visibility': '10',\n",
       "      'visibilityMiles': '6',\n",
       "      'pressure': '1015',\n",
       "      'pressureInches': '30',\n",
       "      'cloudcover': '17',\n",
       "      'HeatIndexC': '30',\n",
       "      'HeatIndexF': '85',\n",
       "      'DewPointC': '22',\n",
       "      'DewPointF': '71',\n",
       "      'WindChillC': '27',\n",
       "      'WindChillF': '81',\n",
       "      'WindGustMiles': '8',\n",
       "      'WindGustKmph': '12',\n",
       "      'FeelsLikeC': '30',\n",
       "      'FeelsLikeF': '85',\n",
       "      'uvIndex': '7'},\n",
       "     {'time': '1800',\n",
       "      'tempC': '23',\n",
       "      'tempF': '73',\n",
       "      'windspeedMiles': '6',\n",
       "      'windspeedKmph': '9',\n",
       "      'winddirDegree': '348',\n",
       "      'winddir16Point': 'NNW',\n",
       "      'weatherCode': '113',\n",
       "      'weatherIconUrl': [{'value': 'https://cdn.worldweatheronline.com/images/wsymbols01_png_64/wsymbol_0008_clear_sky_night.png'}],\n",
       "      'weatherDesc': [{'value': 'Clear'}],\n",
       "      'precipMM': '0.0',\n",
       "      'precipInches': '0.0',\n",
       "      'humidity': '89',\n",
       "      'visibility': '10',\n",
       "      'visibilityMiles': '6',\n",
       "      'pressure': '1016',\n",
       "      'pressureInches': '30',\n",
       "      'cloudcover': '4',\n",
       "      'HeatIndexC': '25',\n",
       "      'HeatIndexF': '77',\n",
       "      'DewPointC': '21',\n",
       "      'DewPointF': '70',\n",
       "      'WindChillC': '23',\n",
       "      'WindChillF': '73',\n",
       "      'WindGustMiles': '7',\n",
       "      'WindGustKmph': '12',\n",
       "      'FeelsLikeC': '25',\n",
       "      'FeelsLikeF': '77',\n",
       "      'uvIndex': '1'},\n",
       "     {'time': '2100',\n",
       "      'tempC': '21',\n",
       "      'tempF': '70',\n",
       "      'windspeedMiles': '6',\n",
       "      'windspeedKmph': '9',\n",
       "      'winddirDegree': '346',\n",
       "      'winddir16Point': 'NNW',\n",
       "      'weatherCode': '113',\n",
       "      'weatherIconUrl': [{'value': 'https://cdn.worldweatheronline.com/images/wsymbols01_png_64/wsymbol_0008_clear_sky_night.png'}],\n",
       "      'weatherDesc': [{'value': 'Clear'}],\n",
       "      'precipMM': '0.0',\n",
       "      'precipInches': '0.0',\n",
       "      'humidity': '94',\n",
       "      'visibility': '2',\n",
       "      'visibilityMiles': '1',\n",
       "      'pressure': '1018',\n",
       "      'pressureInches': '30',\n",
       "      'cloudcover': '9',\n",
       "      'HeatIndexC': '24',\n",
       "      'HeatIndexF': '75',\n",
       "      'DewPointC': '20',\n",
       "      'DewPointF': '68',\n",
       "      'WindChillC': '21',\n",
       "      'WindChillF': '70',\n",
       "      'WindGustMiles': '9',\n",
       "      'WindGustKmph': '14',\n",
       "      'FeelsLikeC': '21',\n",
       "      'FeelsLikeF': '70',\n",
       "      'uvIndex': '1'}]},\n",
       "   {'date': '2019-01-13',\n",
       "    'astronomy': [{'sunrise': '06:47 AM',\n",
       "      'sunset': '05:58 PM',\n",
       "      'moonrise': '11:51 AM',\n",
       "      'moonset': 'No moonset',\n",
       "      'moon_phase': 'First Quarter',\n",
       "      'moon_illumination': '47'}],\n",
       "    'maxtempC': '26',\n",
       "    'maxtempF': '79',\n",
       "    'mintempC': '20',\n",
       "    'mintempF': '68',\n",
       "    'avgtempC': '23',\n",
       "    'avgtempF': '73',\n",
       "    'totalSnow_cm': '0.0',\n",
       "    'sunHour': '7.2',\n",
       "    'uvIndex': '5',\n",
       "    'hourly': [{'time': '0',\n",
       "      'tempC': '21',\n",
       "      'tempF': '69',\n",
       "      'windspeedMiles': '4',\n",
       "      'windspeedKmph': '7',\n",
       "      'winddirDegree': '344',\n",
       "      'winddir16Point': 'NNW',\n",
       "      'weatherCode': '119',\n",
       "      'weatherIconUrl': [{'value': 'https://cdn.worldweatheronline.com/images/wsymbols01_png_64/wsymbol_0003_white_cloud.png'}],\n",
       "      'weatherDesc': [{'value': 'Cloudy'}],\n",
       "      'precipMM': '0.0',\n",
       "      'precipInches': '0.0',\n",
       "      'humidity': '95',\n",
       "      'visibility': '2',\n",
       "      'visibilityMiles': '1',\n",
       "      'pressure': '1018',\n",
       "      'pressureInches': '30',\n",
       "      'cloudcover': '82',\n",
       "      'HeatIndexC': '21',\n",
       "      'HeatIndexF': '69',\n",
       "      'DewPointC': '20',\n",
       "      'DewPointF': '68',\n",
       "      'WindChillC': '21',\n",
       "      'WindChillF': '69',\n",
       "      'WindGustMiles': '7',\n",
       "      'WindGustKmph': '11',\n",
       "      'FeelsLikeC': '21',\n",
       "      'FeelsLikeF': '69',\n",
       "      'uvIndex': '1'},\n",
       "     {'time': '300',\n",
       "      'tempC': '21',\n",
       "      'tempF': '71',\n",
       "      'windspeedMiles': '3',\n",
       "      'windspeedKmph': '4',\n",
       "      'winddirDegree': '168',\n",
       "      'winddir16Point': 'SSE',\n",
       "      'weatherCode': '119',\n",
       "      'weatherIconUrl': [{'value': 'https://cdn.worldweatheronline.com/images/wsymbols01_png_64/wsymbol_0003_white_cloud.png'}],\n",
       "      'weatherDesc': [{'value': 'Cloudy'}],\n",
       "      'precipMM': '0.0',\n",
       "      'precipInches': '0.0',\n",
       "      'humidity': '95',\n",
       "      'visibility': '10',\n",
       "      'visibilityMiles': '6',\n",
       "      'pressure': '1018',\n",
       "      'pressureInches': '30',\n",
       "      'cloudcover': '81',\n",
       "      'HeatIndexC': '24',\n",
       "      'HeatIndexF': '76',\n",
       "      'DewPointC': '21',\n",
       "      'DewPointF': '69',\n",
       "      'WindChillC': '21',\n",
       "      'WindChillF': '71',\n",
       "      'WindGustMiles': '4',\n",
       "      'WindGustKmph': '6',\n",
       "      'FeelsLikeC': '21',\n",
       "      'FeelsLikeF': '71',\n",
       "      'uvIndex': '1'},\n",
       "     {'time': '600',\n",
       "      'tempC': '21',\n",
       "      'tempF': '69',\n",
       "      'windspeedMiles': '2',\n",
       "      'windspeedKmph': '4',\n",
       "      'winddirDegree': '40',\n",
       "      'winddir16Point': 'NE',\n",
       "      'weatherCode': '176',\n",
       "      'weatherIconUrl': [{'value': 'https://cdn.worldweatheronline.com/images/wsymbols01_png_64/wsymbol_0009_light_rain_showers.png'}],\n",
       "      'weatherDesc': [{'value': 'Patchy rain possible'}],\n",
       "      'precipMM': '0.1',\n",
       "      'precipInches': '0.0',\n",
       "      'humidity': '94',\n",
       "      'visibility': '10',\n",
       "      'visibilityMiles': '6',\n",
       "      'pressure': '1019',\n",
       "      'pressureInches': '30',\n",
       "      'cloudcover': '79',\n",
       "      'HeatIndexC': '21',\n",
       "      'HeatIndexF': '69',\n",
       "      'DewPointC': '20',\n",
       "      'DewPointF': '67',\n",
       "      'WindChillC': '21',\n",
       "      'WindChillF': '69',\n",
       "      'WindGustMiles': '3',\n",
       "      'WindGustKmph': '5',\n",
       "      'FeelsLikeC': '21',\n",
       "      'FeelsLikeF': '69',\n",
       "      'uvIndex': '5'},\n",
       "     {'time': '900',\n",
       "      'tempC': '24',\n",
       "      'tempF': '74',\n",
       "      'windspeedMiles': '3',\n",
       "      'windspeedKmph': '5',\n",
       "      'winddirDegree': '57',\n",
       "      'winddir16Point': 'ENE',\n",
       "      'weatherCode': '113',\n",
       "      'weatherIconUrl': [{'value': 'https://cdn.worldweatheronline.com/images/wsymbols01_png_64/wsymbol_0001_sunny.png'}],\n",
       "      'weatherDesc': [{'value': 'Sunny'}],\n",
       "      'precipMM': '0.0',\n",
       "      'precipInches': '0.0',\n",
       "      'humidity': '86',\n",
       "      'visibility': '10',\n",
       "      'visibilityMiles': '6',\n",
       "      'pressure': '1020',\n",
       "      'pressureInches': '30',\n",
       "      'cloudcover': '18',\n",
       "      'HeatIndexC': '26',\n",
       "      'HeatIndexF': '78',\n",
       "      'DewPointC': '21',\n",
       "      'DewPointF': '70',\n",
       "      'WindChillC': '24',\n",
       "      'WindChillF': '74',\n",
       "      'WindGustMiles': '4',\n",
       "      'WindGustKmph': '7',\n",
       "      'FeelsLikeC': '26',\n",
       "      'FeelsLikeF': '78',\n",
       "      'uvIndex': '6'},\n",
       "     {'time': '1200',\n",
       "      'tempC': '25',\n",
       "      'tempF': '77',\n",
       "      'windspeedMiles': '5',\n",
       "      'windspeedKmph': '9',\n",
       "      'winddirDegree': '51',\n",
       "      'winddir16Point': 'NE',\n",
       "      'weatherCode': '113',\n",
       "      'weatherIconUrl': [{'value': 'https://cdn.worldweatheronline.com/images/wsymbols01_png_64/wsymbol_0001_sunny.png'}],\n",
       "      'weatherDesc': [{'value': 'Sunny'}],\n",
       "      'precipMM': '0.0',\n",
       "      'precipInches': '0.0',\n",
       "      'humidity': '81',\n",
       "      'visibility': '9',\n",
       "      'visibilityMiles': '5',\n",
       "      'pressure': '1019',\n",
       "      'pressureInches': '30',\n",
       "      'cloudcover': '19',\n",
       "      'HeatIndexC': '27',\n",
       "      'HeatIndexF': '81',\n",
       "      'DewPointC': '21',\n",
       "      'DewPointF': '71',\n",
       "      'WindChillC': '25',\n",
       "      'WindChillF': '77',\n",
       "      'WindGustMiles': '12',\n",
       "      'WindGustKmph': '19',\n",
       "      'FeelsLikeC': '27',\n",
       "      'FeelsLikeF': '81',\n",
       "      'uvIndex': '6'},\n",
       "     {'time': '1500',\n",
       "      'tempC': '26',\n",
       "      'tempF': '79',\n",
       "      'windspeedMiles': '7',\n",
       "      'windspeedKmph': '12',\n",
       "      'winddirDegree': '45',\n",
       "      'winddir16Point': 'NE',\n",
       "      'weatherCode': '299',\n",
       "      'weatherIconUrl': [{'value': 'https://cdn.worldweatheronline.com/images/wsymbols01_png_64/wsymbol_0010_heavy_rain_showers.png'}],\n",
       "      'weatherDesc': [{'value': 'Moderate rain at times'}],\n",
       "      'precipMM': '0.7',\n",
       "      'precipInches': '0.0',\n",
       "      'humidity': '76',\n",
       "      'visibility': '7',\n",
       "      'visibilityMiles': '4',\n",
       "      'pressure': '1018',\n",
       "      'pressureInches': '30',\n",
       "      'cloudcover': '75',\n",
       "      'HeatIndexC': '29',\n",
       "      'HeatIndexF': '84',\n",
       "      'DewPointC': '22',\n",
       "      'DewPointF': '71',\n",
       "      'WindChillC': '26',\n",
       "      'WindChillF': '79',\n",
       "      'WindGustMiles': '14',\n",
       "      'WindGustKmph': '23',\n",
       "      'FeelsLikeC': '29',\n",
       "      'FeelsLikeF': '84',\n",
       "      'uvIndex': '6'},\n",
       "     {'time': '1800',\n",
       "      'tempC': '22',\n",
       "      'tempF': '72',\n",
       "      'windspeedMiles': '6',\n",
       "      'windspeedKmph': '9',\n",
       "      'winddirDegree': '23',\n",
       "      'winddir16Point': 'NNE',\n",
       "      'weatherCode': '305',\n",
       "      'weatherIconUrl': [{'value': 'https://cdn.worldweatheronline.com/images/wsymbols01_png_64/wsymbol_0026_heavy_rain_showers_night.png'}],\n",
       "      'weatherDesc': [{'value': 'Heavy rain at times'}],\n",
       "      'precipMM': '1.1',\n",
       "      'precipInches': '0.0',\n",
       "      'humidity': '89',\n",
       "      'visibility': '7',\n",
       "      'visibilityMiles': '4',\n",
       "      'pressure': '1019',\n",
       "      'pressureInches': '30',\n",
       "      'cloudcover': '81',\n",
       "      'HeatIndexC': '25',\n",
       "      'HeatIndexF': '76',\n",
       "      'DewPointC': '20',\n",
       "      'DewPointF': '68',\n",
       "      'WindChillC': '22',\n",
       "      'WindChillF': '72',\n",
       "      'WindGustMiles': '16',\n",
       "      'WindGustKmph': '26',\n",
       "      'FeelsLikeC': '25',\n",
       "      'FeelsLikeF': '76',\n",
       "      'uvIndex': '1'},\n",
       "     {'time': '2100',\n",
       "      'tempC': '21',\n",
       "      'tempF': '70',\n",
       "      'windspeedMiles': '3',\n",
       "      'windspeedKmph': '4',\n",
       "      'winddirDegree': '32',\n",
       "      'winddir16Point': 'NNE',\n",
       "      'weatherCode': '113',\n",
       "      'weatherIconUrl': [{'value': 'https://cdn.worldweatheronline.com/images/wsymbols01_png_64/wsymbol_0008_clear_sky_night.png'}],\n",
       "      'weatherDesc': [{'value': 'Clear'}],\n",
       "      'precipMM': '0.0',\n",
       "      'precipInches': '0.0',\n",
       "      'humidity': '92',\n",
       "      'visibility': '10',\n",
       "      'visibilityMiles': '6',\n",
       "      'pressure': '1021',\n",
       "      'pressureInches': '30',\n",
       "      'cloudcover': '10',\n",
       "      'HeatIndexC': '24',\n",
       "      'HeatIndexF': '76',\n",
       "      'DewPointC': '20',\n",
       "      'DewPointF': '67',\n",
       "      'WindChillC': '21',\n",
       "      'WindChillF': '70',\n",
       "      'WindGustMiles': '13',\n",
       "      'WindGustKmph': '21',\n",
       "      'FeelsLikeC': '21',\n",
       "      'FeelsLikeF': '70',\n",
       "      'uvIndex': '1'}]},\n",
       "   {'date': '2019-01-14',\n",
       "    'astronomy': [{'sunrise': '06:47 AM',\n",
       "      'sunset': '05:59 PM',\n",
       "      'moonrise': '12:29 PM',\n",
       "      'moonset': '12:20 AM',\n",
       "      'moon_phase': 'First Quarter',\n",
       "      'moon_illumination': '54'}],\n",
       "    'maxtempC': '25',\n",
       "    'maxtempF': '77',\n",
       "    'mintempC': '19',\n",
       "    'mintempF': '66',\n",
       "    'avgtempC': '21',\n",
       "    'avgtempF': '71',\n",
       "    'totalSnow_cm': '0.0',\n",
       "    'sunHour': '5.7',\n",
       "    'uvIndex': '6',\n",
       "    'hourly': [{'time': '0',\n",
       "      'tempC': '20',\n",
       "      'tempF': '68',\n",
       "      'windspeedMiles': '2',\n",
       "      'windspeedKmph': '3',\n",
       "      'winddirDegree': '62',\n",
       "      'winddir16Point': 'ENE',\n",
       "      'weatherCode': '113',\n",
       "      'weatherIconUrl': [{'value': 'https://cdn.worldweatheronline.com/images/wsymbols01_png_64/wsymbol_0008_clear_sky_night.png'}],\n",
       "      'weatherDesc': [{'value': 'Clear'}],\n",
       "      'precipMM': '0.0',\n",
       "      'precipInches': '0.0',\n",
       "      'humidity': '94',\n",
       "      'visibility': '2',\n",
       "      'visibilityMiles': '1',\n",
       "      'pressure': '1021',\n",
       "      'pressureInches': '30',\n",
       "      'cloudcover': '8',\n",
       "      'HeatIndexC': '20',\n",
       "      'HeatIndexF': '68',\n",
       "      'DewPointC': '19',\n",
       "      'DewPointF': '66',\n",
       "      'WindChillC': '20',\n",
       "      'WindChillF': '68',\n",
       "      'WindGustMiles': '9',\n",
       "      'WindGustKmph': '14',\n",
       "      'FeelsLikeC': '20',\n",
       "      'FeelsLikeF': '68',\n",
       "      'uvIndex': '1'},\n",
       "     {'time': '300',\n",
       "      'tempC': '19',\n",
       "      'tempF': '66',\n",
       "      'windspeedMiles': '2',\n",
       "      'windspeedKmph': '3',\n",
       "      'winddirDegree': '75',\n",
       "      'winddir16Point': 'ENE',\n",
       "      'weatherCode': '116',\n",
       "      'weatherIconUrl': [{'value': 'https://cdn.worldweatheronline.com/images/wsymbols01_png_64/wsymbol_0004_black_low_cloud.png'}],\n",
       "      'weatherDesc': [{'value': 'Partly cloudy'}],\n",
       "      'precipMM': '0.0',\n",
       "      'precipInches': '0.0',\n",
       "      'humidity': '95',\n",
       "      'visibility': '2',\n",
       "      'visibilityMiles': '1',\n",
       "      'pressure': '1021',\n",
       "      'pressureInches': '30',\n",
       "      'cloudcover': '44',\n",
       "      'HeatIndexC': '19',\n",
       "      'HeatIndexF': '66',\n",
       "      'DewPointC': '18',\n",
       "      'DewPointF': '65',\n",
       "      'WindChillC': '19',\n",
       "      'WindChillF': '66',\n",
       "      'WindGustMiles': '6',\n",
       "      'WindGustKmph': '10',\n",
       "      'FeelsLikeC': '19',\n",
       "      'FeelsLikeF': '66',\n",
       "      'uvIndex': '1'},\n",
       "     {'time': '600',\n",
       "      'tempC': '20',\n",
       "      'tempF': '68',\n",
       "      'windspeedMiles': '2',\n",
       "      'windspeedKmph': '4',\n",
       "      'winddirDegree': '157',\n",
       "      'winddir16Point': 'SSE',\n",
       "      'weatherCode': '116',\n",
       "      'weatherIconUrl': [{'value': 'https://cdn.worldweatheronline.com/images/wsymbols01_png_64/wsymbol_0002_sunny_intervals.png'}],\n",
       "      'weatherDesc': [{'value': 'Partly cloudy'}],\n",
       "      'precipMM': '0.0',\n",
       "      'precipInches': '0.0',\n",
       "      'humidity': '95',\n",
       "      'visibility': '2',\n",
       "      'visibilityMiles': '1',\n",
       "      'pressure': '1021',\n",
       "      'pressureInches': '30',\n",
       "      'cloudcover': '42',\n",
       "      'HeatIndexC': '20',\n",
       "      'HeatIndexF': '68',\n",
       "      'DewPointC': '19',\n",
       "      'DewPointF': '66',\n",
       "      'WindChillC': '20',\n",
       "      'WindChillF': '68',\n",
       "      'WindGustMiles': '3',\n",
       "      'WindGustKmph': '5',\n",
       "      'FeelsLikeC': '20',\n",
       "      'FeelsLikeF': '68',\n",
       "      'uvIndex': '5'},\n",
       "     {'time': '900',\n",
       "      'tempC': '23',\n",
       "      'tempF': '73',\n",
       "      'windspeedMiles': '4',\n",
       "      'windspeedKmph': '6',\n",
       "      'winddirDegree': '299',\n",
       "      'winddir16Point': 'WNW',\n",
       "      'weatherCode': '176',\n",
       "      'weatherIconUrl': [{'value': 'https://cdn.worldweatheronline.com/images/wsymbols01_png_64/wsymbol_0009_light_rain_showers.png'}],\n",
       "      'weatherDesc': [{'value': 'Patchy rain possible'}],\n",
       "      'precipMM': '0.3',\n",
       "      'precipInches': '0.0',\n",
       "      'humidity': '86',\n",
       "      'visibility': '9',\n",
       "      'visibilityMiles': '5',\n",
       "      'pressure': '1023',\n",
       "      'pressureInches': '30',\n",
       "      'cloudcover': '80',\n",
       "      'HeatIndexC': '25',\n",
       "      'HeatIndexF': '77',\n",
       "      'DewPointC': '20',\n",
       "      'DewPointF': '69',\n",
       "      'WindChillC': '23',\n",
       "      'WindChillF': '73',\n",
       "      'WindGustMiles': '7',\n",
       "      'WindGustKmph': '11',\n",
       "      'FeelsLikeC': '25',\n",
       "      'FeelsLikeF': '77',\n",
       "      'uvIndex': '5'},\n",
       "     {'time': '1200',\n",
       "      'tempC': '24',\n",
       "      'tempF': '75',\n",
       "      'windspeedMiles': '7',\n",
       "      'windspeedKmph': '12',\n",
       "      'winddirDegree': '169',\n",
       "      'winddir16Point': 'SSE',\n",
       "      'weatherCode': '113',\n",
       "      'weatherIconUrl': [{'value': 'https://cdn.worldweatheronline.com/images/wsymbols01_png_64/wsymbol_0001_sunny.png'}],\n",
       "      'weatherDesc': [{'value': 'Sunny'}],\n",
       "      'precipMM': '0.0',\n",
       "      'precipInches': '0.0',\n",
       "      'humidity': '82',\n",
       "      'visibility': '9',\n",
       "      'visibilityMiles': '5',\n",
       "      'pressure': '1021',\n",
       "      'pressureInches': '30',\n",
       "      'cloudcover': '22',\n",
       "      'HeatIndexC': '26',\n",
       "      'HeatIndexF': '79',\n",
       "      'DewPointC': '21',\n",
       "      'DewPointF': '69',\n",
       "      'WindChillC': '24',\n",
       "      'WindChillF': '75',\n",
       "      'WindGustMiles': '12',\n",
       "      'WindGustKmph': '20',\n",
       "      'FeelsLikeC': '26',\n",
       "      'FeelsLikeF': '79',\n",
       "      'uvIndex': '6'},\n",
       "     {'time': '1500',\n",
       "      'tempC': '25',\n",
       "      'tempF': '77',\n",
       "      'windspeedMiles': '11',\n",
       "      'windspeedKmph': '18',\n",
       "      'winddirDegree': '39',\n",
       "      'winddir16Point': 'NE',\n",
       "      'weatherCode': '176',\n",
       "      'weatherIconUrl': [{'value': 'https://cdn.worldweatheronline.com/images/wsymbols01_png_64/wsymbol_0009_light_rain_showers.png'}],\n",
       "      'weatherDesc': [{'value': 'Patchy rain possible'}],\n",
       "      'precipMM': '0.2',\n",
       "      'precipInches': '0.0',\n",
       "      'humidity': '79',\n",
       "      'visibility': '9',\n",
       "      'visibilityMiles': '5',\n",
       "      'pressure': '1020',\n",
       "      'pressureInches': '30',\n",
       "      'cloudcover': '82',\n",
       "      'HeatIndexC': '27',\n",
       "      'HeatIndexF': '80',\n",
       "      'DewPointC': '21',\n",
       "      'DewPointF': '70',\n",
       "      'WindChillC': '25',\n",
       "      'WindChillF': '77',\n",
       "      'WindGustMiles': '16',\n",
       "      'WindGustKmph': '26',\n",
       "      'FeelsLikeC': '27',\n",
       "      'FeelsLikeF': '80',\n",
       "      'uvIndex': '5'},\n",
       "     {'time': '1800',\n",
       "      'tempC': '22',\n",
       "      'tempF': '71',\n",
       "      'windspeedMiles': '9',\n",
       "      'windspeedKmph': '14',\n",
       "      'winddirDegree': '19',\n",
       "      'winddir16Point': 'NNE',\n",
       "      'weatherCode': '113',\n",
       "      'weatherIconUrl': [{'value': 'https://cdn.worldweatheronline.com/images/wsymbols01_png_64/wsymbol_0008_clear_sky_night.png'}],\n",
       "      'weatherDesc': [{'value': 'Clear'}],\n",
       "      'precipMM': '0.0',\n",
       "      'precipInches': '0.0',\n",
       "      'humidity': '90',\n",
       "      'visibility': '7',\n",
       "      'visibilityMiles': '4',\n",
       "      'pressure': '1020',\n",
       "      'pressureInches': '30',\n",
       "      'cloudcover': '17',\n",
       "      'HeatIndexC': '24',\n",
       "      'HeatIndexF': '76',\n",
       "      'DewPointC': '20',\n",
       "      'DewPointF': '68',\n",
       "      'WindChillC': '22',\n",
       "      'WindChillF': '71',\n",
       "      'WindGustMiles': '14',\n",
       "      'WindGustKmph': '23',\n",
       "      'FeelsLikeC': '22',\n",
       "      'FeelsLikeF': '71',\n",
       "      'uvIndex': '1'},\n",
       "     {'time': '2100',\n",
       "      'tempC': '21',\n",
       "      'tempF': '69',\n",
       "      'windspeedMiles': '8',\n",
       "      'windspeedKmph': '12',\n",
       "      'winddirDegree': '20',\n",
       "      'winddir16Point': 'NNE',\n",
       "      'weatherCode': '176',\n",
       "      'weatherIconUrl': [{'value': 'https://cdn.worldweatheronline.com/images/wsymbols01_png_64/wsymbol_0025_light_rain_showers_night.png'}],\n",
       "      'weatherDesc': [{'value': 'Patchy rain possible'}],\n",
       "      'precipMM': '0.4',\n",
       "      'precipInches': '0.0',\n",
       "      'humidity': '95',\n",
       "      'visibility': '9',\n",
       "      'visibilityMiles': '5',\n",
       "      'pressure': '1021',\n",
       "      'pressureInches': '30',\n",
       "      'cloudcover': '88',\n",
       "      'HeatIndexC': '21',\n",
       "      'HeatIndexF': '69',\n",
       "      'DewPointC': '20',\n",
       "      'DewPointF': '67',\n",
       "      'WindChillC': '21',\n",
       "      'WindChillF': '69',\n",
       "      'WindGustMiles': '15',\n",
       "      'WindGustKmph': '24',\n",
       "      'FeelsLikeC': '21',\n",
       "      'FeelsLikeF': '69',\n",
       "      'uvIndex': '1'}]},\n",
       "   {'date': '2019-01-15',\n",
       "    'astronomy': [{'sunrise': '06:47 AM',\n",
       "      'sunset': '05:59 PM',\n",
       "      'moonrise': '01:10 PM',\n",
       "      'moonset': '01:11 AM',\n",
       "      'moon_phase': 'First Quarter',\n",
       "      'moon_illumination': '61'}],\n",
       "    'maxtempC': '23',\n",
       "    'maxtempF': '74',\n",
       "    'mintempC': '20',\n",
       "    'mintempF': '68',\n",
       "    'avgtempC': '21',\n",
       "    'avgtempF': '71',\n",
       "    'totalSnow_cm': '0.0',\n",
       "    'sunHour': '4.2',\n",
       "    'uvIndex': '5',\n",
       "    'hourly': [{'time': '0',\n",
       "      'tempC': '20',\n",
       "      'tempF': '69',\n",
       "      'windspeedMiles': '6',\n",
       "      'windspeedKmph': '10',\n",
       "      'winddirDegree': '30',\n",
       "      'winddir16Point': 'NNE',\n",
       "      'weatherCode': '176',\n",
       "      'weatherIconUrl': [{'value': 'https://cdn.worldweatheronline.com/images/wsymbols01_png_64/wsymbol_0025_light_rain_showers_night.png'}],\n",
       "      'weatherDesc': [{'value': 'Patchy rain possible'}],\n",
       "      'precipMM': '0.3',\n",
       "      'precipInches': '0.0',\n",
       "      'humidity': '97',\n",
       "      'visibility': '7',\n",
       "      'visibilityMiles': '4',\n",
       "      'pressure': '1021',\n",
       "      'pressureInches': '30',\n",
       "      'cloudcover': '81',\n",
       "      'HeatIndexC': '20',\n",
       "      'HeatIndexF': '69',\n",
       "      'DewPointC': '20',\n",
       "      'DewPointF': '68',\n",
       "      'WindChillC': '20',\n",
       "      'WindChillF': '69',\n",
       "      'WindGustMiles': '12',\n",
       "      'WindGustKmph': '19',\n",
       "      'FeelsLikeC': '20',\n",
       "      'FeelsLikeF': '69',\n",
       "      'uvIndex': '1'},\n",
       "     {'time': '300',\n",
       "      'tempC': '21',\n",
       "      'tempF': '69',\n",
       "      'windspeedMiles': '3',\n",
       "      'windspeedKmph': '5',\n",
       "      'winddirDegree': '32',\n",
       "      'winddir16Point': 'NNE',\n",
       "      'weatherCode': '176',\n",
       "      'weatherIconUrl': [{'value': 'https://cdn.worldweatheronline.com/images/wsymbols01_png_64/wsymbol_0025_light_rain_showers_night.png'}],\n",
       "      'weatherDesc': [{'value': 'Patchy rain possible'}],\n",
       "      'precipMM': '0.4',\n",
       "      'precipInches': '0.0',\n",
       "      'humidity': '95',\n",
       "      'visibility': '9',\n",
       "      'visibilityMiles': '5',\n",
       "      'pressure': '1020',\n",
       "      'pressureInches': '30',\n",
       "      'cloudcover': '72',\n",
       "      'HeatIndexC': '21',\n",
       "      'HeatIndexF': '69',\n",
       "      'DewPointC': '20',\n",
       "      'DewPointF': '68',\n",
       "      'WindChillC': '21',\n",
       "      'WindChillF': '69',\n",
       "      'WindGustMiles': '9',\n",
       "      'WindGustKmph': '14',\n",
       "      'FeelsLikeC': '21',\n",
       "      'FeelsLikeF': '69',\n",
       "      'uvIndex': '1'},\n",
       "     {'time': '600',\n",
       "      'tempC': '20',\n",
       "      'tempF': '68',\n",
       "      'windspeedMiles': '3',\n",
       "      'windspeedKmph': '4',\n",
       "      'winddirDegree': '22',\n",
       "      'winddir16Point': 'NNE',\n",
       "      'weatherCode': '176',\n",
       "      'weatherIconUrl': [{'value': 'https://cdn.worldweatheronline.com/images/wsymbols01_png_64/wsymbol_0009_light_rain_showers.png'}],\n",
       "      'weatherDesc': [{'value': 'Patchy rain possible'}],\n",
       "      'precipMM': '0.3',\n",
       "      'precipInches': '0.0',\n",
       "      'humidity': '94',\n",
       "      'visibility': '10',\n",
       "      'visibilityMiles': '6',\n",
       "      'pressure': '1020',\n",
       "      'pressureInches': '30',\n",
       "      'cloudcover': '83',\n",
       "      'HeatIndexC': '20',\n",
       "      'HeatIndexF': '68',\n",
       "      'DewPointC': '19',\n",
       "      'DewPointF': '67',\n",
       "      'WindChillC': '20',\n",
       "      'WindChillF': '68',\n",
       "      'WindGustMiles': '8',\n",
       "      'WindGustKmph': '13',\n",
       "      'FeelsLikeC': '20',\n",
       "      'FeelsLikeF': '68',\n",
       "      'uvIndex': '5'},\n",
       "     {'time': '900',\n",
       "      'tempC': '22',\n",
       "      'tempF': '72',\n",
       "      'windspeedMiles': '6',\n",
       "      'windspeedKmph': '9',\n",
       "      'winddirDegree': '68',\n",
       "      'winddir16Point': 'ENE',\n",
       "      'weatherCode': '119',\n",
       "      'weatherIconUrl': [{'value': 'https://cdn.worldweatheronline.com/images/wsymbols01_png_64/wsymbol_0003_white_cloud.png'}],\n",
       "      'weatherDesc': [{'value': 'Cloudy'}],\n",
       "      'precipMM': '0.0',\n",
       "      'precipInches': '0.0',\n",
       "      'humidity': '89',\n",
       "      'visibility': '10',\n",
       "      'visibilityMiles': '6',\n",
       "      'pressure': '1022',\n",
       "      'pressureInches': '30',\n",
       "      'cloudcover': '80',\n",
       "      'HeatIndexC': '25',\n",
       "      'HeatIndexF': '76',\n",
       "      'DewPointC': '20',\n",
       "      'DewPointF': '69',\n",
       "      'WindChillC': '22',\n",
       "      'WindChillF': '72',\n",
       "      'WindGustMiles': '9',\n",
       "      'WindGustKmph': '14',\n",
       "      'FeelsLikeC': '25',\n",
       "      'FeelsLikeF': '76',\n",
       "      'uvIndex': '5'},\n",
       "     {'time': '1200',\n",
       "      'tempC': '23',\n",
       "      'tempF': '73',\n",
       "      'windspeedMiles': '8',\n",
       "      'windspeedKmph': '12',\n",
       "      'winddirDegree': '66',\n",
       "      'winddir16Point': 'ENE',\n",
       "      'weatherCode': '356',\n",
       "      'weatherIconUrl': [{'value': 'https://cdn.worldweatheronline.com/images/wsymbols01_png_64/wsymbol_0010_heavy_rain_showers.png'}],\n",
       "      'weatherDesc': [{'value': 'Moderate or heavy rain shower'}],\n",
       "      'precipMM': '2.5',\n",
       "      'precipInches': '0.1',\n",
       "      'humidity': '88',\n",
       "      'visibility': '10',\n",
       "      'visibilityMiles': '6',\n",
       "      'pressure': '1020',\n",
       "      'pressureInches': '30',\n",
       "      'cloudcover': '62',\n",
       "      'HeatIndexC': '25',\n",
       "      'HeatIndexF': '77',\n",
       "      'DewPointC': '21',\n",
       "      'DewPointF': '69',\n",
       "      'WindChillC': '23',\n",
       "      'WindChillF': '73',\n",
       "      'WindGustMiles': '9',\n",
       "      'WindGustKmph': '14',\n",
       "      'FeelsLikeC': '25',\n",
       "      'FeelsLikeF': '77',\n",
       "      'uvIndex': '5'},\n",
       "     {'time': '1500',\n",
       "      'tempC': '23',\n",
       "      'tempF': '74',\n",
       "      'windspeedMiles': '10',\n",
       "      'windspeedKmph': '15',\n",
       "      'winddirDegree': '65',\n",
       "      'winddir16Point': 'ENE',\n",
       "      'weatherCode': '356',\n",
       "      'weatherIconUrl': [{'value': 'https://cdn.worldweatheronline.com/images/wsymbols01_png_64/wsymbol_0010_heavy_rain_showers.png'}],\n",
       "      'weatherDesc': [{'value': 'Moderate or heavy rain shower'}],\n",
       "      'precipMM': '1.7',\n",
       "      'precipInches': '0.1',\n",
       "      'humidity': '87',\n",
       "      'visibility': '10',\n",
       "      'visibilityMiles': '6',\n",
       "      'pressure': '1019',\n",
       "      'pressureInches': '30',\n",
       "      'cloudcover': '84',\n",
       "      'HeatIndexC': '26',\n",
       "      'HeatIndexF': '78',\n",
       "      'DewPointC': '21',\n",
       "      'DewPointF': '70',\n",
       "      'WindChillC': '23',\n",
       "      'WindChillF': '74',\n",
       "      'WindGustMiles': '15',\n",
       "      'WindGustKmph': '24',\n",
       "      'FeelsLikeC': '26',\n",
       "      'FeelsLikeF': '78',\n",
       "      'uvIndex': '5'},\n",
       "     {'time': '1800',\n",
       "      'tempC': '21',\n",
       "      'tempF': '70',\n",
       "      'windspeedMiles': '7',\n",
       "      'windspeedKmph': '12',\n",
       "      'winddirDegree': '39',\n",
       "      'winddir16Point': 'NE',\n",
       "      'weatherCode': '116',\n",
       "      'weatherIconUrl': [{'value': 'https://cdn.worldweatheronline.com/images/wsymbols01_png_64/wsymbol_0004_black_low_cloud.png'}],\n",
       "      'weatherDesc': [{'value': 'Partly cloudy'}],\n",
       "      'precipMM': '0.0',\n",
       "      'precipInches': '0.0',\n",
       "      'humidity': '93',\n",
       "      'visibility': '10',\n",
       "      'visibilityMiles': '6',\n",
       "      'pressure': '1019',\n",
       "      'pressureInches': '30',\n",
       "      'cloudcover': '57',\n",
       "      'HeatIndexC': '24',\n",
       "      'HeatIndexF': '76',\n",
       "      'DewPointC': '20',\n",
       "      'DewPointF': '68',\n",
       "      'WindChillC': '21',\n",
       "      'WindChillF': '70',\n",
       "      'WindGustMiles': '12',\n",
       "      'WindGustKmph': '20',\n",
       "      'FeelsLikeC': '21',\n",
       "      'FeelsLikeF': '70',\n",
       "      'uvIndex': '1'},\n",
       "     {'time': '2100',\n",
       "      'tempC': '21',\n",
       "      'tempF': '69',\n",
       "      'windspeedMiles': '7',\n",
       "      'windspeedKmph': '11',\n",
       "      'winddirDegree': '32',\n",
       "      'winddir16Point': 'NNE',\n",
       "      'weatherCode': '176',\n",
       "      'weatherIconUrl': [{'value': 'https://cdn.worldweatheronline.com/images/wsymbols01_png_64/wsymbol_0025_light_rain_showers_night.png'}],\n",
       "      'weatherDesc': [{'value': 'Patchy rain possible'}],\n",
       "      'precipMM': '0.3',\n",
       "      'precipInches': '0.0',\n",
       "      'humidity': '96',\n",
       "      'visibility': '10',\n",
       "      'visibilityMiles': '6',\n",
       "      'pressure': '1021',\n",
       "      'pressureInches': '30',\n",
       "      'cloudcover': '82',\n",
       "      'HeatIndexC': '21',\n",
       "      'HeatIndexF': '69',\n",
       "      'DewPointC': '20',\n",
       "      'DewPointF': '68',\n",
       "      'WindChillC': '21',\n",
       "      'WindChillF': '69',\n",
       "      'WindGustMiles': '13',\n",
       "      'WindGustKmph': '21',\n",
       "      'FeelsLikeC': '21',\n",
       "      'FeelsLikeF': '69',\n",
       "      'uvIndex': '1'}]}]}}"
      ]
     },
     "execution_count": 8,
     "metadata": {},
     "output_type": "execute_result"
    }
   ],
   "source": [
    "data"
   ]
  },
  {
   "cell_type": "code",
   "execution_count": 9,
   "metadata": {},
   "outputs": [],
   "source": [
    "weather_mapping = {\n",
    "    'Clear': 'Sunny',\n",
    "    'Partly cloudy': 'Cloudy',\n",
    "    'Overcast': 'Cloudy',\n",
    "    'Mist': 'Rainy',\n",
    "    'Patchy rain possible': 'Rainy',\n",
    "    'Moderate or heavy rain shower' : 'Rainy',\n",
    "    'Moderate rain at times' : 'Rainy',\n",
    "    'Heavy rain at times' : 'Rainy',\n",
    "    'Light rain': 'Rainy',\n",
    "    'Moderate rain': 'Rainy',\n",
    "    'Heavy rain': 'Rainy',\n",
    "    'Patchy snow possible': 'Snow',\n",
    "    'Light snow': 'Snow',\n",
    "    'Moderate snow': 'Snow',\n",
    "    'Heavy snow': 'Snow',\n",
    "    'Freezing fog': 'Snow',\n",
    "    'Thundery outbreaks possible': 'Rainy',\n",
    "    'Blizzard': 'Snow'\n",
    "}\n",
    "\n",
    "\n",
    "for day in data['data']['weather']:\n",
    "    for hourly_data in day['hourly']:\n",
    "        hourly_data['weatherDesc'] = [{'value': weather_mapping.get(desc['value'], desc['value'])} for desc in hourly_data['weatherDesc']]\n",
    "    dates = []\n",
    "    times = []\n",
    "    temp_C = []\n",
    "    Visibility = []\n",
    "    weather_list = []\n",
    "    windspeed = []\n",
    "\n",
    "    hourly_data['weatherDesc']\n",
    "\n",
    "\n",
    "    for weather_data in data['data']['weather']:\n",
    "        date = weather_data['date']\n",
    "        hourly_data = weather_data['hourly']\n",
    "        for hour_data in hourly_data:\n",
    "            temp_c = hour_data['tempC']\n",
    "            wind = hour_data['windspeedKmph']\n",
    "            visibility = hour_data['visibility']\n",
    "            time = hour_data['time']\n",
    "            weather = hour_data['weatherDesc'][0]['value']\n",
    "            \n",
    "            dates.append(date)\n",
    "            times.append(time)\n",
    "            temp_C.append(temp_c)\n",
    "            Visibility.append(visibility)\n",
    "            windspeed.append(wind)\n",
    "            weather_list.append(weather)\n",
    "\n",
    "    df_CHI_weather = pd.DataFrame({\n",
    "        'Date': dates,\n",
    "        'Time (24h)': times,\n",
    "        'Temperature (C)' : temp_C,\n",
    "        'Visibility (km)' : Visibility,\n",
    "        'Wind Speed (kmph)' : windspeed,\n",
    "        'Weather Condition' : weather_list\n",
    "    })\n",
    "\n",
    "\n"
   ]
  },
  {
   "cell_type": "code",
   "execution_count": 10,
   "metadata": {},
   "outputs": [
    {
     "data": {
      "text/html": [
       "<div>\n",
       "<style scoped>\n",
       "    .dataframe tbody tr th:only-of-type {\n",
       "        vertical-align: middle;\n",
       "    }\n",
       "\n",
       "    .dataframe tbody tr th {\n",
       "        vertical-align: top;\n",
       "    }\n",
       "\n",
       "    .dataframe thead th {\n",
       "        text-align: right;\n",
       "    }\n",
       "</style>\n",
       "<table border=\"1\" class=\"dataframe\">\n",
       "  <thead>\n",
       "    <tr style=\"text-align: right;\">\n",
       "      <th></th>\n",
       "      <th>Date</th>\n",
       "      <th>Time (24h)</th>\n",
       "      <th>Temperature (C)</th>\n",
       "      <th>Visibility (km)</th>\n",
       "      <th>Wind Speed (kmph)</th>\n",
       "      <th>Weather Condition</th>\n",
       "    </tr>\n",
       "  </thead>\n",
       "  <tbody>\n",
       "    <tr>\n",
       "      <th>0</th>\n",
       "      <td>2019-01-01</td>\n",
       "      <td>0</td>\n",
       "      <td>23</td>\n",
       "      <td>2</td>\n",
       "      <td>6</td>\n",
       "      <td>Sunny</td>\n",
       "    </tr>\n",
       "    <tr>\n",
       "      <th>1</th>\n",
       "      <td>2019-01-01</td>\n",
       "      <td>300</td>\n",
       "      <td>21</td>\n",
       "      <td>2</td>\n",
       "      <td>5</td>\n",
       "      <td>Sunny</td>\n",
       "    </tr>\n",
       "    <tr>\n",
       "      <th>2</th>\n",
       "      <td>2019-01-01</td>\n",
       "      <td>600</td>\n",
       "      <td>20</td>\n",
       "      <td>2</td>\n",
       "      <td>2</td>\n",
       "      <td>Cloudy</td>\n",
       "    </tr>\n",
       "    <tr>\n",
       "      <th>3</th>\n",
       "      <td>2019-01-01</td>\n",
       "      <td>900</td>\n",
       "      <td>23</td>\n",
       "      <td>10</td>\n",
       "      <td>7</td>\n",
       "      <td>Sunny</td>\n",
       "    </tr>\n",
       "    <tr>\n",
       "      <th>4</th>\n",
       "      <td>2019-01-01</td>\n",
       "      <td>1200</td>\n",
       "      <td>27</td>\n",
       "      <td>10</td>\n",
       "      <td>9</td>\n",
       "      <td>Cloudy</td>\n",
       "    </tr>\n",
       "    <tr>\n",
       "      <th>5</th>\n",
       "      <td>2019-01-01</td>\n",
       "      <td>1500</td>\n",
       "      <td>29</td>\n",
       "      <td>10</td>\n",
       "      <td>11</td>\n",
       "      <td>Cloudy</td>\n",
       "    </tr>\n",
       "    <tr>\n",
       "      <th>6</th>\n",
       "      <td>2019-01-01</td>\n",
       "      <td>1800</td>\n",
       "      <td>25</td>\n",
       "      <td>9</td>\n",
       "      <td>9</td>\n",
       "      <td>Sunny</td>\n",
       "    </tr>\n",
       "    <tr>\n",
       "      <th>7</th>\n",
       "      <td>2019-01-01</td>\n",
       "      <td>2100</td>\n",
       "      <td>23</td>\n",
       "      <td>9</td>\n",
       "      <td>7</td>\n",
       "      <td>Cloudy</td>\n",
       "    </tr>\n",
       "    <tr>\n",
       "      <th>8</th>\n",
       "      <td>2019-01-02</td>\n",
       "      <td>0</td>\n",
       "      <td>22</td>\n",
       "      <td>9</td>\n",
       "      <td>11</td>\n",
       "      <td>Sunny</td>\n",
       "    </tr>\n",
       "    <tr>\n",
       "      <th>9</th>\n",
       "      <td>2019-01-02</td>\n",
       "      <td>300</td>\n",
       "      <td>24</td>\n",
       "      <td>4</td>\n",
       "      <td>14</td>\n",
       "      <td>Cloudy</td>\n",
       "    </tr>\n",
       "    <tr>\n",
       "      <th>10</th>\n",
       "      <td>2019-01-02</td>\n",
       "      <td>600</td>\n",
       "      <td>23</td>\n",
       "      <td>2</td>\n",
       "      <td>15</td>\n",
       "      <td>Cloudy</td>\n",
       "    </tr>\n",
       "    <tr>\n",
       "      <th>11</th>\n",
       "      <td>2019-01-02</td>\n",
       "      <td>900</td>\n",
       "      <td>24</td>\n",
       "      <td>10</td>\n",
       "      <td>19</td>\n",
       "      <td>Cloudy</td>\n",
       "    </tr>\n",
       "    <tr>\n",
       "      <th>12</th>\n",
       "      <td>2019-01-02</td>\n",
       "      <td>1200</td>\n",
       "      <td>27</td>\n",
       "      <td>10</td>\n",
       "      <td>15</td>\n",
       "      <td>Cloudy</td>\n",
       "    </tr>\n",
       "    <tr>\n",
       "      <th>13</th>\n",
       "      <td>2019-01-02</td>\n",
       "      <td>1500</td>\n",
       "      <td>28</td>\n",
       "      <td>9</td>\n",
       "      <td>12</td>\n",
       "      <td>Cloudy</td>\n",
       "    </tr>\n",
       "    <tr>\n",
       "      <th>14</th>\n",
       "      <td>2019-01-02</td>\n",
       "      <td>1800</td>\n",
       "      <td>26</td>\n",
       "      <td>7</td>\n",
       "      <td>8</td>\n",
       "      <td>Sunny</td>\n",
       "    </tr>\n",
       "    <tr>\n",
       "      <th>15</th>\n",
       "      <td>2019-01-02</td>\n",
       "      <td>2100</td>\n",
       "      <td>24</td>\n",
       "      <td>10</td>\n",
       "      <td>8</td>\n",
       "      <td>Sunny</td>\n",
       "    </tr>\n",
       "    <tr>\n",
       "      <th>16</th>\n",
       "      <td>2019-01-03</td>\n",
       "      <td>0</td>\n",
       "      <td>23</td>\n",
       "      <td>10</td>\n",
       "      <td>9</td>\n",
       "      <td>Sunny</td>\n",
       "    </tr>\n",
       "    <tr>\n",
       "      <th>17</th>\n",
       "      <td>2019-01-03</td>\n",
       "      <td>300</td>\n",
       "      <td>22</td>\n",
       "      <td>2</td>\n",
       "      <td>3</td>\n",
       "      <td>Sunny</td>\n",
       "    </tr>\n",
       "    <tr>\n",
       "      <th>18</th>\n",
       "      <td>2019-01-03</td>\n",
       "      <td>600</td>\n",
       "      <td>21</td>\n",
       "      <td>2</td>\n",
       "      <td>4</td>\n",
       "      <td>Cloudy</td>\n",
       "    </tr>\n",
       "    <tr>\n",
       "      <th>19</th>\n",
       "      <td>2019-01-03</td>\n",
       "      <td>900</td>\n",
       "      <td>24</td>\n",
       "      <td>10</td>\n",
       "      <td>6</td>\n",
       "      <td>Cloudy</td>\n",
       "    </tr>\n",
       "  </tbody>\n",
       "</table>\n",
       "</div>"
      ],
      "text/plain": [
       "          Date Time (24h) Temperature (C) Visibility (km) Wind Speed (kmph)  \\\n",
       "0   2019-01-01          0              23               2                 6   \n",
       "1   2019-01-01        300              21               2                 5   \n",
       "2   2019-01-01        600              20               2                 2   \n",
       "3   2019-01-01        900              23              10                 7   \n",
       "4   2019-01-01       1200              27              10                 9   \n",
       "5   2019-01-01       1500              29              10                11   \n",
       "6   2019-01-01       1800              25               9                 9   \n",
       "7   2019-01-01       2100              23               9                 7   \n",
       "8   2019-01-02          0              22               9                11   \n",
       "9   2019-01-02        300              24               4                14   \n",
       "10  2019-01-02        600              23               2                15   \n",
       "11  2019-01-02        900              24              10                19   \n",
       "12  2019-01-02       1200              27              10                15   \n",
       "13  2019-01-02       1500              28               9                12   \n",
       "14  2019-01-02       1800              26               7                 8   \n",
       "15  2019-01-02       2100              24              10                 8   \n",
       "16  2019-01-03          0              23              10                 9   \n",
       "17  2019-01-03        300              22               2                 3   \n",
       "18  2019-01-03        600              21               2                 4   \n",
       "19  2019-01-03        900              24              10                 6   \n",
       "\n",
       "   Weather Condition  \n",
       "0              Sunny  \n",
       "1              Sunny  \n",
       "2             Cloudy  \n",
       "3              Sunny  \n",
       "4             Cloudy  \n",
       "5             Cloudy  \n",
       "6              Sunny  \n",
       "7             Cloudy  \n",
       "8              Sunny  \n",
       "9             Cloudy  \n",
       "10            Cloudy  \n",
       "11            Cloudy  \n",
       "12            Cloudy  \n",
       "13            Cloudy  \n",
       "14             Sunny  \n",
       "15             Sunny  \n",
       "16             Sunny  \n",
       "17             Sunny  \n",
       "18            Cloudy  \n",
       "19            Cloudy  "
      ]
     },
     "execution_count": 10,
     "metadata": {},
     "output_type": "execute_result"
    }
   ],
   "source": [
    "df_CHI_weather.head(20)"
   ]
  },
  {
   "cell_type": "code",
   "execution_count": 12,
   "metadata": {},
   "outputs": [
    {
     "data": {
      "text/html": [
       "<div>\n",
       "<style scoped>\n",
       "    .dataframe tbody tr th:only-of-type {\n",
       "        vertical-align: middle;\n",
       "    }\n",
       "\n",
       "    .dataframe tbody tr th {\n",
       "        vertical-align: top;\n",
       "    }\n",
       "\n",
       "    .dataframe thead th {\n",
       "        text-align: right;\n",
       "    }\n",
       "</style>\n",
       "<table border=\"1\" class=\"dataframe\">\n",
       "  <thead>\n",
       "    <tr style=\"text-align: right;\">\n",
       "      <th></th>\n",
       "      <th>Date</th>\n",
       "      <th>Weather</th>\n",
       "    </tr>\n",
       "  </thead>\n",
       "  <tbody>\n",
       "    <tr>\n",
       "      <th>0</th>\n",
       "      <td>2019-01-01</td>\n",
       "      <td>Sunny</td>\n",
       "    </tr>\n",
       "    <tr>\n",
       "      <th>2</th>\n",
       "      <td>2019-01-01</td>\n",
       "      <td>Cloudy</td>\n",
       "    </tr>\n",
       "    <tr>\n",
       "      <th>8</th>\n",
       "      <td>2019-01-02</td>\n",
       "      <td>Sunny</td>\n",
       "    </tr>\n",
       "    <tr>\n",
       "      <th>9</th>\n",
       "      <td>2019-01-02</td>\n",
       "      <td>Cloudy</td>\n",
       "    </tr>\n",
       "    <tr>\n",
       "      <th>16</th>\n",
       "      <td>2019-01-03</td>\n",
       "      <td>Sunny</td>\n",
       "    </tr>\n",
       "    <tr>\n",
       "      <th>18</th>\n",
       "      <td>2019-01-03</td>\n",
       "      <td>Cloudy</td>\n",
       "    </tr>\n",
       "    <tr>\n",
       "      <th>24</th>\n",
       "      <td>2019-01-04</td>\n",
       "      <td>Cloudy</td>\n",
       "    </tr>\n",
       "    <tr>\n",
       "      <th>27</th>\n",
       "      <td>2019-01-04</td>\n",
       "      <td>Rainy</td>\n",
       "    </tr>\n",
       "    <tr>\n",
       "      <th>32</th>\n",
       "      <td>2019-01-05</td>\n",
       "      <td>Rainy</td>\n",
       "    </tr>\n",
       "    <tr>\n",
       "      <th>33</th>\n",
       "      <td>2019-01-05</td>\n",
       "      <td>Cloudy</td>\n",
       "    </tr>\n",
       "    <tr>\n",
       "      <th>40</th>\n",
       "      <td>2019-01-06</td>\n",
       "      <td>Rainy</td>\n",
       "    </tr>\n",
       "    <tr>\n",
       "      <th>43</th>\n",
       "      <td>2019-01-06</td>\n",
       "      <td>Cloudy</td>\n",
       "    </tr>\n",
       "    <tr>\n",
       "      <th>48</th>\n",
       "      <td>2019-01-07</td>\n",
       "      <td>Cloudy</td>\n",
       "    </tr>\n",
       "    <tr>\n",
       "      <th>54</th>\n",
       "      <td>2019-01-07</td>\n",
       "      <td>Sunny</td>\n",
       "    </tr>\n",
       "    <tr>\n",
       "      <th>56</th>\n",
       "      <td>2019-01-08</td>\n",
       "      <td>Sunny</td>\n",
       "    </tr>\n",
       "    <tr>\n",
       "      <th>57</th>\n",
       "      <td>2019-01-08</td>\n",
       "      <td>Cloudy</td>\n",
       "    </tr>\n",
       "    <tr>\n",
       "      <th>60</th>\n",
       "      <td>2019-01-08</td>\n",
       "      <td>Rainy</td>\n",
       "    </tr>\n",
       "    <tr>\n",
       "      <th>64</th>\n",
       "      <td>2019-01-09</td>\n",
       "      <td>Rainy</td>\n",
       "    </tr>\n",
       "    <tr>\n",
       "      <th>71</th>\n",
       "      <td>2019-01-09</td>\n",
       "      <td>Cloudy</td>\n",
       "    </tr>\n",
       "    <tr>\n",
       "      <th>72</th>\n",
       "      <td>2019-01-10</td>\n",
       "      <td>Cloudy</td>\n",
       "    </tr>\n",
       "  </tbody>\n",
       "</table>\n",
       "</div>"
      ],
      "text/plain": [
       "          Date Weather\n",
       "0   2019-01-01   Sunny\n",
       "2   2019-01-01  Cloudy\n",
       "8   2019-01-02   Sunny\n",
       "9   2019-01-02  Cloudy\n",
       "16  2019-01-03   Sunny\n",
       "18  2019-01-03  Cloudy\n",
       "24  2019-01-04  Cloudy\n",
       "27  2019-01-04   Rainy\n",
       "32  2019-01-05   Rainy\n",
       "33  2019-01-05  Cloudy\n",
       "40  2019-01-06   Rainy\n",
       "43  2019-01-06  Cloudy\n",
       "48  2019-01-07  Cloudy\n",
       "54  2019-01-07   Sunny\n",
       "56  2019-01-08   Sunny\n",
       "57  2019-01-08  Cloudy\n",
       "60  2019-01-08   Rainy\n",
       "64  2019-01-09   Rainy\n",
       "71  2019-01-09  Cloudy\n",
       "72  2019-01-10  Cloudy"
      ]
     },
     "execution_count": 12,
     "metadata": {},
     "output_type": "execute_result"
    }
   ],
   "source": [
    "counts = df_CHI_weather['Weather Condition'].value_counts()\n",
    "\n",
    "occurred_more_than_two_times = []\n",
    "\n",
    "if counts.get('Sunny', 0) > 2:\n",
    "    occurred_more_than_two_times.append('Sunny')\n",
    "\n",
    "if counts.get('Cloudy', 0) > 2:\n",
    "    occurred_more_than_two_times.append('Cloudy')\n",
    "\n",
    "if counts.get('Rainy', 0) > 2:\n",
    "    occurred_more_than_two_times.append('Rainy')\n",
    "\n",
    "filtered_df = df_CHI_weather[df_CHI_weather['Weather Condition'].isin(occurred_more_than_two_times)]\n",
    "\n",
    "\n",
    "new_df = pd.DataFrame({'Date': filtered_df['Date'], 'Weather': filtered_df['Weather Condition']})\n",
    "\n",
    "new_df = new_df.drop_duplicates()\n",
    "\n",
    "new_df.head(20)"
   ]
  },
  {
   "cell_type": "code",
   "execution_count": 13,
   "metadata": {},
   "outputs": [
    {
     "data": {
      "text/html": [
       "<div>\n",
       "<style scoped>\n",
       "    .dataframe tbody tr th:only-of-type {\n",
       "        vertical-align: middle;\n",
       "    }\n",
       "\n",
       "    .dataframe tbody tr th {\n",
       "        vertical-align: top;\n",
       "    }\n",
       "\n",
       "    .dataframe thead th {\n",
       "        text-align: right;\n",
       "    }\n",
       "</style>\n",
       "<table border=\"1\" class=\"dataframe\">\n",
       "  <thead>\n",
       "    <tr style=\"text-align: right;\">\n",
       "      <th></th>\n",
       "      <th>fl_date</th>\n",
       "      <th>weather_delay</th>\n",
       "      <th>origin</th>\n",
       "      <th>Date</th>\n",
       "      <th>Weather</th>\n",
       "    </tr>\n",
       "  </thead>\n",
       "  <tbody>\n",
       "    <tr>\n",
       "      <th>34495</th>\n",
       "      <td>2019-01-14</td>\n",
       "      <td>NaN</td>\n",
       "      <td>ORD</td>\n",
       "      <td>2019-01-14</td>\n",
       "      <td>Cloudy</td>\n",
       "    </tr>\n",
       "    <tr>\n",
       "      <th>34496</th>\n",
       "      <td>2019-01-14</td>\n",
       "      <td>NaN</td>\n",
       "      <td>ORD</td>\n",
       "      <td>2019-01-14</td>\n",
       "      <td>Rainy</td>\n",
       "    </tr>\n",
       "    <tr>\n",
       "      <th>34497</th>\n",
       "      <td>2019-01-14</td>\n",
       "      <td>NaN</td>\n",
       "      <td>ORD</td>\n",
       "      <td>2019-01-14</td>\n",
       "      <td>Sunny</td>\n",
       "    </tr>\n",
       "    <tr>\n",
       "      <th>34498</th>\n",
       "      <td>2019-01-14</td>\n",
       "      <td>NaN</td>\n",
       "      <td>ORD</td>\n",
       "      <td>2019-01-14</td>\n",
       "      <td>Cloudy</td>\n",
       "    </tr>\n",
       "    <tr>\n",
       "      <th>34499</th>\n",
       "      <td>2019-01-14</td>\n",
       "      <td>NaN</td>\n",
       "      <td>ORD</td>\n",
       "      <td>2019-01-14</td>\n",
       "      <td>Rainy</td>\n",
       "    </tr>\n",
       "    <tr>\n",
       "      <th>34500</th>\n",
       "      <td>2019-01-14</td>\n",
       "      <td>NaN</td>\n",
       "      <td>ORD</td>\n",
       "      <td>2019-01-14</td>\n",
       "      <td>Sunny</td>\n",
       "    </tr>\n",
       "    <tr>\n",
       "      <th>34501</th>\n",
       "      <td>2019-01-14</td>\n",
       "      <td>NaN</td>\n",
       "      <td>ORD</td>\n",
       "      <td>2019-01-14</td>\n",
       "      <td>Cloudy</td>\n",
       "    </tr>\n",
       "    <tr>\n",
       "      <th>34502</th>\n",
       "      <td>2019-01-14</td>\n",
       "      <td>NaN</td>\n",
       "      <td>ORD</td>\n",
       "      <td>2019-01-14</td>\n",
       "      <td>Rainy</td>\n",
       "    </tr>\n",
       "    <tr>\n",
       "      <th>34503</th>\n",
       "      <td>2019-01-14</td>\n",
       "      <td>NaN</td>\n",
       "      <td>ORD</td>\n",
       "      <td>2019-01-14</td>\n",
       "      <td>Sunny</td>\n",
       "    </tr>\n",
       "    <tr>\n",
       "      <th>34504</th>\n",
       "      <td>2019-01-14</td>\n",
       "      <td>NaN</td>\n",
       "      <td>ORD</td>\n",
       "      <td>2019-01-14</td>\n",
       "      <td>Cloudy</td>\n",
       "    </tr>\n",
       "    <tr>\n",
       "      <th>34505</th>\n",
       "      <td>2019-01-14</td>\n",
       "      <td>NaN</td>\n",
       "      <td>ORD</td>\n",
       "      <td>2019-01-14</td>\n",
       "      <td>Rainy</td>\n",
       "    </tr>\n",
       "    <tr>\n",
       "      <th>34506</th>\n",
       "      <td>2019-01-14</td>\n",
       "      <td>NaN</td>\n",
       "      <td>ORD</td>\n",
       "      <td>2019-01-14</td>\n",
       "      <td>Sunny</td>\n",
       "    </tr>\n",
       "    <tr>\n",
       "      <th>34507</th>\n",
       "      <td>2019-01-14</td>\n",
       "      <td>NaN</td>\n",
       "      <td>ORD</td>\n",
       "      <td>2019-01-14</td>\n",
       "      <td>Cloudy</td>\n",
       "    </tr>\n",
       "    <tr>\n",
       "      <th>34508</th>\n",
       "      <td>2019-01-14</td>\n",
       "      <td>NaN</td>\n",
       "      <td>ORD</td>\n",
       "      <td>2019-01-14</td>\n",
       "      <td>Rainy</td>\n",
       "    </tr>\n",
       "    <tr>\n",
       "      <th>34509</th>\n",
       "      <td>2019-01-14</td>\n",
       "      <td>NaN</td>\n",
       "      <td>ORD</td>\n",
       "      <td>2019-01-14</td>\n",
       "      <td>Sunny</td>\n",
       "    </tr>\n",
       "    <tr>\n",
       "      <th>34510</th>\n",
       "      <td>2019-01-14</td>\n",
       "      <td>NaN</td>\n",
       "      <td>ORD</td>\n",
       "      <td>2019-01-14</td>\n",
       "      <td>Cloudy</td>\n",
       "    </tr>\n",
       "    <tr>\n",
       "      <th>34511</th>\n",
       "      <td>2019-01-14</td>\n",
       "      <td>NaN</td>\n",
       "      <td>ORD</td>\n",
       "      <td>2019-01-14</td>\n",
       "      <td>Rainy</td>\n",
       "    </tr>\n",
       "    <tr>\n",
       "      <th>34512</th>\n",
       "      <td>2019-01-14</td>\n",
       "      <td>NaN</td>\n",
       "      <td>ORD</td>\n",
       "      <td>2019-01-14</td>\n",
       "      <td>Sunny</td>\n",
       "    </tr>\n",
       "    <tr>\n",
       "      <th>34513</th>\n",
       "      <td>2019-01-14</td>\n",
       "      <td>NaN</td>\n",
       "      <td>ORD</td>\n",
       "      <td>2019-01-14</td>\n",
       "      <td>Cloudy</td>\n",
       "    </tr>\n",
       "    <tr>\n",
       "      <th>34514</th>\n",
       "      <td>2019-01-14</td>\n",
       "      <td>NaN</td>\n",
       "      <td>ORD</td>\n",
       "      <td>2019-01-14</td>\n",
       "      <td>Rainy</td>\n",
       "    </tr>\n",
       "  </tbody>\n",
       "</table>\n",
       "</div>"
      ],
      "text/plain": [
       "          fl_date  weather_delay origin        Date Weather\n",
       "34495  2019-01-14            NaN    ORD  2019-01-14  Cloudy\n",
       "34496  2019-01-14            NaN    ORD  2019-01-14   Rainy\n",
       "34497  2019-01-14            NaN    ORD  2019-01-14   Sunny\n",
       "34498  2019-01-14            NaN    ORD  2019-01-14  Cloudy\n",
       "34499  2019-01-14            NaN    ORD  2019-01-14   Rainy\n",
       "34500  2019-01-14            NaN    ORD  2019-01-14   Sunny\n",
       "34501  2019-01-14            NaN    ORD  2019-01-14  Cloudy\n",
       "34502  2019-01-14            NaN    ORD  2019-01-14   Rainy\n",
       "34503  2019-01-14            NaN    ORD  2019-01-14   Sunny\n",
       "34504  2019-01-14            NaN    ORD  2019-01-14  Cloudy\n",
       "34505  2019-01-14            NaN    ORD  2019-01-14   Rainy\n",
       "34506  2019-01-14            NaN    ORD  2019-01-14   Sunny\n",
       "34507  2019-01-14            NaN    ORD  2019-01-14  Cloudy\n",
       "34508  2019-01-14            NaN    ORD  2019-01-14   Rainy\n",
       "34509  2019-01-14            NaN    ORD  2019-01-14   Sunny\n",
       "34510  2019-01-14            NaN    ORD  2019-01-14  Cloudy\n",
       "34511  2019-01-14            NaN    ORD  2019-01-14   Rainy\n",
       "34512  2019-01-14            NaN    ORD  2019-01-14   Sunny\n",
       "34513  2019-01-14            NaN    ORD  2019-01-14  Cloudy\n",
       "34514  2019-01-14            NaN    ORD  2019-01-14   Rainy"
      ]
     },
     "execution_count": 13,
     "metadata": {},
     "output_type": "execute_result"
    }
   ],
   "source": [
    "df_new = pd.merge(df_ORD,new_df, how='left', left_on=['fl_date'], right_on = ['Date'])\n",
    "df_new.tail(20)"
   ]
  },
  {
   "cell_type": "code",
   "execution_count": 14,
   "metadata": {},
   "outputs": [
    {
     "data": {
      "text/html": [
       "<div>\n",
       "<style scoped>\n",
       "    .dataframe tbody tr th:only-of-type {\n",
       "        vertical-align: middle;\n",
       "    }\n",
       "\n",
       "    .dataframe tbody tr th {\n",
       "        vertical-align: top;\n",
       "    }\n",
       "\n",
       "    .dataframe thead th {\n",
       "        text-align: right;\n",
       "    }\n",
       "</style>\n",
       "<table border=\"1\" class=\"dataframe\">\n",
       "  <thead>\n",
       "    <tr style=\"text-align: right;\">\n",
       "      <th></th>\n",
       "      <th>fl_date</th>\n",
       "      <th>weather_delay</th>\n",
       "      <th>origin</th>\n",
       "      <th>Date</th>\n",
       "      <th>Weather</th>\n",
       "    </tr>\n",
       "  </thead>\n",
       "  <tbody>\n",
       "    <tr>\n",
       "      <th>0</th>\n",
       "      <td>2019-01-14</td>\n",
       "      <td>656.0</td>\n",
       "      <td>ORD</td>\n",
       "      <td>2019-01-14</td>\n",
       "      <td>Sunny</td>\n",
       "    </tr>\n",
       "    <tr>\n",
       "      <th>1</th>\n",
       "      <td>2019-01-14</td>\n",
       "      <td>656.0</td>\n",
       "      <td>ORD</td>\n",
       "      <td>2019-01-14</td>\n",
       "      <td>Cloudy</td>\n",
       "    </tr>\n",
       "    <tr>\n",
       "      <th>2</th>\n",
       "      <td>2019-01-14</td>\n",
       "      <td>656.0</td>\n",
       "      <td>ORD</td>\n",
       "      <td>2019-01-14</td>\n",
       "      <td>Rainy</td>\n",
       "    </tr>\n",
       "    <tr>\n",
       "      <th>3</th>\n",
       "      <td>2019-01-12</td>\n",
       "      <td>577.0</td>\n",
       "      <td>ORD</td>\n",
       "      <td>2019-01-12</td>\n",
       "      <td>Sunny</td>\n",
       "    </tr>\n",
       "    <tr>\n",
       "      <th>4</th>\n",
       "      <td>2019-01-12</td>\n",
       "      <td>577.0</td>\n",
       "      <td>ORD</td>\n",
       "      <td>2019-01-12</td>\n",
       "      <td>Cloudy</td>\n",
       "    </tr>\n",
       "    <tr>\n",
       "      <th>...</th>\n",
       "      <td>...</td>\n",
       "      <td>...</td>\n",
       "      <td>...</td>\n",
       "      <td>...</td>\n",
       "      <td>...</td>\n",
       "    </tr>\n",
       "    <tr>\n",
       "      <th>7559</th>\n",
       "      <td>2019-01-04</td>\n",
       "      <td>0.0</td>\n",
       "      <td>ORD</td>\n",
       "      <td>2019-01-04</td>\n",
       "      <td>Cloudy</td>\n",
       "    </tr>\n",
       "    <tr>\n",
       "      <th>7560</th>\n",
       "      <td>2019-01-04</td>\n",
       "      <td>0.0</td>\n",
       "      <td>ORD</td>\n",
       "      <td>2019-01-04</td>\n",
       "      <td>Rainy</td>\n",
       "    </tr>\n",
       "    <tr>\n",
       "      <th>7561</th>\n",
       "      <td>2019-01-14</td>\n",
       "      <td>0.0</td>\n",
       "      <td>ORD</td>\n",
       "      <td>2019-01-14</td>\n",
       "      <td>Sunny</td>\n",
       "    </tr>\n",
       "    <tr>\n",
       "      <th>7562</th>\n",
       "      <td>2019-01-14</td>\n",
       "      <td>0.0</td>\n",
       "      <td>ORD</td>\n",
       "      <td>2019-01-14</td>\n",
       "      <td>Cloudy</td>\n",
       "    </tr>\n",
       "    <tr>\n",
       "      <th>7563</th>\n",
       "      <td>2019-01-14</td>\n",
       "      <td>0.0</td>\n",
       "      <td>ORD</td>\n",
       "      <td>2019-01-14</td>\n",
       "      <td>Rainy</td>\n",
       "    </tr>\n",
       "  </tbody>\n",
       "</table>\n",
       "<p>7564 rows × 5 columns</p>\n",
       "</div>"
      ],
      "text/plain": [
       "         fl_date  weather_delay origin        Date Weather\n",
       "0     2019-01-14          656.0    ORD  2019-01-14   Sunny\n",
       "1     2019-01-14          656.0    ORD  2019-01-14  Cloudy\n",
       "2     2019-01-14          656.0    ORD  2019-01-14   Rainy\n",
       "3     2019-01-12          577.0    ORD  2019-01-12   Sunny\n",
       "4     2019-01-12          577.0    ORD  2019-01-12  Cloudy\n",
       "...          ...            ...    ...         ...     ...\n",
       "7559  2019-01-04            0.0    ORD  2019-01-04  Cloudy\n",
       "7560  2019-01-04            0.0    ORD  2019-01-04   Rainy\n",
       "7561  2019-01-14            0.0    ORD  2019-01-14   Sunny\n",
       "7562  2019-01-14            0.0    ORD  2019-01-14  Cloudy\n",
       "7563  2019-01-14            0.0    ORD  2019-01-14   Rainy\n",
       "\n",
       "[7564 rows x 5 columns]"
      ]
     },
     "execution_count": 14,
     "metadata": {},
     "output_type": "execute_result"
    }
   ],
   "source": [
    "df_new = df_new.dropna()\n",
    "df_new"
   ]
  },
  {
   "cell_type": "code",
   "execution_count": 15,
   "metadata": {},
   "outputs": [
    {
     "data": {
      "text/html": [
       "<div>\n",
       "<style scoped>\n",
       "    .dataframe tbody tr th:only-of-type {\n",
       "        vertical-align: middle;\n",
       "    }\n",
       "\n",
       "    .dataframe tbody tr th {\n",
       "        vertical-align: top;\n",
       "    }\n",
       "\n",
       "    .dataframe thead th {\n",
       "        text-align: right;\n",
       "    }\n",
       "</style>\n",
       "<table border=\"1\" class=\"dataframe\">\n",
       "  <thead>\n",
       "    <tr style=\"text-align: right;\">\n",
       "      <th></th>\n",
       "      <th>Weather</th>\n",
       "      <th>weather_delay</th>\n",
       "    </tr>\n",
       "  </thead>\n",
       "  <tbody>\n",
       "    <tr>\n",
       "      <th>0</th>\n",
       "      <td>Sunny</td>\n",
       "      <td>656.0</td>\n",
       "    </tr>\n",
       "    <tr>\n",
       "      <th>1</th>\n",
       "      <td>Cloudy</td>\n",
       "      <td>656.0</td>\n",
       "    </tr>\n",
       "    <tr>\n",
       "      <th>2</th>\n",
       "      <td>Rainy</td>\n",
       "      <td>656.0</td>\n",
       "    </tr>\n",
       "    <tr>\n",
       "      <th>3</th>\n",
       "      <td>Sunny</td>\n",
       "      <td>577.0</td>\n",
       "    </tr>\n",
       "    <tr>\n",
       "      <th>4</th>\n",
       "      <td>Cloudy</td>\n",
       "      <td>577.0</td>\n",
       "    </tr>\n",
       "    <tr>\n",
       "      <th>5</th>\n",
       "      <td>Sunny</td>\n",
       "      <td>329.0</td>\n",
       "    </tr>\n",
       "    <tr>\n",
       "      <th>6</th>\n",
       "      <td>Cloudy</td>\n",
       "      <td>329.0</td>\n",
       "    </tr>\n",
       "    <tr>\n",
       "      <th>7</th>\n",
       "      <td>Sunny</td>\n",
       "      <td>182.0</td>\n",
       "    </tr>\n",
       "    <tr>\n",
       "      <th>8</th>\n",
       "      <td>Cloudy</td>\n",
       "      <td>182.0</td>\n",
       "    </tr>\n",
       "    <tr>\n",
       "      <th>9</th>\n",
       "      <td>Sunny</td>\n",
       "      <td>154.0</td>\n",
       "    </tr>\n",
       "    <tr>\n",
       "      <th>10</th>\n",
       "      <td>Cloudy</td>\n",
       "      <td>154.0</td>\n",
       "    </tr>\n",
       "    <tr>\n",
       "      <th>11</th>\n",
       "      <td>Sunny</td>\n",
       "      <td>152.0</td>\n",
       "    </tr>\n",
       "    <tr>\n",
       "      <th>12</th>\n",
       "      <td>Cloudy</td>\n",
       "      <td>152.0</td>\n",
       "    </tr>\n",
       "    <tr>\n",
       "      <th>13</th>\n",
       "      <td>Rainy</td>\n",
       "      <td>152.0</td>\n",
       "    </tr>\n",
       "    <tr>\n",
       "      <th>14</th>\n",
       "      <td>Sunny</td>\n",
       "      <td>147.0</td>\n",
       "    </tr>\n",
       "    <tr>\n",
       "      <th>15</th>\n",
       "      <td>Cloudy</td>\n",
       "      <td>147.0</td>\n",
       "    </tr>\n",
       "    <tr>\n",
       "      <th>16</th>\n",
       "      <td>Sunny</td>\n",
       "      <td>147.0</td>\n",
       "    </tr>\n",
       "    <tr>\n",
       "      <th>17</th>\n",
       "      <td>Cloudy</td>\n",
       "      <td>147.0</td>\n",
       "    </tr>\n",
       "    <tr>\n",
       "      <th>18</th>\n",
       "      <td>Sunny</td>\n",
       "      <td>142.0</td>\n",
       "    </tr>\n",
       "    <tr>\n",
       "      <th>19</th>\n",
       "      <td>Cloudy</td>\n",
       "      <td>142.0</td>\n",
       "    </tr>\n",
       "  </tbody>\n",
       "</table>\n",
       "</div>"
      ],
      "text/plain": [
       "   Weather  weather_delay\n",
       "0    Sunny          656.0\n",
       "1   Cloudy          656.0\n",
       "2    Rainy          656.0\n",
       "3    Sunny          577.0\n",
       "4   Cloudy          577.0\n",
       "5    Sunny          329.0\n",
       "6   Cloudy          329.0\n",
       "7    Sunny          182.0\n",
       "8   Cloudy          182.0\n",
       "9    Sunny          154.0\n",
       "10  Cloudy          154.0\n",
       "11   Sunny          152.0\n",
       "12  Cloudy          152.0\n",
       "13   Rainy          152.0\n",
       "14   Sunny          147.0\n",
       "15  Cloudy          147.0\n",
       "16   Sunny          147.0\n",
       "17  Cloudy          147.0\n",
       "18   Sunny          142.0\n",
       "19  Cloudy          142.0"
      ]
     },
     "execution_count": 15,
     "metadata": {},
     "output_type": "execute_result"
    }
   ],
   "source": [
    "result = df_new[['Weather','weather_delay']]\n",
    "result.head(20)"
   ]
  },
  {
   "cell_type": "code",
   "execution_count": 16,
   "metadata": {},
   "outputs": [
    {
     "data": {
      "image/png": "[encoded data removed]",
      "text/plain": [
       "<Figure size 640x480 with 1 Axes>"
      ]
     },
     "metadata": {},
     "output_type": "display_data"
    }
   ],
   "source": [
    "import matplotlib.pyplot as plt\n",
    "import seaborn as sns\n",
    "\n",
    "plt.style.use('ggplot')\n",
    "bins = 50\n",
    "plt.hist(result['weather_delay'], bins, color='b')\n",
    "plt.ylim(-30,10000)\n",
    "plt.xlim(0,250)\n",
    "plt.xlabel('weather_delay')\n",
    "plt.ylabel('Frequency')\n",
    "plt.show()\n"
   ]
  },
  {
   "cell_type": "code",
   "execution_count": 17,
   "metadata": {},
   "outputs": [
    {
     "data": {
      "text/html": [
       "<div>\n",
       "<style scoped>\n",
       "    .dataframe tbody tr th:only-of-type {\n",
       "        vertical-align: middle;\n",
       "    }\n",
       "\n",
       "    .dataframe tbody tr th {\n",
       "        vertical-align: top;\n",
       "    }\n",
       "\n",
       "    .dataframe thead tr th {\n",
       "        text-align: left;\n",
       "    }\n",
       "</style>\n",
       "<table border=\"1\" class=\"dataframe\">\n",
       "  <thead>\n",
       "    <tr>\n",
       "      <th></th>\n",
       "      <th>Weather</th>\n",
       "      <th colspan=\"2\" halign=\"left\">weather_delay</th>\n",
       "    </tr>\n",
       "    <tr>\n",
       "      <th></th>\n",
       "      <th></th>\n",
       "      <th>mean</th>\n",
       "      <th>count</th>\n",
       "    </tr>\n",
       "  </thead>\n",
       "  <tbody>\n",
       "    <tr>\n",
       "      <th>0</th>\n",
       "      <td>Cloudy</td>\n",
       "      <td>4.328661</td>\n",
       "      <td>3496</td>\n",
       "    </tr>\n",
       "    <tr>\n",
       "      <th>1</th>\n",
       "      <td>Rainy</td>\n",
       "      <td>1.927765</td>\n",
       "      <td>1329</td>\n",
       "    </tr>\n",
       "    <tr>\n",
       "      <th>2</th>\n",
       "      <td>Sunny</td>\n",
       "      <td>5.199708</td>\n",
       "      <td>2739</td>\n",
       "    </tr>\n",
       "  </tbody>\n",
       "</table>\n",
       "</div>"
      ],
      "text/plain": [
       "  Weather weather_delay      \n",
       "                   mean count\n",
       "0  Cloudy      4.328661  3496\n",
       "1   Rainy      1.927765  1329\n",
       "2   Sunny      5.199708  2739"
      ]
     },
     "execution_count": 17,
     "metadata": {},
     "output_type": "execute_result"
    }
   ],
   "source": [
    "result.groupby('Weather').agg(['mean', 'count']).reset_index()"
   ]
  },
  {
   "cell_type": "code",
   "execution_count": 18,
   "metadata": {},
   "outputs": [
    {
     "name": "stdout",
     "output_type": "stream",
     "text": [
      "                            OLS Regression Results                            \n",
      "==============================================================================\n",
      "Dep. Variable:          weather_delay   R-squared:                       0.003\n",
      "Model:                            OLS   Adj. R-squared:                  0.003\n",
      "Method:                 Least Squares   F-statistic:                     10.69\n",
      "Date:                Fri, 24 Mar 2023   Prob (F-statistic):           2.30e-05\n",
      "Time:                        19:45:29   Log-Likelihood:                -33848.\n",
      "No. Observations:                7564   AIC:                         6.770e+04\n",
      "Df Residuals:                    7561   BIC:                         6.772e+04\n",
      "Df Model:                           2                                         \n",
      "Covariance Type:            nonrobust                                         \n",
      "====================================================================================\n",
      "                       coef    std err          t      P>|t|      [0.025      0.975]\n",
      "------------------------------------------------------------------------------------\n",
      "Intercept            4.3287      0.359     12.048      0.000       3.624       5.033\n",
      "Weather[T.Rainy]    -2.4009      0.685     -3.507      0.000      -3.743      -1.059\n",
      "Weather[T.Sunny]     0.8710      0.542      1.607      0.108      -0.192       1.934\n",
      "==============================================================================\n",
      "Omnibus:                    16242.358   Durbin-Watson:                   0.033\n",
      "Prob(Omnibus):                  0.000   Jarque-Bera (JB):         82749128.397\n",
      "Skew:                          19.008   Prob(JB):                         0.00\n",
      "Kurtosis:                     513.991   Cond. No.                         3.47\n",
      "==============================================================================\n",
      "\n",
      "Notes:\n",
      "[1] Standard Errors assume that the covariance matrix of the errors is correctly specified.\n"
     ]
    }
   ],
   "source": [
    "import statsmodels.formula.api as smf\n",
    "\n",
    "model = smf.ols(\"weather_delay ~ Weather\", data=result).fit()\n",
    "\n",
    "\n",
    "print(model.summary())"
   ]
  },
  {
   "cell_type": "code",
   "execution_count": 19,
   "metadata": {},
   "outputs": [
    {
     "name": "stdout",
     "output_type": "stream",
     "text": [
      "Cloudy vs. Rainy: KstestResult(statistic=0.12330613682109878, pvalue=3.227675711442087e-13)\n",
      "Null hypothesis rejected --> From different distributions \n",
      "\n",
      "Cloudy vs. Sunny: KstestResult(statistic=0.033454705027724796, pvalue=0.06242475374480929)\n",
      "Fail to reject null hypothesis --> From same distribution \n",
      "\n",
      "Rainy vs. Sunny: KstestResult(statistic=0.15676084184882358, pvalue=1.1650721511318004e-19)\n",
      "Null hypothesis rejected --> From different distributions \n",
      "\n"
     ]
    }
   ],
   "source": [
    "from scipy.stats import ks_2samp\n",
    "\n",
    "Cloudy = result[result['Weather'] == 'Cloudy']\n",
    "Rainy = result[result['Weather'] == 'Rainy']\n",
    "Snowy = result[result['Weather'] == 'Snowy']\n",
    "Sunny = result[result['Weather'] == 'Sunny']\n",
    "\n",
    "def hypothesis(p):\n",
    "    if p < 0.05:\n",
    "        print(\"Null hypothesis rejected --> From different distributions\", '\\n')\n",
    "    else:\n",
    "        print(\"Fail to reject null hypothesis --> From same distribution\", '\\n')\n",
    "\n",
    "s1, p1 = ks_2samp(Cloudy['weather_delay'], Rainy['weather_delay'])\n",
    "s3, p2 = ks_2samp(Cloudy['weather_delay'], Sunny['weather_delay'])\n",
    "s5, p3 = ks_2samp(Rainy['weather_delay'], Sunny['weather_delay'])\n",
    "\n",
    "\n",
    "print('Cloudy vs. Rainy:', ks_2samp(Cloudy['weather_delay'], Rainy['weather_delay']))\n",
    "hypothesis(p1)\n",
    "print('Cloudy vs. Sunny:', ks_2samp(Cloudy['weather_delay'], Sunny['weather_delay']))\n",
    "hypothesis(p2)\n",
    "print('Rainy vs. Sunny:', ks_2samp(Rainy['weather_delay'], Sunny['weather_delay']))\n",
    "hypothesis(p3)\n"
   ]
  },
  {
   "cell_type": "markdown",
   "metadata": {},
   "source": [
    "#### **Task 4**: How taxi times changing during the day? Does higher traffic lead to bigger taxi times?"
   ]
  },
  {
   "cell_type": "code",
   "execution_count": 32,
   "metadata": {},
   "outputs": [
    {
     "data": {
      "text/html": [
       "<div>\n",
       "<style scoped>\n",
       "    .dataframe tbody tr th:only-of-type {\n",
       "        vertical-align: middle;\n",
       "    }\n",
       "\n",
       "    .dataframe tbody tr th {\n",
       "        vertical-align: top;\n",
       "    }\n",
       "\n",
       "    .dataframe thead th {\n",
       "        text-align: right;\n",
       "    }\n",
       "</style>\n",
       "<table border=\"1\" class=\"dataframe\">\n",
       "  <thead>\n",
       "    <tr style=\"text-align: right;\">\n",
       "      <th></th>\n",
       "      <th>crs_dep_hour</th>\n",
       "      <th>avg_taxi_out</th>\n",
       "      <th>no_of_flights</th>\n",
       "    </tr>\n",
       "  </thead>\n",
       "  <tbody>\n",
       "    <tr>\n",
       "      <th>0</th>\n",
       "      <td>0</td>\n",
       "      <td>15.726680</td>\n",
       "      <td>1533</td>\n",
       "    </tr>\n",
       "    <tr>\n",
       "      <th>1</th>\n",
       "      <td>1</td>\n",
       "      <td>13.843206</td>\n",
       "      <td>574</td>\n",
       "    </tr>\n",
       "    <tr>\n",
       "      <th>2</th>\n",
       "      <td>2</td>\n",
       "      <td>12.790576</td>\n",
       "      <td>191</td>\n",
       "    </tr>\n",
       "    <tr>\n",
       "      <th>3</th>\n",
       "      <td>3</td>\n",
       "      <td>12.812261</td>\n",
       "      <td>261</td>\n",
       "    </tr>\n",
       "    <tr>\n",
       "      <th>4</th>\n",
       "      <td>4</td>\n",
       "      <td>11.495098</td>\n",
       "      <td>204</td>\n",
       "    </tr>\n",
       "    <tr>\n",
       "      <th>5</th>\n",
       "      <td>5</td>\n",
       "      <td>17.796990</td>\n",
       "      <td>16812</td>\n",
       "    </tr>\n",
       "    <tr>\n",
       "      <th>6</th>\n",
       "      <td>6</td>\n",
       "      <td>18.603509</td>\n",
       "      <td>45030</td>\n",
       "    </tr>\n",
       "    <tr>\n",
       "      <th>7</th>\n",
       "      <td>7</td>\n",
       "      <td>18.985225</td>\n",
       "      <td>42097</td>\n",
       "    </tr>\n",
       "    <tr>\n",
       "      <th>8</th>\n",
       "      <td>8</td>\n",
       "      <td>20.268502</td>\n",
       "      <td>41806</td>\n",
       "    </tr>\n",
       "    <tr>\n",
       "      <th>9</th>\n",
       "      <td>9</td>\n",
       "      <td>19.129651</td>\n",
       "      <td>38133</td>\n",
       "    </tr>\n",
       "    <tr>\n",
       "      <th>10</th>\n",
       "      <td>10</td>\n",
       "      <td>18.513983</td>\n",
       "      <td>39225</td>\n",
       "    </tr>\n",
       "    <tr>\n",
       "      <th>11</th>\n",
       "      <td>11</td>\n",
       "      <td>17.900968</td>\n",
       "      <td>40411</td>\n",
       "    </tr>\n",
       "    <tr>\n",
       "      <th>12</th>\n",
       "      <td>12</td>\n",
       "      <td>16.775611</td>\n",
       "      <td>40724</td>\n",
       "    </tr>\n",
       "    <tr>\n",
       "      <th>13</th>\n",
       "      <td>13</td>\n",
       "      <td>16.395272</td>\n",
       "      <td>36805</td>\n",
       "    </tr>\n",
       "    <tr>\n",
       "      <th>14</th>\n",
       "      <td>14</td>\n",
       "      <td>16.732093</td>\n",
       "      <td>39413</td>\n",
       "    </tr>\n",
       "    <tr>\n",
       "      <th>15</th>\n",
       "      <td>15</td>\n",
       "      <td>17.082215</td>\n",
       "      <td>39725</td>\n",
       "    </tr>\n",
       "    <tr>\n",
       "      <th>16</th>\n",
       "      <td>16</td>\n",
       "      <td>17.057706</td>\n",
       "      <td>37379</td>\n",
       "    </tr>\n",
       "    <tr>\n",
       "      <th>17</th>\n",
       "      <td>17</td>\n",
       "      <td>17.759417</td>\n",
       "      <td>42023</td>\n",
       "    </tr>\n",
       "    <tr>\n",
       "      <th>18</th>\n",
       "      <td>18</td>\n",
       "      <td>18.404582</td>\n",
       "      <td>37236</td>\n",
       "    </tr>\n",
       "    <tr>\n",
       "      <th>19</th>\n",
       "      <td>19</td>\n",
       "      <td>17.445306</td>\n",
       "      <td>34309</td>\n",
       "    </tr>\n",
       "    <tr>\n",
       "      <th>20</th>\n",
       "      <td>20</td>\n",
       "      <td>18.097289</td>\n",
       "      <td>29726</td>\n",
       "    </tr>\n",
       "    <tr>\n",
       "      <th>21</th>\n",
       "      <td>21</td>\n",
       "      <td>17.237760</td>\n",
       "      <td>19608</td>\n",
       "    </tr>\n",
       "    <tr>\n",
       "      <th>22</th>\n",
       "      <td>22</td>\n",
       "      <td>16.952707</td>\n",
       "      <td>16049</td>\n",
       "    </tr>\n",
       "    <tr>\n",
       "      <th>23</th>\n",
       "      <td>23</td>\n",
       "      <td>15.864994</td>\n",
       "      <td>4622</td>\n",
       "    </tr>\n",
       "  </tbody>\n",
       "</table>\n",
       "</div>"
      ],
      "text/plain": [
       "    crs_dep_hour  avg_taxi_out  no_of_flights\n",
       "0              0     15.726680           1533\n",
       "1              1     13.843206            574\n",
       "2              2     12.790576            191\n",
       "3              3     12.812261            261\n",
       "4              4     11.495098            204\n",
       "5              5     17.796990          16812\n",
       "6              6     18.603509          45030\n",
       "7              7     18.985225          42097\n",
       "8              8     20.268502          41806\n",
       "9              9     19.129651          38133\n",
       "10            10     18.513983          39225\n",
       "11            11     17.900968          40411\n",
       "12            12     16.775611          40724\n",
       "13            13     16.395272          36805\n",
       "14            14     16.732093          39413\n",
       "15            15     17.082215          39725\n",
       "16            16     17.057706          37379\n",
       "17            17     17.759417          42023\n",
       "18            18     18.404582          37236\n",
       "19            19     17.445306          34309\n",
       "20            20     18.097289          29726\n",
       "21            21     17.237760          19608\n",
       "22            22     16.952707          16049\n",
       "23            23     15.864994           4622"
      ]
     },
     "execution_count": 32,
     "metadata": {},
     "output_type": "execute_result"
    }
   ],
   "source": [
    "\n",
    "df_taxi_daytime = flights_train[['taxi_out','crs_dep_time']].dropna(axis=0)\n",
    "df_taxi_daytime['crs_dep_hour'] = (df_taxi_daytime['crs_dep_time'])//100\n",
    "\n",
    "taxiout_hour    = df_taxi_daytime[['taxi_out','crs_dep_hour']].groupby('crs_dep_hour').agg({'taxi_out':np.mean}).reset_index()   \n",
    "taxiout_hour    = taxiout_hour.rename(columns={'taxi_out':'avg_taxi_out'})\n",
    "\n",
    "taxiout_traffic = df_taxi_daytime[['taxi_out','crs_dep_hour']].groupby('crs_dep_hour').agg({'taxi_out':len}).reset_index()   \n",
    "taxiout_traffic = taxiout_traffic.rename(columns={'taxi_out':'no_of_flights'})\n",
    "\n",
    "taxiout_info=pd.merge(taxiout_hour,taxiout_traffic,how='left',on='crs_dep_hour')\n",
    "\n",
    "taxiout_info"
   ]
  },
  {
   "cell_type": "code",
   "execution_count": 33,
   "metadata": {},
   "outputs": [
    {
     "data": {
      "text/plain": [
       "<matplotlib.legend.Legend at 0x27000a7adc0>"
      ]
     },
     "execution_count": 33,
     "metadata": {},
     "output_type": "execute_result"
    },
    {
     "data": {
      "image/png": "[encoded data removed]",
      "text/plain": [
       "<Figure size 640x480 with 1 Axes>"
      ]
     },
     "metadata": {},
     "output_type": "display_data"
    }
   ],
   "source": [
    "p1 = taxiout_info[['crs_dep_hour','avg_taxi_out']].plot.bar(x='crs_dep_hour',color='blue')\n",
    "p1.set_xlabel('Time of Day (Hour)')\n",
    "p1.set_ylabel('Average Taxi Time (Min.)')\n",
    "p1.set_title('Average Taxi Time vs Time of Day for Departure Flight')\n",
    "p1.legend('', frameon=False)"
   ]
  },
  {
   "cell_type": "code",
   "execution_count": 34,
   "metadata": {},
   "outputs": [
    {
     "data": {
      "text/plain": [
       "<matplotlib.legend.Legend at 0x27002f74790>"
      ]
     },
     "execution_count": 34,
     "metadata": {},
     "output_type": "execute_result"
    },
    {
     "data": {
      "image/png": "[encoded data removed]",
      "text/plain": [
       "<Figure size 640x480 with 1 Axes>"
      ]
     },
     "metadata": {},
     "output_type": "display_data"
    }
   ],
   "source": [
    "p1 = taxiout_info[['crs_dep_hour','no_of_flights']].plot.bar(x='crs_dep_hour',color='green')\n",
    "p1.set_xlabel('Time of Day (Hour)')\n",
    "p1.set_ylabel('Number of Flights')\n",
    "p1.set_title('Number of Flights vs Time of Day for Departure Flight')\n",
    "p1.legend('', frameon=False)"
   ]
  },
  {
   "attachments": {},
   "cell_type": "markdown",
   "metadata": {},
   "source": [
    "#### **Task 5**: What is the average percentage of delays that is already created before departure? (aka are arrival delays caused by departure delays?) Are airlines able to lower the delay during the flights?\n"
   ]
  },
  {
   "cell_type": "code",
   "execution_count": 35,
   "metadata": {},
   "outputs": [
    {
     "name": "stdout",
     "output_type": "stream",
     "text": [
      "Number of arrival delaied flight          =  630184\n",
      "Number of delays created before departure =  201259\n",
      "Percen of delays created before departure =  31.94 \n"
     ]
    },
    {
     "data": {
      "image/png": "[encoded data removed]",
      "text/plain": [
       "<Figure size 600x600 with 1 Axes>"
      ]
     },
     "metadata": {},
     "output_type": "display_data"
    }
   ],
   "source": [
    "arr_delay_count = flights_train[flights_train['arr_delay']!=0]['arr_delay'].count()\n",
    "print('Number of arrival delaied flight          = ',arr_delay_count)\n",
    "\n",
    "#Count different types of delays that are already created before departure.\n",
    "delay_type = ['carrier_delay','weather_delay','nas_delay','security_delay','late_aircraft_delay']\n",
    "n=len(delay_type)\n",
    "delay_type_count = n*[0]\n",
    "\n",
    "for i in range(0,n):\n",
    "    delay_type_count[i] += ( flights_train[ flights_train[delay_type[i]] >0 ]['arr_delay'].count() )\n",
    "    \n",
    "print('Number of delays created before departure = ',sum(delay_type_count))\n",
    "print('Percen of delays created before departure =  %.2f ' % (100*sum(delay_type_count)/arr_delay_count))\n",
    "\n",
    "# Percent of different types of delays created before departure\n",
    "delay_label   = delay_type\n",
    "delay_percent = delay_type_count\n",
    "fig, ax = plt.subplots(figsize=(6,6))\n",
    "ax.pie(delay_percent, labels=delay_label, autopct='%1.2f%%')\n",
    "ax.axis('equal')\n",
    "plt.show()"
   ]
  },
  {
   "cell_type": "markdown",
   "metadata": {},
   "source": [
    "#### **Task 6**: How many states cover 50% of US air traffic? "
   ]
  },
  {
   "cell_type": "code",
   "execution_count": null,
   "metadata": {},
   "outputs": [
    {
     "name": "stdout",
     "output_type": "stream",
     "text": [
      "Number of states cover 50% of US air traffic:  20\n"
     ]
    },
    {
     "data": {
      "text/html": [
       "<div>\n",
       "<style scoped>\n",
       "    .dataframe tbody tr th:only-of-type {\n",
       "        vertical-align: middle;\n",
       "    }\n",
       "\n",
       "    .dataframe tbody tr th {\n",
       "        vertical-align: top;\n",
       "    }\n",
       "\n",
       "    .dataframe thead th {\n",
       "        text-align: right;\n",
       "    }\n",
       "</style>\n",
       "<table border=\"1\" class=\"dataframe\">\n",
       "  <thead>\n",
       "    <tr style=\"text-align: right;\">\n",
       "      <th></th>\n",
       "      <th>origin_state</th>\n",
       "      <th>percent</th>\n",
       "    </tr>\n",
       "  </thead>\n",
       "  <tbody>\n",
       "    <tr>\n",
       "      <th>13</th>\n",
       "      <td>IL</td>\n",
       "      <td>98.113208</td>\n",
       "    </tr>\n",
       "    <tr>\n",
       "      <th>9</th>\n",
       "      <td>GA</td>\n",
       "      <td>94.339623</td>\n",
       "    </tr>\n",
       "    <tr>\n",
       "      <th>44</th>\n",
       "      <td>TX</td>\n",
       "      <td>88.679245</td>\n",
       "    </tr>\n",
       "    <tr>\n",
       "      <th>8</th>\n",
       "      <td>FL</td>\n",
       "      <td>84.905660</td>\n",
       "    </tr>\n",
       "    <tr>\n",
       "      <th>5</th>\n",
       "      <td>CO</td>\n",
       "      <td>84.905660</td>\n",
       "    </tr>\n",
       "    <tr>\n",
       "      <th>26</th>\n",
       "      <td>NC</td>\n",
       "      <td>81.132075</td>\n",
       "    </tr>\n",
       "    <tr>\n",
       "      <th>22</th>\n",
       "      <td>MN</td>\n",
       "      <td>81.132075</td>\n",
       "    </tr>\n",
       "    <tr>\n",
       "      <th>7</th>\n",
       "      <td>DC</td>\n",
       "      <td>79.245283</td>\n",
       "    </tr>\n",
       "    <tr>\n",
       "      <th>32</th>\n",
       "      <td>NV</td>\n",
       "      <td>77.358491</td>\n",
       "    </tr>\n",
       "    <tr>\n",
       "      <th>33</th>\n",
       "      <td>NY</td>\n",
       "      <td>77.358491</td>\n",
       "    </tr>\n",
       "    <tr>\n",
       "      <th>3</th>\n",
       "      <td>AZ</td>\n",
       "      <td>75.471698</td>\n",
       "    </tr>\n",
       "    <tr>\n",
       "      <th>37</th>\n",
       "      <td>PA</td>\n",
       "      <td>75.471698</td>\n",
       "    </tr>\n",
       "    <tr>\n",
       "      <th>21</th>\n",
       "      <td>MI</td>\n",
       "      <td>73.584906</td>\n",
       "    </tr>\n",
       "    <tr>\n",
       "      <th>30</th>\n",
       "      <td>NJ</td>\n",
       "      <td>73.584906</td>\n",
       "    </tr>\n",
       "    <tr>\n",
       "      <th>4</th>\n",
       "      <td>CA</td>\n",
       "      <td>71.698113</td>\n",
       "    </tr>\n",
       "    <tr>\n",
       "      <th>49</th>\n",
       "      <td>WA</td>\n",
       "      <td>67.924528</td>\n",
       "    </tr>\n",
       "    <tr>\n",
       "      <th>45</th>\n",
       "      <td>UT</td>\n",
       "      <td>66.037736</td>\n",
       "    </tr>\n",
       "    <tr>\n",
       "      <th>23</th>\n",
       "      <td>MO</td>\n",
       "      <td>64.150943</td>\n",
       "    </tr>\n",
       "    <tr>\n",
       "      <th>19</th>\n",
       "      <td>MD</td>\n",
       "      <td>62.264151</td>\n",
       "    </tr>\n",
       "    <tr>\n",
       "      <th>18</th>\n",
       "      <td>MA</td>\n",
       "      <td>52.830189</td>\n",
       "    </tr>\n",
       "    <tr>\n",
       "      <th>34</th>\n",
       "      <td>OH</td>\n",
       "      <td>49.056604</td>\n",
       "    </tr>\n",
       "    <tr>\n",
       "      <th>42</th>\n",
       "      <td>TN</td>\n",
       "      <td>49.056604</td>\n",
       "    </tr>\n",
       "    <tr>\n",
       "      <th>36</th>\n",
       "      <td>OR</td>\n",
       "      <td>45.283019</td>\n",
       "    </tr>\n",
       "    <tr>\n",
       "      <th>17</th>\n",
       "      <td>LA</td>\n",
       "      <td>43.396226</td>\n",
       "    </tr>\n",
       "    <tr>\n",
       "      <th>50</th>\n",
       "      <td>WI</td>\n",
       "      <td>41.509434</td>\n",
       "    </tr>\n",
       "    <tr>\n",
       "      <th>14</th>\n",
       "      <td>IN</td>\n",
       "      <td>39.622642</td>\n",
       "    </tr>\n",
       "    <tr>\n",
       "      <th>35</th>\n",
       "      <td>OK</td>\n",
       "      <td>35.849057</td>\n",
       "    </tr>\n",
       "    <tr>\n",
       "      <th>40</th>\n",
       "      <td>SC</td>\n",
       "      <td>33.962264</td>\n",
       "    </tr>\n",
       "    <tr>\n",
       "      <th>28</th>\n",
       "      <td>NE</td>\n",
       "      <td>33.962264</td>\n",
       "    </tr>\n",
       "    <tr>\n",
       "      <th>46</th>\n",
       "      <td>VA</td>\n",
       "      <td>32.075472</td>\n",
       "    </tr>\n",
       "    <tr>\n",
       "      <th>10</th>\n",
       "      <td>HI</td>\n",
       "      <td>32.075472</td>\n",
       "    </tr>\n",
       "    <tr>\n",
       "      <th>16</th>\n",
       "      <td>KY</td>\n",
       "      <td>30.188679</td>\n",
       "    </tr>\n",
       "    <tr>\n",
       "      <th>38</th>\n",
       "      <td>PR</td>\n",
       "      <td>28.301887</td>\n",
       "    </tr>\n",
       "    <tr>\n",
       "      <th>2</th>\n",
       "      <td>AR</td>\n",
       "      <td>28.301887</td>\n",
       "    </tr>\n",
       "    <tr>\n",
       "      <th>31</th>\n",
       "      <td>NM</td>\n",
       "      <td>28.301887</td>\n",
       "    </tr>\n",
       "    <tr>\n",
       "      <th>6</th>\n",
       "      <td>CT</td>\n",
       "      <td>28.301887</td>\n",
       "    </tr>\n",
       "    <tr>\n",
       "      <th>11</th>\n",
       "      <td>IA</td>\n",
       "      <td>28.301887</td>\n",
       "    </tr>\n",
       "    <tr>\n",
       "      <th>1</th>\n",
       "      <td>AL</td>\n",
       "      <td>24.528302</td>\n",
       "    </tr>\n",
       "    <tr>\n",
       "      <th>25</th>\n",
       "      <td>MT</td>\n",
       "      <td>24.528302</td>\n",
       "    </tr>\n",
       "    <tr>\n",
       "      <th>47</th>\n",
       "      <td>VI</td>\n",
       "      <td>18.867925</td>\n",
       "    </tr>\n",
       "    <tr>\n",
       "      <th>52</th>\n",
       "      <td>WY</td>\n",
       "      <td>18.867925</td>\n",
       "    </tr>\n",
       "    <tr>\n",
       "      <th>29</th>\n",
       "      <td>NH</td>\n",
       "      <td>18.867925</td>\n",
       "    </tr>\n",
       "    <tr>\n",
       "      <th>20</th>\n",
       "      <td>ME</td>\n",
       "      <td>18.867925</td>\n",
       "    </tr>\n",
       "    <tr>\n",
       "      <th>15</th>\n",
       "      <td>KS</td>\n",
       "      <td>18.867925</td>\n",
       "    </tr>\n",
       "    <tr>\n",
       "      <th>12</th>\n",
       "      <td>ID</td>\n",
       "      <td>18.867925</td>\n",
       "    </tr>\n",
       "    <tr>\n",
       "      <th>41</th>\n",
       "      <td>SD</td>\n",
       "      <td>16.981132</td>\n",
       "    </tr>\n",
       "    <tr>\n",
       "      <th>39</th>\n",
       "      <td>RI</td>\n",
       "      <td>16.981132</td>\n",
       "    </tr>\n",
       "    <tr>\n",
       "      <th>27</th>\n",
       "      <td>ND</td>\n",
       "      <td>16.981132</td>\n",
       "    </tr>\n",
       "    <tr>\n",
       "      <th>0</th>\n",
       "      <td>AK</td>\n",
       "      <td>16.981132</td>\n",
       "    </tr>\n",
       "    <tr>\n",
       "      <th>24</th>\n",
       "      <td>MS</td>\n",
       "      <td>15.094340</td>\n",
       "    </tr>\n",
       "    <tr>\n",
       "      <th>48</th>\n",
       "      <td>VT</td>\n",
       "      <td>15.094340</td>\n",
       "    </tr>\n",
       "    <tr>\n",
       "      <th>51</th>\n",
       "      <td>WV</td>\n",
       "      <td>13.207547</td>\n",
       "    </tr>\n",
       "    <tr>\n",
       "      <th>43</th>\n",
       "      <td>TT</td>\n",
       "      <td>3.773585</td>\n",
       "    </tr>\n",
       "  </tbody>\n",
       "</table>\n",
       "</div>"
      ],
      "text/plain": [
       "   origin_state    percent\n",
       "13           IL  98.113208\n",
       "9            GA  94.339623\n",
       "44           TX  88.679245\n",
       "8            FL  84.905660\n",
       "5            CO  84.905660\n",
       "26           NC  81.132075\n",
       "22           MN  81.132075\n",
       "7            DC  79.245283\n",
       "32           NV  77.358491\n",
       "33           NY  77.358491\n",
       "3            AZ  75.471698\n",
       "37           PA  75.471698\n",
       "21           MI  73.584906\n",
       "30           NJ  73.584906\n",
       "4            CA  71.698113\n",
       "49           WA  67.924528\n",
       "45           UT  66.037736\n",
       "23           MO  64.150943\n",
       "19           MD  62.264151\n",
       "18           MA  52.830189\n",
       "34           OH  49.056604\n",
       "42           TN  49.056604\n",
       "36           OR  45.283019\n",
       "17           LA  43.396226\n",
       "50           WI  41.509434\n",
       "14           IN  39.622642\n",
       "35           OK  35.849057\n",
       "40           SC  33.962264\n",
       "28           NE  33.962264\n",
       "46           VA  32.075472\n",
       "10           HI  32.075472\n",
       "16           KY  30.188679\n",
       "38           PR  28.301887\n",
       "2            AR  28.301887\n",
       "31           NM  28.301887\n",
       "6            CT  28.301887\n",
       "11           IA  28.301887\n",
       "1            AL  24.528302\n",
       "25           MT  24.528302\n",
       "47           VI  18.867925\n",
       "52           WY  18.867925\n",
       "29           NH  18.867925\n",
       "20           ME  18.867925\n",
       "15           KS  18.867925\n",
       "12           ID  18.867925\n",
       "41           SD  16.981132\n",
       "39           RI  16.981132\n",
       "27           ND  16.981132\n",
       "0            AK  16.981132\n",
       "24           MS  15.094340\n",
       "48           VT  15.094340\n",
       "51           WV  13.207547\n",
       "43           TT   3.773585"
      ]
     },
     "execution_count": 204,
     "metadata": {},
     "output_type": "execute_result"
    }
   ],
   "source": [
    "df_state=flights_train[['origin_city_name','dest_city_name']]\n",
    "\n",
    "df_state['origin_state'] = df_state['origin_city_name'].str[-2:]\n",
    "df_state['dest_state']   = df_state['dest_city_name'].str[-2:]\n",
    "df_state.drop(columns=['origin_city_name','dest_city_name'],inplace=True)\n",
    "\n",
    "df_state.head()\n",
    "\n",
    "df_state = df_state[['origin_state','dest_state']].groupby('origin_state').nunique()\n",
    "df_state = 100*df_state / df_state['dest_state'].count()\n",
    "df_state = df_state.rename(columns={'dest_state':'percent'}).reset_index()\n",
    "df_state.sort_values('percent',ascending=False , inplace=True )\n",
    "\n",
    "print(\"Number of states cover 50% of US air traffic: \",df_state['percent'][ df_state['percent'] > 50].count())\n",
    "\n",
    "df_state"
   ]
  },
  {
   "cell_type": "code",
   "execution_count": null,
   "metadata": {},
   "outputs": [
    {
     "data": {
      "text/html": [
       "<div>\n",
       "<style scoped>\n",
       "    .dataframe tbody tr th:only-of-type {\n",
       "        vertical-align: middle;\n",
       "    }\n",
       "\n",
       "    .dataframe tbody tr th {\n",
       "        vertical-align: top;\n",
       "    }\n",
       "\n",
       "    .dataframe thead th {\n",
       "        text-align: right;\n",
       "    }\n",
       "</style>\n",
       "<table border=\"1\" class=\"dataframe\">\n",
       "  <thead>\n",
       "    <tr style=\"text-align: right;\">\n",
       "      <th></th>\n",
       "      <th>state</th>\n",
       "      <th>percent</th>\n",
       "      <th>accumulation</th>\n",
       "    </tr>\n",
       "  </thead>\n",
       "  <tbody>\n",
       "    <tr>\n",
       "      <th>4</th>\n",
       "      <td>CA</td>\n",
       "      <td>10.891190</td>\n",
       "      <td>10.891190</td>\n",
       "    </tr>\n",
       "    <tr>\n",
       "      <th>44</th>\n",
       "      <td>TX</td>\n",
       "      <td>9.934748</td>\n",
       "      <td>20.825938</td>\n",
       "    </tr>\n",
       "    <tr>\n",
       "      <th>8</th>\n",
       "      <td>FL</td>\n",
       "      <td>8.085196</td>\n",
       "      <td>28.911134</td>\n",
       "    </tr>\n",
       "    <tr>\n",
       "      <th>13</th>\n",
       "      <td>IL</td>\n",
       "      <td>6.231115</td>\n",
       "      <td>35.142250</td>\n",
       "    </tr>\n",
       "    <tr>\n",
       "      <th>9</th>\n",
       "      <td>GA</td>\n",
       "      <td>5.117070</td>\n",
       "      <td>40.259320</td>\n",
       "    </tr>\n",
       "    <tr>\n",
       "      <th>33</th>\n",
       "      <td>NY</td>\n",
       "      <td>5.027406</td>\n",
       "      <td>45.286725</td>\n",
       "    </tr>\n",
       "    <tr>\n",
       "      <th>26</th>\n",
       "      <td>NC</td>\n",
       "      <td>4.587069</td>\n",
       "      <td>49.873795</td>\n",
       "    </tr>\n",
       "    <tr>\n",
       "      <th>5</th>\n",
       "      <td>CO</td>\n",
       "      <td>4.028204</td>\n",
       "      <td>53.901999</td>\n",
       "    </tr>\n",
       "    <tr>\n",
       "      <th>37</th>\n",
       "      <td>PA</td>\n",
       "      <td>2.883222</td>\n",
       "      <td>56.785221</td>\n",
       "    </tr>\n",
       "    <tr>\n",
       "      <th>7</th>\n",
       "      <td>DC</td>\n",
       "      <td>2.846527</td>\n",
       "      <td>59.631748</td>\n",
       "    </tr>\n",
       "    <tr>\n",
       "      <th>49</th>\n",
       "      <td>WA</td>\n",
       "      <td>2.836163</td>\n",
       "      <td>62.467911</td>\n",
       "    </tr>\n",
       "    <tr>\n",
       "      <th>3</th>\n",
       "      <td>AZ</td>\n",
       "      <td>2.773752</td>\n",
       "      <td>65.241663</td>\n",
       "    </tr>\n",
       "    <tr>\n",
       "      <th>21</th>\n",
       "      <td>MI</td>\n",
       "      <td>2.681478</td>\n",
       "      <td>67.923141</td>\n",
       "    </tr>\n",
       "    <tr>\n",
       "      <th>32</th>\n",
       "      <td>NV</td>\n",
       "      <td>2.367039</td>\n",
       "      <td>70.290180</td>\n",
       "    </tr>\n",
       "    <tr>\n",
       "      <th>34</th>\n",
       "      <td>OH</td>\n",
       "      <td>2.162455</td>\n",
       "      <td>72.452635</td>\n",
       "    </tr>\n",
       "    <tr>\n",
       "      <th>30</th>\n",
       "      <td>NJ</td>\n",
       "      <td>2.052831</td>\n",
       "      <td>74.505466</td>\n",
       "    </tr>\n",
       "    <tr>\n",
       "      <th>22</th>\n",
       "      <td>MN</td>\n",
       "      <td>2.030876</td>\n",
       "      <td>76.536342</td>\n",
       "    </tr>\n",
       "    <tr>\n",
       "      <th>23</th>\n",
       "      <td>MO</td>\n",
       "      <td>1.819612</td>\n",
       "      <td>78.355954</td>\n",
       "    </tr>\n",
       "    <tr>\n",
       "      <th>18</th>\n",
       "      <td>MA</td>\n",
       "      <td>1.802724</td>\n",
       "      <td>80.158678</td>\n",
       "    </tr>\n",
       "    <tr>\n",
       "      <th>42</th>\n",
       "      <td>TN</td>\n",
       "      <td>1.707686</td>\n",
       "      <td>81.866364</td>\n",
       "    </tr>\n",
       "    <tr>\n",
       "      <th>45</th>\n",
       "      <td>UT</td>\n",
       "      <td>1.640208</td>\n",
       "      <td>83.506571</td>\n",
       "    </tr>\n",
       "    <tr>\n",
       "      <th>10</th>\n",
       "      <td>HI</td>\n",
       "      <td>1.592228</td>\n",
       "      <td>85.098799</td>\n",
       "    </tr>\n",
       "    <tr>\n",
       "      <th>36</th>\n",
       "      <td>OR</td>\n",
       "      <td>1.430710</td>\n",
       "      <td>86.529509</td>\n",
       "    </tr>\n",
       "    <tr>\n",
       "      <th>19</th>\n",
       "      <td>MD</td>\n",
       "      <td>1.345191</td>\n",
       "      <td>87.874701</td>\n",
       "    </tr>\n",
       "    <tr>\n",
       "      <th>17</th>\n",
       "      <td>LA</td>\n",
       "      <td>1.046721</td>\n",
       "      <td>88.921421</td>\n",
       "    </tr>\n",
       "    <tr>\n",
       "      <th>46</th>\n",
       "      <td>VA</td>\n",
       "      <td>0.952297</td>\n",
       "      <td>89.873718</td>\n",
       "    </tr>\n",
       "    <tr>\n",
       "      <th>14</th>\n",
       "      <td>IN</td>\n",
       "      <td>0.898713</td>\n",
       "      <td>90.772431</td>\n",
       "    </tr>\n",
       "    <tr>\n",
       "      <th>50</th>\n",
       "      <td>WI</td>\n",
       "      <td>0.872996</td>\n",
       "      <td>91.645428</td>\n",
       "    </tr>\n",
       "    <tr>\n",
       "      <th>40</th>\n",
       "      <td>SC</td>\n",
       "      <td>0.789858</td>\n",
       "      <td>92.435285</td>\n",
       "    </tr>\n",
       "    <tr>\n",
       "      <th>35</th>\n",
       "      <td>OK</td>\n",
       "      <td>0.573528</td>\n",
       "      <td>93.008813</td>\n",
       "    </tr>\n",
       "    <tr>\n",
       "      <th>1</th>\n",
       "      <td>AL</td>\n",
       "      <td>0.536986</td>\n",
       "      <td>93.545799</td>\n",
       "    </tr>\n",
       "    <tr>\n",
       "      <th>16</th>\n",
       "      <td>KY</td>\n",
       "      <td>0.490005</td>\n",
       "      <td>94.035804</td>\n",
       "    </tr>\n",
       "    <tr>\n",
       "      <th>0</th>\n",
       "      <td>AK</td>\n",
       "      <td>0.486704</td>\n",
       "      <td>94.522508</td>\n",
       "    </tr>\n",
       "    <tr>\n",
       "      <th>12</th>\n",
       "      <td>ID</td>\n",
       "      <td>0.435193</td>\n",
       "      <td>94.957701</td>\n",
       "    </tr>\n",
       "    <tr>\n",
       "      <th>28</th>\n",
       "      <td>NE</td>\n",
       "      <td>0.431892</td>\n",
       "      <td>95.389593</td>\n",
       "    </tr>\n",
       "    <tr>\n",
       "      <th>38</th>\n",
       "      <td>PR</td>\n",
       "      <td>0.427977</td>\n",
       "      <td>95.817570</td>\n",
       "    </tr>\n",
       "    <tr>\n",
       "      <th>31</th>\n",
       "      <td>NM</td>\n",
       "      <td>0.406022</td>\n",
       "      <td>96.223592</td>\n",
       "    </tr>\n",
       "    <tr>\n",
       "      <th>25</th>\n",
       "      <td>MT</td>\n",
       "      <td>0.405024</td>\n",
       "      <td>96.628616</td>\n",
       "    </tr>\n",
       "    <tr>\n",
       "      <th>6</th>\n",
       "      <td>CT</td>\n",
       "      <td>0.393509</td>\n",
       "      <td>97.022124</td>\n",
       "    </tr>\n",
       "    <tr>\n",
       "      <th>11</th>\n",
       "      <td>IA</td>\n",
       "      <td>0.389824</td>\n",
       "      <td>97.411948</td>\n",
       "    </tr>\n",
       "    <tr>\n",
       "      <th>2</th>\n",
       "      <td>AR</td>\n",
       "      <td>0.384143</td>\n",
       "      <td>97.796091</td>\n",
       "    </tr>\n",
       "    <tr>\n",
       "      <th>27</th>\n",
       "      <td>ND</td>\n",
       "      <td>0.270144</td>\n",
       "      <td>98.066235</td>\n",
       "    </tr>\n",
       "    <tr>\n",
       "      <th>39</th>\n",
       "      <td>RI</td>\n",
       "      <td>0.239053</td>\n",
       "      <td>98.305288</td>\n",
       "    </tr>\n",
       "    <tr>\n",
       "      <th>20</th>\n",
       "      <td>ME</td>\n",
       "      <td>0.220936</td>\n",
       "      <td>98.526224</td>\n",
       "    </tr>\n",
       "    <tr>\n",
       "      <th>15</th>\n",
       "      <td>KS</td>\n",
       "      <td>0.217865</td>\n",
       "      <td>98.744089</td>\n",
       "    </tr>\n",
       "    <tr>\n",
       "      <th>24</th>\n",
       "      <td>MS</td>\n",
       "      <td>0.197138</td>\n",
       "      <td>98.941227</td>\n",
       "    </tr>\n",
       "    <tr>\n",
       "      <th>41</th>\n",
       "      <td>SD</td>\n",
       "      <td>0.173801</td>\n",
       "      <td>99.115028</td>\n",
       "    </tr>\n",
       "    <tr>\n",
       "      <th>52</th>\n",
       "      <td>WY</td>\n",
       "      <td>0.144015</td>\n",
       "      <td>99.259043</td>\n",
       "    </tr>\n",
       "    <tr>\n",
       "      <th>48</th>\n",
       "      <td>VT</td>\n",
       "      <td>0.142250</td>\n",
       "      <td>99.401293</td>\n",
       "    </tr>\n",
       "    <tr>\n",
       "      <th>29</th>\n",
       "      <td>NH</td>\n",
       "      <td>0.130351</td>\n",
       "      <td>99.531643</td>\n",
       "    </tr>\n",
       "    <tr>\n",
       "      <th>51</th>\n",
       "      <td>WV</td>\n",
       "      <td>0.099797</td>\n",
       "      <td>99.631441</td>\n",
       "    </tr>\n",
       "    <tr>\n",
       "      <th>47</th>\n",
       "      <td>VI</td>\n",
       "      <td>0.071854</td>\n",
       "      <td>99.703295</td>\n",
       "    </tr>\n",
       "    <tr>\n",
       "      <th>43</th>\n",
       "      <td>TT</td>\n",
       "      <td>0.019038</td>\n",
       "      <td>99.722333</td>\n",
       "    </tr>\n",
       "  </tbody>\n",
       "</table>\n",
       "</div>"
      ],
      "text/plain": [
       "   state    percent  accumulation\n",
       "4     CA  10.891190     10.891190\n",
       "44    TX   9.934748     20.825938\n",
       "8     FL   8.085196     28.911134\n",
       "13    IL   6.231115     35.142250\n",
       "9     GA   5.117070     40.259320\n",
       "33    NY   5.027406     45.286725\n",
       "26    NC   4.587069     49.873795\n",
       "5     CO   4.028204     53.901999\n",
       "37    PA   2.883222     56.785221\n",
       "7     DC   2.846527     59.631748\n",
       "49    WA   2.836163     62.467911\n",
       "3     AZ   2.773752     65.241663\n",
       "21    MI   2.681478     67.923141\n",
       "32    NV   2.367039     70.290180\n",
       "34    OH   2.162455     72.452635\n",
       "30    NJ   2.052831     74.505466\n",
       "22    MN   2.030876     76.536342\n",
       "23    MO   1.819612     78.355954\n",
       "18    MA   1.802724     80.158678\n",
       "42    TN   1.707686     81.866364\n",
       "45    UT   1.640208     83.506571\n",
       "10    HI   1.592228     85.098799\n",
       "36    OR   1.430710     86.529509\n",
       "19    MD   1.345191     87.874701\n",
       "17    LA   1.046721     88.921421\n",
       "46    VA   0.952297     89.873718\n",
       "14    IN   0.898713     90.772431\n",
       "50    WI   0.872996     91.645428\n",
       "40    SC   0.789858     92.435285\n",
       "35    OK   0.573528     93.008813\n",
       "1     AL   0.536986     93.545799\n",
       "16    KY   0.490005     94.035804\n",
       "0     AK   0.486704     94.522508\n",
       "12    ID   0.435193     94.957701\n",
       "28    NE   0.431892     95.389593\n",
       "38    PR   0.427977     95.817570\n",
       "31    NM   0.406022     96.223592\n",
       "25    MT   0.405024     96.628616\n",
       "6     CT   0.393509     97.022124\n",
       "11    IA   0.389824     97.411948\n",
       "2     AR   0.384143     97.796091\n",
       "27    ND   0.270144     98.066235\n",
       "39    RI   0.239053     98.305288\n",
       "20    ME   0.220936     98.526224\n",
       "15    KS   0.217865     98.744089\n",
       "24    MS   0.197138     98.941227\n",
       "41    SD   0.173801     99.115028\n",
       "52    WY   0.144015     99.259043\n",
       "48    VT   0.142250     99.401293\n",
       "29    NH   0.130351     99.531643\n",
       "51    WV   0.099797     99.631441\n",
       "47    VI   0.071854     99.703295\n",
       "43    TT   0.019038     99.722333"
      ]
     },
     "execution_count": 140,
     "metadata": {},
     "output_type": "execute_result"
    }
   ],
   "source": [
    "\n",
    "non_us = [\n",
    "    'Ontario, CA',\n",
    "    'British Columbia, CA',\n",
    "    'Alberta, CA',\n",
    "    'Saskatchewan, CA',\n",
    "    'Manitoba, CA',\n",
    "    'Quebec, CA',\n",
    "    'Nova Scotia, CA',\n",
    "    'New Brunswick, CA',\n",
    "    'Newfoundland, CA',\n",
    "    'Prince Edward Island, CA',  \n",
    "     ]\n",
    "\n",
    "a=pd.DataFrame(flights_train['origin_city_name']).rename(columns={'origin_city_name':'state'})\n",
    "b=pd.DataFrame(flights_train['dest_city_name'  ]).rename(columns={'dest_city_name'  :'state'})\n",
    "\n",
    "df_state=a.append(b)\n",
    "total_traffic,a = df_state.shape\n",
    "\n",
    "df_state = df_state[~df_state['state'].isin(non_us)]\n",
    "df_state['state'] = df_state['state'].str[-2:]\n",
    "df_state['percent'] = 0.0\n",
    " \n",
    "df_state.head()\n",
    "\n",
    "df_state = df_state[['state','percent']].groupby('state').count()\n",
    "df_state['percent'] = 100*df_state['percent'] / total_traffic\n",
    "df_state = df_state.reset_index()\n",
    "df_state.sort_values('percent',ascending=False , inplace=True )\n",
    "\n",
    "df_state['accumulation']=df_state['percent'].cumsum()\n",
    "\n",
    "df_state.head(60)"
   ]
  },
  {
   "cell_type": "markdown",
   "metadata": {},
   "source": [
    "#### **Task 7**: Test the hypothesis whether planes fly faster when there is the departure delay? "
   ]
  },
  {
   "cell_type": "code",
   "execution_count": 39,
   "metadata": {},
   "outputs": [
    {
     "data": {
      "text/plain": [
       "F_onewayResult(statistic=12.956030560830646, pvalue=0.00032198349576344475)"
      ]
     },
     "execution_count": 39,
     "metadata": {},
     "output_type": "execute_result"
    }
   ],
   "source": [
    "# Calculation of average speed ( v = d / t ) \n",
    "\n",
    "delay_type = ['carrier_delay','weather_delay','nas_delay','security_delay','late_aircraft_delay']\n",
    "\n",
    "df_speed=flights_train[['distance','air_time']+delay_type]\n",
    "df_speed= df_speed.dropna( subset=['air_time'])\n",
    "df_speed['avg_speed'] = df_speed['distance']/ ( df_speed['air_time'] / 60)\n",
    "df_speed_sample = df_speed.sample( n= 5000 )\n",
    "\n",
    "for i in delay_type:\n",
    "    df_speed_sample['delayed'] = np.where( df_speed_sample[i] > 0 , 1 , 0)\n",
    "\n",
    "avg_speed_delay   = df_speed_sample[ df_speed_sample['delayed']==1]['avg_speed']\n",
    "avg_speed_nodelay = df_speed_sample[ df_speed_sample['delayed']==0]['avg_speed']\n",
    "\n",
    "stats.f_oneway(avg_speed_delay , avg_speed_nodelay)"
   ]
  },
  {
   "cell_type": "markdown",
   "metadata": {},
   "source": [
    "#### **Task 8**: When (which hour) do most 'LONG', 'SHORT', 'MEDIUM' haul flights take off?"
   ]
  },
  {
   "cell_type": "code",
   "execution_count": null,
   "metadata": {},
   "outputs": [
    {
     "name": "stdout",
     "output_type": "stream",
     "text": [
      "Longest flight time : 11.90 hr\n"
     ]
    }
   ],
   "source": [
    "longest_flight_time=flights_train['actual_elapsed_time'].loc[~flights_train['actual_elapsed_time'].isna()].max()\n",
    "print('Longest flight time : %.2f hr' % (longest_flight_time/60))"
   ]
  },
  {
   "cell_type": "code",
   "execution_count": null,
   "metadata": {},
   "outputs": [
    {
     "data": {
      "text/html": [
       "<div>\n",
       "<style scoped>\n",
       "    .dataframe tbody tr th:only-of-type {\n",
       "        vertical-align: middle;\n",
       "    }\n",
       "\n",
       "    .dataframe tbody tr th {\n",
       "        vertical-align: top;\n",
       "    }\n",
       "\n",
       "    .dataframe thead th {\n",
       "        text-align: right;\n",
       "    }\n",
       "</style>\n",
       "<table border=\"1\" class=\"dataframe\">\n",
       "  <thead>\n",
       "    <tr style=\"text-align: right;\">\n",
       "      <th></th>\n",
       "      <th>dep_hour</th>\n",
       "      <th>short_haul</th>\n",
       "      <th>medium_haul</th>\n",
       "      <th>long_haul</th>\n",
       "    </tr>\n",
       "  </thead>\n",
       "  <tbody>\n",
       "    <tr>\n",
       "      <th>0</th>\n",
       "      <td>0.0</td>\n",
       "      <td>2078</td>\n",
       "      <td>618</td>\n",
       "      <td>0</td>\n",
       "    </tr>\n",
       "    <tr>\n",
       "      <th>1</th>\n",
       "      <td>1.0</td>\n",
       "      <td>792</td>\n",
       "      <td>179</td>\n",
       "      <td>1</td>\n",
       "    </tr>\n",
       "    <tr>\n",
       "      <th>2</th>\n",
       "      <td>2.0</td>\n",
       "      <td>261</td>\n",
       "      <td>60</td>\n",
       "      <td>0</td>\n",
       "    </tr>\n",
       "    <tr>\n",
       "      <th>3</th>\n",
       "      <td>3.0</td>\n",
       "      <td>191</td>\n",
       "      <td>71</td>\n",
       "      <td>0</td>\n",
       "    </tr>\n",
       "    <tr>\n",
       "      <th>4</th>\n",
       "      <td>4.0</td>\n",
       "      <td>1647</td>\n",
       "      <td>100</td>\n",
       "      <td>0</td>\n",
       "    </tr>\n",
       "    <tr>\n",
       "      <th>5</th>\n",
       "      <td>5.0</td>\n",
       "      <td>24326</td>\n",
       "      <td>909</td>\n",
       "      <td>0</td>\n",
       "    </tr>\n",
       "    <tr>\n",
       "      <th>6</th>\n",
       "      <td>6.0</td>\n",
       "      <td>36011</td>\n",
       "      <td>4016</td>\n",
       "      <td>0</td>\n",
       "    </tr>\n",
       "    <tr>\n",
       "      <th>7</th>\n",
       "      <td>7.0</td>\n",
       "      <td>33181</td>\n",
       "      <td>4813</td>\n",
       "      <td>1</td>\n",
       "    </tr>\n",
       "    <tr>\n",
       "      <th>8</th>\n",
       "      <td>8.0</td>\n",
       "      <td>34800</td>\n",
       "      <td>4950</td>\n",
       "      <td>43</td>\n",
       "    </tr>\n",
       "    <tr>\n",
       "      <th>9</th>\n",
       "      <td>9.0</td>\n",
       "      <td>33546</td>\n",
       "      <td>3618</td>\n",
       "      <td>108</td>\n",
       "    </tr>\n",
       "    <tr>\n",
       "      <th>10</th>\n",
       "      <td>10.0</td>\n",
       "      <td>34305</td>\n",
       "      <td>3295</td>\n",
       "      <td>92</td>\n",
       "    </tr>\n",
       "    <tr>\n",
       "      <th>11</th>\n",
       "      <td>11.0</td>\n",
       "      <td>36680</td>\n",
       "      <td>3108</td>\n",
       "      <td>103</td>\n",
       "    </tr>\n",
       "    <tr>\n",
       "      <th>12</th>\n",
       "      <td>12.0</td>\n",
       "      <td>37150</td>\n",
       "      <td>2878</td>\n",
       "      <td>8</td>\n",
       "    </tr>\n",
       "    <tr>\n",
       "      <th>13</th>\n",
       "      <td>13.0</td>\n",
       "      <td>33445</td>\n",
       "      <td>2886</td>\n",
       "      <td>4</td>\n",
       "    </tr>\n",
       "    <tr>\n",
       "      <th>14</th>\n",
       "      <td>14.0</td>\n",
       "      <td>35663</td>\n",
       "      <td>2648</td>\n",
       "      <td>2</td>\n",
       "    </tr>\n",
       "    <tr>\n",
       "      <th>15</th>\n",
       "      <td>15.0</td>\n",
       "      <td>36130</td>\n",
       "      <td>3176</td>\n",
       "      <td>1</td>\n",
       "    </tr>\n",
       "    <tr>\n",
       "      <th>16</th>\n",
       "      <td>16.0</td>\n",
       "      <td>34118</td>\n",
       "      <td>3262</td>\n",
       "      <td>77</td>\n",
       "    </tr>\n",
       "    <tr>\n",
       "      <th>17</th>\n",
       "      <td>17.0</td>\n",
       "      <td>36703</td>\n",
       "      <td>3695</td>\n",
       "      <td>55</td>\n",
       "    </tr>\n",
       "    <tr>\n",
       "      <th>18</th>\n",
       "      <td>18.0</td>\n",
       "      <td>33712</td>\n",
       "      <td>2923</td>\n",
       "      <td>12</td>\n",
       "    </tr>\n",
       "    <tr>\n",
       "      <th>19</th>\n",
       "      <td>19.0</td>\n",
       "      <td>31201</td>\n",
       "      <td>2672</td>\n",
       "      <td>4</td>\n",
       "    </tr>\n",
       "    <tr>\n",
       "      <th>20</th>\n",
       "      <td>20.0</td>\n",
       "      <td>28303</td>\n",
       "      <td>2366</td>\n",
       "      <td>3</td>\n",
       "    </tr>\n",
       "    <tr>\n",
       "      <th>21</th>\n",
       "      <td>21.0</td>\n",
       "      <td>18866</td>\n",
       "      <td>2769</td>\n",
       "      <td>0</td>\n",
       "    </tr>\n",
       "    <tr>\n",
       "      <th>22</th>\n",
       "      <td>22.0</td>\n",
       "      <td>14480</td>\n",
       "      <td>2390</td>\n",
       "      <td>2</td>\n",
       "    </tr>\n",
       "    <tr>\n",
       "      <th>23</th>\n",
       "      <td>23.0</td>\n",
       "      <td>4740</td>\n",
       "      <td>1904</td>\n",
       "      <td>1</td>\n",
       "    </tr>\n",
       "  </tbody>\n",
       "</table>\n",
       "</div>"
      ],
      "text/plain": [
       "    dep_hour  short_haul  medium_haul  long_haul\n",
       "0        0.0        2078          618          0\n",
       "1        1.0         792          179          1\n",
       "2        2.0         261           60          0\n",
       "3        3.0         191           71          0\n",
       "4        4.0        1647          100          0\n",
       "5        5.0       24326          909          0\n",
       "6        6.0       36011         4016          0\n",
       "7        7.0       33181         4813          1\n",
       "8        8.0       34800         4950         43\n",
       "9        9.0       33546         3618        108\n",
       "10      10.0       34305         3295         92\n",
       "11      11.0       36680         3108        103\n",
       "12      12.0       37150         2878          8\n",
       "13      13.0       33445         2886          4\n",
       "14      14.0       35663         2648          2\n",
       "15      15.0       36130         3176          1\n",
       "16      16.0       34118         3262         77\n",
       "17      17.0       36703         3695         55\n",
       "18      18.0       33712         2923         12\n",
       "19      19.0       31201         2672          4\n",
       "20      20.0       28303         2366          3\n",
       "21      21.0       18866         2769          0\n",
       "22      22.0       14480         2390          2\n",
       "23      23.0        4740         1904          1"
      ]
     },
     "execution_count": 335,
     "metadata": {},
     "output_type": "execute_result"
    }
   ],
   "source": [
    "# Define 'SHORT', 'MEDIUM' and 'LONG' haul flights\n",
    "# 'SHORT' :         actual_elapsed_time <= 4 hr\n",
    "# 'MEDIUM':  4 hr < actual_elapsed_time <=8\n",
    "# 'LONG'  :  8 hr < actual_elapsed_time\n",
    "ft_bin= [-1, 240        , 480         , 5000]\n",
    "ft_lbl= ['','short_haul','medium_haul','long_haul'] \n",
    "\n",
    "df_fh=flights_train[['actual_elapsed_time','dep_time']].loc[~flights_train['actual_elapsed_time'].isna()]\n",
    "df_fh['dep_hour'] = (  df_fh['dep_time'] % 2400 )//100\n",
    "\n",
    "for ft in range(1,4):\n",
    "    df_fh[ft_lbl[ft] ] = np.where(((df_fh['actual_elapsed_time'] > ft_bin[ft-1]) & \n",
    "                                             (df_fh['actual_elapsed_time'] <= ft_bin[ft])), 1, 0)\n",
    "\n",
    "df_fh = df_fh[['dep_hour', 'short_haul','medium_haul','long_haul']].groupby(['dep_hour']).sum().reset_index()\n",
    "\n",
    "df_fh.head(50)"
   ]
  },
  {
   "cell_type": "code",
   "execution_count": null,
   "metadata": {},
   "outputs": [
    {
     "data": {
      "application/vnd.plotly.v1+json": {
       "config": {
        "plotlyServerURL": "https://plot.ly"
       },
       "data": [
        {
         "marker": {
          "color": "steelblue"
         },
         "name": "Short Haul",
         "type": "bar",
         "x": [
          0,
          1,
          2,
          3,
          4,
          5,
          6,
          7,
          8,
          9,
          10,
          11,
          12,
          13,
          14,
          15,
          16,
          17,
          18,
          19,
          20,
          21,
          22,
          23
         ],
         "y": [
          2078,
          792,
          261,
          191,
          1647,
          24326,
          36011,
          33181,
          34800,
          33546,
          34305,
          36680,
          37150,
          33445,
          35663,
          36130,
          34118,
          36703,
          33712,
          31201,
          28303,
          18866,
          14480,
          4740
         ]
        },
        {
         "marker": {
          "color": "firebrick"
         },
         "name": "Medium Haul",
         "type": "bar",
         "x": [
          0,
          1,
          2,
          3,
          4,
          5,
          6,
          7,
          8,
          9,
          10,
          11,
          12,
          13,
          14,
          15,
          16,
          17,
          18,
          19,
          20,
          21,
          22,
          23
         ],
         "y": [
          618,
          179,
          60,
          71,
          100,
          909,
          4016,
          4813,
          4950,
          3618,
          3295,
          3108,
          2878,
          2886,
          2648,
          3176,
          3262,
          3695,
          2923,
          2672,
          2366,
          2769,
          2390,
          1904
         ]
        },
        {
         "marker": {
          "color": "green"
         },
         "name": "Long Haul",
         "type": "bar",
         "x": [
          0,
          1,
          2,
          3,
          4,
          5,
          6,
          7,
          8,
          9,
          10,
          11,
          12,
          13,
          14,
          15,
          16,
          17,
          18,
          19,
          20,
          21,
          22,
          23
         ],
         "y": [
          0,
          1,
          0,
          0,
          0,
          0,
          0,
          1,
          43,
          108,
          92,
          103,
          8,
          4,
          2,
          1,
          77,
          55,
          12,
          4,
          3,
          0,
          2,
          1
         ]
        }
       ],
       "layout": {
        "barmode": "stack",
        "template": {
         "data": {
          "bar": [
           {
            "error_x": {
             "color": "#2a3f5f"
            },
            "error_y": {
             "color": "#2a3f5f"
            },
            "marker": {
             "line": {
              "color": "#E5ECF6",
              "width": 0.5
             },
             "pattern": {
              "fillmode": "overlay",
              "size": 10,
              "solidity": 0.2
             }
            },
            "type": "bar"
           }
          ],
          "barpolar": [
           {
            "marker": {
             "line": {
              "color": "#E5ECF6",
              "width": 0.5
             },
             "pattern": {
              "fillmode": "overlay",
              "size": 10,
              "solidity": 0.2
             }
            },
            "type": "barpolar"
           }
          ],
          "carpet": [
           {
            "aaxis": {
             "endlinecolor": "#2a3f5f",
             "gridcolor": "white",
             "linecolor": "white",
             "minorgridcolor": "white",
             "startlinecolor": "#2a3f5f"
            },
            "baxis": {
             "endlinecolor": "#2a3f5f",
             "gridcolor": "white",
             "linecolor": "white",
             "minorgridcolor": "white",
             "startlinecolor": "#2a3f5f"
            },
            "type": "carpet"
           }
          ],
          "choropleth": [
           {
            "colorbar": {
             "outlinewidth": 0,
             "ticks": ""
            },
            "type": "choropleth"
           }
          ],
          "contour": [
           {
            "colorbar": {
             "outlinewidth": 0,
             "ticks": ""
            },
            "colorscale": [
             [
              0,
              "#0d0887"
             ],
             [
              0.1111111111111111,
              "#46039f"
             ],
             [
              0.2222222222222222,
              "#7201a8"
             ],
             [
              0.3333333333333333,
              "#9c179e"
             ],
             [
              0.4444444444444444,
              "#bd3786"
             ],
             [
              0.5555555555555556,
              "#d8576b"
             ],
             [
              0.6666666666666666,
              "#ed7953"
             ],
             [
              0.7777777777777778,
              "#fb9f3a"
             ],
             [
              0.8888888888888888,
              "#fdca26"
             ],
             [
              1,
              "#f0f921"
             ]
            ],
            "type": "contour"
           }
          ],
          "contourcarpet": [
           {
            "colorbar": {
             "outlinewidth": 0,
             "ticks": ""
            },
            "type": "contourcarpet"
           }
          ],
          "heatmap": [
           {
            "colorbar": {
             "outlinewidth": 0,
             "ticks": ""
            },
            "colorscale": [
             [
              0,
              "#0d0887"
             ],
             [
              0.1111111111111111,
              "#46039f"
             ],
             [
              0.2222222222222222,
              "#7201a8"
             ],
             [
              0.3333333333333333,
              "#9c179e"
             ],
             [
              0.4444444444444444,
              "#bd3786"
             ],
             [
              0.5555555555555556,
              "#d8576b"
             ],
             [
              0.6666666666666666,
              "#ed7953"
             ],
             [
              0.7777777777777778,
              "#fb9f3a"
             ],
             [
              0.8888888888888888,
              "#fdca26"
             ],
             [
              1,
              "#f0f921"
             ]
            ],
            "type": "heatmap"
           }
          ],
          "heatmapgl": [
           {
            "colorbar": {
             "outlinewidth": 0,
             "ticks": ""
            },
            "colorscale": [
             [
              0,
              "#0d0887"
             ],
             [
              0.1111111111111111,
              "#46039f"
             ],
             [
              0.2222222222222222,
              "#7201a8"
             ],
             [
              0.3333333333333333,
              "#9c179e"
             ],
             [
              0.4444444444444444,
              "#bd3786"
             ],
             [
              0.5555555555555556,
              "#d8576b"
             ],
             [
              0.6666666666666666,
              "#ed7953"
             ],
             [
              0.7777777777777778,
              "#fb9f3a"
             ],
             [
              0.8888888888888888,
              "#fdca26"
             ],
             [
              1,
              "#f0f921"
             ]
            ],
            "type": "heatmapgl"
           }
          ],
          "histogram": [
           {
            "marker": {
             "pattern": {
              "fillmode": "overlay",
              "size": 10,
              "solidity": 0.2
             }
            },
            "type": "histogram"
           }
          ],
          "histogram2d": [
           {
            "colorbar": {
             "outlinewidth": 0,
             "ticks": ""
            },
            "colorscale": [
             [
              0,
              "#0d0887"
             ],
             [
              0.1111111111111111,
              "#46039f"
             ],
             [
              0.2222222222222222,
              "#7201a8"
             ],
             [
              0.3333333333333333,
              "#9c179e"
             ],
             [
              0.4444444444444444,
              "#bd3786"
             ],
             [
              0.5555555555555556,
              "#d8576b"
             ],
             [
              0.6666666666666666,
              "#ed7953"
             ],
             [
              0.7777777777777778,
              "#fb9f3a"
             ],
             [
              0.8888888888888888,
              "#fdca26"
             ],
             [
              1,
              "#f0f921"
             ]
            ],
            "type": "histogram2d"
           }
          ],
          "histogram2dcontour": [
           {
            "colorbar": {
             "outlinewidth": 0,
             "ticks": ""
            },
            "colorscale": [
             [
              0,
              "#0d0887"
             ],
             [
              0.1111111111111111,
              "#46039f"
             ],
             [
              0.2222222222222222,
              "#7201a8"
             ],
             [
              0.3333333333333333,
              "#9c179e"
             ],
             [
              0.4444444444444444,
              "#bd3786"
             ],
             [
              0.5555555555555556,
              "#d8576b"
             ],
             [
              0.6666666666666666,
              "#ed7953"
             ],
             [
              0.7777777777777778,
              "#fb9f3a"
             ],
             [
              0.8888888888888888,
              "#fdca26"
             ],
             [
              1,
              "#f0f921"
             ]
            ],
            "type": "histogram2dcontour"
           }
          ],
          "mesh3d": [
           {
            "colorbar": {
             "outlinewidth": 0,
             "ticks": ""
            },
            "type": "mesh3d"
           }
          ],
          "parcoords": [
           {
            "line": {
             "colorbar": {
              "outlinewidth": 0,
              "ticks": ""
             }
            },
            "type": "parcoords"
           }
          ],
          "pie": [
           {
            "automargin": true,
            "type": "pie"
           }
          ],
          "scatter": [
           {
            "fillpattern": {
             "fillmode": "overlay",
             "size": 10,
             "solidity": 0.2
            },
            "type": "scatter"
           }
          ],
          "scatter3d": [
           {
            "line": {
             "colorbar": {
              "outlinewidth": 0,
              "ticks": ""
             }
            },
            "marker": {
             "colorbar": {
              "outlinewidth": 0,
              "ticks": ""
             }
            },
            "type": "scatter3d"
           }
          ],
          "scattercarpet": [
           {
            "marker": {
             "colorbar": {
              "outlinewidth": 0,
              "ticks": ""
             }
            },
            "type": "scattercarpet"
           }
          ],
          "scattergeo": [
           {
            "marker": {
             "colorbar": {
              "outlinewidth": 0,
              "ticks": ""
             }
            },
            "type": "scattergeo"
           }
          ],
          "scattergl": [
           {
            "marker": {
             "colorbar": {
              "outlinewidth": 0,
              "ticks": ""
             }
            },
            "type": "scattergl"
           }
          ],
          "scattermapbox": [
           {
            "marker": {
             "colorbar": {
              "outlinewidth": 0,
              "ticks": ""
             }
            },
            "type": "scattermapbox"
           }
          ],
          "scatterpolar": [
           {
            "marker": {
             "colorbar": {
              "outlinewidth": 0,
              "ticks": ""
             }
            },
            "type": "scatterpolar"
           }
          ],
          "scatterpolargl": [
           {
            "marker": {
             "colorbar": {
              "outlinewidth": 0,
              "ticks": ""
             }
            },
            "type": "scatterpolargl"
           }
          ],
          "scatterternary": [
           {
            "marker": {
             "colorbar": {
              "outlinewidth": 0,
              "ticks": ""
             }
            },
            "type": "scatterternary"
           }
          ],
          "surface": [
           {
            "colorbar": {
             "outlinewidth": 0,
             "ticks": ""
            },
            "colorscale": [
             [
              0,
              "#0d0887"
             ],
             [
              0.1111111111111111,
              "#46039f"
             ],
             [
              0.2222222222222222,
              "#7201a8"
             ],
             [
              0.3333333333333333,
              "#9c179e"
             ],
             [
              0.4444444444444444,
              "#bd3786"
             ],
             [
              0.5555555555555556,
              "#d8576b"
             ],
             [
              0.6666666666666666,
              "#ed7953"
             ],
             [
              0.7777777777777778,
              "#fb9f3a"
             ],
             [
              0.8888888888888888,
              "#fdca26"
             ],
             [
              1,
              "#f0f921"
             ]
            ],
            "type": "surface"
           }
          ],
          "table": [
           {
            "cells": {
             "fill": {
              "color": "#EBF0F8"
             },
             "line": {
              "color": "white"
             }
            },
            "header": {
             "fill": {
              "color": "#C8D4E3"
             },
             "line": {
              "color": "white"
             }
            },
            "type": "table"
           }
          ]
         },
         "layout": {
          "annotationdefaults": {
           "arrowcolor": "#2a3f5f",
           "arrowhead": 0,
           "arrowwidth": 1
          },
          "autotypenumbers": "strict",
          "coloraxis": {
           "colorbar": {
            "outlinewidth": 0,
            "ticks": ""
           }
          },
          "colorscale": {
           "diverging": [
            [
             0,
             "#8e0152"
            ],
            [
             0.1,
             "#c51b7d"
            ],
            [
             0.2,
             "#de77ae"
            ],
            [
             0.3,
             "#f1b6da"
            ],
            [
             0.4,
             "#fde0ef"
            ],
            [
             0.5,
             "#f7f7f7"
            ],
            [
             0.6,
             "#e6f5d0"
            ],
            [
             0.7,
             "#b8e186"
            ],
            [
             0.8,
             "#7fbc41"
            ],
            [
             0.9,
             "#4d9221"
            ],
            [
             1,
             "#276419"
            ]
           ],
           "sequential": [
            [
             0,
             "#0d0887"
            ],
            [
             0.1111111111111111,
             "#46039f"
            ],
            [
             0.2222222222222222,
             "#7201a8"
            ],
            [
             0.3333333333333333,
             "#9c179e"
            ],
            [
             0.4444444444444444,
             "#bd3786"
            ],
            [
             0.5555555555555556,
             "#d8576b"
            ],
            [
             0.6666666666666666,
             "#ed7953"
            ],
            [
             0.7777777777777778,
             "#fb9f3a"
            ],
            [
             0.8888888888888888,
             "#fdca26"
            ],
            [
             1,
             "#f0f921"
            ]
           ],
           "sequentialminus": [
            [
             0,
             "#0d0887"
            ],
            [
             0.1111111111111111,
             "#46039f"
            ],
            [
             0.2222222222222222,
             "#7201a8"
            ],
            [
             0.3333333333333333,
             "#9c179e"
            ],
            [
             0.4444444444444444,
             "#bd3786"
            ],
            [
             0.5555555555555556,
             "#d8576b"
            ],
            [
             0.6666666666666666,
             "#ed7953"
            ],
            [
             0.7777777777777778,
             "#fb9f3a"
            ],
            [
             0.8888888888888888,
             "#fdca26"
            ],
            [
             1,
             "#f0f921"
            ]
           ]
          },
          "colorway": [
           "#636efa",
           "#EF553B",
           "#00cc96",
           "#ab63fa",
           "#FFA15A",
           "#19d3f3",
           "#FF6692",
           "#B6E880",
           "#FF97FF",
           "#FECB52"
          ],
          "font": {
           "color": "#2a3f5f"
          },
          "geo": {
           "bgcolor": "white",
           "lakecolor": "white",
           "landcolor": "#E5ECF6",
           "showlakes": true,
           "showland": true,
           "subunitcolor": "white"
          },
          "hoverlabel": {
           "align": "left"
          },
          "hovermode": "closest",
          "mapbox": {
           "style": "light"
          },
          "paper_bgcolor": "white",
          "plot_bgcolor": "#E5ECF6",
          "polar": {
           "angularaxis": {
            "gridcolor": "white",
            "linecolor": "white",
            "ticks": ""
           },
           "bgcolor": "#E5ECF6",
           "radialaxis": {
            "gridcolor": "white",
            "linecolor": "white",
            "ticks": ""
           }
          },
          "scene": {
           "xaxis": {
            "backgroundcolor": "#E5ECF6",
            "gridcolor": "white",
            "gridwidth": 2,
            "linecolor": "white",
            "showbackground": true,
            "ticks": "",
            "zerolinecolor": "white"
           },
           "yaxis": {
            "backgroundcolor": "#E5ECF6",
            "gridcolor": "white",
            "gridwidth": 2,
            "linecolor": "white",
            "showbackground": true,
            "ticks": "",
            "zerolinecolor": "white"
           },
           "zaxis": {
            "backgroundcolor": "#E5ECF6",
            "gridcolor": "white",
            "gridwidth": 2,
            "linecolor": "white",
            "showbackground": true,
            "ticks": "",
            "zerolinecolor": "white"
           }
          },
          "shapedefaults": {
           "line": {
            "color": "#2a3f5f"
           }
          },
          "ternary": {
           "aaxis": {
            "gridcolor": "white",
            "linecolor": "white",
            "ticks": ""
           },
           "baxis": {
            "gridcolor": "white",
            "linecolor": "white",
            "ticks": ""
           },
           "bgcolor": "#E5ECF6",
           "caxis": {
            "gridcolor": "white",
            "linecolor": "white",
            "ticks": ""
           }
          },
          "title": {
           "x": 0.05
          },
          "xaxis": {
           "automargin": true,
           "gridcolor": "white",
           "linecolor": "white",
           "ticks": "",
           "title": {
            "standoff": 15
           },
           "zerolinecolor": "white",
           "zerolinewidth": 2
          },
          "yaxis": {
           "automargin": true,
           "gridcolor": "white",
           "linecolor": "white",
           "ticks": "",
           "title": {
            "standoff": 15
           },
           "zerolinecolor": "white",
           "zerolinewidth": 2
          }
         }
        },
        "xaxis": {
         "tickmode": "linear",
         "title": {
          "text": "Hour of Day"
         }
        },
        "yaxis": {
         "title": {
          "text": "Total Flights"
         }
        }
       }
      }
     },
     "metadata": {},
     "output_type": "display_data"
    },
    {
     "data": {
      "application/vnd.plotly.v1+json": {
       "config": {
        "plotlyServerURL": "https://plot.ly"
       },
       "data": [
        {
         "marker": {
          "color": "steelblue"
         },
         "name": "Short Haul",
         "type": "bar",
         "x": [
          0,
          1,
          2,
          3,
          4,
          5,
          6,
          7,
          8,
          9,
          10,
          11,
          12,
          13,
          14,
          15,
          16,
          17,
          18,
          19,
          20,
          21,
          22,
          23
         ],
         "y": [
          2078,
          792,
          261,
          191,
          1647,
          24326,
          36011,
          33181,
          34800,
          33546,
          34305,
          36680,
          37150,
          33445,
          35663,
          36130,
          34118,
          36703,
          33712,
          31201,
          28303,
          18866,
          14480,
          4740
         ]
        }
       ],
       "layout": {
        "template": {
         "data": {
          "bar": [
           {
            "error_x": {
             "color": "#2a3f5f"
            },
            "error_y": {
             "color": "#2a3f5f"
            },
            "marker": {
             "line": {
              "color": "#E5ECF6",
              "width": 0.5
             },
             "pattern": {
              "fillmode": "overlay",
              "size": 10,
              "solidity": 0.2
             }
            },
            "type": "bar"
           }
          ],
          "barpolar": [
           {
            "marker": {
             "line": {
              "color": "#E5ECF6",
              "width": 0.5
             },
             "pattern": {
              "fillmode": "overlay",
              "size": 10,
              "solidity": 0.2
             }
            },
            "type": "barpolar"
           }
          ],
          "carpet": [
           {
            "aaxis": {
             "endlinecolor": "#2a3f5f",
             "gridcolor": "white",
             "linecolor": "white",
             "minorgridcolor": "white",
             "startlinecolor": "#2a3f5f"
            },
            "baxis": {
             "endlinecolor": "#2a3f5f",
             "gridcolor": "white",
             "linecolor": "white",
             "minorgridcolor": "white",
             "startlinecolor": "#2a3f5f"
            },
            "type": "carpet"
           }
          ],
          "choropleth": [
           {
            "colorbar": {
             "outlinewidth": 0,
             "ticks": ""
            },
            "type": "choropleth"
           }
          ],
          "contour": [
           {
            "colorbar": {
             "outlinewidth": 0,
             "ticks": ""
            },
            "colorscale": [
             [
              0,
              "#0d0887"
             ],
             [
              0.1111111111111111,
              "#46039f"
             ],
             [
              0.2222222222222222,
              "#7201a8"
             ],
             [
              0.3333333333333333,
              "#9c179e"
             ],
             [
              0.4444444444444444,
              "#bd3786"
             ],
             [
              0.5555555555555556,
              "#d8576b"
             ],
             [
              0.6666666666666666,
              "#ed7953"
             ],
             [
              0.7777777777777778,
              "#fb9f3a"
             ],
             [
              0.8888888888888888,
              "#fdca26"
             ],
             [
              1,
              "#f0f921"
             ]
            ],
            "type": "contour"
           }
          ],
          "contourcarpet": [
           {
            "colorbar": {
             "outlinewidth": 0,
             "ticks": ""
            },
            "type": "contourcarpet"
           }
          ],
          "heatmap": [
           {
            "colorbar": {
             "outlinewidth": 0,
             "ticks": ""
            },
            "colorscale": [
             [
              0,
              "#0d0887"
             ],
             [
              0.1111111111111111,
              "#46039f"
             ],
             [
              0.2222222222222222,
              "#7201a8"
             ],
             [
              0.3333333333333333,
              "#9c179e"
             ],
             [
              0.4444444444444444,
              "#bd3786"
             ],
             [
              0.5555555555555556,
              "#d8576b"
             ],
             [
              0.6666666666666666,
              "#ed7953"
             ],
             [
              0.7777777777777778,
              "#fb9f3a"
             ],
             [
              0.8888888888888888,
              "#fdca26"
             ],
             [
              1,
              "#f0f921"
             ]
            ],
            "type": "heatmap"
           }
          ],
          "heatmapgl": [
           {
            "colorbar": {
             "outlinewidth": 0,
             "ticks": ""
            },
            "colorscale": [
             [
              0,
              "#0d0887"
             ],
             [
              0.1111111111111111,
              "#46039f"
             ],
             [
              0.2222222222222222,
              "#7201a8"
             ],
             [
              0.3333333333333333,
              "#9c179e"
             ],
             [
              0.4444444444444444,
              "#bd3786"
             ],
             [
              0.5555555555555556,
              "#d8576b"
             ],
             [
              0.6666666666666666,
              "#ed7953"
             ],
             [
              0.7777777777777778,
              "#fb9f3a"
             ],
             [
              0.8888888888888888,
              "#fdca26"
             ],
             [
              1,
              "#f0f921"
             ]
            ],
            "type": "heatmapgl"
           }
          ],
          "histogram": [
           {
            "marker": {
             "pattern": {
              "fillmode": "overlay",
              "size": 10,
              "solidity": 0.2
             }
            },
            "type": "histogram"
           }
          ],
          "histogram2d": [
           {
            "colorbar": {
             "outlinewidth": 0,
             "ticks": ""
            },
            "colorscale": [
             [
              0,
              "#0d0887"
             ],
             [
              0.1111111111111111,
              "#46039f"
             ],
             [
              0.2222222222222222,
              "#7201a8"
             ],
             [
              0.3333333333333333,
              "#9c179e"
             ],
             [
              0.4444444444444444,
              "#bd3786"
             ],
             [
              0.5555555555555556,
              "#d8576b"
             ],
             [
              0.6666666666666666,
              "#ed7953"
             ],
             [
              0.7777777777777778,
              "#fb9f3a"
             ],
             [
              0.8888888888888888,
              "#fdca26"
             ],
             [
              1,
              "#f0f921"
             ]
            ],
            "type": "histogram2d"
           }
          ],
          "histogram2dcontour": [
           {
            "colorbar": {
             "outlinewidth": 0,
             "ticks": ""
            },
            "colorscale": [
             [
              0,
              "#0d0887"
             ],
             [
              0.1111111111111111,
              "#46039f"
             ],
             [
              0.2222222222222222,
              "#7201a8"
             ],
             [
              0.3333333333333333,
              "#9c179e"
             ],
             [
              0.4444444444444444,
              "#bd3786"
             ],
             [
              0.5555555555555556,
              "#d8576b"
             ],
             [
              0.6666666666666666,
              "#ed7953"
             ],
             [
              0.7777777777777778,
              "#fb9f3a"
             ],
             [
              0.8888888888888888,
              "#fdca26"
             ],
             [
              1,
              "#f0f921"
             ]
            ],
            "type": "histogram2dcontour"
           }
          ],
          "mesh3d": [
           {
            "colorbar": {
             "outlinewidth": 0,
             "ticks": ""
            },
            "type": "mesh3d"
           }
          ],
          "parcoords": [
           {
            "line": {
             "colorbar": {
              "outlinewidth": 0,
              "ticks": ""
             }
            },
            "type": "parcoords"
           }
          ],
          "pie": [
           {
            "automargin": true,
            "type": "pie"
           }
          ],
          "scatter": [
           {
            "fillpattern": {
             "fillmode": "overlay",
             "size": 10,
             "solidity": 0.2
            },
            "type": "scatter"
           }
          ],
          "scatter3d": [
           {
            "line": {
             "colorbar": {
              "outlinewidth": 0,
              "ticks": ""
             }
            },
            "marker": {
             "colorbar": {
              "outlinewidth": 0,
              "ticks": ""
             }
            },
            "type": "scatter3d"
           }
          ],
          "scattercarpet": [
           {
            "marker": {
             "colorbar": {
              "outlinewidth": 0,
              "ticks": ""
             }
            },
            "type": "scattercarpet"
           }
          ],
          "scattergeo": [
           {
            "marker": {
             "colorbar": {
              "outlinewidth": 0,
              "ticks": ""
             }
            },
            "type": "scattergeo"
           }
          ],
          "scattergl": [
           {
            "marker": {
             "colorbar": {
              "outlinewidth": 0,
              "ticks": ""
             }
            },
            "type": "scattergl"
           }
          ],
          "scattermapbox": [
           {
            "marker": {
             "colorbar": {
              "outlinewidth": 0,
              "ticks": ""
             }
            },
            "type": "scattermapbox"
           }
          ],
          "scatterpolar": [
           {
            "marker": {
             "colorbar": {
              "outlinewidth": 0,
              "ticks": ""
             }
            },
            "type": "scatterpolar"
           }
          ],
          "scatterpolargl": [
           {
            "marker": {
             "colorbar": {
              "outlinewidth": 0,
              "ticks": ""
             }
            },
            "type": "scatterpolargl"
           }
          ],
          "scatterternary": [
           {
            "marker": {
             "colorbar": {
              "outlinewidth": 0,
              "ticks": ""
             }
            },
            "type": "scatterternary"
           }
          ],
          "surface": [
           {
            "colorbar": {
             "outlinewidth": 0,
             "ticks": ""
            },
            "colorscale": [
             [
              0,
              "#0d0887"
             ],
             [
              0.1111111111111111,
              "#46039f"
             ],
             [
              0.2222222222222222,
              "#7201a8"
             ],
             [
              0.3333333333333333,
              "#9c179e"
             ],
             [
              0.4444444444444444,
              "#bd3786"
             ],
             [
              0.5555555555555556,
              "#d8576b"
             ],
             [
              0.6666666666666666,
              "#ed7953"
             ],
             [
              0.7777777777777778,
              "#fb9f3a"
             ],
             [
              0.8888888888888888,
              "#fdca26"
             ],
             [
              1,
              "#f0f921"
             ]
            ],
            "type": "surface"
           }
          ],
          "table": [
           {
            "cells": {
             "fill": {
              "color": "#EBF0F8"
             },
             "line": {
              "color": "white"
             }
            },
            "header": {
             "fill": {
              "color": "#C8D4E3"
             },
             "line": {
              "color": "white"
             }
            },
            "type": "table"
           }
          ]
         },
         "layout": {
          "annotationdefaults": {
           "arrowcolor": "#2a3f5f",
           "arrowhead": 0,
           "arrowwidth": 1
          },
          "autotypenumbers": "strict",
          "coloraxis": {
           "colorbar": {
            "outlinewidth": 0,
            "ticks": ""
           }
          },
          "colorscale": {
           "diverging": [
            [
             0,
             "#8e0152"
            ],
            [
             0.1,
             "#c51b7d"
            ],
            [
             0.2,
             "#de77ae"
            ],
            [
             0.3,
             "#f1b6da"
            ],
            [
             0.4,
             "#fde0ef"
            ],
            [
             0.5,
             "#f7f7f7"
            ],
            [
             0.6,
             "#e6f5d0"
            ],
            [
             0.7,
             "#b8e186"
            ],
            [
             0.8,
             "#7fbc41"
            ],
            [
             0.9,
             "#4d9221"
            ],
            [
             1,
             "#276419"
            ]
           ],
           "sequential": [
            [
             0,
             "#0d0887"
            ],
            [
             0.1111111111111111,
             "#46039f"
            ],
            [
             0.2222222222222222,
             "#7201a8"
            ],
            [
             0.3333333333333333,
             "#9c179e"
            ],
            [
             0.4444444444444444,
             "#bd3786"
            ],
            [
             0.5555555555555556,
             "#d8576b"
            ],
            [
             0.6666666666666666,
             "#ed7953"
            ],
            [
             0.7777777777777778,
             "#fb9f3a"
            ],
            [
             0.8888888888888888,
             "#fdca26"
            ],
            [
             1,
             "#f0f921"
            ]
           ],
           "sequentialminus": [
            [
             0,
             "#0d0887"
            ],
            [
             0.1111111111111111,
             "#46039f"
            ],
            [
             0.2222222222222222,
             "#7201a8"
            ],
            [
             0.3333333333333333,
             "#9c179e"
            ],
            [
             0.4444444444444444,
             "#bd3786"
            ],
            [
             0.5555555555555556,
             "#d8576b"
            ],
            [
             0.6666666666666666,
             "#ed7953"
            ],
            [
             0.7777777777777778,
             "#fb9f3a"
            ],
            [
             0.8888888888888888,
             "#fdca26"
            ],
            [
             1,
             "#f0f921"
            ]
           ]
          },
          "colorway": [
           "#636efa",
           "#EF553B",
           "#00cc96",
           "#ab63fa",
           "#FFA15A",
           "#19d3f3",
           "#FF6692",
           "#B6E880",
           "#FF97FF",
           "#FECB52"
          ],
          "font": {
           "color": "#2a3f5f"
          },
          "geo": {
           "bgcolor": "white",
           "lakecolor": "white",
           "landcolor": "#E5ECF6",
           "showlakes": true,
           "showland": true,
           "subunitcolor": "white"
          },
          "hoverlabel": {
           "align": "left"
          },
          "hovermode": "closest",
          "mapbox": {
           "style": "light"
          },
          "paper_bgcolor": "white",
          "plot_bgcolor": "#E5ECF6",
          "polar": {
           "angularaxis": {
            "gridcolor": "white",
            "linecolor": "white",
            "ticks": ""
           },
           "bgcolor": "#E5ECF6",
           "radialaxis": {
            "gridcolor": "white",
            "linecolor": "white",
            "ticks": ""
           }
          },
          "scene": {
           "xaxis": {
            "backgroundcolor": "#E5ECF6",
            "gridcolor": "white",
            "gridwidth": 2,
            "linecolor": "white",
            "showbackground": true,
            "ticks": "",
            "zerolinecolor": "white"
           },
           "yaxis": {
            "backgroundcolor": "#E5ECF6",
            "gridcolor": "white",
            "gridwidth": 2,
            "linecolor": "white",
            "showbackground": true,
            "ticks": "",
            "zerolinecolor": "white"
           },
           "zaxis": {
            "backgroundcolor": "#E5ECF6",
            "gridcolor": "white",
            "gridwidth": 2,
            "linecolor": "white",
            "showbackground": true,
            "ticks": "",
            "zerolinecolor": "white"
           }
          },
          "shapedefaults": {
           "line": {
            "color": "#2a3f5f"
           }
          },
          "ternary": {
           "aaxis": {
            "gridcolor": "white",
            "linecolor": "white",
            "ticks": ""
           },
           "baxis": {
            "gridcolor": "white",
            "linecolor": "white",
            "ticks": ""
           },
           "bgcolor": "#E5ECF6",
           "caxis": {
            "gridcolor": "white",
            "linecolor": "white",
            "ticks": ""
           }
          },
          "title": {
           "x": 0.05
          },
          "xaxis": {
           "automargin": true,
           "gridcolor": "white",
           "linecolor": "white",
           "ticks": "",
           "title": {
            "standoff": 15
           },
           "zerolinecolor": "white",
           "zerolinewidth": 2
          },
          "yaxis": {
           "automargin": true,
           "gridcolor": "white",
           "linecolor": "white",
           "ticks": "",
           "title": {
            "standoff": 15
           },
           "zerolinecolor": "white",
           "zerolinewidth": 2
          }
         }
        },
        "title": {
         "text": "Short Haul flights by Hour"
        },
        "xaxis": {
         "tickmode": "linear",
         "title": {
          "text": "Hour of Day"
         }
        },
        "yaxis": {
         "title": {
          "text": "Total Flights"
         }
        }
       }
      }
     },
     "metadata": {},
     "output_type": "display_data"
    },
    {
     "data": {
      "application/vnd.plotly.v1+json": {
       "config": {
        "plotlyServerURL": "https://plot.ly"
       },
       "data": [
        {
         "marker": {
          "color": "firebrick"
         },
         "name": "Medium Haul",
         "type": "bar",
         "x": [
          0,
          1,
          2,
          3,
          4,
          5,
          6,
          7,
          8,
          9,
          10,
          11,
          12,
          13,
          14,
          15,
          16,
          17,
          18,
          19,
          20,
          21,
          22,
          23
         ],
         "y": [
          618,
          179,
          60,
          71,
          100,
          909,
          4016,
          4813,
          4950,
          3618,
          3295,
          3108,
          2878,
          2886,
          2648,
          3176,
          3262,
          3695,
          2923,
          2672,
          2366,
          2769,
          2390,
          1904
         ]
        }
       ],
       "layout": {
        "template": {
         "data": {
          "bar": [
           {
            "error_x": {
             "color": "#2a3f5f"
            },
            "error_y": {
             "color": "#2a3f5f"
            },
            "marker": {
             "line": {
              "color": "#E5ECF6",
              "width": 0.5
             },
             "pattern": {
              "fillmode": "overlay",
              "size": 10,
              "solidity": 0.2
             }
            },
            "type": "bar"
           }
          ],
          "barpolar": [
           {
            "marker": {
             "line": {
              "color": "#E5ECF6",
              "width": 0.5
             },
             "pattern": {
              "fillmode": "overlay",
              "size": 10,
              "solidity": 0.2
             }
            },
            "type": "barpolar"
           }
          ],
          "carpet": [
           {
            "aaxis": {
             "endlinecolor": "#2a3f5f",
             "gridcolor": "white",
             "linecolor": "white",
             "minorgridcolor": "white",
             "startlinecolor": "#2a3f5f"
            },
            "baxis": {
             "endlinecolor": "#2a3f5f",
             "gridcolor": "white",
             "linecolor": "white",
             "minorgridcolor": "white",
             "startlinecolor": "#2a3f5f"
            },
            "type": "carpet"
           }
          ],
          "choropleth": [
           {
            "colorbar": {
             "outlinewidth": 0,
             "ticks": ""
            },
            "type": "choropleth"
           }
          ],
          "contour": [
           {
            "colorbar": {
             "outlinewidth": 0,
             "ticks": ""
            },
            "colorscale": [
             [
              0,
              "#0d0887"
             ],
             [
              0.1111111111111111,
              "#46039f"
             ],
             [
              0.2222222222222222,
              "#7201a8"
             ],
             [
              0.3333333333333333,
              "#9c179e"
             ],
             [
              0.4444444444444444,
              "#bd3786"
             ],
             [
              0.5555555555555556,
              "#d8576b"
             ],
             [
              0.6666666666666666,
              "#ed7953"
             ],
             [
              0.7777777777777778,
              "#fb9f3a"
             ],
             [
              0.8888888888888888,
              "#fdca26"
             ],
             [
              1,
              "#f0f921"
             ]
            ],
            "type": "contour"
           }
          ],
          "contourcarpet": [
           {
            "colorbar": {
             "outlinewidth": 0,
             "ticks": ""
            },
            "type": "contourcarpet"
           }
          ],
          "heatmap": [
           {
            "colorbar": {
             "outlinewidth": 0,
             "ticks": ""
            },
            "colorscale": [
             [
              0,
              "#0d0887"
             ],
             [
              0.1111111111111111,
              "#46039f"
             ],
             [
              0.2222222222222222,
              "#7201a8"
             ],
             [
              0.3333333333333333,
              "#9c179e"
             ],
             [
              0.4444444444444444,
              "#bd3786"
             ],
             [
              0.5555555555555556,
              "#d8576b"
             ],
             [
              0.6666666666666666,
              "#ed7953"
             ],
             [
              0.7777777777777778,
              "#fb9f3a"
             ],
             [
              0.8888888888888888,
              "#fdca26"
             ],
             [
              1,
              "#f0f921"
             ]
            ],
            "type": "heatmap"
           }
          ],
          "heatmapgl": [
           {
            "colorbar": {
             "outlinewidth": 0,
             "ticks": ""
            },
            "colorscale": [
             [
              0,
              "#0d0887"
             ],
             [
              0.1111111111111111,
              "#46039f"
             ],
             [
              0.2222222222222222,
              "#7201a8"
             ],
             [
              0.3333333333333333,
              "#9c179e"
             ],
             [
              0.4444444444444444,
              "#bd3786"
             ],
             [
              0.5555555555555556,
              "#d8576b"
             ],
             [
              0.6666666666666666,
              "#ed7953"
             ],
             [
              0.7777777777777778,
              "#fb9f3a"
             ],
             [
              0.8888888888888888,
              "#fdca26"
             ],
             [
              1,
              "#f0f921"
             ]
            ],
            "type": "heatmapgl"
           }
          ],
          "histogram": [
           {
            "marker": {
             "pattern": {
              "fillmode": "overlay",
              "size": 10,
              "solidity": 0.2
             }
            },
            "type": "histogram"
           }
          ],
          "histogram2d": [
           {
            "colorbar": {
             "outlinewidth": 0,
             "ticks": ""
            },
            "colorscale": [
             [
              0,
              "#0d0887"
             ],
             [
              0.1111111111111111,
              "#46039f"
             ],
             [
              0.2222222222222222,
              "#7201a8"
             ],
             [
              0.3333333333333333,
              "#9c179e"
             ],
             [
              0.4444444444444444,
              "#bd3786"
             ],
             [
              0.5555555555555556,
              "#d8576b"
             ],
             [
              0.6666666666666666,
              "#ed7953"
             ],
             [
              0.7777777777777778,
              "#fb9f3a"
             ],
             [
              0.8888888888888888,
              "#fdca26"
             ],
             [
              1,
              "#f0f921"
             ]
            ],
            "type": "histogram2d"
           }
          ],
          "histogram2dcontour": [
           {
            "colorbar": {
             "outlinewidth": 0,
             "ticks": ""
            },
            "colorscale": [
             [
              0,
              "#0d0887"
             ],
             [
              0.1111111111111111,
              "#46039f"
             ],
             [
              0.2222222222222222,
              "#7201a8"
             ],
             [
              0.3333333333333333,
              "#9c179e"
             ],
             [
              0.4444444444444444,
              "#bd3786"
             ],
             [
              0.5555555555555556,
              "#d8576b"
             ],
             [
              0.6666666666666666,
              "#ed7953"
             ],
             [
              0.7777777777777778,
              "#fb9f3a"
             ],
             [
              0.8888888888888888,
              "#fdca26"
             ],
             [
              1,
              "#f0f921"
             ]
            ],
            "type": "histogram2dcontour"
           }
          ],
          "mesh3d": [
           {
            "colorbar": {
             "outlinewidth": 0,
             "ticks": ""
            },
            "type": "mesh3d"
           }
          ],
          "parcoords": [
           {
            "line": {
             "colorbar": {
              "outlinewidth": 0,
              "ticks": ""
             }
            },
            "type": "parcoords"
           }
          ],
          "pie": [
           {
            "automargin": true,
            "type": "pie"
           }
          ],
          "scatter": [
           {
            "fillpattern": {
             "fillmode": "overlay",
             "size": 10,
             "solidity": 0.2
            },
            "type": "scatter"
           }
          ],
          "scatter3d": [
           {
            "line": {
             "colorbar": {
              "outlinewidth": 0,
              "ticks": ""
             }
            },
            "marker": {
             "colorbar": {
              "outlinewidth": 0,
              "ticks": ""
             }
            },
            "type": "scatter3d"
           }
          ],
          "scattercarpet": [
           {
            "marker": {
             "colorbar": {
              "outlinewidth": 0,
              "ticks": ""
             }
            },
            "type": "scattercarpet"
           }
          ],
          "scattergeo": [
           {
            "marker": {
             "colorbar": {
              "outlinewidth": 0,
              "ticks": ""
             }
            },
            "type": "scattergeo"
           }
          ],
          "scattergl": [
           {
            "marker": {
             "colorbar": {
              "outlinewidth": 0,
              "ticks": ""
             }
            },
            "type": "scattergl"
           }
          ],
          "scattermapbox": [
           {
            "marker": {
             "colorbar": {
              "outlinewidth": 0,
              "ticks": ""
             }
            },
            "type": "scattermapbox"
           }
          ],
          "scatterpolar": [
           {
            "marker": {
             "colorbar": {
              "outlinewidth": 0,
              "ticks": ""
             }
            },
            "type": "scatterpolar"
           }
          ],
          "scatterpolargl": [
           {
            "marker": {
             "colorbar": {
              "outlinewidth": 0,
              "ticks": ""
             }
            },
            "type": "scatterpolargl"
           }
          ],
          "scatterternary": [
           {
            "marker": {
             "colorbar": {
              "outlinewidth": 0,
              "ticks": ""
             }
            },
            "type": "scatterternary"
           }
          ],
          "surface": [
           {
            "colorbar": {
             "outlinewidth": 0,
             "ticks": ""
            },
            "colorscale": [
             [
              0,
              "#0d0887"
             ],
             [
              0.1111111111111111,
              "#46039f"
             ],
             [
              0.2222222222222222,
              "#7201a8"
             ],
             [
              0.3333333333333333,
              "#9c179e"
             ],
             [
              0.4444444444444444,
              "#bd3786"
             ],
             [
              0.5555555555555556,
              "#d8576b"
             ],
             [
              0.6666666666666666,
              "#ed7953"
             ],
             [
              0.7777777777777778,
              "#fb9f3a"
             ],
             [
              0.8888888888888888,
              "#fdca26"
             ],
             [
              1,
              "#f0f921"
             ]
            ],
            "type": "surface"
           }
          ],
          "table": [
           {
            "cells": {
             "fill": {
              "color": "#EBF0F8"
             },
             "line": {
              "color": "white"
             }
            },
            "header": {
             "fill": {
              "color": "#C8D4E3"
             },
             "line": {
              "color": "white"
             }
            },
            "type": "table"
           }
          ]
         },
         "layout": {
          "annotationdefaults": {
           "arrowcolor": "#2a3f5f",
           "arrowhead": 0,
           "arrowwidth": 1
          },
          "autotypenumbers": "strict",
          "coloraxis": {
           "colorbar": {
            "outlinewidth": 0,
            "ticks": ""
           }
          },
          "colorscale": {
           "diverging": [
            [
             0,
             "#8e0152"
            ],
            [
             0.1,
             "#c51b7d"
            ],
            [
             0.2,
             "#de77ae"
            ],
            [
             0.3,
             "#f1b6da"
            ],
            [
             0.4,
             "#fde0ef"
            ],
            [
             0.5,
             "#f7f7f7"
            ],
            [
             0.6,
             "#e6f5d0"
            ],
            [
             0.7,
             "#b8e186"
            ],
            [
             0.8,
             "#7fbc41"
            ],
            [
             0.9,
             "#4d9221"
            ],
            [
             1,
             "#276419"
            ]
           ],
           "sequential": [
            [
             0,
             "#0d0887"
            ],
            [
             0.1111111111111111,
             "#46039f"
            ],
            [
             0.2222222222222222,
             "#7201a8"
            ],
            [
             0.3333333333333333,
             "#9c179e"
            ],
            [
             0.4444444444444444,
             "#bd3786"
            ],
            [
             0.5555555555555556,
             "#d8576b"
            ],
            [
             0.6666666666666666,
             "#ed7953"
            ],
            [
             0.7777777777777778,
             "#fb9f3a"
            ],
            [
             0.8888888888888888,
             "#fdca26"
            ],
            [
             1,
             "#f0f921"
            ]
           ],
           "sequentialminus": [
            [
             0,
             "#0d0887"
            ],
            [
             0.1111111111111111,
             "#46039f"
            ],
            [
             0.2222222222222222,
             "#7201a8"
            ],
            [
             0.3333333333333333,
             "#9c179e"
            ],
            [
             0.4444444444444444,
             "#bd3786"
            ],
            [
             0.5555555555555556,
             "#d8576b"
            ],
            [
             0.6666666666666666,
             "#ed7953"
            ],
            [
             0.7777777777777778,
             "#fb9f3a"
            ],
            [
             0.8888888888888888,
             "#fdca26"
            ],
            [
             1,
             "#f0f921"
            ]
           ]
          },
          "colorway": [
           "#636efa",
           "#EF553B",
           "#00cc96",
           "#ab63fa",
           "#FFA15A",
           "#19d3f3",
           "#FF6692",
           "#B6E880",
           "#FF97FF",
           "#FECB52"
          ],
          "font": {
           "color": "#2a3f5f"
          },
          "geo": {
           "bgcolor": "white",
           "lakecolor": "white",
           "landcolor": "#E5ECF6",
           "showlakes": true,
           "showland": true,
           "subunitcolor": "white"
          },
          "hoverlabel": {
           "align": "left"
          },
          "hovermode": "closest",
          "mapbox": {
           "style": "light"
          },
          "paper_bgcolor": "white",
          "plot_bgcolor": "#E5ECF6",
          "polar": {
           "angularaxis": {
            "gridcolor": "white",
            "linecolor": "white",
            "ticks": ""
           },
           "bgcolor": "#E5ECF6",
           "radialaxis": {
            "gridcolor": "white",
            "linecolor": "white",
            "ticks": ""
           }
          },
          "scene": {
           "xaxis": {
            "backgroundcolor": "#E5ECF6",
            "gridcolor": "white",
            "gridwidth": 2,
            "linecolor": "white",
            "showbackground": true,
            "ticks": "",
            "zerolinecolor": "white"
           },
           "yaxis": {
            "backgroundcolor": "#E5ECF6",
            "gridcolor": "white",
            "gridwidth": 2,
            "linecolor": "white",
            "showbackground": true,
            "ticks": "",
            "zerolinecolor": "white"
           },
           "zaxis": {
            "backgroundcolor": "#E5ECF6",
            "gridcolor": "white",
            "gridwidth": 2,
            "linecolor": "white",
            "showbackground": true,
            "ticks": "",
            "zerolinecolor": "white"
           }
          },
          "shapedefaults": {
           "line": {
            "color": "#2a3f5f"
           }
          },
          "ternary": {
           "aaxis": {
            "gridcolor": "white",
            "linecolor": "white",
            "ticks": ""
           },
           "baxis": {
            "gridcolor": "white",
            "linecolor": "white",
            "ticks": ""
           },
           "bgcolor": "#E5ECF6",
           "caxis": {
            "gridcolor": "white",
            "linecolor": "white",
            "ticks": ""
           }
          },
          "title": {
           "x": 0.05
          },
          "xaxis": {
           "automargin": true,
           "gridcolor": "white",
           "linecolor": "white",
           "ticks": "",
           "title": {
            "standoff": 15
           },
           "zerolinecolor": "white",
           "zerolinewidth": 2
          },
          "yaxis": {
           "automargin": true,
           "gridcolor": "white",
           "linecolor": "white",
           "ticks": "",
           "title": {
            "standoff": 15
           },
           "zerolinecolor": "white",
           "zerolinewidth": 2
          }
         }
        },
        "title": {
         "text": "Medium Haul flights by Hour"
        },
        "xaxis": {
         "tickmode": "linear",
         "title": {
          "text": "Hour of Day"
         }
        },
        "yaxis": {
         "title": {
          "text": "Total Flights"
         }
        }
       }
      }
     },
     "metadata": {},
     "output_type": "display_data"
    },
    {
     "data": {
      "application/vnd.plotly.v1+json": {
       "config": {
        "plotlyServerURL": "https://plot.ly"
       },
       "data": [
        {
         "marker": {
          "color": "green"
         },
         "name": "Long Haul",
         "type": "bar",
         "x": [
          0,
          1,
          2,
          3,
          4,
          5,
          6,
          7,
          8,
          9,
          10,
          11,
          12,
          13,
          14,
          15,
          16,
          17,
          18,
          19,
          20,
          21,
          22,
          23
         ],
         "y": [
          0,
          1,
          0,
          0,
          0,
          0,
          0,
          1,
          43,
          108,
          92,
          103,
          8,
          4,
          2,
          1,
          77,
          55,
          12,
          4,
          3,
          0,
          2,
          1
         ]
        }
       ],
       "layout": {
        "template": {
         "data": {
          "bar": [
           {
            "error_x": {
             "color": "#2a3f5f"
            },
            "error_y": {
             "color": "#2a3f5f"
            },
            "marker": {
             "line": {
              "color": "#E5ECF6",
              "width": 0.5
             },
             "pattern": {
              "fillmode": "overlay",
              "size": 10,
              "solidity": 0.2
             }
            },
            "type": "bar"
           }
          ],
          "barpolar": [
           {
            "marker": {
             "line": {
              "color": "#E5ECF6",
              "width": 0.5
             },
             "pattern": {
              "fillmode": "overlay",
              "size": 10,
              "solidity": 0.2
             }
            },
            "type": "barpolar"
           }
          ],
          "carpet": [
           {
            "aaxis": {
             "endlinecolor": "#2a3f5f",
             "gridcolor": "white",
             "linecolor": "white",
             "minorgridcolor": "white",
             "startlinecolor": "#2a3f5f"
            },
            "baxis": {
             "endlinecolor": "#2a3f5f",
             "gridcolor": "white",
             "linecolor": "white",
             "minorgridcolor": "white",
             "startlinecolor": "#2a3f5f"
            },
            "type": "carpet"
           }
          ],
          "choropleth": [
           {
            "colorbar": {
             "outlinewidth": 0,
             "ticks": ""
            },
            "type": "choropleth"
           }
          ],
          "contour": [
           {
            "colorbar": {
             "outlinewidth": 0,
             "ticks": ""
            },
            "colorscale": [
             [
              0,
              "#0d0887"
             ],
             [
              0.1111111111111111,
              "#46039f"
             ],
             [
              0.2222222222222222,
              "#7201a8"
             ],
             [
              0.3333333333333333,
              "#9c179e"
             ],
             [
              0.4444444444444444,
              "#bd3786"
             ],
             [
              0.5555555555555556,
              "#d8576b"
             ],
             [
              0.6666666666666666,
              "#ed7953"
             ],
             [
              0.7777777777777778,
              "#fb9f3a"
             ],
             [
              0.8888888888888888,
              "#fdca26"
             ],
             [
              1,
              "#f0f921"
             ]
            ],
            "type": "contour"
           }
          ],
          "contourcarpet": [
           {
            "colorbar": {
             "outlinewidth": 0,
             "ticks": ""
            },
            "type": "contourcarpet"
           }
          ],
          "heatmap": [
           {
            "colorbar": {
             "outlinewidth": 0,
             "ticks": ""
            },
            "colorscale": [
             [
              0,
              "#0d0887"
             ],
             [
              0.1111111111111111,
              "#46039f"
             ],
             [
              0.2222222222222222,
              "#7201a8"
             ],
             [
              0.3333333333333333,
              "#9c179e"
             ],
             [
              0.4444444444444444,
              "#bd3786"
             ],
             [
              0.5555555555555556,
              "#d8576b"
             ],
             [
              0.6666666666666666,
              "#ed7953"
             ],
             [
              0.7777777777777778,
              "#fb9f3a"
             ],
             [
              0.8888888888888888,
              "#fdca26"
             ],
             [
              1,
              "#f0f921"
             ]
            ],
            "type": "heatmap"
           }
          ],
          "heatmapgl": [
           {
            "colorbar": {
             "outlinewidth": 0,
             "ticks": ""
            },
            "colorscale": [
             [
              0,
              "#0d0887"
             ],
             [
              0.1111111111111111,
              "#46039f"
             ],
             [
              0.2222222222222222,
              "#7201a8"
             ],
             [
              0.3333333333333333,
              "#9c179e"
             ],
             [
              0.4444444444444444,
              "#bd3786"
             ],
             [
              0.5555555555555556,
              "#d8576b"
             ],
             [
              0.6666666666666666,
              "#ed7953"
             ],
             [
              0.7777777777777778,
              "#fb9f3a"
             ],
             [
              0.8888888888888888,
              "#fdca26"
             ],
             [
              1,
              "#f0f921"
             ]
            ],
            "type": "heatmapgl"
           }
          ],
          "histogram": [
           {
            "marker": {
             "pattern": {
              "fillmode": "overlay",
              "size": 10,
              "solidity": 0.2
             }
            },
            "type": "histogram"
           }
          ],
          "histogram2d": [
           {
            "colorbar": {
             "outlinewidth": 0,
             "ticks": ""
            },
            "colorscale": [
             [
              0,
              "#0d0887"
             ],
             [
              0.1111111111111111,
              "#46039f"
             ],
             [
              0.2222222222222222,
              "#7201a8"
             ],
             [
              0.3333333333333333,
              "#9c179e"
             ],
             [
              0.4444444444444444,
              "#bd3786"
             ],
             [
              0.5555555555555556,
              "#d8576b"
             ],
             [
              0.6666666666666666,
              "#ed7953"
             ],
             [
              0.7777777777777778,
              "#fb9f3a"
             ],
             [
              0.8888888888888888,
              "#fdca26"
             ],
             [
              1,
              "#f0f921"
             ]
            ],
            "type": "histogram2d"
           }
          ],
          "histogram2dcontour": [
           {
            "colorbar": {
             "outlinewidth": 0,
             "ticks": ""
            },
            "colorscale": [
             [
              0,
              "#0d0887"
             ],
             [
              0.1111111111111111,
              "#46039f"
             ],
             [
              0.2222222222222222,
              "#7201a8"
             ],
             [
              0.3333333333333333,
              "#9c179e"
             ],
             [
              0.4444444444444444,
              "#bd3786"
             ],
             [
              0.5555555555555556,
              "#d8576b"
             ],
             [
              0.6666666666666666,
              "#ed7953"
             ],
             [
              0.7777777777777778,
              "#fb9f3a"
             ],
             [
              0.8888888888888888,
              "#fdca26"
             ],
             [
              1,
              "#f0f921"
             ]
            ],
            "type": "histogram2dcontour"
           }
          ],
          "mesh3d": [
           {
            "colorbar": {
             "outlinewidth": 0,
             "ticks": ""
            },
            "type": "mesh3d"
           }
          ],
          "parcoords": [
           {
            "line": {
             "colorbar": {
              "outlinewidth": 0,
              "ticks": ""
             }
            },
            "type": "parcoords"
           }
          ],
          "pie": [
           {
            "automargin": true,
            "type": "pie"
           }
          ],
          "scatter": [
           {
            "fillpattern": {
             "fillmode": "overlay",
             "size": 10,
             "solidity": 0.2
            },
            "type": "scatter"
           }
          ],
          "scatter3d": [
           {
            "line": {
             "colorbar": {
              "outlinewidth": 0,
              "ticks": ""
             }
            },
            "marker": {
             "colorbar": {
              "outlinewidth": 0,
              "ticks": ""
             }
            },
            "type": "scatter3d"
           }
          ],
          "scattercarpet": [
           {
            "marker": {
             "colorbar": {
              "outlinewidth": 0,
              "ticks": ""
             }
            },
            "type": "scattercarpet"
           }
          ],
          "scattergeo": [
           {
            "marker": {
             "colorbar": {
              "outlinewidth": 0,
              "ticks": ""
             }
            },
            "type": "scattergeo"
           }
          ],
          "scattergl": [
           {
            "marker": {
             "colorbar": {
              "outlinewidth": 0,
              "ticks": ""
             }
            },
            "type": "scattergl"
           }
          ],
          "scattermapbox": [
           {
            "marker": {
             "colorbar": {
              "outlinewidth": 0,
              "ticks": ""
             }
            },
            "type": "scattermapbox"
           }
          ],
          "scatterpolar": [
           {
            "marker": {
             "colorbar": {
              "outlinewidth": 0,
              "ticks": ""
             }
            },
            "type": "scatterpolar"
           }
          ],
          "scatterpolargl": [
           {
            "marker": {
             "colorbar": {
              "outlinewidth": 0,
              "ticks": ""
             }
            },
            "type": "scatterpolargl"
           }
          ],
          "scatterternary": [
           {
            "marker": {
             "colorbar": {
              "outlinewidth": 0,
              "ticks": ""
             }
            },
            "type": "scatterternary"
           }
          ],
          "surface": [
           {
            "colorbar": {
             "outlinewidth": 0,
             "ticks": ""
            },
            "colorscale": [
             [
              0,
              "#0d0887"
             ],
             [
              0.1111111111111111,
              "#46039f"
             ],
             [
              0.2222222222222222,
              "#7201a8"
             ],
             [
              0.3333333333333333,
              "#9c179e"
             ],
             [
              0.4444444444444444,
              "#bd3786"
             ],
             [
              0.5555555555555556,
              "#d8576b"
             ],
             [
              0.6666666666666666,
              "#ed7953"
             ],
             [
              0.7777777777777778,
              "#fb9f3a"
             ],
             [
              0.8888888888888888,
              "#fdca26"
             ],
             [
              1,
              "#f0f921"
             ]
            ],
            "type": "surface"
           }
          ],
          "table": [
           {
            "cells": {
             "fill": {
              "color": "#EBF0F8"
             },
             "line": {
              "color": "white"
             }
            },
            "header": {
             "fill": {
              "color": "#C8D4E3"
             },
             "line": {
              "color": "white"
             }
            },
            "type": "table"
           }
          ]
         },
         "layout": {
          "annotationdefaults": {
           "arrowcolor": "#2a3f5f",
           "arrowhead": 0,
           "arrowwidth": 1
          },
          "autotypenumbers": "strict",
          "coloraxis": {
           "colorbar": {
            "outlinewidth": 0,
            "ticks": ""
           }
          },
          "colorscale": {
           "diverging": [
            [
             0,
             "#8e0152"
            ],
            [
             0.1,
             "#c51b7d"
            ],
            [
             0.2,
             "#de77ae"
            ],
            [
             0.3,
             "#f1b6da"
            ],
            [
             0.4,
             "#fde0ef"
            ],
            [
             0.5,
             "#f7f7f7"
            ],
            [
             0.6,
             "#e6f5d0"
            ],
            [
             0.7,
             "#b8e186"
            ],
            [
             0.8,
             "#7fbc41"
            ],
            [
             0.9,
             "#4d9221"
            ],
            [
             1,
             "#276419"
            ]
           ],
           "sequential": [
            [
             0,
             "#0d0887"
            ],
            [
             0.1111111111111111,
             "#46039f"
            ],
            [
             0.2222222222222222,
             "#7201a8"
            ],
            [
             0.3333333333333333,
             "#9c179e"
            ],
            [
             0.4444444444444444,
             "#bd3786"
            ],
            [
             0.5555555555555556,
             "#d8576b"
            ],
            [
             0.6666666666666666,
             "#ed7953"
            ],
            [
             0.7777777777777778,
             "#fb9f3a"
            ],
            [
             0.8888888888888888,
             "#fdca26"
            ],
            [
             1,
             "#f0f921"
            ]
           ],
           "sequentialminus": [
            [
             0,
             "#0d0887"
            ],
            [
             0.1111111111111111,
             "#46039f"
            ],
            [
             0.2222222222222222,
             "#7201a8"
            ],
            [
             0.3333333333333333,
             "#9c179e"
            ],
            [
             0.4444444444444444,
             "#bd3786"
            ],
            [
             0.5555555555555556,
             "#d8576b"
            ],
            [
             0.6666666666666666,
             "#ed7953"
            ],
            [
             0.7777777777777778,
             "#fb9f3a"
            ],
            [
             0.8888888888888888,
             "#fdca26"
            ],
            [
             1,
             "#f0f921"
            ]
           ]
          },
          "colorway": [
           "#636efa",
           "#EF553B",
           "#00cc96",
           "#ab63fa",
           "#FFA15A",
           "#19d3f3",
           "#FF6692",
           "#B6E880",
           "#FF97FF",
           "#FECB52"
          ],
          "font": {
           "color": "#2a3f5f"
          },
          "geo": {
           "bgcolor": "white",
           "lakecolor": "white",
           "landcolor": "#E5ECF6",
           "showlakes": true,
           "showland": true,
           "subunitcolor": "white"
          },
          "hoverlabel": {
           "align": "left"
          },
          "hovermode": "closest",
          "mapbox": {
           "style": "light"
          },
          "paper_bgcolor": "white",
          "plot_bgcolor": "#E5ECF6",
          "polar": {
           "angularaxis": {
            "gridcolor": "white",
            "linecolor": "white",
            "ticks": ""
           },
           "bgcolor": "#E5ECF6",
           "radialaxis": {
            "gridcolor": "white",
            "linecolor": "white",
            "ticks": ""
           }
          },
          "scene": {
           "xaxis": {
            "backgroundcolor": "#E5ECF6",
            "gridcolor": "white",
            "gridwidth": 2,
            "linecolor": "white",
            "showbackground": true,
            "ticks": "",
            "zerolinecolor": "white"
           },
           "yaxis": {
            "backgroundcolor": "#E5ECF6",
            "gridcolor": "white",
            "gridwidth": 2,
            "linecolor": "white",
            "showbackground": true,
            "ticks": "",
            "zerolinecolor": "white"
           },
           "zaxis": {
            "backgroundcolor": "#E5ECF6",
            "gridcolor": "white",
            "gridwidth": 2,
            "linecolor": "white",
            "showbackground": true,
            "ticks": "",
            "zerolinecolor": "white"
           }
          },
          "shapedefaults": {
           "line": {
            "color": "#2a3f5f"
           }
          },
          "ternary": {
           "aaxis": {
            "gridcolor": "white",
            "linecolor": "white",
            "ticks": ""
           },
           "baxis": {
            "gridcolor": "white",
            "linecolor": "white",
            "ticks": ""
           },
           "bgcolor": "#E5ECF6",
           "caxis": {
            "gridcolor": "white",
            "linecolor": "white",
            "ticks": ""
           }
          },
          "title": {
           "x": 0.05
          },
          "xaxis": {
           "automargin": true,
           "gridcolor": "white",
           "linecolor": "white",
           "ticks": "",
           "title": {
            "standoff": 15
           },
           "zerolinecolor": "white",
           "zerolinewidth": 2
          },
          "yaxis": {
           "automargin": true,
           "gridcolor": "white",
           "linecolor": "white",
           "ticks": "",
           "title": {
            "standoff": 15
           },
           "zerolinecolor": "white",
           "zerolinewidth": 2
          }
         }
        },
        "title": {
         "text": "Long Haul flights by Hour"
        },
        "xaxis": {
         "tickmode": "linear",
         "title": {
          "text": "Hour of Day"
         }
        },
        "yaxis": {
         "title": {
          "text": "Total Flights"
         }
        }
       }
      }
     },
     "metadata": {},
     "output_type": "display_data"
    }
   ],
   "source": [
    "colors = {'1':'steelblue',\n",
    "          '2':'firebrick',\n",
    "          '3':'green'}\n",
    "\n",
    "# All flights\n",
    "fig = go.Figure(data=[\n",
    "    go.Bar(name= 'Short Haul' , x= df_fh.index , y= df_fh['short_haul' ] , marker_color=colors['1'] ),\n",
    "    go.Bar(name= 'Medium Haul', x= df_fh.index , y= df_fh['medium_haul'] , marker_color=colors['2'] ),\n",
    "    go.Bar(name= 'Long Haul'  , x= df_fh.index , y= df_fh['long_haul'  ] , marker_color=colors['3'] )\n",
    "])\n",
    "\n",
    "fig.update_layout(barmode='stack',\n",
    "                  xaxis=dict(\n",
    "                  title='Hour of Day',\n",
    "                  tickmode='linear'),\n",
    "                  yaxis=dict(title='Total Flights'))\n",
    "fig.show()\n",
    "\n",
    "\n",
    "# Short flights\n",
    "data = go.Bar(name='Short Haul',x=df_fh.index, y=df_fh['short_haul'], marker_color=colors['1'] ),\n",
    "\n",
    "layout = go.Layout(\n",
    "    title= 'Short Haul flights by Hour',\n",
    "    xaxis=dict(\n",
    "    title='Hour of Day',\n",
    "    tickmode='linear'),\n",
    "    yaxis=dict(title='Total Flights')    \n",
    ")\n",
    "\n",
    "fig = go.Figure(data=data, layout=layout)\n",
    "fig.show()\n",
    "\n",
    "\n",
    "# Medium\n",
    "data = go.Bar(name='Medium Haul',x=df_fh.index, y=df_fh['medium_haul'], marker_color=colors['2']),\n",
    "\n",
    "layout = go.Layout(\n",
    "    title= 'Medium Haul flights by Hour',\n",
    "    xaxis=dict(\n",
    "    title='Hour of Day',\n",
    "    tickmode='linear'),\n",
    "    yaxis=dict(title='Total Flights')\n",
    ")\n",
    "\n",
    "fig = go.Figure(data=data, layout=layout)\n",
    "fig.show()\n",
    "\n",
    "# Long\n",
    "data = go.Bar(name='Long Haul',x=df_fh.index, y=df_fh['long_haul'], marker_color=colors['3']),\n",
    "\n",
    "layout = go.Layout(\n",
    "    title= 'Long Haul flights by Hour',\n",
    "    xaxis=dict(\n",
    "    title='Hour of Day',\n",
    "    tickmode='linear'),\n",
    "    yaxis=dict(title='Total Flights')\n",
    ")\n",
    "\n",
    "fig = go.Figure(data=data, layout=layout)\n",
    "fig.show()"
   ]
  },
  {
   "cell_type": "markdown",
   "metadata": {},
   "source": [
    "#### **Task 9**: Find the top 10 the bussiest airports. Does the biggest number of flights mean that the biggest number of passengers went through the particular airport? How much traffic do these 10 airports cover?"
   ]
  },
  {
   "cell_type": "code",
   "execution_count": null,
   "metadata": {},
   "outputs": [],
   "source": [
    "# Selecting columns\n",
    "df=passengers[['origin','origin_airport_id','dest','dest_airport_id','passengers']]\n",
    "\n",
    "# Origin airport and number of flights\n",
    "df_origin_f=df.groupby(['origin','origin_airport_id']).agg({'origin_airport_id': np.count_nonzero}).rename(columns={'origin_airport_id':'origin_flights_no'   }).reset_index()\n",
    "df_origin_f.rename(columns = {'origin':'airport_id'}, inplace = True)\n",
    "df_origin_f.drop('origin_airport_id', inplace=True, axis=1)\n",
    "\n",
    "# Origin airport and number of passengers\n",
    "df_origin_p=df.groupby(['origin','origin_airport_id']).agg({'passengers'       : np.sum          }).rename(columns={'passengers'       :'origin_passengers_no'}).reset_index()\n",
    "df_origin_p.rename(columns = {'origin':'airport_id'}, inplace = True)\n",
    "df_origin_p.drop('origin_airport_id', inplace=True, axis=1)\n",
    "\n",
    "# Destination airport and number of flights\n",
    "df_dest_f=df.groupby(['dest','dest_airport_id']).agg({'dest_airport_id': np.count_nonzero}).rename(columns={'dest_airport_id':'dest_flights_no'   }).reset_index()\n",
    "df_dest_f.rename(columns = {'dest':'airport_id'}, inplace = True)\n",
    "df_dest_f.drop('dest_airport_id', inplace=True, axis=1)\n",
    "\n",
    "# Destination airport and number of passengers\n",
    "df_dest_p=df.groupby(['dest','dest_airport_id']).agg({'passengers'       : np.sum          }).rename(columns={'passengers'       :'dest_passengers_no'}).reset_index()\n",
    "df_dest_p.rename(columns = {'dest':'airport_id'}, inplace = True)\n",
    "df_dest_p.drop('dest_airport_id', inplace=True, axis=1)\n",
    "\n",
    "# Calculate annual average number of flights and passengers for 2015 to 2019\n",
    "df_origin_f['origin_flights_no'   ]=df_origin_f['origin_flights_no'   ]//5\n",
    "df_origin_p['origin_passengers_no']=df_origin_p['origin_passengers_no']//5\n",
    "df_dest_f  ['dest_flights_no'     ]=df_dest_f  ['dest_flights_no'     ]//5\n",
    "df_dest_p  ['dest_passengers_no'  ]=df_dest_p  ['dest_passengers_no'  ]//5\n",
    "\n",
    "# The top 10 the bussiest airports\n",
    "df1=pd.merge(df_origin_f,df_origin_p,how='left',on=['airport_id'])\n",
    "df2=pd.merge(df_dest_f  ,df_dest_p  ,how='left',on=['airport_id'])\n",
    "df=pd.merge(df1,df2  ,how='left',on=['airport_id'])\n",
    "\n",
    "# calculate total flights an passengers\n",
    "df['flights_no'   ]= df['origin_flights_no'   ]+ df['dest_flights_no'   ]\n",
    "df['passengers_no']= df['origin_passengers_no']+ df['dest_passengers_no']\n",
    "\n",
    "# The top 10 bussiest airports \n",
    "df_max_flights=df[['airport_id','flights_no']]\n",
    "df_max_flights.sort_values('flights_no', ascending=False, inplace=True)\n",
    "df_max_flights=df_max_flights.iloc[0:10,:]\n",
    "\n",
    "# The top 10 biggest number of passengers \n",
    "df_max_passengers=df[['airport_id','passengers_no']]\n",
    "df_max_passengers.sort_values('passengers_no', ascending=False, inplace=True)\n",
    "df_max_passengers=df_max_passengers.iloc[0:10,:]\n",
    "\n",
    "\n",
    "# The top 10 bussiest airports Traffic \n",
    "total_flights=df['flights_no'].sum()\n",
    "df_max_flights['traffic_percent']=df_max_flights['flights_no']*(100/total_flights)\n",
    "total_traffic=df_max_flights['traffic_percent'].sum()\n"
   ]
  },
  {
   "cell_type": "code",
   "execution_count": null,
   "metadata": {},
   "outputs": [
    {
     "data": {
      "application/vnd.plotly.v1+json": {
       "config": {
        "plotlyServerURL": "https://plot.ly"
       },
       "data": [
        {
         "marker": {
          "color": "steelblue"
         },
         "name": "The top 10 bussiest airports",
         "type": "bar",
         "x": [
          "ORD",
          "ATL",
          "DEN",
          "LAX",
          "IAH",
          "DTW",
          "DFW",
          "MSP",
          "MIA",
          "EWR"
         ],
         "y": [
          31143,
          26197,
          22859,
          20600,
          18494,
          17505,
          17503,
          17341,
          16696,
          16534
         ]
        }
       ],
       "layout": {
        "template": {
         "data": {
          "bar": [
           {
            "error_x": {
             "color": "#2a3f5f"
            },
            "error_y": {
             "color": "#2a3f5f"
            },
            "marker": {
             "line": {
              "color": "#E5ECF6",
              "width": 0.5
             },
             "pattern": {
              "fillmode": "overlay",
              "size": 10,
              "solidity": 0.2
             }
            },
            "type": "bar"
           }
          ],
          "barpolar": [
           {
            "marker": {
             "line": {
              "color": "#E5ECF6",
              "width": 0.5
             },
             "pattern": {
              "fillmode": "overlay",
              "size": 10,
              "solidity": 0.2
             }
            },
            "type": "barpolar"
           }
          ],
          "carpet": [
           {
            "aaxis": {
             "endlinecolor": "#2a3f5f",
             "gridcolor": "white",
             "linecolor": "white",
             "minorgridcolor": "white",
             "startlinecolor": "#2a3f5f"
            },
            "baxis": {
             "endlinecolor": "#2a3f5f",
             "gridcolor": "white",
             "linecolor": "white",
             "minorgridcolor": "white",
             "startlinecolor": "#2a3f5f"
            },
            "type": "carpet"
           }
          ],
          "choropleth": [
           {
            "colorbar": {
             "outlinewidth": 0,
             "ticks": ""
            },
            "type": "choropleth"
           }
          ],
          "contour": [
           {
            "colorbar": {
             "outlinewidth": 0,
             "ticks": ""
            },
            "colorscale": [
             [
              0,
              "#0d0887"
             ],
             [
              0.1111111111111111,
              "#46039f"
             ],
             [
              0.2222222222222222,
              "#7201a8"
             ],
             [
              0.3333333333333333,
              "#9c179e"
             ],
             [
              0.4444444444444444,
              "#bd3786"
             ],
             [
              0.5555555555555556,
              "#d8576b"
             ],
             [
              0.6666666666666666,
              "#ed7953"
             ],
             [
              0.7777777777777778,
              "#fb9f3a"
             ],
             [
              0.8888888888888888,
              "#fdca26"
             ],
             [
              1,
              "#f0f921"
             ]
            ],
            "type": "contour"
           }
          ],
          "contourcarpet": [
           {
            "colorbar": {
             "outlinewidth": 0,
             "ticks": ""
            },
            "type": "contourcarpet"
           }
          ],
          "heatmap": [
           {
            "colorbar": {
             "outlinewidth": 0,
             "ticks": ""
            },
            "colorscale": [
             [
              0,
              "#0d0887"
             ],
             [
              0.1111111111111111,
              "#46039f"
             ],
             [
              0.2222222222222222,
              "#7201a8"
             ],
             [
              0.3333333333333333,
              "#9c179e"
             ],
             [
              0.4444444444444444,
              "#bd3786"
             ],
             [
              0.5555555555555556,
              "#d8576b"
             ],
             [
              0.6666666666666666,
              "#ed7953"
             ],
             [
              0.7777777777777778,
              "#fb9f3a"
             ],
             [
              0.8888888888888888,
              "#fdca26"
             ],
             [
              1,
              "#f0f921"
             ]
            ],
            "type": "heatmap"
           }
          ],
          "heatmapgl": [
           {
            "colorbar": {
             "outlinewidth": 0,
             "ticks": ""
            },
            "colorscale": [
             [
              0,
              "#0d0887"
             ],
             [
              0.1111111111111111,
              "#46039f"
             ],
             [
              0.2222222222222222,
              "#7201a8"
             ],
             [
              0.3333333333333333,
              "#9c179e"
             ],
             [
              0.4444444444444444,
              "#bd3786"
             ],
             [
              0.5555555555555556,
              "#d8576b"
             ],
             [
              0.6666666666666666,
              "#ed7953"
             ],
             [
              0.7777777777777778,
              "#fb9f3a"
             ],
             [
              0.8888888888888888,
              "#fdca26"
             ],
             [
              1,
              "#f0f921"
             ]
            ],
            "type": "heatmapgl"
           }
          ],
          "histogram": [
           {
            "marker": {
             "pattern": {
              "fillmode": "overlay",
              "size": 10,
              "solidity": 0.2
             }
            },
            "type": "histogram"
           }
          ],
          "histogram2d": [
           {
            "colorbar": {
             "outlinewidth": 0,
             "ticks": ""
            },
            "colorscale": [
             [
              0,
              "#0d0887"
             ],
             [
              0.1111111111111111,
              "#46039f"
             ],
             [
              0.2222222222222222,
              "#7201a8"
             ],
             [
              0.3333333333333333,
              "#9c179e"
             ],
             [
              0.4444444444444444,
              "#bd3786"
             ],
             [
              0.5555555555555556,
              "#d8576b"
             ],
             [
              0.6666666666666666,
              "#ed7953"
             ],
             [
              0.7777777777777778,
              "#fb9f3a"
             ],
             [
              0.8888888888888888,
              "#fdca26"
             ],
             [
              1,
              "#f0f921"
             ]
            ],
            "type": "histogram2d"
           }
          ],
          "histogram2dcontour": [
           {
            "colorbar": {
             "outlinewidth": 0,
             "ticks": ""
            },
            "colorscale": [
             [
              0,
              "#0d0887"
             ],
             [
              0.1111111111111111,
              "#46039f"
             ],
             [
              0.2222222222222222,
              "#7201a8"
             ],
             [
              0.3333333333333333,
              "#9c179e"
             ],
             [
              0.4444444444444444,
              "#bd3786"
             ],
             [
              0.5555555555555556,
              "#d8576b"
             ],
             [
              0.6666666666666666,
              "#ed7953"
             ],
             [
              0.7777777777777778,
              "#fb9f3a"
             ],
             [
              0.8888888888888888,
              "#fdca26"
             ],
             [
              1,
              "#f0f921"
             ]
            ],
            "type": "histogram2dcontour"
           }
          ],
          "mesh3d": [
           {
            "colorbar": {
             "outlinewidth": 0,
             "ticks": ""
            },
            "type": "mesh3d"
           }
          ],
          "parcoords": [
           {
            "line": {
             "colorbar": {
              "outlinewidth": 0,
              "ticks": ""
             }
            },
            "type": "parcoords"
           }
          ],
          "pie": [
           {
            "automargin": true,
            "type": "pie"
           }
          ],
          "scatter": [
           {
            "fillpattern": {
             "fillmode": "overlay",
             "size": 10,
             "solidity": 0.2
            },
            "type": "scatter"
           }
          ],
          "scatter3d": [
           {
            "line": {
             "colorbar": {
              "outlinewidth": 0,
              "ticks": ""
             }
            },
            "marker": {
             "colorbar": {
              "outlinewidth": 0,
              "ticks": ""
             }
            },
            "type": "scatter3d"
           }
          ],
          "scattercarpet": [
           {
            "marker": {
             "colorbar": {
              "outlinewidth": 0,
              "ticks": ""
             }
            },
            "type": "scattercarpet"
           }
          ],
          "scattergeo": [
           {
            "marker": {
             "colorbar": {
              "outlinewidth": 0,
              "ticks": ""
             }
            },
            "type": "scattergeo"
           }
          ],
          "scattergl": [
           {
            "marker": {
             "colorbar": {
              "outlinewidth": 0,
              "ticks": ""
             }
            },
            "type": "scattergl"
           }
          ],
          "scattermapbox": [
           {
            "marker": {
             "colorbar": {
              "outlinewidth": 0,
              "ticks": ""
             }
            },
            "type": "scattermapbox"
           }
          ],
          "scatterpolar": [
           {
            "marker": {
             "colorbar": {
              "outlinewidth": 0,
              "ticks": ""
             }
            },
            "type": "scatterpolar"
           }
          ],
          "scatterpolargl": [
           {
            "marker": {
             "colorbar": {
              "outlinewidth": 0,
              "ticks": ""
             }
            },
            "type": "scatterpolargl"
           }
          ],
          "scatterternary": [
           {
            "marker": {
             "colorbar": {
              "outlinewidth": 0,
              "ticks": ""
             }
            },
            "type": "scatterternary"
           }
          ],
          "surface": [
           {
            "colorbar": {
             "outlinewidth": 0,
             "ticks": ""
            },
            "colorscale": [
             [
              0,
              "#0d0887"
             ],
             [
              0.1111111111111111,
              "#46039f"
             ],
             [
              0.2222222222222222,
              "#7201a8"
             ],
             [
              0.3333333333333333,
              "#9c179e"
             ],
             [
              0.4444444444444444,
              "#bd3786"
             ],
             [
              0.5555555555555556,
              "#d8576b"
             ],
             [
              0.6666666666666666,
              "#ed7953"
             ],
             [
              0.7777777777777778,
              "#fb9f3a"
             ],
             [
              0.8888888888888888,
              "#fdca26"
             ],
             [
              1,
              "#f0f921"
             ]
            ],
            "type": "surface"
           }
          ],
          "table": [
           {
            "cells": {
             "fill": {
              "color": "#EBF0F8"
             },
             "line": {
              "color": "white"
             }
            },
            "header": {
             "fill": {
              "color": "#C8D4E3"
             },
             "line": {
              "color": "white"
             }
            },
            "type": "table"
           }
          ]
         },
         "layout": {
          "annotationdefaults": {
           "arrowcolor": "#2a3f5f",
           "arrowhead": 0,
           "arrowwidth": 1
          },
          "autotypenumbers": "strict",
          "coloraxis": {
           "colorbar": {
            "outlinewidth": 0,
            "ticks": ""
           }
          },
          "colorscale": {
           "diverging": [
            [
             0,
             "#8e0152"
            ],
            [
             0.1,
             "#c51b7d"
            ],
            [
             0.2,
             "#de77ae"
            ],
            [
             0.3,
             "#f1b6da"
            ],
            [
             0.4,
             "#fde0ef"
            ],
            [
             0.5,
             "#f7f7f7"
            ],
            [
             0.6,
             "#e6f5d0"
            ],
            [
             0.7,
             "#b8e186"
            ],
            [
             0.8,
             "#7fbc41"
            ],
            [
             0.9,
             "#4d9221"
            ],
            [
             1,
             "#276419"
            ]
           ],
           "sequential": [
            [
             0,
             "#0d0887"
            ],
            [
             0.1111111111111111,
             "#46039f"
            ],
            [
             0.2222222222222222,
             "#7201a8"
            ],
            [
             0.3333333333333333,
             "#9c179e"
            ],
            [
             0.4444444444444444,
             "#bd3786"
            ],
            [
             0.5555555555555556,
             "#d8576b"
            ],
            [
             0.6666666666666666,
             "#ed7953"
            ],
            [
             0.7777777777777778,
             "#fb9f3a"
            ],
            [
             0.8888888888888888,
             "#fdca26"
            ],
            [
             1,
             "#f0f921"
            ]
           ],
           "sequentialminus": [
            [
             0,
             "#0d0887"
            ],
            [
             0.1111111111111111,
             "#46039f"
            ],
            [
             0.2222222222222222,
             "#7201a8"
            ],
            [
             0.3333333333333333,
             "#9c179e"
            ],
            [
             0.4444444444444444,
             "#bd3786"
            ],
            [
             0.5555555555555556,
             "#d8576b"
            ],
            [
             0.6666666666666666,
             "#ed7953"
            ],
            [
             0.7777777777777778,
             "#fb9f3a"
            ],
            [
             0.8888888888888888,
             "#fdca26"
            ],
            [
             1,
             "#f0f921"
            ]
           ]
          },
          "colorway": [
           "#636efa",
           "#EF553B",
           "#00cc96",
           "#ab63fa",
           "#FFA15A",
           "#19d3f3",
           "#FF6692",
           "#B6E880",
           "#FF97FF",
           "#FECB52"
          ],
          "font": {
           "color": "#2a3f5f"
          },
          "geo": {
           "bgcolor": "white",
           "lakecolor": "white",
           "landcolor": "#E5ECF6",
           "showlakes": true,
           "showland": true,
           "subunitcolor": "white"
          },
          "hoverlabel": {
           "align": "left"
          },
          "hovermode": "closest",
          "mapbox": {
           "style": "light"
          },
          "paper_bgcolor": "white",
          "plot_bgcolor": "#E5ECF6",
          "polar": {
           "angularaxis": {
            "gridcolor": "white",
            "linecolor": "white",
            "ticks": ""
           },
           "bgcolor": "#E5ECF6",
           "radialaxis": {
            "gridcolor": "white",
            "linecolor": "white",
            "ticks": ""
           }
          },
          "scene": {
           "xaxis": {
            "backgroundcolor": "#E5ECF6",
            "gridcolor": "white",
            "gridwidth": 2,
            "linecolor": "white",
            "showbackground": true,
            "ticks": "",
            "zerolinecolor": "white"
           },
           "yaxis": {
            "backgroundcolor": "#E5ECF6",
            "gridcolor": "white",
            "gridwidth": 2,
            "linecolor": "white",
            "showbackground": true,
            "ticks": "",
            "zerolinecolor": "white"
           },
           "zaxis": {
            "backgroundcolor": "#E5ECF6",
            "gridcolor": "white",
            "gridwidth": 2,
            "linecolor": "white",
            "showbackground": true,
            "ticks": "",
            "zerolinecolor": "white"
           }
          },
          "shapedefaults": {
           "line": {
            "color": "#2a3f5f"
           }
          },
          "ternary": {
           "aaxis": {
            "gridcolor": "white",
            "linecolor": "white",
            "ticks": ""
           },
           "baxis": {
            "gridcolor": "white",
            "linecolor": "white",
            "ticks": ""
           },
           "bgcolor": "#E5ECF6",
           "caxis": {
            "gridcolor": "white",
            "linecolor": "white",
            "ticks": ""
           }
          },
          "title": {
           "x": 0.05
          },
          "xaxis": {
           "automargin": true,
           "gridcolor": "white",
           "linecolor": "white",
           "ticks": "",
           "title": {
            "standoff": 15
           },
           "zerolinecolor": "white",
           "zerolinewidth": 2
          },
          "yaxis": {
           "automargin": true,
           "gridcolor": "white",
           "linecolor": "white",
           "ticks": "",
           "title": {
            "standoff": 15
           },
           "zerolinecolor": "white",
           "zerolinewidth": 2
          }
         }
        },
        "title": {
         "text": "The top 10 bussiest airports"
        },
        "xaxis": {
         "tickmode": "linear",
         "title": {
          "text": "Airport ID"
         }
        },
        "yaxis": {
         "title": {
          "text": "Total Flights"
         }
        }
       }
      }
     },
     "metadata": {},
     "output_type": "display_data"
    },
    {
     "data": {
      "application/vnd.plotly.v1+json": {
       "config": {
        "plotlyServerURL": "https://plot.ly"
       },
       "data": [
        {
         "marker": {
          "color": "firebrick"
         },
         "name": "The top 10 biggest number of passengers",
         "type": "bar",
         "x": [
          "ATL",
          "LAX",
          "ORD",
          "DFW",
          "DEN",
          "JFK",
          "SFO",
          "LAS",
          "SEA",
          "CLT"
         ],
         "y": [
          103052908,
          82186753,
          77721634,
          65622840,
          60429043,
          59816252,
          53458141,
          47026326,
          45646560,
          45200541
         ]
        }
       ],
       "layout": {
        "template": {
         "data": {
          "bar": [
           {
            "error_x": {
             "color": "#2a3f5f"
            },
            "error_y": {
             "color": "#2a3f5f"
            },
            "marker": {
             "line": {
              "color": "#E5ECF6",
              "width": 0.5
             },
             "pattern": {
              "fillmode": "overlay",
              "size": 10,
              "solidity": 0.2
             }
            },
            "type": "bar"
           }
          ],
          "barpolar": [
           {
            "marker": {
             "line": {
              "color": "#E5ECF6",
              "width": 0.5
             },
             "pattern": {
              "fillmode": "overlay",
              "size": 10,
              "solidity": 0.2
             }
            },
            "type": "barpolar"
           }
          ],
          "carpet": [
           {
            "aaxis": {
             "endlinecolor": "#2a3f5f",
             "gridcolor": "white",
             "linecolor": "white",
             "minorgridcolor": "white",
             "startlinecolor": "#2a3f5f"
            },
            "baxis": {
             "endlinecolor": "#2a3f5f",
             "gridcolor": "white",
             "linecolor": "white",
             "minorgridcolor": "white",
             "startlinecolor": "#2a3f5f"
            },
            "type": "carpet"
           }
          ],
          "choropleth": [
           {
            "colorbar": {
             "outlinewidth": 0,
             "ticks": ""
            },
            "type": "choropleth"
           }
          ],
          "contour": [
           {
            "colorbar": {
             "outlinewidth": 0,
             "ticks": ""
            },
            "colorscale": [
             [
              0,
              "#0d0887"
             ],
             [
              0.1111111111111111,
              "#46039f"
             ],
             [
              0.2222222222222222,
              "#7201a8"
             ],
             [
              0.3333333333333333,
              "#9c179e"
             ],
             [
              0.4444444444444444,
              "#bd3786"
             ],
             [
              0.5555555555555556,
              "#d8576b"
             ],
             [
              0.6666666666666666,
              "#ed7953"
             ],
             [
              0.7777777777777778,
              "#fb9f3a"
             ],
             [
              0.8888888888888888,
              "#fdca26"
             ],
             [
              1,
              "#f0f921"
             ]
            ],
            "type": "contour"
           }
          ],
          "contourcarpet": [
           {
            "colorbar": {
             "outlinewidth": 0,
             "ticks": ""
            },
            "type": "contourcarpet"
           }
          ],
          "heatmap": [
           {
            "colorbar": {
             "outlinewidth": 0,
             "ticks": ""
            },
            "colorscale": [
             [
              0,
              "#0d0887"
             ],
             [
              0.1111111111111111,
              "#46039f"
             ],
             [
              0.2222222222222222,
              "#7201a8"
             ],
             [
              0.3333333333333333,
              "#9c179e"
             ],
             [
              0.4444444444444444,
              "#bd3786"
             ],
             [
              0.5555555555555556,
              "#d8576b"
             ],
             [
              0.6666666666666666,
              "#ed7953"
             ],
             [
              0.7777777777777778,
              "#fb9f3a"
             ],
             [
              0.8888888888888888,
              "#fdca26"
             ],
             [
              1,
              "#f0f921"
             ]
            ],
            "type": "heatmap"
           }
          ],
          "heatmapgl": [
           {
            "colorbar": {
             "outlinewidth": 0,
             "ticks": ""
            },
            "colorscale": [
             [
              0,
              "#0d0887"
             ],
             [
              0.1111111111111111,
              "#46039f"
             ],
             [
              0.2222222222222222,
              "#7201a8"
             ],
             [
              0.3333333333333333,
              "#9c179e"
             ],
             [
              0.4444444444444444,
              "#bd3786"
             ],
             [
              0.5555555555555556,
              "#d8576b"
             ],
             [
              0.6666666666666666,
              "#ed7953"
             ],
             [
              0.7777777777777778,
              "#fb9f3a"
             ],
             [
              0.8888888888888888,
              "#fdca26"
             ],
             [
              1,
              "#f0f921"
             ]
            ],
            "type": "heatmapgl"
           }
          ],
          "histogram": [
           {
            "marker": {
             "pattern": {
              "fillmode": "overlay",
              "size": 10,
              "solidity": 0.2
             }
            },
            "type": "histogram"
           }
          ],
          "histogram2d": [
           {
            "colorbar": {
             "outlinewidth": 0,
             "ticks": ""
            },
            "colorscale": [
             [
              0,
              "#0d0887"
             ],
             [
              0.1111111111111111,
              "#46039f"
             ],
             [
              0.2222222222222222,
              "#7201a8"
             ],
             [
              0.3333333333333333,
              "#9c179e"
             ],
             [
              0.4444444444444444,
              "#bd3786"
             ],
             [
              0.5555555555555556,
              "#d8576b"
             ],
             [
              0.6666666666666666,
              "#ed7953"
             ],
             [
              0.7777777777777778,
              "#fb9f3a"
             ],
             [
              0.8888888888888888,
              "#fdca26"
             ],
             [
              1,
              "#f0f921"
             ]
            ],
            "type": "histogram2d"
           }
          ],
          "histogram2dcontour": [
           {
            "colorbar": {
             "outlinewidth": 0,
             "ticks": ""
            },
            "colorscale": [
             [
              0,
              "#0d0887"
             ],
             [
              0.1111111111111111,
              "#46039f"
             ],
             [
              0.2222222222222222,
              "#7201a8"
             ],
             [
              0.3333333333333333,
              "#9c179e"
             ],
             [
              0.4444444444444444,
              "#bd3786"
             ],
             [
              0.5555555555555556,
              "#d8576b"
             ],
             [
              0.6666666666666666,
              "#ed7953"
             ],
             [
              0.7777777777777778,
              "#fb9f3a"
             ],
             [
              0.8888888888888888,
              "#fdca26"
             ],
             [
              1,
              "#f0f921"
             ]
            ],
            "type": "histogram2dcontour"
           }
          ],
          "mesh3d": [
           {
            "colorbar": {
             "outlinewidth": 0,
             "ticks": ""
            },
            "type": "mesh3d"
           }
          ],
          "parcoords": [
           {
            "line": {
             "colorbar": {
              "outlinewidth": 0,
              "ticks": ""
             }
            },
            "type": "parcoords"
           }
          ],
          "pie": [
           {
            "automargin": true,
            "type": "pie"
           }
          ],
          "scatter": [
           {
            "fillpattern": {
             "fillmode": "overlay",
             "size": 10,
             "solidity": 0.2
            },
            "type": "scatter"
           }
          ],
          "scatter3d": [
           {
            "line": {
             "colorbar": {
              "outlinewidth": 0,
              "ticks": ""
             }
            },
            "marker": {
             "colorbar": {
              "outlinewidth": 0,
              "ticks": ""
             }
            },
            "type": "scatter3d"
           }
          ],
          "scattercarpet": [
           {
            "marker": {
             "colorbar": {
              "outlinewidth": 0,
              "ticks": ""
             }
            },
            "type": "scattercarpet"
           }
          ],
          "scattergeo": [
           {
            "marker": {
             "colorbar": {
              "outlinewidth": 0,
              "ticks": ""
             }
            },
            "type": "scattergeo"
           }
          ],
          "scattergl": [
           {
            "marker": {
             "colorbar": {
              "outlinewidth": 0,
              "ticks": ""
             }
            },
            "type": "scattergl"
           }
          ],
          "scattermapbox": [
           {
            "marker": {
             "colorbar": {
              "outlinewidth": 0,
              "ticks": ""
             }
            },
            "type": "scattermapbox"
           }
          ],
          "scatterpolar": [
           {
            "marker": {
             "colorbar": {
              "outlinewidth": 0,
              "ticks": ""
             }
            },
            "type": "scatterpolar"
           }
          ],
          "scatterpolargl": [
           {
            "marker": {
             "colorbar": {
              "outlinewidth": 0,
              "ticks": ""
             }
            },
            "type": "scatterpolargl"
           }
          ],
          "scatterternary": [
           {
            "marker": {
             "colorbar": {
              "outlinewidth": 0,
              "ticks": ""
             }
            },
            "type": "scatterternary"
           }
          ],
          "surface": [
           {
            "colorbar": {
             "outlinewidth": 0,
             "ticks": ""
            },
            "colorscale": [
             [
              0,
              "#0d0887"
             ],
             [
              0.1111111111111111,
              "#46039f"
             ],
             [
              0.2222222222222222,
              "#7201a8"
             ],
             [
              0.3333333333333333,
              "#9c179e"
             ],
             [
              0.4444444444444444,
              "#bd3786"
             ],
             [
              0.5555555555555556,
              "#d8576b"
             ],
             [
              0.6666666666666666,
              "#ed7953"
             ],
             [
              0.7777777777777778,
              "#fb9f3a"
             ],
             [
              0.8888888888888888,
              "#fdca26"
             ],
             [
              1,
              "#f0f921"
             ]
            ],
            "type": "surface"
           }
          ],
          "table": [
           {
            "cells": {
             "fill": {
              "color": "#EBF0F8"
             },
             "line": {
              "color": "white"
             }
            },
            "header": {
             "fill": {
              "color": "#C8D4E3"
             },
             "line": {
              "color": "white"
             }
            },
            "type": "table"
           }
          ]
         },
         "layout": {
          "annotationdefaults": {
           "arrowcolor": "#2a3f5f",
           "arrowhead": 0,
           "arrowwidth": 1
          },
          "autotypenumbers": "strict",
          "coloraxis": {
           "colorbar": {
            "outlinewidth": 0,
            "ticks": ""
           }
          },
          "colorscale": {
           "diverging": [
            [
             0,
             "#8e0152"
            ],
            [
             0.1,
             "#c51b7d"
            ],
            [
             0.2,
             "#de77ae"
            ],
            [
             0.3,
             "#f1b6da"
            ],
            [
             0.4,
             "#fde0ef"
            ],
            [
             0.5,
             "#f7f7f7"
            ],
            [
             0.6,
             "#e6f5d0"
            ],
            [
             0.7,
             "#b8e186"
            ],
            [
             0.8,
             "#7fbc41"
            ],
            [
             0.9,
             "#4d9221"
            ],
            [
             1,
             "#276419"
            ]
           ],
           "sequential": [
            [
             0,
             "#0d0887"
            ],
            [
             0.1111111111111111,
             "#46039f"
            ],
            [
             0.2222222222222222,
             "#7201a8"
            ],
            [
             0.3333333333333333,
             "#9c179e"
            ],
            [
             0.4444444444444444,
             "#bd3786"
            ],
            [
             0.5555555555555556,
             "#d8576b"
            ],
            [
             0.6666666666666666,
             "#ed7953"
            ],
            [
             0.7777777777777778,
             "#fb9f3a"
            ],
            [
             0.8888888888888888,
             "#fdca26"
            ],
            [
             1,
             "#f0f921"
            ]
           ],
           "sequentialminus": [
            [
             0,
             "#0d0887"
            ],
            [
             0.1111111111111111,
             "#46039f"
            ],
            [
             0.2222222222222222,
             "#7201a8"
            ],
            [
             0.3333333333333333,
             "#9c179e"
            ],
            [
             0.4444444444444444,
             "#bd3786"
            ],
            [
             0.5555555555555556,
             "#d8576b"
            ],
            [
             0.6666666666666666,
             "#ed7953"
            ],
            [
             0.7777777777777778,
             "#fb9f3a"
            ],
            [
             0.8888888888888888,
             "#fdca26"
            ],
            [
             1,
             "#f0f921"
            ]
           ]
          },
          "colorway": [
           "#636efa",
           "#EF553B",
           "#00cc96",
           "#ab63fa",
           "#FFA15A",
           "#19d3f3",
           "#FF6692",
           "#B6E880",
           "#FF97FF",
           "#FECB52"
          ],
          "font": {
           "color": "#2a3f5f"
          },
          "geo": {
           "bgcolor": "white",
           "lakecolor": "white",
           "landcolor": "#E5ECF6",
           "showlakes": true,
           "showland": true,
           "subunitcolor": "white"
          },
          "hoverlabel": {
           "align": "left"
          },
          "hovermode": "closest",
          "mapbox": {
           "style": "light"
          },
          "paper_bgcolor": "white",
          "plot_bgcolor": "#E5ECF6",
          "polar": {
           "angularaxis": {
            "gridcolor": "white",
            "linecolor": "white",
            "ticks": ""
           },
           "bgcolor": "#E5ECF6",
           "radialaxis": {
            "gridcolor": "white",
            "linecolor": "white",
            "ticks": ""
           }
          },
          "scene": {
           "xaxis": {
            "backgroundcolor": "#E5ECF6",
            "gridcolor": "white",
            "gridwidth": 2,
            "linecolor": "white",
            "showbackground": true,
            "ticks": "",
            "zerolinecolor": "white"
           },
           "yaxis": {
            "backgroundcolor": "#E5ECF6",
            "gridcolor": "white",
            "gridwidth": 2,
            "linecolor": "white",
            "showbackground": true,
            "ticks": "",
            "zerolinecolor": "white"
           },
           "zaxis": {
            "backgroundcolor": "#E5ECF6",
            "gridcolor": "white",
            "gridwidth": 2,
            "linecolor": "white",
            "showbackground": true,
            "ticks": "",
            "zerolinecolor": "white"
           }
          },
          "shapedefaults": {
           "line": {
            "color": "#2a3f5f"
           }
          },
          "ternary": {
           "aaxis": {
            "gridcolor": "white",
            "linecolor": "white",
            "ticks": ""
           },
           "baxis": {
            "gridcolor": "white",
            "linecolor": "white",
            "ticks": ""
           },
           "bgcolor": "#E5ECF6",
           "caxis": {
            "gridcolor": "white",
            "linecolor": "white",
            "ticks": ""
           }
          },
          "title": {
           "x": 0.05
          },
          "xaxis": {
           "automargin": true,
           "gridcolor": "white",
           "linecolor": "white",
           "ticks": "",
           "title": {
            "standoff": 15
           },
           "zerolinecolor": "white",
           "zerolinewidth": 2
          },
          "yaxis": {
           "automargin": true,
           "gridcolor": "white",
           "linecolor": "white",
           "ticks": "",
           "title": {
            "standoff": 15
           },
           "zerolinecolor": "white",
           "zerolinewidth": 2
          }
         }
        },
        "title": {
         "text": "The top 10 biggest number of passengers"
        },
        "xaxis": {
         "tickmode": "linear",
         "title": {
          "text": "Airport ID"
         }
        },
        "yaxis": {
         "title": {
          "text": "Total passengers"
         }
        }
       }
      }
     },
     "metadata": {},
     "output_type": "display_data"
    },
    {
     "data": {
      "application/vnd.plotly.v1+json": {
       "config": {
        "plotlyServerURL": "https://plot.ly"
       },
       "data": [
        {
         "marker": {
          "color": "steelblue"
         },
         "name": "Traffic of the top 10 bussiest airports",
         "type": "bar",
         "x": [
          "ORD",
          "ATL",
          "DEN",
          "LAX",
          "IAH",
          "DTW",
          "DFW",
          "MSP",
          "MIA",
          "EWR"
         ],
         "y": [
          3.3089172786617707,
          2.783408982728138,
          2.4287493200054397,
          2.1887324901400786,
          1.964971780225758,
          1.859891370869033,
          1.8596788725690194,
          1.8424665102679179,
          1.773935808513532,
          1.7567234462124302
         ]
        }
       ],
       "layout": {
        "template": {
         "data": {
          "bar": [
           {
            "error_x": {
             "color": "#2a3f5f"
            },
            "error_y": {
             "color": "#2a3f5f"
            },
            "marker": {
             "line": {
              "color": "#E5ECF6",
              "width": 0.5
             },
             "pattern": {
              "fillmode": "overlay",
              "size": 10,
              "solidity": 0.2
             }
            },
            "type": "bar"
           }
          ],
          "barpolar": [
           {
            "marker": {
             "line": {
              "color": "#E5ECF6",
              "width": 0.5
             },
             "pattern": {
              "fillmode": "overlay",
              "size": 10,
              "solidity": 0.2
             }
            },
            "type": "barpolar"
           }
          ],
          "carpet": [
           {
            "aaxis": {
             "endlinecolor": "#2a3f5f",
             "gridcolor": "white",
             "linecolor": "white",
             "minorgridcolor": "white",
             "startlinecolor": "#2a3f5f"
            },
            "baxis": {
             "endlinecolor": "#2a3f5f",
             "gridcolor": "white",
             "linecolor": "white",
             "minorgridcolor": "white",
             "startlinecolor": "#2a3f5f"
            },
            "type": "carpet"
           }
          ],
          "choropleth": [
           {
            "colorbar": {
             "outlinewidth": 0,
             "ticks": ""
            },
            "type": "choropleth"
           }
          ],
          "contour": [
           {
            "colorbar": {
             "outlinewidth": 0,
             "ticks": ""
            },
            "colorscale": [
             [
              0,
              "#0d0887"
             ],
             [
              0.1111111111111111,
              "#46039f"
             ],
             [
              0.2222222222222222,
              "#7201a8"
             ],
             [
              0.3333333333333333,
              "#9c179e"
             ],
             [
              0.4444444444444444,
              "#bd3786"
             ],
             [
              0.5555555555555556,
              "#d8576b"
             ],
             [
              0.6666666666666666,
              "#ed7953"
             ],
             [
              0.7777777777777778,
              "#fb9f3a"
             ],
             [
              0.8888888888888888,
              "#fdca26"
             ],
             [
              1,
              "#f0f921"
             ]
            ],
            "type": "contour"
           }
          ],
          "contourcarpet": [
           {
            "colorbar": {
             "outlinewidth": 0,
             "ticks": ""
            },
            "type": "contourcarpet"
           }
          ],
          "heatmap": [
           {
            "colorbar": {
             "outlinewidth": 0,
             "ticks": ""
            },
            "colorscale": [
             [
              0,
              "#0d0887"
             ],
             [
              0.1111111111111111,
              "#46039f"
             ],
             [
              0.2222222222222222,
              "#7201a8"
             ],
             [
              0.3333333333333333,
              "#9c179e"
             ],
             [
              0.4444444444444444,
              "#bd3786"
             ],
             [
              0.5555555555555556,
              "#d8576b"
             ],
             [
              0.6666666666666666,
              "#ed7953"
             ],
             [
              0.7777777777777778,
              "#fb9f3a"
             ],
             [
              0.8888888888888888,
              "#fdca26"
             ],
             [
              1,
              "#f0f921"
             ]
            ],
            "type": "heatmap"
           }
          ],
          "heatmapgl": [
           {
            "colorbar": {
             "outlinewidth": 0,
             "ticks": ""
            },
            "colorscale": [
             [
              0,
              "#0d0887"
             ],
             [
              0.1111111111111111,
              "#46039f"
             ],
             [
              0.2222222222222222,
              "#7201a8"
             ],
             [
              0.3333333333333333,
              "#9c179e"
             ],
             [
              0.4444444444444444,
              "#bd3786"
             ],
             [
              0.5555555555555556,
              "#d8576b"
             ],
             [
              0.6666666666666666,
              "#ed7953"
             ],
             [
              0.7777777777777778,
              "#fb9f3a"
             ],
             [
              0.8888888888888888,
              "#fdca26"
             ],
             [
              1,
              "#f0f921"
             ]
            ],
            "type": "heatmapgl"
           }
          ],
          "histogram": [
           {
            "marker": {
             "pattern": {
              "fillmode": "overlay",
              "size": 10,
              "solidity": 0.2
             }
            },
            "type": "histogram"
           }
          ],
          "histogram2d": [
           {
            "colorbar": {
             "outlinewidth": 0,
             "ticks": ""
            },
            "colorscale": [
             [
              0,
              "#0d0887"
             ],
             [
              0.1111111111111111,
              "#46039f"
             ],
             [
              0.2222222222222222,
              "#7201a8"
             ],
             [
              0.3333333333333333,
              "#9c179e"
             ],
             [
              0.4444444444444444,
              "#bd3786"
             ],
             [
              0.5555555555555556,
              "#d8576b"
             ],
             [
              0.6666666666666666,
              "#ed7953"
             ],
             [
              0.7777777777777778,
              "#fb9f3a"
             ],
             [
              0.8888888888888888,
              "#fdca26"
             ],
             [
              1,
              "#f0f921"
             ]
            ],
            "type": "histogram2d"
           }
          ],
          "histogram2dcontour": [
           {
            "colorbar": {
             "outlinewidth": 0,
             "ticks": ""
            },
            "colorscale": [
             [
              0,
              "#0d0887"
             ],
             [
              0.1111111111111111,
              "#46039f"
             ],
             [
              0.2222222222222222,
              "#7201a8"
             ],
             [
              0.3333333333333333,
              "#9c179e"
             ],
             [
              0.4444444444444444,
              "#bd3786"
             ],
             [
              0.5555555555555556,
              "#d8576b"
             ],
             [
              0.6666666666666666,
              "#ed7953"
             ],
             [
              0.7777777777777778,
              "#fb9f3a"
             ],
             [
              0.8888888888888888,
              "#fdca26"
             ],
             [
              1,
              "#f0f921"
             ]
            ],
            "type": "histogram2dcontour"
           }
          ],
          "mesh3d": [
           {
            "colorbar": {
             "outlinewidth": 0,
             "ticks": ""
            },
            "type": "mesh3d"
           }
          ],
          "parcoords": [
           {
            "line": {
             "colorbar": {
              "outlinewidth": 0,
              "ticks": ""
             }
            },
            "type": "parcoords"
           }
          ],
          "pie": [
           {
            "automargin": true,
            "type": "pie"
           }
          ],
          "scatter": [
           {
            "fillpattern": {
             "fillmode": "overlay",
             "size": 10,
             "solidity": 0.2
            },
            "type": "scatter"
           }
          ],
          "scatter3d": [
           {
            "line": {
             "colorbar": {
              "outlinewidth": 0,
              "ticks": ""
             }
            },
            "marker": {
             "colorbar": {
              "outlinewidth": 0,
              "ticks": ""
             }
            },
            "type": "scatter3d"
           }
          ],
          "scattercarpet": [
           {
            "marker": {
             "colorbar": {
              "outlinewidth": 0,
              "ticks": ""
             }
            },
            "type": "scattercarpet"
           }
          ],
          "scattergeo": [
           {
            "marker": {
             "colorbar": {
              "outlinewidth": 0,
              "ticks": ""
             }
            },
            "type": "scattergeo"
           }
          ],
          "scattergl": [
           {
            "marker": {
             "colorbar": {
              "outlinewidth": 0,
              "ticks": ""
             }
            },
            "type": "scattergl"
           }
          ],
          "scattermapbox": [
           {
            "marker": {
             "colorbar": {
              "outlinewidth": 0,
              "ticks": ""
             }
            },
            "type": "scattermapbox"
           }
          ],
          "scatterpolar": [
           {
            "marker": {
             "colorbar": {
              "outlinewidth": 0,
              "ticks": ""
             }
            },
            "type": "scatterpolar"
           }
          ],
          "scatterpolargl": [
           {
            "marker": {
             "colorbar": {
              "outlinewidth": 0,
              "ticks": ""
             }
            },
            "type": "scatterpolargl"
           }
          ],
          "scatterternary": [
           {
            "marker": {
             "colorbar": {
              "outlinewidth": 0,
              "ticks": ""
             }
            },
            "type": "scatterternary"
           }
          ],
          "surface": [
           {
            "colorbar": {
             "outlinewidth": 0,
             "ticks": ""
            },
            "colorscale": [
             [
              0,
              "#0d0887"
             ],
             [
              0.1111111111111111,
              "#46039f"
             ],
             [
              0.2222222222222222,
              "#7201a8"
             ],
             [
              0.3333333333333333,
              "#9c179e"
             ],
             [
              0.4444444444444444,
              "#bd3786"
             ],
             [
              0.5555555555555556,
              "#d8576b"
             ],
             [
              0.6666666666666666,
              "#ed7953"
             ],
             [
              0.7777777777777778,
              "#fb9f3a"
             ],
             [
              0.8888888888888888,
              "#fdca26"
             ],
             [
              1,
              "#f0f921"
             ]
            ],
            "type": "surface"
           }
          ],
          "table": [
           {
            "cells": {
             "fill": {
              "color": "#EBF0F8"
             },
             "line": {
              "color": "white"
             }
            },
            "header": {
             "fill": {
              "color": "#C8D4E3"
             },
             "line": {
              "color": "white"
             }
            },
            "type": "table"
           }
          ]
         },
         "layout": {
          "annotationdefaults": {
           "arrowcolor": "#2a3f5f",
           "arrowhead": 0,
           "arrowwidth": 1
          },
          "autotypenumbers": "strict",
          "coloraxis": {
           "colorbar": {
            "outlinewidth": 0,
            "ticks": ""
           }
          },
          "colorscale": {
           "diverging": [
            [
             0,
             "#8e0152"
            ],
            [
             0.1,
             "#c51b7d"
            ],
            [
             0.2,
             "#de77ae"
            ],
            [
             0.3,
             "#f1b6da"
            ],
            [
             0.4,
             "#fde0ef"
            ],
            [
             0.5,
             "#f7f7f7"
            ],
            [
             0.6,
             "#e6f5d0"
            ],
            [
             0.7,
             "#b8e186"
            ],
            [
             0.8,
             "#7fbc41"
            ],
            [
             0.9,
             "#4d9221"
            ],
            [
             1,
             "#276419"
            ]
           ],
           "sequential": [
            [
             0,
             "#0d0887"
            ],
            [
             0.1111111111111111,
             "#46039f"
            ],
            [
             0.2222222222222222,
             "#7201a8"
            ],
            [
             0.3333333333333333,
             "#9c179e"
            ],
            [
             0.4444444444444444,
             "#bd3786"
            ],
            [
             0.5555555555555556,
             "#d8576b"
            ],
            [
             0.6666666666666666,
             "#ed7953"
            ],
            [
             0.7777777777777778,
             "#fb9f3a"
            ],
            [
             0.8888888888888888,
             "#fdca26"
            ],
            [
             1,
             "#f0f921"
            ]
           ],
           "sequentialminus": [
            [
             0,
             "#0d0887"
            ],
            [
             0.1111111111111111,
             "#46039f"
            ],
            [
             0.2222222222222222,
             "#7201a8"
            ],
            [
             0.3333333333333333,
             "#9c179e"
            ],
            [
             0.4444444444444444,
             "#bd3786"
            ],
            [
             0.5555555555555556,
             "#d8576b"
            ],
            [
             0.6666666666666666,
             "#ed7953"
            ],
            [
             0.7777777777777778,
             "#fb9f3a"
            ],
            [
             0.8888888888888888,
             "#fdca26"
            ],
            [
             1,
             "#f0f921"
            ]
           ]
          },
          "colorway": [
           "#636efa",
           "#EF553B",
           "#00cc96",
           "#ab63fa",
           "#FFA15A",
           "#19d3f3",
           "#FF6692",
           "#B6E880",
           "#FF97FF",
           "#FECB52"
          ],
          "font": {
           "color": "#2a3f5f"
          },
          "geo": {
           "bgcolor": "white",
           "lakecolor": "white",
           "landcolor": "#E5ECF6",
           "showlakes": true,
           "showland": true,
           "subunitcolor": "white"
          },
          "hoverlabel": {
           "align": "left"
          },
          "hovermode": "closest",
          "mapbox": {
           "style": "light"
          },
          "paper_bgcolor": "white",
          "plot_bgcolor": "#E5ECF6",
          "polar": {
           "angularaxis": {
            "gridcolor": "white",
            "linecolor": "white",
            "ticks": ""
           },
           "bgcolor": "#E5ECF6",
           "radialaxis": {
            "gridcolor": "white",
            "linecolor": "white",
            "ticks": ""
           }
          },
          "scene": {
           "xaxis": {
            "backgroundcolor": "#E5ECF6",
            "gridcolor": "white",
            "gridwidth": 2,
            "linecolor": "white",
            "showbackground": true,
            "ticks": "",
            "zerolinecolor": "white"
           },
           "yaxis": {
            "backgroundcolor": "#E5ECF6",
            "gridcolor": "white",
            "gridwidth": 2,
            "linecolor": "white",
            "showbackground": true,
            "ticks": "",
            "zerolinecolor": "white"
           },
           "zaxis": {
            "backgroundcolor": "#E5ECF6",
            "gridcolor": "white",
            "gridwidth": 2,
            "linecolor": "white",
            "showbackground": true,
            "ticks": "",
            "zerolinecolor": "white"
           }
          },
          "shapedefaults": {
           "line": {
            "color": "#2a3f5f"
           }
          },
          "ternary": {
           "aaxis": {
            "gridcolor": "white",
            "linecolor": "white",
            "ticks": ""
           },
           "baxis": {
            "gridcolor": "white",
            "linecolor": "white",
            "ticks": ""
           },
           "bgcolor": "#E5ECF6",
           "caxis": {
            "gridcolor": "white",
            "linecolor": "white",
            "ticks": ""
           }
          },
          "title": {
           "x": 0.05
          },
          "xaxis": {
           "automargin": true,
           "gridcolor": "white",
           "linecolor": "white",
           "ticks": "",
           "title": {
            "standoff": 15
           },
           "zerolinecolor": "white",
           "zerolinewidth": 2
          },
          "yaxis": {
           "automargin": true,
           "gridcolor": "white",
           "linecolor": "white",
           "ticks": "",
           "title": {
            "standoff": 15
           },
           "zerolinecolor": "white",
           "zerolinewidth": 2
          }
         }
        },
        "title": {
         "text": "Traffic percentage of the top 10 bussiest airports - Total traffic percentage = 21.8 "
        },
        "xaxis": {
         "tickmode": "linear",
         "title": {
          "text": "Airport ID"
         }
        },
        "yaxis": {
         "title": {
          "text": "%Traffic"
         }
        }
       }
      }
     },
     "metadata": {},
     "output_type": "display_data"
    }
   ],
   "source": [
    "colors = {'1':'steelblue',\n",
    "          '2':'firebrick',\n",
    "          '3':'green'}\n",
    "\n",
    "# The top 10 bussiest airports\n",
    "data = go.Bar(name='The top 10 bussiest airports',\n",
    "              x=df_max_flights.airport_id, \n",
    "              y=df_max_flights.flights_no, \n",
    "              marker_color=colors['1'] ),\n",
    "\n",
    "layout = go.Layout(\n",
    "    title= 'The top 10 bussiest airports',\n",
    "    xaxis=dict(\n",
    "    title='Airport ID',\n",
    "    tickmode='linear'),\n",
    "    yaxis=dict(title='Total Flights')    \n",
    ")\n",
    "\n",
    "fig = go.Figure(data=data, layout=layout)\n",
    "fig.show()\n",
    "\n",
    "# The top 10 biggest number of passengers\n",
    "data = go.Bar(name='The top 10 biggest number of passengers',\n",
    "              x=df_max_passengers.airport_id, \n",
    "              y=df_max_passengers.passengers_no, \n",
    "              marker_color=colors['2'] ),\n",
    "\n",
    "layout = go.Layout(\n",
    "    title= 'The top 10 biggest number of passengers',\n",
    "    xaxis=dict(\n",
    "    title='Airport ID',\n",
    "    tickmode='linear'),\n",
    "    yaxis=dict(title='Total passengers')    \n",
    ")\n",
    "\n",
    "fig = go.Figure(data=data, layout=layout)\n",
    "fig.show()\n",
    "\n",
    "\n",
    "# Traffic of the top 10 bussiest airports \n",
    "data = go.Bar(name='Traffic of the top 10 bussiest airports',\n",
    "              x=df_max_flights.airport_id, \n",
    "              y=df_max_flights.traffic_percent, \n",
    "              marker_color=colors['1'] ),\n",
    "\n",
    "layout = go.Layout(\n",
    "    title= 'Traffic percentage of the top 10 bussiest airports - Total traffic percentage = %.1f ' % total_traffic  ,\n",
    "    xaxis=dict(\n",
    "    title='Airport ID',\n",
    "    tickmode='linear'),\n",
    "    yaxis=dict(title='%Traffic')    \n",
    ")\n",
    "\n",
    "fig = go.Figure(data=data, layout=layout)\n",
    "fig.show()"
   ]
  },
  {
   "cell_type": "markdown",
   "metadata": {},
   "source": [
    "#### **Task 10**: Do bigger delays lead to bigger fuel comsumption per passenger? \n",
    "We need to do four things to answer this as accurate as possible:\n",
    "- Find out average monthly delay per air carrier (monthly delay is sum of all delays in 1 month)\n",
    "- Find out distance covered monthly by different air carriers\n",
    "- Find out number of passengers that were carried by different air carriers\n",
    "- Find out total fuel comsumption per air carrier.\n",
    "\n",
    "Use this information to get the average fuel comsumption per passenger per km. Is this higher for the airlines with bigger average delays?"
   ]
  },
  {
   "cell_type": "code",
   "execution_count": 3,
   "metadata": {},
   "outputs": [
    {
     "data": {
      "text/html": [
       "<div>\n",
       "<style scoped>\n",
       "    .dataframe tbody tr th:only-of-type {\n",
       "        vertical-align: middle;\n",
       "    }\n",
       "\n",
       "    .dataframe tbody tr th {\n",
       "        vertical-align: top;\n",
       "    }\n",
       "\n",
       "    .dataframe thead th {\n",
       "        text-align: right;\n",
       "    }\n",
       "</style>\n",
       "<table border=\"1\" class=\"dataframe\">\n",
       "  <thead>\n",
       "    <tr style=\"text-align: right;\">\n",
       "      <th></th>\n",
       "      <th>unique_carrier</th>\n",
       "      <th>distance</th>\n",
       "      <th>dep_delay</th>\n",
       "      <th>arr_delay</th>\n",
       "    </tr>\n",
       "  </thead>\n",
       "  <tbody>\n",
       "    <tr>\n",
       "      <th>0</th>\n",
       "      <td>9E</td>\n",
       "      <td>4779999.0</td>\n",
       "      <td>96545.5</td>\n",
       "      <td>6953.0</td>\n",
       "    </tr>\n",
       "    <tr>\n",
       "      <th>1</th>\n",
       "      <td>AA</td>\n",
       "      <td>39599389.0</td>\n",
       "      <td>319233.5</td>\n",
       "      <td>125411.0</td>\n",
       "    </tr>\n",
       "    <tr>\n",
       "      <th>2</th>\n",
       "      <td>AS</td>\n",
       "      <td>14446369.5</td>\n",
       "      <td>60648.5</td>\n",
       "      <td>14915.0</td>\n",
       "    </tr>\n",
       "    <tr>\n",
       "      <th>3</th>\n",
       "      <td>AX</td>\n",
       "      <td>1460259.5</td>\n",
       "      <td>37794.0</td>\n",
       "      <td>25746.0</td>\n",
       "    </tr>\n",
       "    <tr>\n",
       "      <th>4</th>\n",
       "      <td>B6</td>\n",
       "      <td>14229719.0</td>\n",
       "      <td>214568.5</td>\n",
       "      <td>133091.5</td>\n",
       "    </tr>\n",
       "    <tr>\n",
       "      <th>5</th>\n",
       "      <td>C5</td>\n",
       "      <td>892329.0</td>\n",
       "      <td>60863.0</td>\n",
       "      <td>53761.5</td>\n",
       "    </tr>\n",
       "    <tr>\n",
       "      <th>6</th>\n",
       "      <td>CP</td>\n",
       "      <td>2224227.5</td>\n",
       "      <td>55104.0</td>\n",
       "      <td>44312.0</td>\n",
       "    </tr>\n",
       "    <tr>\n",
       "      <th>7</th>\n",
       "      <td>DL</td>\n",
       "      <td>34027884.0</td>\n",
       "      <td>151668.0</td>\n",
       "      <td>-231563.5</td>\n",
       "    </tr>\n",
       "    <tr>\n",
       "      <th>8</th>\n",
       "      <td>EM</td>\n",
       "      <td>26730.0</td>\n",
       "      <td>115.5</td>\n",
       "      <td>300.5</td>\n",
       "    </tr>\n",
       "    <tr>\n",
       "      <th>9</th>\n",
       "      <td>EV</td>\n",
       "      <td>3178903.0</td>\n",
       "      <td>90308.5</td>\n",
       "      <td>66692.5</td>\n",
       "    </tr>\n",
       "    <tr>\n",
       "      <th>10</th>\n",
       "      <td>F9</td>\n",
       "      <td>5301547.0</td>\n",
       "      <td>69570.0</td>\n",
       "      <td>31867.5</td>\n",
       "    </tr>\n",
       "    <tr>\n",
       "      <th>11</th>\n",
       "      <td>G4</td>\n",
       "      <td>3616059.5</td>\n",
       "      <td>36077.0</td>\n",
       "      <td>25817.0</td>\n",
       "    </tr>\n",
       "    <tr>\n",
       "      <th>12</th>\n",
       "      <td>G7</td>\n",
       "      <td>2019601.0</td>\n",
       "      <td>37836.0</td>\n",
       "      <td>4188.5</td>\n",
       "    </tr>\n",
       "    <tr>\n",
       "      <th>13</th>\n",
       "      <td>HA</td>\n",
       "      <td>2616083.5</td>\n",
       "      <td>6855.5</td>\n",
       "      <td>4081.0</td>\n",
       "    </tr>\n",
       "    <tr>\n",
       "      <th>14</th>\n",
       "      <td>KS</td>\n",
       "      <td>83952.0</td>\n",
       "      <td>2352.0</td>\n",
       "      <td>2231.0</td>\n",
       "    </tr>\n",
       "    <tr>\n",
       "      <th>15</th>\n",
       "      <td>MQ</td>\n",
       "      <td>5586845.0</td>\n",
       "      <td>91550.5</td>\n",
       "      <td>47978.0</td>\n",
       "    </tr>\n",
       "    <tr>\n",
       "      <th>16</th>\n",
       "      <td>NK</td>\n",
       "      <td>8112760.0</td>\n",
       "      <td>52014.5</td>\n",
       "      <td>5480.5</td>\n",
       "    </tr>\n",
       "    <tr>\n",
       "      <th>17</th>\n",
       "      <td>OH</td>\n",
       "      <td>4537242.5</td>\n",
       "      <td>91604.5</td>\n",
       "      <td>28881.5</td>\n",
       "    </tr>\n",
       "    <tr>\n",
       "      <th>18</th>\n",
       "      <td>OO</td>\n",
       "      <td>16530321.0</td>\n",
       "      <td>429806.5</td>\n",
       "      <td>258787.0</td>\n",
       "    </tr>\n",
       "    <tr>\n",
       "      <th>19</th>\n",
       "      <td>PT</td>\n",
       "      <td>1256163.5</td>\n",
       "      <td>37814.5</td>\n",
       "      <td>17335.0</td>\n",
       "    </tr>\n",
       "    <tr>\n",
       "      <th>20</th>\n",
       "      <td>QX</td>\n",
       "      <td>2006485.0</td>\n",
       "      <td>38180.5</td>\n",
       "      <td>32240.0</td>\n",
       "    </tr>\n",
       "    <tr>\n",
       "      <th>21</th>\n",
       "      <td>UA</td>\n",
       "      <td>30953401.0</td>\n",
       "      <td>247246.5</td>\n",
       "      <td>112961.5</td>\n",
       "    </tr>\n",
       "    <tr>\n",
       "      <th>22</th>\n",
       "      <td>WN</td>\n",
       "      <td>42839150.0</td>\n",
       "      <td>669261.5</td>\n",
       "      <td>240710.5</td>\n",
       "    </tr>\n",
       "    <tr>\n",
       "      <th>23</th>\n",
       "      <td>YV</td>\n",
       "      <td>5385974.5</td>\n",
       "      <td>116057.0</td>\n",
       "      <td>86300.5</td>\n",
       "    </tr>\n",
       "    <tr>\n",
       "      <th>24</th>\n",
       "      <td>YX</td>\n",
       "      <td>7618550.0</td>\n",
       "      <td>77328.0</td>\n",
       "      <td>15783.5</td>\n",
       "    </tr>\n",
       "    <tr>\n",
       "      <th>25</th>\n",
       "      <td>ZW</td>\n",
       "      <td>1662256.0</td>\n",
       "      <td>24843.0</td>\n",
       "      <td>12187.5</td>\n",
       "    </tr>\n",
       "  </tbody>\n",
       "</table>\n",
       "</div>"
      ],
      "text/plain": [
       "   unique_carrier    distance  dep_delay  arr_delay\n",
       "0              9E   4779999.0    96545.5     6953.0\n",
       "1              AA  39599389.0   319233.5   125411.0\n",
       "2              AS  14446369.5    60648.5    14915.0\n",
       "3              AX   1460259.5    37794.0    25746.0\n",
       "4              B6  14229719.0   214568.5   133091.5\n",
       "5              C5    892329.0    60863.0    53761.5\n",
       "6              CP   2224227.5    55104.0    44312.0\n",
       "7              DL  34027884.0   151668.0  -231563.5\n",
       "8              EM     26730.0      115.5      300.5\n",
       "9              EV   3178903.0    90308.5    66692.5\n",
       "10             F9   5301547.0    69570.0    31867.5\n",
       "11             G4   3616059.5    36077.0    25817.0\n",
       "12             G7   2019601.0    37836.0     4188.5\n",
       "13             HA   2616083.5     6855.5     4081.0\n",
       "14             KS     83952.0     2352.0     2231.0\n",
       "15             MQ   5586845.0    91550.5    47978.0\n",
       "16             NK   8112760.0    52014.5     5480.5\n",
       "17             OH   4537242.5    91604.5    28881.5\n",
       "18             OO  16530321.0   429806.5   258787.0\n",
       "19             PT   1256163.5    37814.5    17335.0\n",
       "20             QX   2006485.0    38180.5    32240.0\n",
       "21             UA  30953401.0   247246.5   112961.5\n",
       "22             WN  42839150.0   669261.5   240710.5\n",
       "23             YV   5385974.5   116057.0    86300.5\n",
       "24             YX   7618550.0    77328.0    15783.5\n",
       "25             ZW   1662256.0    24843.0    12187.5"
      ]
     },
     "execution_count": 3,
     "metadata": {},
     "output_type": "execute_result"
    }
   ],
   "source": [
    "df_flights = flights_train[['fl_date','op_unique_carrier','distance','dep_delay','arr_delay']]\n",
    "\n",
    "df_flights['year']  = df_flights['fl_date'].str[0:4]\n",
    "df_flights['month'] = df_flights['fl_date'].str[5:7]\n",
    "\n",
    "# summation of distance and delay per month\n",
    "df_flights = df_flights[['op_unique_carrier','year','month','distance','dep_delay','arr_delay']].groupby(['op_unique_carrier','year','month']).sum().reset_index()\n",
    "\n",
    "# monthly average\n",
    "df_flights = df_flights[['op_unique_carrier','distance','dep_delay','arr_delay']].groupby(['op_unique_carrier']).mean().reset_index()\n",
    "df_flights = df_flights.rename(columns={'op_unique_carrier': 'unique_carrier'})\n",
    "df_flights"
   ]
  },
  {
   "cell_type": "code",
   "execution_count": 4,
   "metadata": {},
   "outputs": [
    {
     "data": {
      "text/html": [
       "<div>\n",
       "<style scoped>\n",
       "    .dataframe tbody tr th:only-of-type {\n",
       "        vertical-align: middle;\n",
       "    }\n",
       "\n",
       "    .dataframe tbody tr th {\n",
       "        vertical-align: top;\n",
       "    }\n",
       "\n",
       "    .dataframe thead th {\n",
       "        text-align: right;\n",
       "    }\n",
       "</style>\n",
       "<table border=\"1\" class=\"dataframe\">\n",
       "  <thead>\n",
       "    <tr style=\"text-align: right;\">\n",
       "      <th></th>\n",
       "      <th>passengers</th>\n",
       "    </tr>\n",
       "    <tr>\n",
       "      <th>unique_carrier</th>\n",
       "      <th></th>\n",
       "    </tr>\n",
       "  </thead>\n",
       "  <tbody>\n",
       "    <tr>\n",
       "      <th>02Q</th>\n",
       "      <td>235.545455</td>\n",
       "    </tr>\n",
       "    <tr>\n",
       "      <th>04Q</th>\n",
       "      <td>3942.708333</td>\n",
       "    </tr>\n",
       "    <tr>\n",
       "      <th>07Q</th>\n",
       "      <td>6026.222222</td>\n",
       "    </tr>\n",
       "    <tr>\n",
       "      <th>09Q</th>\n",
       "      <td>100909.600000</td>\n",
       "    </tr>\n",
       "    <tr>\n",
       "      <th>0BQ</th>\n",
       "      <td>12.578947</td>\n",
       "    </tr>\n",
       "    <tr>\n",
       "      <th>...</th>\n",
       "      <td>...</td>\n",
       "    </tr>\n",
       "    <tr>\n",
       "      <th>Z3</th>\n",
       "      <td>596.391304</td>\n",
       "    </tr>\n",
       "    <tr>\n",
       "      <th>Z3Q</th>\n",
       "      <td>2436.173913</td>\n",
       "    </tr>\n",
       "    <tr>\n",
       "      <th>ZK</th>\n",
       "      <td>2509.333333</td>\n",
       "    </tr>\n",
       "    <tr>\n",
       "      <th>ZW</th>\n",
       "      <td>331633.458333</td>\n",
       "    </tr>\n",
       "    <tr>\n",
       "      <th>ZX</th>\n",
       "      <td>82778.708333</td>\n",
       "    </tr>\n",
       "  </tbody>\n",
       "</table>\n",
       "<p>337 rows × 1 columns</p>\n",
       "</div>"
      ],
      "text/plain": [
       "                   passengers\n",
       "unique_carrier               \n",
       "02Q                235.545455\n",
       "04Q               3942.708333\n",
       "07Q               6026.222222\n",
       "09Q             100909.600000\n",
       "0BQ                 12.578947\n",
       "...                       ...\n",
       "Z3                 596.391304\n",
       "Z3Q               2436.173913\n",
       "ZK                2509.333333\n",
       "ZW              331633.458333\n",
       "ZX               82778.708333\n",
       "\n",
       "[337 rows x 1 columns]"
      ]
     },
     "execution_count": 4,
     "metadata": {},
     "output_type": "execute_result"
    }
   ],
   "source": [
    "df_pass = passengers[['unique_carrier','year','month','passengers']]\n",
    "#sum travellers by month\n",
    "df_pass = df_pass[df_pass['year'] >= 2018].groupby(['unique_carrier', 'year', 'month']).sum().reset_index()\n",
    "#average passenger per month\n",
    "df_pass = df_pass[['unique_carrier','passengers']].groupby('unique_carrier').mean()\n",
    "\n",
    "df_pass"
   ]
  },
  {
   "cell_type": "code",
   "execution_count": 5,
   "metadata": {},
   "outputs": [
    {
     "data": {
      "text/html": [
       "<div>\n",
       "<style scoped>\n",
       "    .dataframe tbody tr th:only-of-type {\n",
       "        vertical-align: middle;\n",
       "    }\n",
       "\n",
       "    .dataframe tbody tr th {\n",
       "        vertical-align: top;\n",
       "    }\n",
       "\n",
       "    .dataframe thead th {\n",
       "        text-align: right;\n",
       "    }\n",
       "</style>\n",
       "<table border=\"1\" class=\"dataframe\">\n",
       "  <thead>\n",
       "    <tr style=\"text-align: right;\">\n",
       "      <th></th>\n",
       "      <th>total_gallons</th>\n",
       "    </tr>\n",
       "    <tr>\n",
       "      <th>unique_carrier</th>\n",
       "      <th></th>\n",
       "    </tr>\n",
       "  </thead>\n",
       "  <tbody>\n",
       "    <tr>\n",
       "      <th>09Q</th>\n",
       "      <td>1.443060e+06</td>\n",
       "    </tr>\n",
       "    <tr>\n",
       "      <th>0WQ</th>\n",
       "      <td>4.360333e+03</td>\n",
       "    </tr>\n",
       "    <tr>\n",
       "      <th>1BQ</th>\n",
       "      <td>9.802453e+04</td>\n",
       "    </tr>\n",
       "    <tr>\n",
       "      <th>27Q</th>\n",
       "      <td>0.000000e+00</td>\n",
       "    </tr>\n",
       "    <tr>\n",
       "      <th>2HQ</th>\n",
       "      <td>2.895357e+05</td>\n",
       "    </tr>\n",
       "  </tbody>\n",
       "</table>\n",
       "</div>"
      ],
      "text/plain": [
       "                total_gallons\n",
       "unique_carrier               \n",
       "09Q              1.443060e+06\n",
       "0WQ              4.360333e+03\n",
       "1BQ              9.802453e+04\n",
       "27Q              0.000000e+00\n",
       "2HQ              2.895357e+05"
      ]
     },
     "execution_count": 5,
     "metadata": {},
     "output_type": "execute_result"
    }
   ],
   "source": [
    "#filter by year\n",
    "df_fuel = fuel[fuel['year'] >=2018]\n",
    "\n",
    "#average monthly fuels per carrier\n",
    "df_fuel = df_fuel[['unique_carrier','total_gallons']].groupby('unique_carrier').mean()\n",
    "#df3 = df3[df3.total_gallons != 0]\n",
    "\n",
    "df_fuel.head()"
   ]
  },
  {
   "cell_type": "code",
   "execution_count": 6,
   "metadata": {},
   "outputs": [
    {
     "data": {
      "text/html": [
       "<div>\n",
       "<style scoped>\n",
       "    .dataframe tbody tr th:only-of-type {\n",
       "        vertical-align: middle;\n",
       "    }\n",
       "\n",
       "    .dataframe tbody tr th {\n",
       "        vertical-align: top;\n",
       "    }\n",
       "\n",
       "    .dataframe thead th {\n",
       "        text-align: right;\n",
       "    }\n",
       "</style>\n",
       "<table border=\"1\" class=\"dataframe\">\n",
       "  <thead>\n",
       "    <tr style=\"text-align: right;\">\n",
       "      <th></th>\n",
       "      <th>unique_carrier</th>\n",
       "      <th>distance</th>\n",
       "      <th>dep_delay</th>\n",
       "      <th>arr_delay</th>\n",
       "      <th>passengers</th>\n",
       "      <th>total_gallons</th>\n",
       "    </tr>\n",
       "  </thead>\n",
       "  <tbody>\n",
       "    <tr>\n",
       "      <th>1</th>\n",
       "      <td>AA</td>\n",
       "      <td>39599389.0</td>\n",
       "      <td>319233.5</td>\n",
       "      <td>125411.0</td>\n",
       "      <td>1.269777e+07</td>\n",
       "      <td>3.055284e+08</td>\n",
       "    </tr>\n",
       "    <tr>\n",
       "      <th>2</th>\n",
       "      <td>AS</td>\n",
       "      <td>14446369.5</td>\n",
       "      <td>60648.5</td>\n",
       "      <td>14915.0</td>\n",
       "      <td>2.920384e+06</td>\n",
       "      <td>6.076106e+07</td>\n",
       "    </tr>\n",
       "    <tr>\n",
       "      <th>4</th>\n",
       "      <td>B6</td>\n",
       "      <td>14229719.0</td>\n",
       "      <td>214568.5</td>\n",
       "      <td>133091.5</td>\n",
       "      <td>3.545438e+06</td>\n",
       "      <td>7.216545e+07</td>\n",
       "    </tr>\n",
       "    <tr>\n",
       "      <th>7</th>\n",
       "      <td>DL</td>\n",
       "      <td>34027884.0</td>\n",
       "      <td>151668.0</td>\n",
       "      <td>-231563.5</td>\n",
       "      <td>1.313163e+07</td>\n",
       "      <td>3.005069e+08</td>\n",
       "    </tr>\n",
       "    <tr>\n",
       "      <th>10</th>\n",
       "      <td>F9</td>\n",
       "      <td>5301547.0</td>\n",
       "      <td>69570.0</td>\n",
       "      <td>31867.5</td>\n",
       "      <td>1.776412e+06</td>\n",
       "      <td>2.251769e+07</td>\n",
       "    </tr>\n",
       "    <tr>\n",
       "      <th>11</th>\n",
       "      <td>G4</td>\n",
       "      <td>3616059.5</td>\n",
       "      <td>36077.0</td>\n",
       "      <td>25817.0</td>\n",
       "      <td>1.207058e+06</td>\n",
       "      <td>1.621199e+07</td>\n",
       "    </tr>\n",
       "    <tr>\n",
       "      <th>13</th>\n",
       "      <td>HA</td>\n",
       "      <td>2616083.5</td>\n",
       "      <td>6855.5</td>\n",
       "      <td>4081.0</td>\n",
       "      <td>9.655270e+05</td>\n",
       "      <td>2.263476e+07</td>\n",
       "    </tr>\n",
       "    <tr>\n",
       "      <th>16</th>\n",
       "      <td>NK</td>\n",
       "      <td>8112760.0</td>\n",
       "      <td>52014.5</td>\n",
       "      <td>5480.5</td>\n",
       "      <td>2.658692e+06</td>\n",
       "      <td>3.650923e+07</td>\n",
       "    </tr>\n",
       "    <tr>\n",
       "      <th>18</th>\n",
       "      <td>OO</td>\n",
       "      <td>16530321.0</td>\n",
       "      <td>429806.5</td>\n",
       "      <td>258787.0</td>\n",
       "      <td>3.397631e+06</td>\n",
       "      <td>8.337353e+06</td>\n",
       "    </tr>\n",
       "    <tr>\n",
       "      <th>21</th>\n",
       "      <td>UA</td>\n",
       "      <td>30953401.0</td>\n",
       "      <td>247246.5</td>\n",
       "      <td>112961.5</td>\n",
       "      <td>9.600462e+06</td>\n",
       "      <td>2.916056e+08</td>\n",
       "    </tr>\n",
       "    <tr>\n",
       "      <th>22</th>\n",
       "      <td>WN</td>\n",
       "      <td>42839150.0</td>\n",
       "      <td>669261.5</td>\n",
       "      <td>240710.5</td>\n",
       "      <td>1.394760e+07</td>\n",
       "      <td>1.737242e+08</td>\n",
       "    </tr>\n",
       "    <tr>\n",
       "      <th>24</th>\n",
       "      <td>YX</td>\n",
       "      <td>7618550.0</td>\n",
       "      <td>77328.0</td>\n",
       "      <td>15783.5</td>\n",
       "      <td>1.564354e+06</td>\n",
       "      <td>2.502652e+04</td>\n",
       "    </tr>\n",
       "  </tbody>\n",
       "</table>\n",
       "</div>"
      ],
      "text/plain": [
       "   unique_carrier    distance  dep_delay  arr_delay    passengers  \\\n",
       "1              AA  39599389.0   319233.5   125411.0  1.269777e+07   \n",
       "2              AS  14446369.5    60648.5    14915.0  2.920384e+06   \n",
       "4              B6  14229719.0   214568.5   133091.5  3.545438e+06   \n",
       "7              DL  34027884.0   151668.0  -231563.5  1.313163e+07   \n",
       "10             F9   5301547.0    69570.0    31867.5  1.776412e+06   \n",
       "11             G4   3616059.5    36077.0    25817.0  1.207058e+06   \n",
       "13             HA   2616083.5     6855.5     4081.0  9.655270e+05   \n",
       "16             NK   8112760.0    52014.5     5480.5  2.658692e+06   \n",
       "18             OO  16530321.0   429806.5   258787.0  3.397631e+06   \n",
       "21             UA  30953401.0   247246.5   112961.5  9.600462e+06   \n",
       "22             WN  42839150.0   669261.5   240710.5  1.394760e+07   \n",
       "24             YX   7618550.0    77328.0    15783.5  1.564354e+06   \n",
       "\n",
       "    total_gallons  \n",
       "1    3.055284e+08  \n",
       "2    6.076106e+07  \n",
       "4    7.216545e+07  \n",
       "7    3.005069e+08  \n",
       "10   2.251769e+07  \n",
       "11   1.621199e+07  \n",
       "13   2.263476e+07  \n",
       "16   3.650923e+07  \n",
       "18   8.337353e+06  \n",
       "21   2.916056e+08  \n",
       "22   1.737242e+08  \n",
       "24   2.502652e+04  "
      ]
     },
     "execution_count": 6,
     "metadata": {},
     "output_type": "execute_result"
    }
   ],
   "source": [
    "#combine dataframes\n",
    "df_join = df_flights.join(df_pass, on='unique_carrier', how='inner').join(df_fuel, on='unique_carrier', how='inner')\n",
    "\n",
    "#ignore rows with fuel consumption = 0\n",
    "df_join = df_join[df_join.total_gallons != 0]\n",
    "df_join"
   ]
  },
  {
   "cell_type": "code",
   "execution_count": 7,
   "metadata": {},
   "outputs": [
    {
     "data": {
      "text/html": [
       "<div>\n",
       "<style scoped>\n",
       "    .dataframe tbody tr th:only-of-type {\n",
       "        vertical-align: middle;\n",
       "    }\n",
       "\n",
       "    .dataframe tbody tr th {\n",
       "        vertical-align: top;\n",
       "    }\n",
       "\n",
       "    .dataframe thead th {\n",
       "        text-align: right;\n",
       "    }\n",
       "</style>\n",
       "<table border=\"1\" class=\"dataframe\">\n",
       "  <thead>\n",
       "    <tr style=\"text-align: right;\">\n",
       "      <th></th>\n",
       "      <th>unique_carrier</th>\n",
       "      <th>distance</th>\n",
       "      <th>dep_delay</th>\n",
       "      <th>arr_delay</th>\n",
       "      <th>passengers</th>\n",
       "      <th>total_gallons</th>\n",
       "      <th>Fuel Consumption per pax/km</th>\n",
       "    </tr>\n",
       "  </thead>\n",
       "  <tbody>\n",
       "    <tr>\n",
       "      <th>1</th>\n",
       "      <td>AA</td>\n",
       "      <td>39599389.0</td>\n",
       "      <td>319233.5</td>\n",
       "      <td>125411.0</td>\n",
       "      <td>1.269777e+07</td>\n",
       "      <td>3.055284e+08</td>\n",
       "      <td>6.076249e-07</td>\n",
       "    </tr>\n",
       "    <tr>\n",
       "      <th>2</th>\n",
       "      <td>AS</td>\n",
       "      <td>14446369.5</td>\n",
       "      <td>60648.5</td>\n",
       "      <td>14915.0</td>\n",
       "      <td>2.920384e+06</td>\n",
       "      <td>6.076106e+07</td>\n",
       "      <td>1.440213e-06</td>\n",
       "    </tr>\n",
       "    <tr>\n",
       "      <th>4</th>\n",
       "      <td>B6</td>\n",
       "      <td>14229719.0</td>\n",
       "      <td>214568.5</td>\n",
       "      <td>133091.5</td>\n",
       "      <td>3.545438e+06</td>\n",
       "      <td>7.216545e+07</td>\n",
       "      <td>1.430418e-06</td>\n",
       "    </tr>\n",
       "    <tr>\n",
       "      <th>7</th>\n",
       "      <td>DL</td>\n",
       "      <td>34027884.0</td>\n",
       "      <td>151668.0</td>\n",
       "      <td>-231563.5</td>\n",
       "      <td>1.313163e+07</td>\n",
       "      <td>3.005069e+08</td>\n",
       "      <td>6.725133e-07</td>\n",
       "    </tr>\n",
       "    <tr>\n",
       "      <th>10</th>\n",
       "      <td>F9</td>\n",
       "      <td>5301547.0</td>\n",
       "      <td>69570.0</td>\n",
       "      <td>31867.5</td>\n",
       "      <td>1.776412e+06</td>\n",
       "      <td>2.251769e+07</td>\n",
       "      <td>2.390989e-06</td>\n",
       "    </tr>\n",
       "    <tr>\n",
       "      <th>11</th>\n",
       "      <td>G4</td>\n",
       "      <td>3616059.5</td>\n",
       "      <td>36077.0</td>\n",
       "      <td>25817.0</td>\n",
       "      <td>1.207058e+06</td>\n",
       "      <td>1.621199e+07</td>\n",
       "      <td>3.714263e-06</td>\n",
       "    </tr>\n",
       "    <tr>\n",
       "      <th>13</th>\n",
       "      <td>HA</td>\n",
       "      <td>2616083.5</td>\n",
       "      <td>6855.5</td>\n",
       "      <td>4081.0</td>\n",
       "      <td>9.655270e+05</td>\n",
       "      <td>2.263476e+07</td>\n",
       "      <td>8.961069e-06</td>\n",
       "    </tr>\n",
       "    <tr>\n",
       "      <th>16</th>\n",
       "      <td>NK</td>\n",
       "      <td>8112760.0</td>\n",
       "      <td>52014.5</td>\n",
       "      <td>5480.5</td>\n",
       "      <td>2.658692e+06</td>\n",
       "      <td>3.650923e+07</td>\n",
       "      <td>1.692646e-06</td>\n",
       "    </tr>\n",
       "    <tr>\n",
       "      <th>18</th>\n",
       "      <td>OO</td>\n",
       "      <td>16530321.0</td>\n",
       "      <td>429806.5</td>\n",
       "      <td>258787.0</td>\n",
       "      <td>3.397631e+06</td>\n",
       "      <td>8.337353e+06</td>\n",
       "      <td>1.484468e-07</td>\n",
       "    </tr>\n",
       "    <tr>\n",
       "      <th>21</th>\n",
       "      <td>UA</td>\n",
       "      <td>30953401.0</td>\n",
       "      <td>247246.5</td>\n",
       "      <td>112961.5</td>\n",
       "      <td>9.600462e+06</td>\n",
       "      <td>2.916056e+08</td>\n",
       "      <td>9.812853e-07</td>\n",
       "    </tr>\n",
       "    <tr>\n",
       "      <th>22</th>\n",
       "      <td>WN</td>\n",
       "      <td>42839150.0</td>\n",
       "      <td>669261.5</td>\n",
       "      <td>240710.5</td>\n",
       "      <td>1.394760e+07</td>\n",
       "      <td>1.737242e+08</td>\n",
       "      <td>2.907502e-07</td>\n",
       "    </tr>\n",
       "    <tr>\n",
       "      <th>24</th>\n",
       "      <td>YX</td>\n",
       "      <td>7618550.0</td>\n",
       "      <td>77328.0</td>\n",
       "      <td>15783.5</td>\n",
       "      <td>1.564354e+06</td>\n",
       "      <td>2.502652e+04</td>\n",
       "      <td>2.099874e-09</td>\n",
       "    </tr>\n",
       "  </tbody>\n",
       "</table>\n",
       "</div>"
      ],
      "text/plain": [
       "   unique_carrier    distance  dep_delay  arr_delay    passengers  \\\n",
       "1              AA  39599389.0   319233.5   125411.0  1.269777e+07   \n",
       "2              AS  14446369.5    60648.5    14915.0  2.920384e+06   \n",
       "4              B6  14229719.0   214568.5   133091.5  3.545438e+06   \n",
       "7              DL  34027884.0   151668.0  -231563.5  1.313163e+07   \n",
       "10             F9   5301547.0    69570.0    31867.5  1.776412e+06   \n",
       "11             G4   3616059.5    36077.0    25817.0  1.207058e+06   \n",
       "13             HA   2616083.5     6855.5     4081.0  9.655270e+05   \n",
       "16             NK   8112760.0    52014.5     5480.5  2.658692e+06   \n",
       "18             OO  16530321.0   429806.5   258787.0  3.397631e+06   \n",
       "21             UA  30953401.0   247246.5   112961.5  9.600462e+06   \n",
       "22             WN  42839150.0   669261.5   240710.5  1.394760e+07   \n",
       "24             YX   7618550.0    77328.0    15783.5  1.564354e+06   \n",
       "\n",
       "    total_gallons  Fuel Consumption per pax/km  \n",
       "1    3.055284e+08                 6.076249e-07  \n",
       "2    6.076106e+07                 1.440213e-06  \n",
       "4    7.216545e+07                 1.430418e-06  \n",
       "7    3.005069e+08                 6.725133e-07  \n",
       "10   2.251769e+07                 2.390989e-06  \n",
       "11   1.621199e+07                 3.714263e-06  \n",
       "13   2.263476e+07                 8.961069e-06  \n",
       "16   3.650923e+07                 1.692646e-06  \n",
       "18   8.337353e+06                 1.484468e-07  \n",
       "21   2.916056e+08                 9.812853e-07  \n",
       "22   1.737242e+08                 2.907502e-07  \n",
       "24   2.502652e+04                 2.099874e-09  "
      ]
     },
     "execution_count": 7,
     "metadata": {},
     "output_type": "execute_result"
    }
   ],
   "source": [
    "#create a new column gallons per pax per distance\n",
    "df_join['Fuel Consumption per pax/km'] = df_join['total_gallons']/df_join['passengers']/df_join['distance']\n",
    "df_join"
   ]
  },
  {
   "cell_type": "code",
   "execution_count": 11,
   "metadata": {},
   "outputs": [
    {
     "data": {
      "image/png": "[encoded data removed]",
      "text/plain": [
       "<Figure size 640x480 with 1 Axes>"
      ]
     },
     "metadata": {},
     "output_type": "display_data"
    }
   ],
   "source": [
    "plt.scatter(x = df_join['arr_delay'],\n",
    "            y = df_join['Fuel Consumption per pax/km'],\n",
    "            color='red')\n",
    "\n",
    "# create the layout \n",
    "plt.title = 'Fuel Consumption vs Delay by Carrier', \n",
    "plt.xaxis = dict(title = 'Average Total Monthly Delay'), \n",
    "plt.yaxis = dict(title = 'Fuel Consumption (gallons per pax/km)')\n",
    "\n",
    "plt.show()"
   ]
  }
 ],
 "metadata": {
  "kernelspec": {
   "display_name": "base",
   "language": "python",
   "name": "python3"
  },
  "language_info": {
   "codemirror_mode": {
    "name": "ipython",
    "version": 3
   },
   "file_extension": ".py",
   "mimetype": "text/x-python",
   "name": "python",
   "nbconvert_exporter": "python",
   "pygments_lexer": "ipython3",
   "version": "3.9.13"
  },
  "toc": {
   "base_numbering": 1,
   "nav_menu": {},
   "number_sections": true,
   "sideBar": true,
   "skip_h1_title": false,
   "title_cell": "Table of Contents",
   "title_sidebar": "Contents",
   "toc_cell": false,
   "toc_position": {},
   "toc_section_display": true,
   "toc_window_display": false
  },
  "varInspector": {
   "cols": {
    "lenName": 16,
    "lenType": 16,
    "lenVar": 40
   },
   "kernels_config": {
    "python": {
     "delete_cmd_postfix": "",
     "delete_cmd_prefix": "del ",
     "library": "var_list.py",
     "varRefreshCmd": "print(var_dic_list())"
    },
    "r": {
     "delete_cmd_postfix": ") ",
     "delete_cmd_prefix": "rm(",
     "library": "var_list.r",
     "varRefreshCmd": "cat(var_dic_list()) "
    }
   },
   "types_to_exclude": [
    "module",
    "function",
    "builtin_function_or_method",
    "instance",
    "_Feature"
   ],
   "window_display": false
  },
  "vscode": {
   "interpreter": {
    "hash": "57bc2b6ce032b5f0e93daa91901b7ea38a856826ef43aa9e95b6d3999f5310df"
   }
  }
 },
 "nbformat": 4,
 "nbformat_minor": 4
}
