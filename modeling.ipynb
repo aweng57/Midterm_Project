{
 "cells": [
  {
   "cell_type": "markdown",
   "metadata": {},
   "source": [
    "# Machine Learning\n",
    "\n",
    "In this file, instructions how to approach the challenge can be found."
   ]
  },
  {
   "cell_type": "markdown",
   "metadata": {},
   "source": [
    "We are going to work on different types of Machine Learning problems:\n",
    "\n",
    "- **Regression Problem**: The goal is to predict delay of flights.\n",
    "- **(Stretch) Multiclass Classification**: If the plane was delayed, we will predict what type of delay it is (will be).\n",
    "- **(Stretch) Binary Classification**: The goal is to predict if the flight will be cancelled."
   ]
  },
  {
   "cell_type": "code",
   "execution_count": null,
   "metadata": {},
   "outputs": [],
   "source": []
  },
  {
   "cell_type": "markdown",
   "metadata": {},
   "source": [
    "## Main Task: Regression Problem"
   ]
  },
  {
   "cell_type": "markdown",
   "metadata": {},
   "source": [
    "The target variable is **ARR_DELAY**. We need to be careful which columns to use and which don't. For example, DEP_DELAY is going to be the perfect predictor, but we can't use it because in real-life scenario, we want to predict the delay before the flight takes of --> We can use average delay from earlier days but not the one from the actual flight we predict.  \n",
    "\n",
    "For example, variables **CARRIER_DELAY, WEATHER_DELAY, NAS_DELAY, SECURITY_DELAY, LATE_AIRCRAFT_DELAY** shouldn't be used directly as predictors as well. However, we can create various transformations from earlier values.\n",
    "\n",
    "We will be evaluating your models by predicting the ARR_DELAY for all flights **1 week in advance**."
   ]
  },
  {
   "cell_type": "code",
   "execution_count": 130,
   "metadata": {},
   "outputs": [],
   "source": [
    "import numpy as np\n",
    "import pandas as pd\n",
    "import matplotlib.pyplot as plt\n",
    "import seaborn as sns\n",
    "import warnings\n",
    "import scipy\n",
    "from sklearn.linear_model import LinearRegression\n",
    "from sklearn.linear_model import ElasticNet\n",
    "from sklearn.ensemble import RandomForestRegressor\n",
    "from sklearn.ensemble import ExtraTreesRegressor\n",
    "from sklearn.ensemble import GradientBoostingRegressor\n",
    "from sklearn.svm import SVR\n",
    "from sklearn.preprocessing import OneHotEncoder\n",
    "from sklearn.model_selection import train_test_split\n",
    "from sklearn.preprocessing import MinMaxScaler\n",
    "from sklearn.metrics import mean_squared_error, mean_absolute_error, median_absolute_error,mean_absolute_percentage_error\n",
    "plt.style.use('dark_background')\n",
    "warnings.filterwarnings('ignore')\n",
    "colors = ['#306754','#151B54','#66CDAA','#033E3E', '#E2F516', '#EE9A4D']"
   ]
  },
  {
   "cell_type": "markdown",
   "metadata": {},
   "source": [
    "# Data Description\n",
    "\n",
    "### Table **flights**\n",
    "\n",
    "Variables:\n",
    "\n",
    "- **fl_date**: Flight Date (yyyy-mm-dd)\n",
    "- **mkt_unique_carrier**: Unique Marketing Carrier Code. When the same code has been used by multiple carriers, a numeric suffix is used for earlier users, for example, PA, PA(1), PA(2). Use this field for analysis across a range of years.\n",
    "- **branded_code_share**: Reporting Carrier Operated or Branded Code Share Partners\n",
    "- **mkt_carrier**: Code assigned by IATA and commonly used to identify a carrier. As the same code may have been assigned to different carriers over time, the code is not always unique. For analysis, use the Unique Carrier Code.\n",
    "- **mkt_carrier_fl_num**: Flight Number\n",
    "- **op_unique_carrier**: Unique Scheduled Operating Carrier Code. When the same code has been used by multiple carriers, a numeric suffix is used for earlier users,for example, PA, PA(1), PA(2). Use this field for analysis across a range of years.\n",
    "- **tail_num**: Tail Number\n",
    "- **op_carrier_fl_num**: Flight Number\n",
    "- **origin_airport_id**: Origin Airport, Airport ID. An identification number assigned by US DOT to identify a unique airport. Use this field for airport analysis across a range of years because an airport can change its airport code and airport codes can be reused.\n",
    "- **origin**: Origin Airport\n",
    "- **origin_city_name**: Origin Airport, City Name\n",
    "- **dest_airport_id**: Destination Airport, Airport ID. An identification number assigned by US DOT to identify a unique airport. Use this field for airport analysis across a range of years because an airport can change its airport code and airport codes can be reused.\n",
    "- **dest**: Destination Airport\n",
    "- **dest_city_name**: Destination Airport, City Name\n",
    "- **crs_dep_time**: CRS Departure Time (local time: hhmm)\n",
    "- **dep_time**: Actual Departure Time (local time: hhmm)\n",
    "- **dep_delay**: Difference in minutes between scheduled and actual departure time. Early departures show negative numbers.\t\n",
    "- **taxi_out**: Taxi Out Time, in Minutes\n",
    "- **wheels_off**: Wheels Off Time (local time: hhmm)\n",
    "- **wheels_on**: Wheels On Time (local time: hhmm)\n",
    "- **taxi_in**: \tTaxi In Time, in Minutes\n",
    "- **crs_arr_time**: CRS Arrival Time (local time: hhmm)\n",
    "- **arr_time**: Actual Arrival Time (local time: hhmm)\n",
    "- **arr_delay**: Difference in minutes between scheduled and actual arrival time. Early arrivals show negative numbers.\n",
    "- **cancelled**: Cancelled Flight Indicator (1=Yes)\n",
    "- **cancellation_code**: Specifies The Reason For Cancellation\n",
    "- **diverted**: Diverted Flight Indicator (1=Yes)\n",
    "- **dup**: Duplicate flag marked Y if the flight is swapped based on Form-3A data\n",
    "- **crs_elapsed_time**: CRS Elapsed Time of Flight, in Minutes\n",
    "- **actual_elapsed_time**: Elapsed Time of Flight, in Minutes\n",
    "- **air_time**: Flight Time, in Minutes\n",
    "- **flights**: Number of Flights\n",
    "- **distance**: Distance between airports (miles)\n",
    "- **carrier_delay**: Carrier Delay, in Minutes\n",
    "- **weather_delay**: Weather Delay, in Minutes\n",
    "- **nas_delay**: National Air System Delay, in Minutes\n",
    "- **security_delay**: Security Delay, in Minutes\n",
    "- **late_aircraft_delay**: Late Aircraft Delay, in Minutes\n",
    "- **first_dep_time**: First Gate Departure Time at Origin Airport\n",
    "- **total_add_gtime**: Total Ground Time Away from Gate for Gate Return or Cancelled Flight\n",
    "- **longest_add_gtime**: Longest Time Away from Gate for Gate Return or Cancelled Flight\n"
   ]
  },
  {
   "cell_type": "code",
   "execution_count": 131,
   "metadata": {},
   "outputs": [
    {
     "data": {
      "text/html": [
       "<div>\n",
       "<style scoped>\n",
       "    .dataframe tbody tr th:only-of-type {\n",
       "        vertical-align: middle;\n",
       "    }\n",
       "\n",
       "    .dataframe tbody tr th {\n",
       "        vertical-align: top;\n",
       "    }\n",
       "\n",
       "    .dataframe thead th {\n",
       "        text-align: right;\n",
       "    }\n",
       "</style>\n",
       "<table border=\"1\" class=\"dataframe\">\n",
       "  <thead>\n",
       "    <tr style=\"text-align: right;\">\n",
       "      <th></th>\n",
       "      <th>fl_date</th>\n",
       "      <th>mkt_unique_carrier</th>\n",
       "      <th>branded_code_share</th>\n",
       "      <th>mkt_carrier</th>\n",
       "      <th>mkt_carrier_fl_num</th>\n",
       "      <th>op_unique_carrier</th>\n",
       "      <th>tail_num</th>\n",
       "      <th>op_carrier_fl_num</th>\n",
       "      <th>origin_airport_id</th>\n",
       "      <th>origin</th>\n",
       "      <th>...</th>\n",
       "      <th>distance</th>\n",
       "      <th>carrier_delay</th>\n",
       "      <th>weather_delay</th>\n",
       "      <th>nas_delay</th>\n",
       "      <th>security_delay</th>\n",
       "      <th>late_aircraft_delay</th>\n",
       "      <th>first_dep_time</th>\n",
       "      <th>total_add_gtime</th>\n",
       "      <th>longest_add_gtime</th>\n",
       "      <th>no_name</th>\n",
       "    </tr>\n",
       "  </thead>\n",
       "  <tbody>\n",
       "    <tr>\n",
       "      <th>0</th>\n",
       "      <td>2018-12-16</td>\n",
       "      <td>HA</td>\n",
       "      <td>HA</td>\n",
       "      <td>HA</td>\n",
       "      <td>197</td>\n",
       "      <td>HA</td>\n",
       "      <td>N478HA</td>\n",
       "      <td>197</td>\n",
       "      <td>12758</td>\n",
       "      <td>KOA</td>\n",
       "      <td>...</td>\n",
       "      <td>163.0</td>\n",
       "      <td>NaN</td>\n",
       "      <td>NaN</td>\n",
       "      <td>NaN</td>\n",
       "      <td>NaN</td>\n",
       "      <td>NaN</td>\n",
       "      <td>NaN</td>\n",
       "      <td>NaN</td>\n",
       "      <td>NaN</td>\n",
       "      <td>NaN</td>\n",
       "    </tr>\n",
       "    <tr>\n",
       "      <th>1</th>\n",
       "      <td>2018-12-16</td>\n",
       "      <td>UA</td>\n",
       "      <td>UA_CODESHARE</td>\n",
       "      <td>UA</td>\n",
       "      <td>4119</td>\n",
       "      <td>EV</td>\n",
       "      <td>N14993</td>\n",
       "      <td>4119</td>\n",
       "      <td>11618</td>\n",
       "      <td>EWR</td>\n",
       "      <td>...</td>\n",
       "      <td>277.0</td>\n",
       "      <td>NaN</td>\n",
       "      <td>NaN</td>\n",
       "      <td>NaN</td>\n",
       "      <td>NaN</td>\n",
       "      <td>NaN</td>\n",
       "      <td>NaN</td>\n",
       "      <td>NaN</td>\n",
       "      <td>NaN</td>\n",
       "      <td>NaN</td>\n",
       "    </tr>\n",
       "    <tr>\n",
       "      <th>2</th>\n",
       "      <td>2018-12-16</td>\n",
       "      <td>UA</td>\n",
       "      <td>UA_CODESHARE</td>\n",
       "      <td>UA</td>\n",
       "      <td>4293</td>\n",
       "      <td>EV</td>\n",
       "      <td>N24103</td>\n",
       "      <td>4293</td>\n",
       "      <td>11267</td>\n",
       "      <td>DAY</td>\n",
       "      <td>...</td>\n",
       "      <td>533.0</td>\n",
       "      <td>NaN</td>\n",
       "      <td>NaN</td>\n",
       "      <td>NaN</td>\n",
       "      <td>NaN</td>\n",
       "      <td>NaN</td>\n",
       "      <td>NaN</td>\n",
       "      <td>NaN</td>\n",
       "      <td>NaN</td>\n",
       "      <td>NaN</td>\n",
       "    </tr>\n",
       "    <tr>\n",
       "      <th>3</th>\n",
       "      <td>2018-12-16</td>\n",
       "      <td>AA</td>\n",
       "      <td>AA_CODESHARE</td>\n",
       "      <td>AA</td>\n",
       "      <td>4667</td>\n",
       "      <td>YX</td>\n",
       "      <td>N407YX</td>\n",
       "      <td>4667</td>\n",
       "      <td>11278</td>\n",
       "      <td>DCA</td>\n",
       "      <td>...</td>\n",
       "      <td>227.0</td>\n",
       "      <td>NaN</td>\n",
       "      <td>NaN</td>\n",
       "      <td>NaN</td>\n",
       "      <td>NaN</td>\n",
       "      <td>NaN</td>\n",
       "      <td>NaN</td>\n",
       "      <td>NaN</td>\n",
       "      <td>NaN</td>\n",
       "      <td>NaN</td>\n",
       "    </tr>\n",
       "    <tr>\n",
       "      <th>4</th>\n",
       "      <td>2018-12-16</td>\n",
       "      <td>NK</td>\n",
       "      <td>NK</td>\n",
       "      <td>NK</td>\n",
       "      <td>428</td>\n",
       "      <td>NK</td>\n",
       "      <td>N637NK</td>\n",
       "      <td>428</td>\n",
       "      <td>15304</td>\n",
       "      <td>TPA</td>\n",
       "      <td>...</td>\n",
       "      <td>1306.0</td>\n",
       "      <td>3.0</td>\n",
       "      <td>0.0</td>\n",
       "      <td>1.0</td>\n",
       "      <td>0.0</td>\n",
       "      <td>37.0</td>\n",
       "      <td>NaN</td>\n",
       "      <td>NaN</td>\n",
       "      <td>NaN</td>\n",
       "      <td>NaN</td>\n",
       "    </tr>\n",
       "  </tbody>\n",
       "</table>\n",
       "<p>5 rows × 42 columns</p>\n",
       "</div>"
      ],
      "text/plain": [
       "      fl_date mkt_unique_carrier branded_code_share mkt_carrier  \\\n",
       "0  2018-12-16                 HA                 HA          HA   \n",
       "1  2018-12-16                 UA       UA_CODESHARE          UA   \n",
       "2  2018-12-16                 UA       UA_CODESHARE          UA   \n",
       "3  2018-12-16                 AA       AA_CODESHARE          AA   \n",
       "4  2018-12-16                 NK                 NK          NK   \n",
       "\n",
       "   mkt_carrier_fl_num op_unique_carrier tail_num  op_carrier_fl_num  \\\n",
       "0                 197                HA   N478HA                197   \n",
       "1                4119                EV   N14993               4119   \n",
       "2                4293                EV   N24103               4293   \n",
       "3                4667                YX   N407YX               4667   \n",
       "4                 428                NK   N637NK                428   \n",
       "\n",
       "   origin_airport_id origin  ... distance  carrier_delay weather_delay  \\\n",
       "0              12758    KOA  ...    163.0            NaN           NaN   \n",
       "1              11618    EWR  ...    277.0            NaN           NaN   \n",
       "2              11267    DAY  ...    533.0            NaN           NaN   \n",
       "3              11278    DCA  ...    227.0            NaN           NaN   \n",
       "4              15304    TPA  ...   1306.0            3.0           0.0   \n",
       "\n",
       "  nas_delay  security_delay  late_aircraft_delay  first_dep_time  \\\n",
       "0       NaN             NaN                  NaN             NaN   \n",
       "1       NaN             NaN                  NaN             NaN   \n",
       "2       NaN             NaN                  NaN             NaN   \n",
       "3       NaN             NaN                  NaN             NaN   \n",
       "4       1.0             0.0                 37.0             NaN   \n",
       "\n",
       "   total_add_gtime  longest_add_gtime  no_name  \n",
       "0              NaN                NaN      NaN  \n",
       "1              NaN                NaN      NaN  \n",
       "2              NaN                NaN      NaN  \n",
       "3              NaN                NaN      NaN  \n",
       "4              NaN                NaN      NaN  \n",
       "\n",
       "[5 rows x 42 columns]"
      ]
     },
     "execution_count": 131,
     "metadata": {},
     "output_type": "execute_result"
    }
   ],
   "source": [
    "flights = pd.read_csv(r'Data\\flights-2018-12-16 to 2019-01-15.csv')\n",
    "flights_test_0 = pd.read_csv(r'Data\\flights_test.csv')\n",
    "flights.head()"
   ]
  },
  {
   "cell_type": "code",
   "execution_count": 132,
   "metadata": {},
   "outputs": [
    {
     "data": {
      "text/html": [
       "<div>\n",
       "<style scoped>\n",
       "    .dataframe tbody tr th:only-of-type {\n",
       "        vertical-align: middle;\n",
       "    }\n",
       "\n",
       "    .dataframe tbody tr th {\n",
       "        vertical-align: top;\n",
       "    }\n",
       "\n",
       "    .dataframe thead th {\n",
       "        text-align: right;\n",
       "    }\n",
       "</style>\n",
       "<table border=\"1\" class=\"dataframe\">\n",
       "  <thead>\n",
       "    <tr style=\"text-align: right;\">\n",
       "      <th></th>\n",
       "      <th>mkt_carrier_fl_num</th>\n",
       "      <th>op_carrier_fl_num</th>\n",
       "      <th>origin_airport_id</th>\n",
       "      <th>dest_airport_id</th>\n",
       "      <th>crs_dep_time</th>\n",
       "      <th>dep_time</th>\n",
       "      <th>dep_delay</th>\n",
       "      <th>taxi_out</th>\n",
       "      <th>wheels_off</th>\n",
       "      <th>wheels_on</th>\n",
       "      <th>...</th>\n",
       "      <th>distance</th>\n",
       "      <th>carrier_delay</th>\n",
       "      <th>weather_delay</th>\n",
       "      <th>nas_delay</th>\n",
       "      <th>security_delay</th>\n",
       "      <th>late_aircraft_delay</th>\n",
       "      <th>first_dep_time</th>\n",
       "      <th>total_add_gtime</th>\n",
       "      <th>longest_add_gtime</th>\n",
       "      <th>no_name</th>\n",
       "    </tr>\n",
       "  </thead>\n",
       "  <tbody>\n",
       "    <tr>\n",
       "      <th>count</th>\n",
       "      <td>651320.000000</td>\n",
       "      <td>651320.000000</td>\n",
       "      <td>651320.000000</td>\n",
       "      <td>651320.000000</td>\n",
       "      <td>651320.000000</td>\n",
       "      <td>644096.000000</td>\n",
       "      <td>644096.000000</td>\n",
       "      <td>643896.000000</td>\n",
       "      <td>643896.000000</td>\n",
       "      <td>643354.000000</td>\n",
       "      <td>...</td>\n",
       "      <td>651320.000000</td>\n",
       "      <td>122308.000000</td>\n",
       "      <td>122308.000000</td>\n",
       "      <td>122308.000000</td>\n",
       "      <td>122308.000000</td>\n",
       "      <td>122308.000000</td>\n",
       "      <td>3999.000000</td>\n",
       "      <td>3998.000000</td>\n",
       "      <td>3999.000000</td>\n",
       "      <td>0.0</td>\n",
       "    </tr>\n",
       "    <tr>\n",
       "      <th>mean</th>\n",
       "      <td>2828.827845</td>\n",
       "      <td>2828.908518</td>\n",
       "      <td>12698.272611</td>\n",
       "      <td>12698.134593</td>\n",
       "      <td>1329.079941</td>\n",
       "      <td>1334.536091</td>\n",
       "      <td>9.673237</td>\n",
       "      <td>17.885666</td>\n",
       "      <td>1359.530258</td>\n",
       "      <td>1467.508154</td>\n",
       "      <td>...</td>\n",
       "      <td>783.001293</td>\n",
       "      <td>19.622298</td>\n",
       "      <td>3.157937</td>\n",
       "      <td>14.099969</td>\n",
       "      <td>0.116084</td>\n",
       "      <td>25.576716</td>\n",
       "      <td>1277.210803</td>\n",
       "      <td>34.469735</td>\n",
       "      <td>34.004751</td>\n",
       "      <td>NaN</td>\n",
       "    </tr>\n",
       "    <tr>\n",
       "      <th>std</th>\n",
       "      <td>1898.611558</td>\n",
       "      <td>1898.924357</td>\n",
       "      <td>1520.554669</td>\n",
       "      <td>1520.524783</td>\n",
       "      <td>488.509293</td>\n",
       "      <td>499.879539</td>\n",
       "      <td>44.792566</td>\n",
       "      <td>10.025506</td>\n",
       "      <td>500.563985</td>\n",
       "      <td>527.263511</td>\n",
       "      <td>...</td>\n",
       "      <td>591.098106</td>\n",
       "      <td>59.841262</td>\n",
       "      <td>31.584947</td>\n",
       "      <td>30.816364</td>\n",
       "      <td>3.309086</td>\n",
       "      <td>50.395535</td>\n",
       "      <td>514.398565</td>\n",
       "      <td>28.459443</td>\n",
       "      <td>27.333254</td>\n",
       "      <td>NaN</td>\n",
       "    </tr>\n",
       "    <tr>\n",
       "      <th>min</th>\n",
       "      <td>1.000000</td>\n",
       "      <td>1.000000</td>\n",
       "      <td>10135.000000</td>\n",
       "      <td>10135.000000</td>\n",
       "      <td>1.000000</td>\n",
       "      <td>1.000000</td>\n",
       "      <td>-60.000000</td>\n",
       "      <td>0.000000</td>\n",
       "      <td>1.000000</td>\n",
       "      <td>1.000000</td>\n",
       "      <td>...</td>\n",
       "      <td>31.000000</td>\n",
       "      <td>0.000000</td>\n",
       "      <td>0.000000</td>\n",
       "      <td>0.000000</td>\n",
       "      <td>0.000000</td>\n",
       "      <td>0.000000</td>\n",
       "      <td>4.000000</td>\n",
       "      <td>1.000000</td>\n",
       "      <td>1.000000</td>\n",
       "      <td>NaN</td>\n",
       "    </tr>\n",
       "    <tr>\n",
       "      <th>25%</th>\n",
       "      <td>1171.000000</td>\n",
       "      <td>1171.000000</td>\n",
       "      <td>11292.000000</td>\n",
       "      <td>11292.000000</td>\n",
       "      <td>920.000000</td>\n",
       "      <td>922.000000</td>\n",
       "      <td>-6.000000</td>\n",
       "      <td>12.000000</td>\n",
       "      <td>938.000000</td>\n",
       "      <td>1051.000000</td>\n",
       "      <td>...</td>\n",
       "      <td>347.000000</td>\n",
       "      <td>0.000000</td>\n",
       "      <td>0.000000</td>\n",
       "      <td>0.000000</td>\n",
       "      <td>0.000000</td>\n",
       "      <td>0.000000</td>\n",
       "      <td>820.000000</td>\n",
       "      <td>16.000000</td>\n",
       "      <td>16.000000</td>\n",
       "      <td>NaN</td>\n",
       "    </tr>\n",
       "    <tr>\n",
       "      <th>50%</th>\n",
       "      <td>2411.000000</td>\n",
       "      <td>2411.000000</td>\n",
       "      <td>12889.000000</td>\n",
       "      <td>12889.000000</td>\n",
       "      <td>1322.000000</td>\n",
       "      <td>1329.000000</td>\n",
       "      <td>-2.000000</td>\n",
       "      <td>15.000000</td>\n",
       "      <td>1343.000000</td>\n",
       "      <td>1506.000000</td>\n",
       "      <td>...</td>\n",
       "      <td>621.000000</td>\n",
       "      <td>1.000000</td>\n",
       "      <td>0.000000</td>\n",
       "      <td>3.000000</td>\n",
       "      <td>0.000000</td>\n",
       "      <td>4.000000</td>\n",
       "      <td>1233.000000</td>\n",
       "      <td>27.000000</td>\n",
       "      <td>27.000000</td>\n",
       "      <td>NaN</td>\n",
       "    </tr>\n",
       "    <tr>\n",
       "      <th>75%</th>\n",
       "      <td>4471.000000</td>\n",
       "      <td>4472.000000</td>\n",
       "      <td>14057.000000</td>\n",
       "      <td>14057.000000</td>\n",
       "      <td>1734.000000</td>\n",
       "      <td>1741.000000</td>\n",
       "      <td>7.000000</td>\n",
       "      <td>21.000000</td>\n",
       "      <td>1756.000000</td>\n",
       "      <td>1910.000000</td>\n",
       "      <td>...</td>\n",
       "      <td>1021.000000</td>\n",
       "      <td>17.000000</td>\n",
       "      <td>0.000000</td>\n",
       "      <td>18.000000</td>\n",
       "      <td>0.000000</td>\n",
       "      <td>31.000000</td>\n",
       "      <td>1721.500000</td>\n",
       "      <td>43.000000</td>\n",
       "      <td>43.000000</td>\n",
       "      <td>NaN</td>\n",
       "    </tr>\n",
       "    <tr>\n",
       "      <th>max</th>\n",
       "      <td>9401.000000</td>\n",
       "      <td>9401.000000</td>\n",
       "      <td>16218.000000</td>\n",
       "      <td>16218.000000</td>\n",
       "      <td>2359.000000</td>\n",
       "      <td>2400.000000</td>\n",
       "      <td>1789.000000</td>\n",
       "      <td>181.000000</td>\n",
       "      <td>2400.000000</td>\n",
       "      <td>2400.000000</td>\n",
       "      <td>...</td>\n",
       "      <td>4983.000000</td>\n",
       "      <td>1767.000000</td>\n",
       "      <td>1390.000000</td>\n",
       "      <td>1447.000000</td>\n",
       "      <td>816.000000</td>\n",
       "      <td>1437.000000</td>\n",
       "      <td>2358.000000</td>\n",
       "      <td>297.000000</td>\n",
       "      <td>190.000000</td>\n",
       "      <td>NaN</td>\n",
       "    </tr>\n",
       "  </tbody>\n",
       "</table>\n",
       "<p>8 rows × 30 columns</p>\n",
       "</div>"
      ],
      "text/plain": [
       "       mkt_carrier_fl_num  op_carrier_fl_num  origin_airport_id  \\\n",
       "count       651320.000000      651320.000000      651320.000000   \n",
       "mean          2828.827845        2828.908518       12698.272611   \n",
       "std           1898.611558        1898.924357        1520.554669   \n",
       "min              1.000000           1.000000       10135.000000   \n",
       "25%           1171.000000        1171.000000       11292.000000   \n",
       "50%           2411.000000        2411.000000       12889.000000   \n",
       "75%           4471.000000        4472.000000       14057.000000   \n",
       "max           9401.000000        9401.000000       16218.000000   \n",
       "\n",
       "       dest_airport_id   crs_dep_time       dep_time      dep_delay  \\\n",
       "count    651320.000000  651320.000000  644096.000000  644096.000000   \n",
       "mean      12698.134593    1329.079941    1334.536091       9.673237   \n",
       "std        1520.524783     488.509293     499.879539      44.792566   \n",
       "min       10135.000000       1.000000       1.000000     -60.000000   \n",
       "25%       11292.000000     920.000000     922.000000      -6.000000   \n",
       "50%       12889.000000    1322.000000    1329.000000      -2.000000   \n",
       "75%       14057.000000    1734.000000    1741.000000       7.000000   \n",
       "max       16218.000000    2359.000000    2400.000000    1789.000000   \n",
       "\n",
       "            taxi_out     wheels_off      wheels_on  ...       distance  \\\n",
       "count  643896.000000  643896.000000  643354.000000  ...  651320.000000   \n",
       "mean       17.885666    1359.530258    1467.508154  ...     783.001293   \n",
       "std        10.025506     500.563985     527.263511  ...     591.098106   \n",
       "min         0.000000       1.000000       1.000000  ...      31.000000   \n",
       "25%        12.000000     938.000000    1051.000000  ...     347.000000   \n",
       "50%        15.000000    1343.000000    1506.000000  ...     621.000000   \n",
       "75%        21.000000    1756.000000    1910.000000  ...    1021.000000   \n",
       "max       181.000000    2400.000000    2400.000000  ...    4983.000000   \n",
       "\n",
       "       carrier_delay  weather_delay      nas_delay  security_delay  \\\n",
       "count  122308.000000  122308.000000  122308.000000   122308.000000   \n",
       "mean       19.622298       3.157937      14.099969        0.116084   \n",
       "std        59.841262      31.584947      30.816364        3.309086   \n",
       "min         0.000000       0.000000       0.000000        0.000000   \n",
       "25%         0.000000       0.000000       0.000000        0.000000   \n",
       "50%         1.000000       0.000000       3.000000        0.000000   \n",
       "75%        17.000000       0.000000      18.000000        0.000000   \n",
       "max      1767.000000    1390.000000    1447.000000      816.000000   \n",
       "\n",
       "       late_aircraft_delay  first_dep_time  total_add_gtime  \\\n",
       "count        122308.000000     3999.000000      3998.000000   \n",
       "mean             25.576716     1277.210803        34.469735   \n",
       "std              50.395535      514.398565        28.459443   \n",
       "min               0.000000        4.000000         1.000000   \n",
       "25%               0.000000      820.000000        16.000000   \n",
       "50%               4.000000     1233.000000        27.000000   \n",
       "75%              31.000000     1721.500000        43.000000   \n",
       "max            1437.000000     2358.000000       297.000000   \n",
       "\n",
       "       longest_add_gtime  no_name  \n",
       "count        3999.000000      0.0  \n",
       "mean           34.004751      NaN  \n",
       "std            27.333254      NaN  \n",
       "min             1.000000      NaN  \n",
       "25%            16.000000      NaN  \n",
       "50%            27.000000      NaN  \n",
       "75%            43.000000      NaN  \n",
       "max           190.000000      NaN  \n",
       "\n",
       "[8 rows x 30 columns]"
      ]
     },
     "execution_count": 132,
     "metadata": {},
     "output_type": "execute_result"
    }
   ],
   "source": [
    "flights.describe()"
   ]
  },
  {
   "cell_type": "code",
   "execution_count": 133,
   "metadata": {},
   "outputs": [
    {
     "name": "stdout",
     "output_type": "stream",
     "text": [
      "<class 'pandas.core.frame.DataFrame'>\n",
      "RangeIndex: 651320 entries, 0 to 651319\n",
      "Data columns (total 42 columns):\n",
      " #   Column               Non-Null Count   Dtype  \n",
      "---  ------               --------------   -----  \n",
      " 0   fl_date              651320 non-null  object \n",
      " 1   mkt_unique_carrier   651320 non-null  object \n",
      " 2   branded_code_share   651320 non-null  object \n",
      " 3   mkt_carrier          651320 non-null  object \n",
      " 4   mkt_carrier_fl_num   651320 non-null  int64  \n",
      " 5   op_unique_carrier    651320 non-null  object \n",
      " 6   tail_num             650458 non-null  object \n",
      " 7   op_carrier_fl_num    651320 non-null  int64  \n",
      " 8   origin_airport_id    651320 non-null  int64  \n",
      " 9   origin               651320 non-null  object \n",
      " 10  origin_city_name     651320 non-null  object \n",
      " 11  dest_airport_id      651320 non-null  int64  \n",
      " 12  dest                 651320 non-null  object \n",
      " 13  dest_city_name       651320 non-null  object \n",
      " 14  crs_dep_time         651320 non-null  int64  \n",
      " 15  dep_time             644096 non-null  float64\n",
      " 16  dep_delay            644096 non-null  float64\n",
      " 17  taxi_out             643896 non-null  float64\n",
      " 18  wheels_off           643896 non-null  float64\n",
      " 19  wheels_on            643354 non-null  float64\n",
      " 20  taxi_in              643354 non-null  float64\n",
      " 21  crs_arr_time         651320 non-null  int64  \n",
      " 22  arr_time             643354 non-null  float64\n",
      " 23  arr_delay            642152 non-null  float64\n",
      " 24  cancelled            651320 non-null  float64\n",
      " 25  cancellation_code    7556 non-null    object \n",
      " 26  diverted             651320 non-null  float64\n",
      " 27  dup                  651320 non-null  object \n",
      " 28  crs_elapsed_time     651320 non-null  float64\n",
      " 29  actual_elapsed_time  642152 non-null  float64\n",
      " 30  air_time             642152 non-null  float64\n",
      " 31  flights              651320 non-null  float64\n",
      " 32  distance             651320 non-null  float64\n",
      " 33  carrier_delay        122308 non-null  float64\n",
      " 34  weather_delay        122308 non-null  float64\n",
      " 35  nas_delay            122308 non-null  float64\n",
      " 36  security_delay       122308 non-null  float64\n",
      " 37  late_aircraft_delay  122308 non-null  float64\n",
      " 38  first_dep_time       3999 non-null    float64\n",
      " 39  total_add_gtime      3998 non-null    float64\n",
      " 40  longest_add_gtime    3999 non-null    float64\n",
      " 41  no_name              0 non-null       float64\n",
      "dtypes: float64(24), int64(6), object(12)\n",
      "memory usage: 208.7+ MB\n"
     ]
    }
   ],
   "source": [
    "flights.info()"
   ]
  },
  {
   "cell_type": "code",
   "execution_count": 134,
   "metadata": {},
   "outputs": [
    {
     "data": {
      "text/plain": [
       "0.0    643764\n",
       "1.0      7556\n",
       "Name: cancelled, dtype: int64"
      ]
     },
     "execution_count": 134,
     "metadata": {},
     "output_type": "execute_result"
    }
   ],
   "source": [
    "flights['cancelled'].value_counts()"
   ]
  },
  {
   "cell_type": "markdown",
   "metadata": {},
   "source": [
    "#### For modeling we only Keep the flights_tests fields and 7 fields related to delay types for for possible future predictions:\n",
    "**(carrier_delay, weather_delay, nas_delay, security_delay, late_aircraft_delay, first_dep_time, dep_delay, cancelled)**"
   ]
  },
  {
   "cell_type": "code",
   "execution_count": 135,
   "metadata": {},
   "outputs": [
    {
     "data": {
      "text/plain": [
       "Index(['fl_date', 'mkt_unique_carrier', 'branded_code_share', 'mkt_carrier',\n",
       "       'mkt_carrier_fl_num', 'op_unique_carrier', 'tail_num',\n",
       "       'op_carrier_fl_num', 'origin_airport_id', 'origin', 'origin_city_name',\n",
       "       'dest_airport_id', 'dest', 'dest_city_name', 'crs_dep_time', 'dep_time',\n",
       "       'dep_delay', 'taxi_out', 'wheels_off', 'wheels_on', 'taxi_in',\n",
       "       'crs_arr_time', 'arr_time', 'arr_delay', 'cancelled',\n",
       "       'cancellation_code', 'diverted', 'dup', 'crs_elapsed_time',\n",
       "       'actual_elapsed_time', 'air_time', 'flights', 'distance',\n",
       "       'carrier_delay', 'weather_delay', 'nas_delay', 'security_delay',\n",
       "       'late_aircraft_delay', 'first_dep_time', 'total_add_gtime',\n",
       "       'longest_add_gtime', 'no_name'],\n",
       "      dtype='object')"
      ]
     },
     "execution_count": 135,
     "metadata": {},
     "output_type": "execute_result"
    }
   ],
   "source": [
    "flights.columns"
   ]
  },
  {
   "cell_type": "code",
   "execution_count": 136,
   "metadata": {},
   "outputs": [
    {
     "data": {
      "text/html": [
       "<div>\n",
       "<style scoped>\n",
       "    .dataframe tbody tr th:only-of-type {\n",
       "        vertical-align: middle;\n",
       "    }\n",
       "\n",
       "    .dataframe tbody tr th {\n",
       "        vertical-align: top;\n",
       "    }\n",
       "\n",
       "    .dataframe thead th {\n",
       "        text-align: right;\n",
       "    }\n",
       "</style>\n",
       "<table border=\"1\" class=\"dataframe\">\n",
       "  <thead>\n",
       "    <tr style=\"text-align: right;\">\n",
       "      <th></th>\n",
       "      <th>fl_date</th>\n",
       "      <th>mkt_unique_carrier</th>\n",
       "      <th>branded_code_share</th>\n",
       "      <th>mkt_carrier</th>\n",
       "      <th>mkt_carrier_fl_num</th>\n",
       "      <th>op_unique_carrier</th>\n",
       "      <th>tail_num</th>\n",
       "      <th>op_carrier_fl_num</th>\n",
       "      <th>origin_airport_id</th>\n",
       "      <th>origin</th>\n",
       "      <th>origin_city_name</th>\n",
       "      <th>dest_airport_id</th>\n",
       "      <th>dest</th>\n",
       "      <th>dest_city_name</th>\n",
       "      <th>crs_dep_time</th>\n",
       "      <th>crs_arr_time</th>\n",
       "      <th>dup</th>\n",
       "      <th>crs_elapsed_time</th>\n",
       "      <th>flights</th>\n",
       "      <th>distance</th>\n",
       "    </tr>\n",
       "  </thead>\n",
       "  <tbody>\n",
       "    <tr>\n",
       "      <th>0</th>\n",
       "      <td>2020-01-01</td>\n",
       "      <td>WN</td>\n",
       "      <td>WN</td>\n",
       "      <td>WN</td>\n",
       "      <td>5888</td>\n",
       "      <td>WN</td>\n",
       "      <td>N951WN</td>\n",
       "      <td>5888</td>\n",
       "      <td>13891</td>\n",
       "      <td>ONT</td>\n",
       "      <td>Ontario, CA</td>\n",
       "      <td>14771</td>\n",
       "      <td>SFO</td>\n",
       "      <td>San Francisco, CA</td>\n",
       "      <td>1810</td>\n",
       "      <td>1945</td>\n",
       "      <td>N</td>\n",
       "      <td>95</td>\n",
       "      <td>1</td>\n",
       "      <td>363</td>\n",
       "    </tr>\n",
       "    <tr>\n",
       "      <th>1</th>\n",
       "      <td>2020-01-01</td>\n",
       "      <td>WN</td>\n",
       "      <td>WN</td>\n",
       "      <td>WN</td>\n",
       "      <td>6276</td>\n",
       "      <td>WN</td>\n",
       "      <td>N467WN</td>\n",
       "      <td>6276</td>\n",
       "      <td>13891</td>\n",
       "      <td>ONT</td>\n",
       "      <td>Ontario, CA</td>\n",
       "      <td>14771</td>\n",
       "      <td>SFO</td>\n",
       "      <td>San Francisco, CA</td>\n",
       "      <td>1150</td>\n",
       "      <td>1320</td>\n",
       "      <td>N</td>\n",
       "      <td>90</td>\n",
       "      <td>1</td>\n",
       "      <td>363</td>\n",
       "    </tr>\n",
       "    <tr>\n",
       "      <th>2</th>\n",
       "      <td>2020-01-01</td>\n",
       "      <td>WN</td>\n",
       "      <td>WN</td>\n",
       "      <td>WN</td>\n",
       "      <td>4598</td>\n",
       "      <td>WN</td>\n",
       "      <td>N7885A</td>\n",
       "      <td>4598</td>\n",
       "      <td>13891</td>\n",
       "      <td>ONT</td>\n",
       "      <td>Ontario, CA</td>\n",
       "      <td>14831</td>\n",
       "      <td>SJC</td>\n",
       "      <td>San Jose, CA</td>\n",
       "      <td>2020</td>\n",
       "      <td>2130</td>\n",
       "      <td>N</td>\n",
       "      <td>70</td>\n",
       "      <td>1</td>\n",
       "      <td>333</td>\n",
       "    </tr>\n",
       "    <tr>\n",
       "      <th>3</th>\n",
       "      <td>2020-01-01</td>\n",
       "      <td>WN</td>\n",
       "      <td>WN</td>\n",
       "      <td>WN</td>\n",
       "      <td>4761</td>\n",
       "      <td>WN</td>\n",
       "      <td>N551WN</td>\n",
       "      <td>4761</td>\n",
       "      <td>13891</td>\n",
       "      <td>ONT</td>\n",
       "      <td>Ontario, CA</td>\n",
       "      <td>14831</td>\n",
       "      <td>SJC</td>\n",
       "      <td>San Jose, CA</td>\n",
       "      <td>1340</td>\n",
       "      <td>1455</td>\n",
       "      <td>N</td>\n",
       "      <td>75</td>\n",
       "      <td>1</td>\n",
       "      <td>333</td>\n",
       "    </tr>\n",
       "    <tr>\n",
       "      <th>4</th>\n",
       "      <td>2020-01-01</td>\n",
       "      <td>WN</td>\n",
       "      <td>WN</td>\n",
       "      <td>WN</td>\n",
       "      <td>5162</td>\n",
       "      <td>WN</td>\n",
       "      <td>N968WN</td>\n",
       "      <td>5162</td>\n",
       "      <td>13891</td>\n",
       "      <td>ONT</td>\n",
       "      <td>Ontario, CA</td>\n",
       "      <td>14831</td>\n",
       "      <td>SJC</td>\n",
       "      <td>San Jose, CA</td>\n",
       "      <td>915</td>\n",
       "      <td>1035</td>\n",
       "      <td>N</td>\n",
       "      <td>80</td>\n",
       "      <td>1</td>\n",
       "      <td>333</td>\n",
       "    </tr>\n",
       "  </tbody>\n",
       "</table>\n",
       "</div>"
      ],
      "text/plain": [
       "      fl_date mkt_unique_carrier branded_code_share mkt_carrier  \\\n",
       "0  2020-01-01                 WN                 WN          WN   \n",
       "1  2020-01-01                 WN                 WN          WN   \n",
       "2  2020-01-01                 WN                 WN          WN   \n",
       "3  2020-01-01                 WN                 WN          WN   \n",
       "4  2020-01-01                 WN                 WN          WN   \n",
       "\n",
       "   mkt_carrier_fl_num op_unique_carrier tail_num  op_carrier_fl_num  \\\n",
       "0                5888                WN   N951WN               5888   \n",
       "1                6276                WN   N467WN               6276   \n",
       "2                4598                WN   N7885A               4598   \n",
       "3                4761                WN   N551WN               4761   \n",
       "4                5162                WN   N968WN               5162   \n",
       "\n",
       "   origin_airport_id origin origin_city_name  dest_airport_id dest  \\\n",
       "0              13891    ONT      Ontario, CA            14771  SFO   \n",
       "1              13891    ONT      Ontario, CA            14771  SFO   \n",
       "2              13891    ONT      Ontario, CA            14831  SJC   \n",
       "3              13891    ONT      Ontario, CA            14831  SJC   \n",
       "4              13891    ONT      Ontario, CA            14831  SJC   \n",
       "\n",
       "      dest_city_name  crs_dep_time  crs_arr_time dup  crs_elapsed_time  \\\n",
       "0  San Francisco, CA          1810          1945   N                95   \n",
       "1  San Francisco, CA          1150          1320   N                90   \n",
       "2       San Jose, CA          2020          2130   N                70   \n",
       "3       San Jose, CA          1340          1455   N                75   \n",
       "4       San Jose, CA           915          1035   N                80   \n",
       "\n",
       "   flights  distance  \n",
       "0        1       363  \n",
       "1        1       363  \n",
       "2        1       333  \n",
       "3        1       333  \n",
       "4        1       333  "
      ]
     },
     "execution_count": 136,
     "metadata": {},
     "output_type": "execute_result"
    }
   ],
   "source": [
    "flights_train_1 = flights.drop(['dep_time', 'taxi_out', 'wheels_off', 'wheels_on', 'taxi_in', 'arr_time', 'cancellation_code', 'diverted', 'actual_elapsed_time', 'air_time', 'first_dep_time', 'total_add_gtime', 'longest_add_gtime', 'no_name'], axis=1)\n",
    "flights_test_1= flights_test_0.copy()\n",
    "\n",
    "#flights_train_1.head()\n",
    "flights_test_1.head()\n",
    "\n",
    "\n"
   ]
  },
  {
   "cell_type": "markdown",
   "metadata": {},
   "source": [
    "#### We can create a categorical field including  all types of delays, but at this project because our target is arr_delay we only keep this field."
   ]
  },
  {
   "cell_type": "code",
   "execution_count": 137,
   "metadata": {
    "scrolled": true
   },
   "outputs": [
    {
     "data": {
      "text/plain": [
       "(651320, 21)"
      ]
     },
     "execution_count": 137,
     "metadata": {},
     "output_type": "execute_result"
    }
   ],
   "source": [
    "flights_train = flights_train_1.drop(['carrier_delay', 'weather_delay', 'nas_delay', 'security_delay', 'late_aircraft_delay', 'dep_delay', 'cancelled'], axis=1)\n",
    "flights_train.head()\n",
    "flights_train.shape"
   ]
  },
  {
   "cell_type": "markdown",
   "metadata": {},
   "source": [
    "### checking correlation between target and independent features"
   ]
  },
  {
   "cell_type": "code",
   "execution_count": 138,
   "metadata": {},
   "outputs": [
    {
     "data": {
      "text/plain": [
       "crs_elapsed_time     -0.039159\n",
       "distance             -0.027106\n",
       "dest_airport_id       0.006583\n",
       "origin_airport_id     0.015834\n",
       "op_carrier_fl_num     0.052669\n",
       "mkt_carrier_fl_num    0.052685\n",
       "crs_arr_time          0.061357\n",
       "crs_dep_time          0.078347\n",
       "arr_delay             1.000000\n",
       "flights                    NaN\n",
       "Name: arr_delay, dtype: float64"
      ]
     },
     "execution_count": 138,
     "metadata": {},
     "output_type": "execute_result"
    }
   ],
   "source": [
    "flights_train.corr()['arr_delay'].sort_values()\n",
    "\n"
   ]
  },
  {
   "cell_type": "code",
   "execution_count": 139,
   "metadata": {},
   "outputs": [
    {
     "data": {
      "image/png": "[encoded data removed]",
      "text/plain": [
       "<Figure size 640x480 with 2 Axes>"
      ]
     },
     "metadata": {},
     "output_type": "display_data"
    }
   ],
   "source": [
    "corr=flights_train.corr()\n",
    "sns.heatmap(corr)\n",
    "plt.show()"
   ]
  },
  {
   "cell_type": "markdown",
   "metadata": {},
   "source": [
    "### Missing value detection and handling"
   ]
  },
  {
   "cell_type": "code",
   "execution_count": 140,
   "metadata": {},
   "outputs": [
    {
     "data": {
      "text/plain": [
       "fl_date                  0\n",
       "mkt_unique_carrier       0\n",
       "branded_code_share       0\n",
       "mkt_carrier              0\n",
       "mkt_carrier_fl_num       0\n",
       "op_unique_carrier        0\n",
       "tail_num               862\n",
       "op_carrier_fl_num        0\n",
       "origin_airport_id        0\n",
       "origin                   0\n",
       "origin_city_name         0\n",
       "dest_airport_id          0\n",
       "dest                     0\n",
       "dest_city_name           0\n",
       "crs_dep_time             0\n",
       "crs_arr_time             0\n",
       "arr_delay             9168\n",
       "dup                      0\n",
       "crs_elapsed_time         0\n",
       "flights                  0\n",
       "distance                 0\n",
       "dtype: int64"
      ]
     },
     "execution_count": 140,
     "metadata": {},
     "output_type": "execute_result"
    }
   ],
   "source": [
    "missing=flights_train.isnull().sum()\n",
    "missing"
   ]
  },
  {
   "cell_type": "code",
   "execution_count": 141,
   "metadata": {},
   "outputs": [
    {
     "data": {
      "text/html": [
       "<div>\n",
       "<style scoped>\n",
       "    .dataframe tbody tr th:only-of-type {\n",
       "        vertical-align: middle;\n",
       "    }\n",
       "\n",
       "    .dataframe tbody tr th {\n",
       "        vertical-align: top;\n",
       "    }\n",
       "\n",
       "    .dataframe thead th {\n",
       "        text-align: right;\n",
       "    }\n",
       "</style>\n",
       "<table border=\"1\" class=\"dataframe\">\n",
       "  <thead>\n",
       "    <tr style=\"text-align: right;\">\n",
       "      <th></th>\n",
       "      <th>missing_percent</th>\n",
       "    </tr>\n",
       "  </thead>\n",
       "  <tbody>\n",
       "    <tr>\n",
       "      <th>arr_delay</th>\n",
       "      <td>0.014076</td>\n",
       "    </tr>\n",
       "    <tr>\n",
       "      <th>tail_num</th>\n",
       "      <td>0.001323</td>\n",
       "    </tr>\n",
       "  </tbody>\n",
       "</table>\n",
       "</div>"
      ],
      "text/plain": [
       "           missing_percent\n",
       "arr_delay         0.014076\n",
       "tail_num          0.001323"
      ]
     },
     "execution_count": 141,
     "metadata": {},
     "output_type": "execute_result"
    }
   ],
   "source": [
    "\n",
    "missing_value_percent = (flights_train.isnull().sum()/flights_train.isnull().count()).sort_values(ascending=False)\n",
    "missing_value_percent=pd.DataFrame(missing_value_percent,columns = ['missing_percent'])\n",
    "missing_value_percent[missing_value_percent['missing_percent']>0] \n"
   ]
  },
  {
   "cell_type": "markdown",
   "metadata": {},
   "source": [
    "#### Since a very small percentage of data is missing, therefore we remove records include missing values"
   ]
  },
  {
   "cell_type": "code",
   "execution_count": 144,
   "metadata": {},
   "outputs": [
    {
     "data": {
      "text/plain": [
       "(642152, 21)"
      ]
     },
     "execution_count": 144,
     "metadata": {},
     "output_type": "execute_result"
    }
   ],
   "source": [
    "flights_train=flights_train.dropna(axis=0)\n",
    "flights_train.shape"
   ]
  },
  {
   "cell_type": "markdown",
   "metadata": {},
   "source": [
    "#### Doing the same for flights_test_1 data, removing missing values"
   ]
  },
  {
   "cell_type": "code",
   "execution_count": 145,
   "metadata": {},
   "outputs": [
    {
     "data": {
      "text/plain": [
       "fl_date                  0\n",
       "mkt_unique_carrier       0\n",
       "branded_code_share       0\n",
       "mkt_carrier              0\n",
       "mkt_carrier_fl_num       0\n",
       "op_unique_carrier        0\n",
       "tail_num              1499\n",
       "op_carrier_fl_num        0\n",
       "origin_airport_id        0\n",
       "origin                   0\n",
       "origin_city_name         0\n",
       "dest_airport_id          0\n",
       "dest                     0\n",
       "dest_city_name           0\n",
       "crs_dep_time             0\n",
       "crs_arr_time             0\n",
       "dup                      0\n",
       "crs_elapsed_time         0\n",
       "flights                  0\n",
       "distance                 0\n",
       "dtype: int64"
      ]
     },
     "execution_count": 145,
     "metadata": {},
     "output_type": "execute_result"
    }
   ],
   "source": [
    "\n",
    "missing_test = flights_test_1.isnull().sum()\n",
    "missing_test"
   ]
  },
  {
   "cell_type": "code",
   "execution_count": 146,
   "metadata": {},
   "outputs": [
    {
     "name": "stdout",
     "output_type": "stream",
     "text": [
      "(660556, 20)\n",
      "(659057, 20)\n"
     ]
    }
   ],
   "source": [
    "\n",
    "flights_test=flights_test_1.dropna(axis=0)\n",
    "print(flights_test_1.shape)\n",
    "print(flights_test.shape)\n",
    "#flights_test.describe()"
   ]
  },
  {
   "cell_type": "markdown",
   "metadata": {},
   "source": [
    "#### Outlier detection also was done in EDA notebook"
   ]
  },
  {
   "cell_type": "markdown",
   "metadata": {},
   "source": [
    "### Feature Engineering"
   ]
  },
  {
   "cell_type": "code",
   "execution_count": null,
   "metadata": {},
   "outputs": [],
   "source": []
  },
  {
   "cell_type": "markdown",
   "metadata": {},
   "source": [
    "Feature engineering will play a crucial role in this problems. We have only very little attributes so we need to create some features that will have some predictive power.\n",
    "\n",
    "- weather: we can use some weather API to look for the weather in time of the scheduled departure and scheduled arrival.\n",
    "- statistics (avg, mean, median, std, min, max...): we can take a look at previous delays and compute descriptive statistics\n",
    "- airports encoding: we need to think about what to do with the airports and other categorical variables\n",
    "- time of the day: the delay probably depends on the airport traffic which varies during the day.\n",
    "- airport traffic\n",
    "- unsupervised learning as feature engineering?\n",
    "- **what are the additional options?**: Think about what we could do more to improve the model."
   ]
  },
  {
   "cell_type": "code",
   "execution_count": 147,
   "metadata": {},
   "outputs": [],
   "source": [
    "\n",
    "#flights_train.fl_date = pd.to_datetime(flights_train.fl_date, format='%Y-%m-%d')\n",
    "#flights_test.fl_date = pd.to_datetime(flights_test.fl_date, format='%Y-%m-%d')"
   ]
  },
  {
   "cell_type": "code",
   "execution_count": 148,
   "metadata": {},
   "outputs": [],
   "source": [
    "#converting fl_date to datetime in order to extract \"day of week\" and \"day of year\"\n",
    "flights_train.fl_date = pd.to_datetime(flights_train.fl_date, format='%Y-%m-%d')\n",
    "flights_test.fl_date = pd.to_datetime(flights_test.fl_date, format='%Y-%m-%d')\n",
    "\n",
    "flights_train['fl_day_of_month'] = pd.DatetimeIndex(flights_train.fl_date).day\n",
    "flights_test['fl_day'] = pd.DatetimeIndex(flights_test.fl_date).day\n",
    "\n",
    "flights_train['fl_day_of_week'] = flights_train.fl_date.dt.dayofweek\n",
    "flights_test['fl_day_of_week'] = flights_test.fl_date.dt.dayofweek\n",
    "\n",
    "flights_train['fl_day_of_year'] = flights_train.fl_date.dt.dayofyear\n",
    "flights_test['fl_day_of_year'] = flights_test.fl_date.dt.dayofyear\n",
    "\n",
    "flights_train['fl_month'] = pd.DatetimeIndex(flights_train.fl_date).month\n",
    "flights_test['fl_month'] = pd.DatetimeIndex(flights_test.fl_date).month\n",
    "#flights_train.head()"
   ]
  },
  {
   "cell_type": "markdown",
   "metadata": {},
   "source": [
    "#### classification of 'arr_time' and 'dep_time'"
   ]
  },
  {
   "cell_type": "code",
   "execution_count": 149,
   "metadata": {},
   "outputs": [],
   "source": [
    "flights_train['crs_arr_hr'] =flights_train['crs_arr_time']//100\n",
    "flights_train['crs_dep_hr'] =flights_train['crs_dep_time']//100\n",
    "flights_test['crs_arr_hr'] =flights_test['crs_arr_time']//100\n",
    "flights_test['crs_dep_hr'] =flights_test['crs_dep_time']//100\n",
    "#flights_train.head()"
   ]
  },
  {
   "cell_type": "markdown",
   "metadata": {},
   "source": [
    "#### From EDA task 8, we are binning the 'crs_elapsed_time'"
   ]
  },
  {
   "cell_type": "code",
   "execution_count": 150,
   "metadata": {},
   "outputs": [
    {
     "data": {
      "text/plain": [
       "dtype('int64')"
      ]
     },
     "execution_count": 150,
     "metadata": {},
     "output_type": "execute_result"
    }
   ],
   "source": [
    "# Define 'SHORT', 'MEDIUM' and 'LONG' haul flights\n",
    "# 'SHORT' (bin 1) :      for actual_elapsed_time <= 4 hr\n",
    "# 'MEDIUM' (bin2) :  for 4 hr < actual_elapsed_time <=8\n",
    "# 'LONG' (bin3) : for 8 hr < actual_elapsed_time\n",
    "\n",
    "bin_flight_elapsed_time = [-1, 240, 480, 5000]\n",
    "label_flight_elapsed_time = [1,2,3]\n",
    "flights_train['flight_elapsed_type'] = pd.cut(flights_train['crs_elapsed_time'], bins=bin_flight_elapsed_time, labels=label_flight_elapsed_time)\n",
    "flights_train.head()\n",
    "\n",
    "\n",
    "# Binning 'crs_elapsed_time' for flight_test\n",
    "\n",
    "bin_flight_elapsed_time = [-1, 240, 480, 5000]\n",
    "label_flight_elapsed_time = [1,2,3]\n",
    "flights_test['flight_elapsed_type'] = pd.cut(flights_test['crs_elapsed_time'], bins=bin_flight_elapsed_time, labels=label_flight_elapsed_time)\n",
    "\n",
    "flights_train['flight_elapsed_type'] = pd.to_numeric(flights_train['flight_elapsed_type'])\n",
    "#flights_test.head()\n",
    "flights_train['flight_elapsed_type'].dtypes\n"
   ]
  },
  {
   "cell_type": "markdown",
   "metadata": {},
   "source": [
    "#### Average of elapsed time in each airport during one day"
   ]
  },
  {
   "cell_type": "code",
   "execution_count": 151,
   "metadata": {},
   "outputs": [],
   "source": [
    "flights_train['origin_day_avg'] = flights_train.groupby(['origin_airport_id','fl_day_of_week'])['crs_elapsed_time'].transform(np.mean).astype(np.float16)\n",
    "flights_train['dest_day_avg'] = flights_train.groupby(['dest_airport_id','fl_day_of_week'])['crs_elapsed_time'].transform(np.mean).astype(np.float16)\n",
    "\n",
    "#for flights_test\n",
    "flights_test['origin_day_avg'] = flights_test.groupby(['origin_airport_id','fl_day_of_week'])['crs_elapsed_time'].transform(np.mean).astype(np.float16)\n",
    "flights_test['dest_day_avg'] = flights_test.groupby(['dest_airport_id','fl_day_of_week'])['crs_elapsed_time'].transform(np.mean).astype(np.float16)\n",
    "\n",
    "#flights_train.head()\n",
    "#flights_test.head()"
   ]
  },
  {
   "cell_type": "markdown",
   "metadata": {},
   "source": [
    "#### Number of flights in each airport per day"
   ]
  },
  {
   "cell_type": "code",
   "execution_count": 152,
   "metadata": {},
   "outputs": [],
   "source": [
    "flights_train['origin_flights_sum'] = flights_train.groupby(['origin_airport_id','fl_day_of_week'])['flights'].transform(np.sum).astype(np.float16)\n",
    "flights_train['dest_flights_sum'] = flights_train.groupby(['dest_airport_id','fl_day_of_week'])['flights'].transform(np.sum).astype(np.float16)\n",
    "\n",
    "#for flights_test\n",
    "flights_test['origin_flights_sum'] = flights_test.groupby(['origin_airport_id','fl_day_of_week'])['flights'].transform(np.sum).astype(np.float16)\n",
    "flights_test['dest_flights_sum'] = flights_test.groupby(['dest_airport_id','fl_day_of_week'])['flights'].transform(np.sum).astype(np.float16)\n",
    "\n",
    "#flights_train.head()\n",
    "#flights_test.head()"
   ]
  },
  {
   "cell_type": "markdown",
   "metadata": {},
   "source": [
    "#### Extract city and state as seperate fields"
   ]
  },
  {
   "cell_type": "code",
   "execution_count": 153,
   "metadata": {},
   "outputs": [],
   "source": [
    "flights_train[['origin_city', 'origin_state']] = flights_train['origin_city_name'].str.split(',', expand=True, n=2)\n",
    "flights_train[['dest_city', 'dest_state']] = flights_train['dest_city_name'].str.split(',', expand=True, n=2)\n",
    "\n",
    "#for flights_test:\n",
    "flights_test[['origin_city', 'origin_state']] = flights_test['origin_city_name'].str.split(',', expand=True, n=2)\n",
    "flights_test[['dest_city', 'dest_state']] = flights_test['dest_city_name'].str.split(',', expand=True, n=2)\n",
    "\n",
    "#flights_train.head()\n",
    "#flights_test.head()"
   ]
  },
  {
   "cell_type": "code",
   "execution_count": 154,
   "metadata": {},
   "outputs": [
    {
     "name": "stdout",
     "output_type": "stream",
     "text": [
      "(346,)\n",
      "(53,)\n",
      "(10,)\n",
      "(15,)\n",
      "(10,)\n",
      "(26,)\n",
      "(5816,)\n"
     ]
    }
   ],
   "source": [
    "print(flights_train['origin_city'].value_counts().shape)\n",
    "print(flights_train['origin_state'].value_counts().shape)\n",
    "print(flights_train['mkt_unique_carrier'].value_counts().shape)\n",
    "print(flights_train['branded_code_share'].value_counts().shape)\n",
    "print(flights_train['mkt_carrier'].value_counts().shape)\n",
    "print(flights_train['op_unique_carrier'].value_counts().shape)\n",
    "print(flights_train['tail_num'].value_counts().shape)\n"
   ]
  },
  {
   "cell_type": "markdown",
   "metadata": {},
   "source": [
    "#### as we observe above city and state are high cardinality categorical fields\n",
    "*----------------------------------------------------------------------------------*"
   ]
  },
  {
   "cell_type": "markdown",
   "metadata": {},
   "source": [
    "#### Finalizing our data set to use for modeling"
   ]
  },
  {
   "cell_type": "code",
   "execution_count": 155,
   "metadata": {},
   "outputs": [
    {
     "data": {
      "text/plain": [
       "Index(['fl_date', 'mkt_unique_carrier', 'branded_code_share', 'mkt_carrier',\n",
       "       'mkt_carrier_fl_num', 'op_unique_carrier', 'tail_num',\n",
       "       'op_carrier_fl_num', 'origin_airport_id', 'origin', 'origin_city_name',\n",
       "       'dest_airport_id', 'dest', 'dest_city_name', 'crs_dep_time',\n",
       "       'crs_arr_time', 'arr_delay', 'dup', 'crs_elapsed_time', 'flights',\n",
       "       'distance', 'fl_day_of_month', 'fl_day_of_week', 'fl_day_of_year',\n",
       "       'fl_month', 'crs_arr_hr', 'crs_dep_hr', 'flight_elapsed_type',\n",
       "       'origin_day_avg', 'dest_day_avg', 'origin_flights_sum',\n",
       "       'dest_flights_sum', 'origin_city', 'origin_state', 'dest_city',\n",
       "       'dest_state'],\n",
       "      dtype='object')"
      ]
     },
     "execution_count": 155,
     "metadata": {},
     "output_type": "execute_result"
    }
   ],
   "source": [
    "flights_train.columns"
   ]
  },
  {
   "cell_type": "code",
   "execution_count": 156,
   "metadata": {},
   "outputs": [
    {
     "name": "stdout",
     "output_type": "stream",
     "text": [
      "(642152, 13)\n",
      "(659057, 12)\n"
     ]
    },
    {
     "data": {
      "text/html": [
       "<div>\n",
       "<style scoped>\n",
       "    .dataframe tbody tr th:only-of-type {\n",
       "        vertical-align: middle;\n",
       "    }\n",
       "\n",
       "    .dataframe tbody tr th {\n",
       "        vertical-align: top;\n",
       "    }\n",
       "\n",
       "    .dataframe thead th {\n",
       "        text-align: right;\n",
       "    }\n",
       "</style>\n",
       "<table border=\"1\" class=\"dataframe\">\n",
       "  <thead>\n",
       "    <tr style=\"text-align: right;\">\n",
       "      <th></th>\n",
       "      <th>distance</th>\n",
       "      <th>fl_day</th>\n",
       "      <th>fl_day_of_week</th>\n",
       "      <th>fl_day_of_year</th>\n",
       "      <th>fl_month</th>\n",
       "      <th>crs_arr_hr</th>\n",
       "      <th>crs_dep_hr</th>\n",
       "      <th>flight_elapsed_type</th>\n",
       "      <th>origin_day_avg</th>\n",
       "      <th>dest_day_avg</th>\n",
       "      <th>origin_flights_sum</th>\n",
       "      <th>dest_flights_sum</th>\n",
       "    </tr>\n",
       "  </thead>\n",
       "  <tbody>\n",
       "    <tr>\n",
       "      <th>0</th>\n",
       "      <td>363</td>\n",
       "      <td>1</td>\n",
       "      <td>2</td>\n",
       "      <td>1</td>\n",
       "      <td>1</td>\n",
       "      <td>19</td>\n",
       "      <td>18</td>\n",
       "      <td>1</td>\n",
       "      <td>111.7500</td>\n",
       "      <td>198.7500</td>\n",
       "      <td>327.0</td>\n",
       "      <td>2244.0</td>\n",
       "    </tr>\n",
       "    <tr>\n",
       "      <th>1</th>\n",
       "      <td>363</td>\n",
       "      <td>1</td>\n",
       "      <td>2</td>\n",
       "      <td>1</td>\n",
       "      <td>1</td>\n",
       "      <td>13</td>\n",
       "      <td>11</td>\n",
       "      <td>1</td>\n",
       "      <td>111.7500</td>\n",
       "      <td>198.7500</td>\n",
       "      <td>327.0</td>\n",
       "      <td>2244.0</td>\n",
       "    </tr>\n",
       "    <tr>\n",
       "      <th>2</th>\n",
       "      <td>333</td>\n",
       "      <td>1</td>\n",
       "      <td>2</td>\n",
       "      <td>1</td>\n",
       "      <td>1</td>\n",
       "      <td>21</td>\n",
       "      <td>20</td>\n",
       "      <td>1</td>\n",
       "      <td>111.7500</td>\n",
       "      <td>133.1250</td>\n",
       "      <td>327.0</td>\n",
       "      <td>951.0</td>\n",
       "    </tr>\n",
       "    <tr>\n",
       "      <th>3</th>\n",
       "      <td>333</td>\n",
       "      <td>1</td>\n",
       "      <td>2</td>\n",
       "      <td>1</td>\n",
       "      <td>1</td>\n",
       "      <td>14</td>\n",
       "      <td>13</td>\n",
       "      <td>1</td>\n",
       "      <td>111.7500</td>\n",
       "      <td>133.1250</td>\n",
       "      <td>327.0</td>\n",
       "      <td>951.0</td>\n",
       "    </tr>\n",
       "    <tr>\n",
       "      <th>4</th>\n",
       "      <td>333</td>\n",
       "      <td>1</td>\n",
       "      <td>2</td>\n",
       "      <td>1</td>\n",
       "      <td>1</td>\n",
       "      <td>10</td>\n",
       "      <td>9</td>\n",
       "      <td>1</td>\n",
       "      <td>111.7500</td>\n",
       "      <td>133.1250</td>\n",
       "      <td>327.0</td>\n",
       "      <td>951.0</td>\n",
       "    </tr>\n",
       "    <tr>\n",
       "      <th>5</th>\n",
       "      <td>333</td>\n",
       "      <td>1</td>\n",
       "      <td>2</td>\n",
       "      <td>1</td>\n",
       "      <td>1</td>\n",
       "      <td>7</td>\n",
       "      <td>6</td>\n",
       "      <td>1</td>\n",
       "      <td>111.7500</td>\n",
       "      <td>133.1250</td>\n",
       "      <td>327.0</td>\n",
       "      <td>951.0</td>\n",
       "    </tr>\n",
       "    <tr>\n",
       "      <th>6</th>\n",
       "      <td>333</td>\n",
       "      <td>1</td>\n",
       "      <td>2</td>\n",
       "      <td>1</td>\n",
       "      <td>1</td>\n",
       "      <td>17</td>\n",
       "      <td>16</td>\n",
       "      <td>1</td>\n",
       "      <td>111.7500</td>\n",
       "      <td>133.1250</td>\n",
       "      <td>327.0</td>\n",
       "      <td>951.0</td>\n",
       "    </tr>\n",
       "    <tr>\n",
       "      <th>7</th>\n",
       "      <td>390</td>\n",
       "      <td>1</td>\n",
       "      <td>2</td>\n",
       "      <td>1</td>\n",
       "      <td>1</td>\n",
       "      <td>16</td>\n",
       "      <td>15</td>\n",
       "      <td>1</td>\n",
       "      <td>111.7500</td>\n",
       "      <td>131.1250</td>\n",
       "      <td>327.0</td>\n",
       "      <td>788.0</td>\n",
       "    </tr>\n",
       "    <tr>\n",
       "      <th>8</th>\n",
       "      <td>390</td>\n",
       "      <td>1</td>\n",
       "      <td>2</td>\n",
       "      <td>1</td>\n",
       "      <td>1</td>\n",
       "      <td>13</td>\n",
       "      <td>12</td>\n",
       "      <td>1</td>\n",
       "      <td>111.7500</td>\n",
       "      <td>131.1250</td>\n",
       "      <td>327.0</td>\n",
       "      <td>788.0</td>\n",
       "    </tr>\n",
       "    <tr>\n",
       "      <th>9</th>\n",
       "      <td>390</td>\n",
       "      <td>1</td>\n",
       "      <td>2</td>\n",
       "      <td>1</td>\n",
       "      <td>1</td>\n",
       "      <td>9</td>\n",
       "      <td>7</td>\n",
       "      <td>1</td>\n",
       "      <td>111.7500</td>\n",
       "      <td>131.1250</td>\n",
       "      <td>327.0</td>\n",
       "      <td>788.0</td>\n",
       "    </tr>\n",
       "    <tr>\n",
       "      <th>10</th>\n",
       "      <td>390</td>\n",
       "      <td>1</td>\n",
       "      <td>2</td>\n",
       "      <td>1</td>\n",
       "      <td>1</td>\n",
       "      <td>11</td>\n",
       "      <td>10</td>\n",
       "      <td>1</td>\n",
       "      <td>111.7500</td>\n",
       "      <td>131.1250</td>\n",
       "      <td>327.0</td>\n",
       "      <td>788.0</td>\n",
       "    </tr>\n",
       "    <tr>\n",
       "      <th>11</th>\n",
       "      <td>390</td>\n",
       "      <td>1</td>\n",
       "      <td>2</td>\n",
       "      <td>1</td>\n",
       "      <td>1</td>\n",
       "      <td>21</td>\n",
       "      <td>20</td>\n",
       "      <td>1</td>\n",
       "      <td>111.7500</td>\n",
       "      <td>131.1250</td>\n",
       "      <td>327.0</td>\n",
       "      <td>788.0</td>\n",
       "    </tr>\n",
       "    <tr>\n",
       "      <th>12</th>\n",
       "      <td>390</td>\n",
       "      <td>1</td>\n",
       "      <td>2</td>\n",
       "      <td>1</td>\n",
       "      <td>1</td>\n",
       "      <td>0</td>\n",
       "      <td>22</td>\n",
       "      <td>1</td>\n",
       "      <td>111.7500</td>\n",
       "      <td>131.1250</td>\n",
       "      <td>327.0</td>\n",
       "      <td>788.0</td>\n",
       "    </tr>\n",
       "    <tr>\n",
       "      <th>13</th>\n",
       "      <td>390</td>\n",
       "      <td>1</td>\n",
       "      <td>2</td>\n",
       "      <td>1</td>\n",
       "      <td>1</td>\n",
       "      <td>19</td>\n",
       "      <td>18</td>\n",
       "      <td>1</td>\n",
       "      <td>111.7500</td>\n",
       "      <td>131.1250</td>\n",
       "      <td>327.0</td>\n",
       "      <td>788.0</td>\n",
       "    </tr>\n",
       "    <tr>\n",
       "      <th>14</th>\n",
       "      <td>159</td>\n",
       "      <td>1</td>\n",
       "      <td>2</td>\n",
       "      <td>1</td>\n",
       "      <td>1</td>\n",
       "      <td>12</td>\n",
       "      <td>11</td>\n",
       "      <td>1</td>\n",
       "      <td>107.4375</td>\n",
       "      <td>130.2500</td>\n",
       "      <td>309.0</td>\n",
       "      <td>1299.0</td>\n",
       "    </tr>\n",
       "    <tr>\n",
       "      <th>15</th>\n",
       "      <td>159</td>\n",
       "      <td>1</td>\n",
       "      <td>2</td>\n",
       "      <td>1</td>\n",
       "      <td>1</td>\n",
       "      <td>7</td>\n",
       "      <td>6</td>\n",
       "      <td>1</td>\n",
       "      <td>107.4375</td>\n",
       "      <td>130.2500</td>\n",
       "      <td>309.0</td>\n",
       "      <td>1299.0</td>\n",
       "    </tr>\n",
       "    <tr>\n",
       "      <th>16</th>\n",
       "      <td>159</td>\n",
       "      <td>1</td>\n",
       "      <td>2</td>\n",
       "      <td>1</td>\n",
       "      <td>1</td>\n",
       "      <td>21</td>\n",
       "      <td>20</td>\n",
       "      <td>1</td>\n",
       "      <td>107.4375</td>\n",
       "      <td>130.2500</td>\n",
       "      <td>309.0</td>\n",
       "      <td>1299.0</td>\n",
       "    </tr>\n",
       "    <tr>\n",
       "      <th>17</th>\n",
       "      <td>159</td>\n",
       "      <td>1</td>\n",
       "      <td>2</td>\n",
       "      <td>1</td>\n",
       "      <td>1</td>\n",
       "      <td>18</td>\n",
       "      <td>17</td>\n",
       "      <td>1</td>\n",
       "      <td>107.4375</td>\n",
       "      <td>130.2500</td>\n",
       "      <td>309.0</td>\n",
       "      <td>1299.0</td>\n",
       "    </tr>\n",
       "    <tr>\n",
       "      <th>18</th>\n",
       "      <td>655</td>\n",
       "      <td>1</td>\n",
       "      <td>2</td>\n",
       "      <td>1</td>\n",
       "      <td>1</td>\n",
       "      <td>12</td>\n",
       "      <td>10</td>\n",
       "      <td>1</td>\n",
       "      <td>107.4375</td>\n",
       "      <td>163.0000</td>\n",
       "      <td>309.0</td>\n",
       "      <td>1951.0</td>\n",
       "    </tr>\n",
       "    <tr>\n",
       "      <th>19</th>\n",
       "      <td>704</td>\n",
       "      <td>1</td>\n",
       "      <td>2</td>\n",
       "      <td>1</td>\n",
       "      <td>1</td>\n",
       "      <td>18</td>\n",
       "      <td>16</td>\n",
       "      <td>1</td>\n",
       "      <td>107.4375</td>\n",
       "      <td>137.2500</td>\n",
       "      <td>309.0</td>\n",
       "      <td>1034.0</td>\n",
       "    </tr>\n",
       "    <tr>\n",
       "      <th>20</th>\n",
       "      <td>545</td>\n",
       "      <td>1</td>\n",
       "      <td>2</td>\n",
       "      <td>1</td>\n",
       "      <td>1</td>\n",
       "      <td>14</td>\n",
       "      <td>13</td>\n",
       "      <td>1</td>\n",
       "      <td>158.7500</td>\n",
       "      <td>124.1875</td>\n",
       "      <td>439.0</td>\n",
       "      <td>5204.0</td>\n",
       "    </tr>\n",
       "    <tr>\n",
       "      <th>21</th>\n",
       "      <td>883</td>\n",
       "      <td>1</td>\n",
       "      <td>2</td>\n",
       "      <td>1</td>\n",
       "      <td>1</td>\n",
       "      <td>9</td>\n",
       "      <td>7</td>\n",
       "      <td>1</td>\n",
       "      <td>158.7500</td>\n",
       "      <td>130.2500</td>\n",
       "      <td>439.0</td>\n",
       "      <td>1299.0</td>\n",
       "    </tr>\n",
       "  </tbody>\n",
       "</table>\n",
       "</div>"
      ],
      "text/plain": [
       "    distance  fl_day  fl_day_of_week  fl_day_of_year  fl_month  crs_arr_hr  \\\n",
       "0        363       1               2               1         1          19   \n",
       "1        363       1               2               1         1          13   \n",
       "2        333       1               2               1         1          21   \n",
       "3        333       1               2               1         1          14   \n",
       "4        333       1               2               1         1          10   \n",
       "5        333       1               2               1         1           7   \n",
       "6        333       1               2               1         1          17   \n",
       "7        390       1               2               1         1          16   \n",
       "8        390       1               2               1         1          13   \n",
       "9        390       1               2               1         1           9   \n",
       "10       390       1               2               1         1          11   \n",
       "11       390       1               2               1         1          21   \n",
       "12       390       1               2               1         1           0   \n",
       "13       390       1               2               1         1          19   \n",
       "14       159       1               2               1         1          12   \n",
       "15       159       1               2               1         1           7   \n",
       "16       159       1               2               1         1          21   \n",
       "17       159       1               2               1         1          18   \n",
       "18       655       1               2               1         1          12   \n",
       "19       704       1               2               1         1          18   \n",
       "20       545       1               2               1         1          14   \n",
       "21       883       1               2               1         1           9   \n",
       "\n",
       "    crs_dep_hr flight_elapsed_type  origin_day_avg  dest_day_avg  \\\n",
       "0           18                   1        111.7500      198.7500   \n",
       "1           11                   1        111.7500      198.7500   \n",
       "2           20                   1        111.7500      133.1250   \n",
       "3           13                   1        111.7500      133.1250   \n",
       "4            9                   1        111.7500      133.1250   \n",
       "5            6                   1        111.7500      133.1250   \n",
       "6           16                   1        111.7500      133.1250   \n",
       "7           15                   1        111.7500      131.1250   \n",
       "8           12                   1        111.7500      131.1250   \n",
       "9            7                   1        111.7500      131.1250   \n",
       "10          10                   1        111.7500      131.1250   \n",
       "11          20                   1        111.7500      131.1250   \n",
       "12          22                   1        111.7500      131.1250   \n",
       "13          18                   1        111.7500      131.1250   \n",
       "14          11                   1        107.4375      130.2500   \n",
       "15           6                   1        107.4375      130.2500   \n",
       "16          20                   1        107.4375      130.2500   \n",
       "17          17                   1        107.4375      130.2500   \n",
       "18          10                   1        107.4375      163.0000   \n",
       "19          16                   1        107.4375      137.2500   \n",
       "20          13                   1        158.7500      124.1875   \n",
       "21           7                   1        158.7500      130.2500   \n",
       "\n",
       "    origin_flights_sum  dest_flights_sum  \n",
       "0                327.0            2244.0  \n",
       "1                327.0            2244.0  \n",
       "2                327.0             951.0  \n",
       "3                327.0             951.0  \n",
       "4                327.0             951.0  \n",
       "5                327.0             951.0  \n",
       "6                327.0             951.0  \n",
       "7                327.0             788.0  \n",
       "8                327.0             788.0  \n",
       "9                327.0             788.0  \n",
       "10               327.0             788.0  \n",
       "11               327.0             788.0  \n",
       "12               327.0             788.0  \n",
       "13               327.0             788.0  \n",
       "14               309.0            1299.0  \n",
       "15               309.0            1299.0  \n",
       "16               309.0            1299.0  \n",
       "17               309.0            1299.0  \n",
       "18               309.0            1951.0  \n",
       "19               309.0            1034.0  \n",
       "20               439.0            5204.0  \n",
       "21               439.0            1299.0  "
      ]
     },
     "execution_count": 156,
     "metadata": {},
     "output_type": "execute_result"
    }
   ],
   "source": [
    "# drop unuseful fields\n",
    "extra=['fl_date', 'mkt_unique_carrier', 'branded_code_share','mkt_carrier', 'mkt_carrier_fl_num', 'op_unique_carrier', 'tail_num', 'op_carrier_fl_num', 'origin_airport_id', 'origin', 'origin_city_name','dest_airport_id', 'dest', 'dest_city_name','dup', 'flights', 'crs_arr_time','crs_dep_time', 'crs_elapsed_time', 'origin_city', 'origin_state', 'dest_city', 'dest_state']\n",
    "\n",
    "#for train data:\n",
    "flights_train_final=flights_train.drop(extra, axis=1)\n",
    "print(flights_train_final.shape)\n",
    "#flights_train_final.head()\n",
    "\n",
    "#for test data:\n",
    "flights_test_final=flights_test.drop(extra, axis=1)\n",
    "print(flights_test_final.shape)\n",
    "flights_test_final.head(22)\n"
   ]
  },
  {
   "cell_type": "markdown",
   "metadata": {},
   "source": [
    "### Feature Selection / Dimensionality Reduction"
   ]
  },
  {
   "cell_type": "markdown",
   "metadata": {},
   "source": [
    "We need to apply different selection techniques to find out which one will be the best for our problems.\n",
    "\n",
    "- Original Features vs. PCA conponents?"
   ]
  },
  {
   "cell_type": "markdown",
   "metadata": {},
   "source": [
    "### PCA"
   ]
  },
  {
   "cell_type": "code",
   "execution_count": 157,
   "metadata": {},
   "outputs": [],
   "source": [
    "from sklearn.decomposition import PCA\n",
    "from sklearn.preprocessing import MinMaxScaler"
   ]
  },
  {
   "cell_type": "code",
   "execution_count": 158,
   "metadata": {},
   "outputs": [],
   "source": [
    "X = flights_train_final.drop('arr_delay',axis=1)\n",
    "y = flights_train_final['arr_delay']"
   ]
  },
  {
   "cell_type": "code",
   "execution_count": 159,
   "metadata": {},
   "outputs": [],
   "source": [
    "MMS=MinMaxScaler()\n",
    "Xnorm=MMS.fit_transform(X)"
   ]
  },
  {
   "cell_type": "code",
   "execution_count": 160,
   "metadata": {},
   "outputs": [
    {
     "data": {
      "text/html": [
       "<div>\n",
       "<style scoped>\n",
       "    .dataframe tbody tr th:only-of-type {\n",
       "        vertical-align: middle;\n",
       "    }\n",
       "\n",
       "    .dataframe tbody tr th {\n",
       "        vertical-align: top;\n",
       "    }\n",
       "\n",
       "    .dataframe thead th {\n",
       "        text-align: right;\n",
       "    }\n",
       "</style>\n",
       "<table border=\"1\" class=\"dataframe\">\n",
       "  <thead>\n",
       "    <tr style=\"text-align: right;\">\n",
       "      <th></th>\n",
       "      <th>PC1</th>\n",
       "      <th>PC2</th>\n",
       "    </tr>\n",
       "  </thead>\n",
       "  <tbody>\n",
       "    <tr>\n",
       "      <th>0</th>\n",
       "      <td>-383.373607</td>\n",
       "      <td>-1727.982731</td>\n",
       "    </tr>\n",
       "    <tr>\n",
       "      <th>1</th>\n",
       "      <td>534.995375</td>\n",
       "      <td>-623.100984</td>\n",
       "    </tr>\n",
       "    <tr>\n",
       "      <th>2</th>\n",
       "      <td>-617.988575</td>\n",
       "      <td>-73.314321</td>\n",
       "    </tr>\n",
       "    <tr>\n",
       "      <th>3</th>\n",
       "      <td>158.512356</td>\n",
       "      <td>451.396250</td>\n",
       "    </tr>\n",
       "    <tr>\n",
       "      <th>4</th>\n",
       "      <td>-165.217007</td>\n",
       "      <td>429.996083</td>\n",
       "    </tr>\n",
       "  </tbody>\n",
       "</table>\n",
       "</div>"
      ],
      "text/plain": [
       "          PC1          PC2\n",
       "0 -383.373607 -1727.982731\n",
       "1  534.995375  -623.100984\n",
       "2 -617.988575   -73.314321\n",
       "3  158.512356   451.396250\n",
       "4 -165.217007   429.996083"
      ]
     },
     "execution_count": 160,
     "metadata": {},
     "output_type": "execute_result"
    }
   ],
   "source": [
    "pca_model=PCA(n_components=2)\n",
    "pca_model.fit(X)\n",
    "X_pca=pca_model.transform(X)\n",
    "X_pca=pd.DataFrame(X_pca,columns=['PC1','PC2'])\n",
    "X_pca.head()"
   ]
  },
  {
   "cell_type": "code",
   "execution_count": 161,
   "metadata": {},
   "outputs": [
    {
     "data": {
      "text/plain": [
       "array([0.59465092, 0.31284564])"
      ]
     },
     "execution_count": 161,
     "metadata": {},
     "output_type": "execute_result"
    }
   ],
   "source": [
    "pca_model.explained_variance_ratio_"
   ]
  },
  {
   "cell_type": "code",
   "execution_count": 162,
   "metadata": {},
   "outputs": [
    {
     "data": {
      "text/plain": [
       "Text(0, 0.5, '% Cumulative explained variance')"
      ]
     },
     "execution_count": 162,
     "metadata": {},
     "output_type": "execute_result"
    },
    {
     "data": {
      "image/png": "[encoded data removed]",
      "text/plain": [
       "<Figure size 640x480 with 1 Axes>"
      ]
     },
     "metadata": {},
     "output_type": "display_data"
    }
   ],
   "source": [
    "from sklearn.decomposition import PCA\n",
    "from sklearn.preprocessing import MinMaxScaler\n",
    "pca = PCA()\n",
    "pca.fit(Xnorm)\n",
    "\n",
    "cum_explained_variance = np.cumsum(pca.explained_variance_ratio_)\n",
    "plt.plot(cum_explained_variance,'bo-')\n",
    "plt.xlabel('PC number')\n",
    "plt.ylabel('% Cumulative explained variance')"
   ]
  },
  {
   "cell_type": "markdown",
   "metadata": {},
   "source": [
    "### Modeling"
   ]
  },
  {
   "cell_type": "markdown",
   "metadata": {},
   "source": [
    "Use different ML techniques to predict each problem.\n",
    "\n",
    "- linear / logistic / multinomial logistic regression\n",
    "- Naive Bayes\n",
    "- Random Forest\n",
    "- SVM\n",
    "- XGBoost\n",
    "- The ensemble of your own choice"
   ]
  },
  {
   "cell_type": "markdown",
   "metadata": {},
   "source": [
    "### Imprting useful libraries"
   ]
  },
  {
   "cell_type": "code",
   "execution_count": 163,
   "metadata": {},
   "outputs": [],
   "source": [
    "from sklearn.linear_model import LinearRegression\n",
    "from sklearn.linear_model import Lasso\n",
    "from sklearn.linear_model import Ridge\n",
    "from sklearn.linear_model import ElasticNet\n",
    "from sklearn.ensemble import RandomForestRegressor\n",
    "from sklearn.svm import SVR\n",
    "from sklearn.ensemble import GradientBoostingRegressor\n",
    "from sklearn.metrics import mean_squared_error"
   ]
  },
  {
   "cell_type": "markdown",
   "metadata": {},
   "source": [
    "### Decision Tree Regression"
   ]
  },
  {
   "cell_type": "code",
   "execution_count": 168,
   "metadata": {},
   "outputs": [
    {
     "name": "stdout",
     "output_type": "stream",
     "text": [
      "47.67104361357637\n",
      "3.63294048761041\n",
      "13.121889493139568\n"
     ]
    }
   ],
   "source": [
    "from sklearn.tree import DecisionTreeRegressor\n",
    "from sklearn.model_selection import cross_val_predict, cross_val_score\n",
    "from sklearn.metrics import mean_squared_error, mean_absolute_error\n",
    "tree = DecisionTreeRegressor(random_state=1234, criterion='mse', max_depth=4) # criterion='mae'\n",
    "pred = cross_val_predict(tree, X, y, cv=5)\n",
    "rmse=np.sqrt(mean_squared_error(y, pred))\n",
    "target_avg=y.mean()\n",
    "mape=rmse/target_avg\n",
    "print(rmse)\n",
    "print(target_avg)\n",
    "print(mape)\n"
   ]
  },
  {
   "cell_type": "markdown",
   "metadata": {},
   "source": [
    "### LinearRegression, Lasso, Ridge, ElasticNet"
   ]
  },
  {
   "cell_type": "code",
   "execution_count": 81,
   "metadata": {},
   "outputs": [
    {
     "name": "stdout",
     "output_type": "stream",
     "text": [
      "RMSE score with CV of Linear Regression is 47.0\n",
      "RMSE score with CV of Lasso is 46.98\n",
      "RMSE score with CV of Ridge is 47.0\n",
      "RMSE score with CV of ElasticNet is 46.98\n"
     ]
    }
   ],
   "source": [
    "Regressors = {\n",
    "    'Linear Regression' : LinearRegression(),\n",
    "    'Lasso': Lasso(),\n",
    "    'Ridge': Ridge(),\n",
    "    'ElasticNet': ElasticNet()    \n",
    "                }\n",
    "\n",
    "for key, reg in Regressors.items():\n",
    "    #Reg.fit(X_train, y_train)\n",
    "    score = cross_val_score(reg, X, y, cv=5, scoring='neg_mean_squared_error')\n",
    "    rmse = np.sqrt(-score)\n",
    "    rmse_score = round(np.mean(rmse), 2)\n",
    "    print('RMSE score with CV of {0} is {1}'.format(key, rmse_score))"
   ]
  },
  {
   "cell_type": "code",
   "execution_count": 41,
   "metadata": {},
   "outputs": [
    {
     "name": "stdout",
     "output_type": "stream",
     "text": [
      "47.13993159994679\n",
      "24.190053875173692\n"
     ]
    }
   ],
   "source": [
    "GB = GradientBoostingRegressor(n_estimators=100)\n",
    "pred = cross_val_predict(GB, X, y, cv=5)\n",
    "print(np.sqrt(mean_squared_error(y, pred)))\n",
    "print(mean_absolute_error(y, pred))\n"
   ]
  },
  {
   "cell_type": "code",
   "execution_count": 42,
   "metadata": {
    "scrolled": true
   },
   "outputs": [
    {
     "name": "stdout",
     "output_type": "stream",
     "text": [
      "55.37547580893527\n",
      "30.055899182431077\n"
     ]
    }
   ],
   "source": [
    "RandromForest= RandomForestRegressor(n_estimators=100)\n",
    "pred = cross_val_predict(RandromForest, X, y, cv=5)\n",
    "print(np.sqrt(mean_squared_error(y, pred)))\n",
    "print(mean_absolute_error(y, pred))\n"
   ]
  },
  {
   "cell_type": "code",
   "execution_count": null,
   "metadata": {},
   "outputs": [],
   "source": [
    "SVM = SVR()\n",
    "pred = cross_val_predict(SVM, X, y, cv=5)\n",
    "print(np.sqrt(mean_squared_error(y, pred)))\n",
    "print(mean_absolute_error(y, pred))\n",
    "\n"
   ]
  },
  {
   "cell_type": "markdown",
   "metadata": {},
   "source": [
    "### Xgboost with cross validation"
   ]
  },
  {
   "cell_type": "code",
   "execution_count": 242,
   "metadata": {},
   "outputs": [
    {
     "name": "stdout",
     "output_type": "stream",
     "text": [
      "[00:01:29] WARNING: C:/buildkite-agent/builds/buildkite-windows-cpu-autoscaling-group-i-0fc7796c793e6356f-1/xgboost/xgboost-ci-windows/src/objective/regression_obj.cu:213: reg:linear is now deprecated in favor of reg:squarederror.\n",
      "[00:01:32] WARNING: C:/buildkite-agent/builds/buildkite-windows-cpu-autoscaling-group-i-0fc7796c793e6356f-1/xgboost/xgboost-ci-windows/src/objective/regression_obj.cu:213: reg:linear is now deprecated in favor of reg:squarederror.\n",
      "[00:01:34] WARNING: C:/buildkite-agent/builds/buildkite-windows-cpu-autoscaling-group-i-0fc7796c793e6356f-1/xgboost/xgboost-ci-windows/src/objective/regression_obj.cu:213: reg:linear is now deprecated in favor of reg:squarederror.\n",
      "[00:01:36] WARNING: C:/buildkite-agent/builds/buildkite-windows-cpu-autoscaling-group-i-0fc7796c793e6356f-1/xgboost/xgboost-ci-windows/src/objective/regression_obj.cu:213: reg:linear is now deprecated in favor of reg:squarederror.\n",
      "[00:01:38] WARNING: C:/buildkite-agent/builds/buildkite-windows-cpu-autoscaling-group-i-0fc7796c793e6356f-1/xgboost/xgboost-ci-windows/src/objective/regression_obj.cu:213: reg:linear is now deprecated in favor of reg:squarederror.\n",
      "46.959394578328116\n",
      "RMSE: 46.959395\n"
     ]
    }
   ],
   "source": [
    "\n",
    "import xgboost as xgb\n",
    "\n",
    "# convert the dataset into an optimized data structure called Dmatrix that XGBoost supports \n",
    "\n",
    "data_dmatrix = xgb.DMatrix(data=X,label=y, enable_categorical=True) \n",
    "\n",
    "\n",
    "xg_reg = xgb.XGBRegressor(objective ='reg:linear', colsample_bytree = 0.3, learning_rate = 0.1,max_depth = 5, alpha = 10, n_estimators = 10) \n",
    "pred = cross_val_predict(xg_reg, X, y, cv=5)\n",
    "print(np.sqrt(mean_squared_error(y, pred)))\n",
    "\n",
    "rmse = np.sqrt(mean_squared_error(y, pred)) \n",
    "print(\"RMSE: %f\" % (rmse)) \n",
    "\n",
    "\n",
    "\n",
    "\n"
   ]
  },
  {
   "cell_type": "markdown",
   "metadata": {},
   "source": [
    "### Xgboost with train test split"
   ]
  },
  {
   "cell_type": "code",
   "execution_count": 240,
   "metadata": {},
   "outputs": [
    {
     "name": "stdout",
     "output_type": "stream",
     "text": [
      "[00:00:40] WARNING: C:/buildkite-agent/builds/buildkite-windows-cpu-autoscaling-group-i-0fc7796c793e6356f-1/xgboost/xgboost-ci-windows/src/objective/regression_obj.cu:213: reg:linear is now deprecated in favor of reg:squarederror.\n",
      "46.252539090436834\n"
     ]
    }
   ],
   "source": [
    "import xgboost as xgb\n",
    "\n",
    "# convert the dataset into an optimized data structure called Dmatrix that XGBoost supports \n",
    "data_dmatrix = xgb.DMatrix(data=X,label=y, enable_categorical=True) \n",
    "\n",
    "#train_test split\n",
    "X_train, X_test, y_train, y_test = train_test_split(X, y, test_size=0.2, random_state=123)\n",
    "xg_reg1 = xgb.XGBRegressor(objective ='reg:linear', colsample_bytree = 0.3, learning_rate = 0.1,max_depth = 5, alpha = 10, n_estimators = 10) \n",
    "xg_reg1.fit(X_train,y_train) \n",
    "pred = xg_reg1.predict(X_test) \n",
    "\n",
    "print(np.sqrt(mean_squared_error(y_test, pred)))\n",
    "\n",
    "\n",
    "\n",
    "\n"
   ]
  },
  {
   "cell_type": "code",
   "execution_count": 243,
   "metadata": {},
   "outputs": [
    {
     "name": "stdout",
     "output_type": "stream",
     "text": [
      "[00:01:48] WARNING: C:/buildkite-agent/builds/buildkite-windows-cpu-autoscaling-group-i-0fc7796c793e6356f-1/xgboost/xgboost-ci-windows/src/objective/regression_obj.cu:213: reg:linear is now deprecated in favor of reg:squarederror.\n"
     ]
    },
    {
     "data": {
      "image/png": "[encoded data removed]",
      "text/plain": [
       "<Figure size 500x500 with 1 Axes>"
      ]
     },
     "metadata": {},
     "output_type": "display_data"
    }
   ],
   "source": [
    "xg_reg = xgb.train(params=params, dtrain=data_dmatrix, num_boost_round=10) \n",
    "\n",
    "\n",
    "\n",
    "import matplotlib.pyplot as plt \n",
    "\n",
    "\n",
    "\n",
    "xgb.plot_importance(xg_reg) \n",
    "\n",
    "plt.rcParams['figure.figsize'] = [5, 5] \n",
    "\n",
    "plt.show()"
   ]
  },
  {
   "cell_type": "markdown",
   "metadata": {},
   "source": [
    "### Grid Search CV"
   ]
  },
  {
   "cell_type": "code",
   "execution_count": 35,
   "metadata": {},
   "outputs": [
    {
     "name": "stdout",
     "output_type": "stream",
     "text": [
      "{'alpha': 5}\n",
      "-2214.7054712726053\n"
     ]
    }
   ],
   "source": [
    "from sklearn.model_selection import GridSearchCV\n",
    "lasso=Lasso()\n",
    "parameters={'alpha':[1e-15,1e-10,1e-8,1e-3,1e-2,1,5,10,20,30,35,40,45,50,55,100]}\n",
    "lasso_regressor=GridSearchCV(lasso,parameters,scoring='neg_mean_squared_error',cv=5)\n",
    "\n",
    "lasso_regressor.fit(X,y)\n",
    "print(lasso_regressor.best_params_)\n",
    "print(lasso_regressor.best_score_)"
   ]
  },
  {
   "cell_type": "code",
   "execution_count": 82,
   "metadata": {},
   "outputs": [
    {
     "data": {
      "image/png": "[encoded data removed]",
      "text/plain": [
       "<Figure size 640x480 with 1 Axes>"
      ]
     },
     "metadata": {},
     "output_type": "display_data"
    }
   ],
   "source": [
    "prediction_lasso=lasso_regressor.predict(X)\n",
    "sns.distplot(y-prediction_lasso)\n",
    "plt.title(\"Lasso Prediction plot\")\n",
    "plt.xlim(-50, 500)\n",
    "plt.show()"
   ]
  },
  {
   "cell_type": "markdown",
   "metadata": {},
   "source": [
    "### Evaluation"
   ]
  },
  {
   "cell_type": "markdown",
   "metadata": {},
   "source": [
    "You have data from 2018 and 2019 to develop models. Use different evaluation metrics for each problem and compare the performance of different models.\n",
    "\n",
    "You are required to predict delays on **out of sample** data from **first 7 days (1st-7th) of January 2020** and to share the file with LighthouseLabs. Sample submission can be found in the file **_sample_submission.csv_**"
   ]
  },
  {
   "cell_type": "code",
   "execution_count": 121,
   "metadata": {},
   "outputs": [
    {
     "data": {
      "text/html": [
       "<div>\n",
       "<style scoped>\n",
       "    .dataframe tbody tr th:only-of-type {\n",
       "        vertical-align: middle;\n",
       "    }\n",
       "\n",
       "    .dataframe tbody tr th {\n",
       "        vertical-align: top;\n",
       "    }\n",
       "\n",
       "    .dataframe thead th {\n",
       "        text-align: right;\n",
       "    }\n",
       "</style>\n",
       "<table border=\"1\" class=\"dataframe\">\n",
       "  <thead>\n",
       "    <tr style=\"text-align: right;\">\n",
       "      <th></th>\n",
       "      <th>predicted delay</th>\n",
       "    </tr>\n",
       "  </thead>\n",
       "  <tbody>\n",
       "    <tr>\n",
       "      <th>0</th>\n",
       "      <td>7.634341</td>\n",
       "    </tr>\n",
       "    <tr>\n",
       "      <th>1</th>\n",
       "      <td>3.745774</td>\n",
       "    </tr>\n",
       "    <tr>\n",
       "      <th>2</th>\n",
       "      <td>6.706255</td>\n",
       "    </tr>\n",
       "    <tr>\n",
       "      <th>3</th>\n",
       "      <td>2.753685</td>\n",
       "    </tr>\n",
       "    <tr>\n",
       "      <th>4</th>\n",
       "      <td>0.495073</td>\n",
       "    </tr>\n",
       "  </tbody>\n",
       "</table>\n",
       "</div>"
      ],
      "text/plain": [
       "   predicted delay\n",
       "0         7.634341\n",
       "1         3.745774\n",
       "2         6.706255\n",
       "3         2.753685\n",
       "4         0.495073"
      ]
     },
     "execution_count": 121,
     "metadata": {},
     "output_type": "execute_result"
    }
   ],
   "source": [
    "best_lasso = lasso_regressor.best_estimator_\n",
    "best_lasso.fit(X,y)\n",
    "flights_test_final_1_7=flights_test_final[flights_test_final['fl_day']<=7]\n",
    "\n",
    "pred=best_lasso.predict(flights_test_final_1_7)\n",
    "pred = pd.DataFrame(pred, columns = ['predicted delay'])\n",
    "pred.head()\n",
    "\n",
    "\n"
   ]
  },
  {
   "cell_type": "code",
   "execution_count": 122,
   "metadata": {},
   "outputs": [
    {
     "data": {
      "text/html": [
       "<div>\n",
       "<style scoped>\n",
       "    .dataframe tbody tr th:only-of-type {\n",
       "        vertical-align: middle;\n",
       "    }\n",
       "\n",
       "    .dataframe tbody tr th {\n",
       "        vertical-align: top;\n",
       "    }\n",
       "\n",
       "    .dataframe thead th {\n",
       "        text-align: right;\n",
       "    }\n",
       "</style>\n",
       "<table border=\"1\" class=\"dataframe\">\n",
       "  <thead>\n",
       "    <tr style=\"text-align: right;\">\n",
       "      <th></th>\n",
       "      <th>fl_date</th>\n",
       "      <th>mkt_unique_carrier</th>\n",
       "      <th>branded_code_share</th>\n",
       "      <th>mkt_carrier</th>\n",
       "      <th>mkt_carrier_fl_num</th>\n",
       "      <th>op_unique_carrier</th>\n",
       "      <th>tail_num</th>\n",
       "      <th>op_carrier_fl_num</th>\n",
       "      <th>origin_airport_id</th>\n",
       "      <th>origin</th>\n",
       "      <th>...</th>\n",
       "      <th>dest_airport_id</th>\n",
       "      <th>dest</th>\n",
       "      <th>dest_city_name</th>\n",
       "      <th>crs_dep_time</th>\n",
       "      <th>crs_arr_time</th>\n",
       "      <th>dup</th>\n",
       "      <th>crs_elapsed_time</th>\n",
       "      <th>flights</th>\n",
       "      <th>distance</th>\n",
       "      <th>predicted delay</th>\n",
       "    </tr>\n",
       "  </thead>\n",
       "  <tbody>\n",
       "    <tr>\n",
       "      <th>0</th>\n",
       "      <td>2020-01-01</td>\n",
       "      <td>WN</td>\n",
       "      <td>WN</td>\n",
       "      <td>WN</td>\n",
       "      <td>5888</td>\n",
       "      <td>WN</td>\n",
       "      <td>N951WN</td>\n",
       "      <td>5888</td>\n",
       "      <td>13891</td>\n",
       "      <td>ONT</td>\n",
       "      <td>...</td>\n",
       "      <td>14771</td>\n",
       "      <td>SFO</td>\n",
       "      <td>San Francisco, CA</td>\n",
       "      <td>1810</td>\n",
       "      <td>1945</td>\n",
       "      <td>N</td>\n",
       "      <td>95</td>\n",
       "      <td>1</td>\n",
       "      <td>363</td>\n",
       "      <td>7.634341</td>\n",
       "    </tr>\n",
       "    <tr>\n",
       "      <th>1</th>\n",
       "      <td>2020-01-01</td>\n",
       "      <td>WN</td>\n",
       "      <td>WN</td>\n",
       "      <td>WN</td>\n",
       "      <td>6276</td>\n",
       "      <td>WN</td>\n",
       "      <td>N467WN</td>\n",
       "      <td>6276</td>\n",
       "      <td>13891</td>\n",
       "      <td>ONT</td>\n",
       "      <td>...</td>\n",
       "      <td>14771</td>\n",
       "      <td>SFO</td>\n",
       "      <td>San Francisco, CA</td>\n",
       "      <td>1150</td>\n",
       "      <td>1320</td>\n",
       "      <td>N</td>\n",
       "      <td>90</td>\n",
       "      <td>1</td>\n",
       "      <td>363</td>\n",
       "      <td>3.745774</td>\n",
       "    </tr>\n",
       "    <tr>\n",
       "      <th>2</th>\n",
       "      <td>2020-01-01</td>\n",
       "      <td>WN</td>\n",
       "      <td>WN</td>\n",
       "      <td>WN</td>\n",
       "      <td>4598</td>\n",
       "      <td>WN</td>\n",
       "      <td>N7885A</td>\n",
       "      <td>4598</td>\n",
       "      <td>13891</td>\n",
       "      <td>ONT</td>\n",
       "      <td>...</td>\n",
       "      <td>14831</td>\n",
       "      <td>SJC</td>\n",
       "      <td>San Jose, CA</td>\n",
       "      <td>2020</td>\n",
       "      <td>2130</td>\n",
       "      <td>N</td>\n",
       "      <td>70</td>\n",
       "      <td>1</td>\n",
       "      <td>333</td>\n",
       "      <td>6.706255</td>\n",
       "    </tr>\n",
       "    <tr>\n",
       "      <th>3</th>\n",
       "      <td>2020-01-01</td>\n",
       "      <td>WN</td>\n",
       "      <td>WN</td>\n",
       "      <td>WN</td>\n",
       "      <td>4761</td>\n",
       "      <td>WN</td>\n",
       "      <td>N551WN</td>\n",
       "      <td>4761</td>\n",
       "      <td>13891</td>\n",
       "      <td>ONT</td>\n",
       "      <td>...</td>\n",
       "      <td>14831</td>\n",
       "      <td>SJC</td>\n",
       "      <td>San Jose, CA</td>\n",
       "      <td>1340</td>\n",
       "      <td>1455</td>\n",
       "      <td>N</td>\n",
       "      <td>75</td>\n",
       "      <td>1</td>\n",
       "      <td>333</td>\n",
       "      <td>2.753685</td>\n",
       "    </tr>\n",
       "    <tr>\n",
       "      <th>4</th>\n",
       "      <td>2020-01-01</td>\n",
       "      <td>WN</td>\n",
       "      <td>WN</td>\n",
       "      <td>WN</td>\n",
       "      <td>5162</td>\n",
       "      <td>WN</td>\n",
       "      <td>N968WN</td>\n",
       "      <td>5162</td>\n",
       "      <td>13891</td>\n",
       "      <td>ONT</td>\n",
       "      <td>...</td>\n",
       "      <td>14831</td>\n",
       "      <td>SJC</td>\n",
       "      <td>San Jose, CA</td>\n",
       "      <td>915</td>\n",
       "      <td>1035</td>\n",
       "      <td>N</td>\n",
       "      <td>80</td>\n",
       "      <td>1</td>\n",
       "      <td>333</td>\n",
       "      <td>0.495073</td>\n",
       "    </tr>\n",
       "  </tbody>\n",
       "</table>\n",
       "<p>5 rows × 21 columns</p>\n",
       "</div>"
      ],
      "text/plain": [
       "      fl_date mkt_unique_carrier branded_code_share mkt_carrier  \\\n",
       "0  2020-01-01                 WN                 WN          WN   \n",
       "1  2020-01-01                 WN                 WN          WN   \n",
       "2  2020-01-01                 WN                 WN          WN   \n",
       "3  2020-01-01                 WN                 WN          WN   \n",
       "4  2020-01-01                 WN                 WN          WN   \n",
       "\n",
       "   mkt_carrier_fl_num op_unique_carrier tail_num  op_carrier_fl_num  \\\n",
       "0                5888                WN   N951WN               5888   \n",
       "1                6276                WN   N467WN               6276   \n",
       "2                4598                WN   N7885A               4598   \n",
       "3                4761                WN   N551WN               4761   \n",
       "4                5162                WN   N968WN               5162   \n",
       "\n",
       "   origin_airport_id origin  ... dest_airport_id  dest     dest_city_name  \\\n",
       "0              13891    ONT  ...           14771   SFO  San Francisco, CA   \n",
       "1              13891    ONT  ...           14771   SFO  San Francisco, CA   \n",
       "2              13891    ONT  ...           14831   SJC       San Jose, CA   \n",
       "3              13891    ONT  ...           14831   SJC       San Jose, CA   \n",
       "4              13891    ONT  ...           14831   SJC       San Jose, CA   \n",
       "\n",
       "  crs_dep_time  crs_arr_time  dup crs_elapsed_time  flights  distance  \\\n",
       "0         1810          1945    N               95        1       363   \n",
       "1         1150          1320    N               90        1       363   \n",
       "2         2020          2130    N               70        1       333   \n",
       "3         1340          1455    N               75        1       333   \n",
       "4          915          1035    N               80        1       333   \n",
       "\n",
       "   predicted delay  \n",
       "0         7.634341  \n",
       "1         3.745774  \n",
       "2         6.706255  \n",
       "3         2.753685  \n",
       "4         0.495073  \n",
       "\n",
       "[5 rows x 21 columns]"
      ]
     },
     "execution_count": 122,
     "metadata": {},
     "output_type": "execute_result"
    }
   ],
   "source": [
    "flights_test_2=flights_test_1.dropna(axis=0)\n",
    "submit=pd.merge(flights_test_2, pred, left_index=True, right_index=True)\n",
    "submit.head()"
   ]
  },
  {
   "cell_type": "code",
   "execution_count": 127,
   "metadata": {},
   "outputs": [
    {
     "name": "stdout",
     "output_type": "stream",
     "text": [
      "ok\n"
     ]
    }
   ],
   "source": [
    "import pickle\n",
    "Delay_Prediction ='finalized_model.pkl'\n",
    "pickle.dump(best_lasso, open(Delay_Prediction, 'wb'))\n"
   ]
  },
  {
   "cell_type": "code",
   "execution_count": null,
   "metadata": {},
   "outputs": [],
   "source": []
  },
  {
   "cell_type": "markdown",
   "metadata": {},
   "source": [
    "======================================================================\n",
    "## Stretch Tasks"
   ]
  },
  {
   "cell_type": "markdown",
   "metadata": {},
   "source": [
    "### Multiclass Classification"
   ]
  },
  {
   "cell_type": "markdown",
   "metadata": {},
   "source": [
    "The target variables are **CARRIER_DELAY, WEATHER_DELAY, NAS_DELAY, SECURITY_DELAY, LATE_AIRCRAFT_DELAY**. We need to do additional transformations because these variables are not binary but continuos. For each flight that was delayed, we need to have one of these variables as 1 and others 0.\n",
    "\n",
    "It can happen that we have two types of delays with more than 0 minutes. In this case, take the bigger one as 1 and others as 0."
   ]
  },
  {
   "cell_type": "code",
   "execution_count": null,
   "metadata": {},
   "outputs": [],
   "source": []
  },
  {
   "cell_type": "code",
   "execution_count": null,
   "metadata": {},
   "outputs": [],
   "source": []
  },
  {
   "cell_type": "code",
   "execution_count": null,
   "metadata": {},
   "outputs": [],
   "source": []
  },
  {
   "cell_type": "markdown",
   "metadata": {},
   "source": [
    "### Binary Classification"
   ]
  },
  {
   "cell_type": "markdown",
   "metadata": {},
   "source": [
    "The target variable is **CANCELLED**. The main problem here is going to be huge class imbalance. We have only very little cancelled flights with comparison to all flights. It is important to do the right sampling before training and to choose correct evaluation metrics."
   ]
  },
  {
   "cell_type": "code",
   "execution_count": null,
   "metadata": {},
   "outputs": [],
   "source": []
  },
  {
   "cell_type": "code",
   "execution_count": null,
   "metadata": {},
   "outputs": [],
   "source": []
  },
  {
   "cell_type": "code",
   "execution_count": null,
   "metadata": {},
   "outputs": [],
   "source": []
  }
 ],
 "metadata": {
  "kernelspec": {
   "display_name": "Python 3 (ipykernel)",
   "language": "python",
   "name": "python3"
  },
  "language_info": {
   "codemirror_mode": {
    "name": "ipython",
    "version": 3
   },
   "file_extension": ".py",
   "mimetype": "text/x-python",
   "name": "python",
   "nbconvert_exporter": "python",
   "pygments_lexer": "ipython3",
   "version": "3.9.13"
  }
 },
 "nbformat": 4,
 "nbformat_minor": 4
}
